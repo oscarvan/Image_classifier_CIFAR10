{
  "cells": [
    {
      "cell_type": "markdown",
      "metadata": {
        "id": "dMrFS5SArKll"
      },
      "source": [
        "## STAT448 Assignment 3\n",
        "\n",
        "## Question 2\n",
        "Datasets CIFAR10 - 10 images classified into things:\n",
        "0\tairplane  \n",
        "1\tautomobile  \n",
        "2\tbird  \n",
        "3\tcat  \n",
        "4\tdeer  \n",
        "5\tdog  \n",
        "6\tfrog  \n",
        "7\thorse  \n",
        "8\tship  \n",
        "9\ttruck  "
      ]
    },
    {
      "cell_type": "code",
      "execution_count": null,
      "metadata": {
        "colab": {
          "base_uri": "https://localhost:8080/"
        },
        "id": "RAa7rSI0bsXS",
        "outputId": "f1bf0f62-4767-4fab-8003-fe3aa32c79cb"
      },
      "outputs": [
        {
          "output_type": "stream",
          "name": "stdout",
          "text": [
            "Looking in indexes: https://pypi.org/simple, https://us-python.pkg.dev/colab-wheels/public/simple/\n",
            "Requirement already satisfied: optuna in /usr/local/lib/python3.7/dist-packages (3.0.3)\n",
            "Requirement already satisfied: cmaes>=0.8.2 in /usr/local/lib/python3.7/dist-packages (from optuna) (0.8.2)\n",
            "Requirement already satisfied: colorlog in /usr/local/lib/python3.7/dist-packages (from optuna) (6.7.0)\n",
            "Requirement already satisfied: importlib-metadata<5.0.0 in /usr/local/lib/python3.7/dist-packages (from optuna) (4.13.0)\n",
            "Requirement already satisfied: numpy in /usr/local/lib/python3.7/dist-packages (from optuna) (1.21.6)\n",
            "Requirement already satisfied: alembic>=1.5.0 in /usr/local/lib/python3.7/dist-packages (from optuna) (1.8.1)\n",
            "Requirement already satisfied: scipy<1.9.0,>=1.7.0 in /usr/local/lib/python3.7/dist-packages (from optuna) (1.7.3)\n",
            "Requirement already satisfied: tqdm in /usr/local/lib/python3.7/dist-packages (from optuna) (4.64.1)\n",
            "Requirement already satisfied: PyYAML in /usr/local/lib/python3.7/dist-packages (from optuna) (6.0)\n",
            "Requirement already satisfied: packaging>=20.0 in /usr/local/lib/python3.7/dist-packages (from optuna) (21.3)\n",
            "Requirement already satisfied: cliff in /usr/local/lib/python3.7/dist-packages (from optuna) (3.10.1)\n",
            "Requirement already satisfied: sqlalchemy>=1.3.0 in /usr/local/lib/python3.7/dist-packages (from optuna) (1.4.41)\n",
            "Requirement already satisfied: Mako in /usr/local/lib/python3.7/dist-packages (from alembic>=1.5.0->optuna) (1.2.3)\n",
            "Requirement already satisfied: importlib-resources in /usr/local/lib/python3.7/dist-packages (from alembic>=1.5.0->optuna) (5.10.0)\n",
            "Requirement already satisfied: zipp>=0.5 in /usr/local/lib/python3.7/dist-packages (from importlib-metadata<5.0.0->optuna) (3.9.0)\n",
            "Requirement already satisfied: typing-extensions>=3.6.4 in /usr/local/lib/python3.7/dist-packages (from importlib-metadata<5.0.0->optuna) (4.1.1)\n",
            "Requirement already satisfied: pyparsing!=3.0.5,>=2.0.2 in /usr/local/lib/python3.7/dist-packages (from packaging>=20.0->optuna) (3.0.9)\n",
            "Requirement already satisfied: greenlet!=0.4.17 in /usr/local/lib/python3.7/dist-packages (from sqlalchemy>=1.3.0->optuna) (1.1.3.post0)\n",
            "Requirement already satisfied: stevedore>=2.0.1 in /usr/local/lib/python3.7/dist-packages (from cliff->optuna) (3.5.1)\n",
            "Requirement already satisfied: cmd2>=1.0.0 in /usr/local/lib/python3.7/dist-packages (from cliff->optuna) (2.4.2)\n",
            "Requirement already satisfied: pbr!=2.1.0,>=2.0.0 in /usr/local/lib/python3.7/dist-packages (from cliff->optuna) (5.10.0)\n",
            "Requirement already satisfied: autopage>=0.4.0 in /usr/local/lib/python3.7/dist-packages (from cliff->optuna) (0.5.1)\n",
            "Requirement already satisfied: PrettyTable>=0.7.2 in /usr/local/lib/python3.7/dist-packages (from cliff->optuna) (3.4.1)\n",
            "Requirement already satisfied: pyperclip>=1.6 in /usr/local/lib/python3.7/dist-packages (from cmd2>=1.0.0->cliff->optuna) (1.8.2)\n",
            "Requirement already satisfied: attrs>=16.3.0 in /usr/local/lib/python3.7/dist-packages (from cmd2>=1.0.0->cliff->optuna) (22.1.0)\n",
            "Requirement already satisfied: wcwidth>=0.1.7 in /usr/local/lib/python3.7/dist-packages (from cmd2>=1.0.0->cliff->optuna) (0.2.5)\n",
            "Requirement already satisfied: MarkupSafe>=0.9.2 in /usr/local/lib/python3.7/dist-packages (from Mako->alembic>=1.5.0->optuna) (2.0.1)\n"
          ]
        }
      ],
      "source": [
        "pip install optuna"
      ]
    },
    {
      "cell_type": "markdown",
      "metadata": {
        "id": "dHoerm5fr_K7"
      },
      "source": [
        "# Importing libraries"
      ]
    },
    {
      "cell_type": "code",
      "execution_count": null,
      "metadata": {
        "id": "o507fVyyV2UC"
      },
      "outputs": [],
      "source": [
        "import matplotlib.pyplot as plt\n",
        "import matplotlib.pyplot as plt\n",
        "import pandas as pd\n",
        "import numpy as np\n",
        "import seaborn as sns\n",
        "import warnings\n",
        "import tensorflow as tf\n",
        "import optuna\n",
        "\n",
        "warnings.filterwarnings('ignore')\n",
        "pd.options.display.float_format = '{:,.2f}'.format\n",
        "pd.set_option('display.max_rows', 100)\n",
        "pd.set_option('display.max_columns', 200)\n",
        "\n",
        "from datetime import datetime\n",
        "from matplotlib.colors import ListedColormap\n",
        "from sklearn.datasets import make_classification, make_moons, make_circles\n",
        "from sklearn.metrics import confusion_matrix, classification_report, mean_squared_error, mean_absolute_error, r2_score\n",
        "from sklearn.linear_model import LogisticRegression\n",
        "from sklearn.utils import shuffle\n",
        "from tensorflow import keras\n",
        "from keras.models import Sequential, Model\n",
        "from keras.layers import Dense, Dropout, BatchNormalization, Activation, Conv2D, MaxPooling2D, Flatten\n",
        "from keras.optimizers import *\n",
        "from keras.callbacks import EarlyStopping\n",
        "from keras.utils.np_utils import to_categorical\n",
        "from sklearn.preprocessing import StandardScaler, LabelEncoder, OneHotEncoder, MinMaxScaler\n",
        "from sklearn.model_selection import train_test_split, cross_val_score, StratifiedKFold, KFold\n",
        "import keras.backend as K\n",
        "from keras.wrappers.scikit_learn import KerasClassifier\n",
        "import tensorflow.keras.optimizers"
      ]
    },
    {
      "cell_type": "code",
      "execution_count": null,
      "metadata": {
        "id": "PzEynE3rdr9o"
      },
      "outputs": [],
      "source": [
        "from optuna.visualization import plot_contour\n",
        "from optuna.visualization import plot_edf\n",
        "from optuna.visualization import plot_intermediate_values\n",
        "from optuna.visualization import plot_optimization_history\n",
        "from optuna.visualization import plot_parallel_coordinate\n",
        "from optuna.visualization import plot_param_importances\n",
        "from optuna.visualization import plot_slice\n",
        "\n",
        "SEED = 42\n",
        "np.random.seed(SEED)"
      ]
    },
    {
      "cell_type": "markdown",
      "metadata": {
        "id": "75jtvazHsFFD"
      },
      "source": [
        "# Utility functions"
      ]
    },
    {
      "cell_type": "code",
      "execution_count": null,
      "metadata": {
        "id": "eh3zDV3ebzyq"
      },
      "outputs": [],
      "source": [
        "def plot_loss_accuracy(history):\n",
        "    historydf = pd.DataFrame(history.history, index=history.epoch)\n",
        "    plt.figure(figsize=(8, 6))\n",
        "    historydf.plot(ylim=(0, max(1, historydf.values.max())))\n",
        "    loss = history.history['loss'][-1]\n",
        "    acc = history.history['accuracy'][-1]\n",
        "    plt.title('Loss: %.3f, Accuracy: %.3f' % (loss, acc))"
      ]
    },
    {
      "cell_type": "markdown",
      "metadata": {
        "id": "3KT9VrCssL4T"
      },
      "source": [
        "# Data import"
      ]
    },
    {
      "cell_type": "code",
      "execution_count": null,
      "metadata": {
        "id": "1vqQ0vkwb6tJ"
      },
      "outputs": [],
      "source": [
        "from keras.datasets import cifar10\n",
        "\n",
        "(x_train, y_train), (x_test, y_test) = cifar10.load_data()"
      ]
    },
    {
      "cell_type": "code",
      "execution_count": null,
      "metadata": {
        "id": "E09mWZ1bb965",
        "colab": {
          "base_uri": "https://localhost:8080/"
        },
        "outputId": "1a12bae5-e550-4cd2-e213-683cff3d37dc"
      },
      "outputs": [
        {
          "output_type": "stream",
          "name": "stdout",
          "text": [
            "Training data shape:  (50000, 32, 32, 3)\n",
            "Test data shape (10000, 32, 32, 3)\n",
            "Training response shape:,  (50000, 1)\n",
            "Testing response shape:  (10000, 1)\n"
          ]
        }
      ],
      "source": [
        "print(\"Training data shape: \", x_train.shape)\n",
        "print(\"Test data shape\", x_test.shape)\n",
        "print(\"Training response shape:, \", y_train.shape)\n",
        "print(\"Testing response shape: \", y_test.shape)"
      ]
    },
    {
      "cell_type": "code",
      "execution_count": null,
      "metadata": {
        "id": "2D5SJrg6U0-l",
        "colab": {
          "base_uri": "https://localhost:8080/",
          "height": 268
        },
        "outputId": "a9aa7ee1-4e1b-40c2-846e-4afcb552df2c"
      },
      "outputs": [
        {
          "output_type": "display_data",
          "data": {
            "text/plain": [
              "<Figure size 432x288 with 9 Axes>"
            ],
            "image/png": "[encoded data removed]"
          },
          "metadata": {
            "needs_background": "light"
          }
        }
      ],
      "source": [
        "for i in range(9):\n",
        "\tplt.subplot(330 + 1 + i)\n",
        "\tplt.imshow(x_train[i])\n",
        "plt.show()"
      ]
    },
    {
      "cell_type": "code",
      "execution_count": null,
      "metadata": {
        "id": "ZncpkvMLcAkK",
        "colab": {
          "base_uri": "https://localhost:8080/"
        },
        "outputId": "6b016cab-bb14-4fbb-dcd2-fe2a08b4d396"
      },
      "outputs": [
        {
          "output_type": "stream",
          "name": "stdout",
          "text": [
            "(50000, 3072)\n"
          ]
        }
      ],
      "source": [
        "# Flatten the images\n",
        "image_size = (x_train.shape[1], x_train.shape[2]) #32 x 32 pixels\n",
        "channels = x_train.shape[3] # RGB = 3 channels\n",
        "image_vector_size = image_size[0] * image_size[1] * channels\n",
        "x_train = x_train.reshape(x_train.shape[0], image_vector_size) /255.\n",
        "x_test = x_test.reshape(x_test.shape[0], image_vector_size) /255.\n",
        "print(x_train.shape)"
      ]
    },
    {
      "cell_type": "code",
      "execution_count": null,
      "metadata": {
        "id": "qNqP2AFlcEEY",
        "colab": {
          "base_uri": "https://localhost:8080/"
        },
        "outputId": "795850d9-4b3e-4ecc-c68f-309964982900"
      },
      "outputs": [
        {
          "output_type": "stream",
          "name": "stdout",
          "text": [
            "First 5 training labels:  [[6]\n",
            " [9]\n",
            " [9]\n",
            " [4]\n",
            " [1]]\n",
            "First 5 training lables as one-hot encoded vectors:\n",
            " [[0. 0. 0. 0. 0. 0. 1. 0. 0. 0.]\n",
            " [0. 0. 0. 0. 0. 0. 0. 0. 0. 1.]\n",
            " [0. 0. 0. 0. 0. 0. 0. 0. 0. 1.]\n",
            " [0. 0. 0. 0. 1. 0. 0. 0. 0. 0.]\n",
            " [0. 1. 0. 0. 0. 0. 0. 0. 0. 0.]]\n",
            "(50000, 10)\n"
          ]
        }
      ],
      "source": [
        "# Convert y to \"one-hot\" vectors using the to_categorical function\n",
        "print(\"First 5 training labels: \", y_train[:5])\n",
        "# [6, 9, 9, 4, 1] = [frog, truck, truck, deer, automobile]\n",
        "num_classes = 10\n",
        "y_train = to_categorical(y_train, num_classes)\n",
        "y_test = to_categorical(y_test, num_classes)\n",
        "print(\"First 5 training lables as one-hot encoded vectors:\\n\", y_train[:5])\n",
        "print(y_train.shape)"
      ]
    },
    {
      "cell_type": "markdown",
      "metadata": {
        "id": "n0355wwLsWW7"
      },
      "source": [
        "## Model structure\n",
        "Network with two hidden layers, 128 and 32 neurons.\n",
        "\n",
        "Input layer = 3072 neurons (32x32 pixels x 3 channels, RGB)\n",
        "\n",
        "Output layer = 10 neurons (10 digit classes)"
      ]
    },
    {
      "cell_type": "code",
      "execution_count": null,
      "metadata": {
        "id": "gDve3endcI_Q",
        "colab": {
          "base_uri": "https://localhost:8080/"
        },
        "outputId": "b15fe29b-a24a-4871-8819-b877dca3d97a"
      },
      "outputs": [
        {
          "output_type": "stream",
          "name": "stdout",
          "text": [
            "Model: \"sequential\"\n",
            "_________________________________________________________________\n",
            " Layer (type)                Output Shape              Param #   \n",
            "=================================================================\n",
            " dense (Dense)               (None, 128)               393344    \n",
            "                                                                 \n",
            " dense_1 (Dense)             (None, 32)                4128      \n",
            "                                                                 \n",
            " dense_2 (Dense)             (None, 10)                330       \n",
            "                                                                 \n",
            "=================================================================\n",
            "Total params: 397,802\n",
            "Trainable params: 397,802\n",
            "Non-trainable params: 0\n",
            "_________________________________________________________________\n"
          ]
        }
      ],
      "source": [
        "def build_basic_model(n_units):\n",
        "  model = Sequential()\n",
        "  model.add(Dense(units=n_units, activation='relu', input_shape=(image_vector_size,)))\n",
        "  model.add(Dense(units=n_units/4, activation='relu'))\n",
        "  model.add(Dense(units=num_classes, activation='softmax'))\n",
        "  return model\n",
        "model = build_basic_model(128)\n",
        "model.summary()"
      ]
    },
    {
      "cell_type": "markdown",
      "metadata": {
        "id": "z1QIAS4Gsk6Q"
      },
      "source": [
        "## Baseline comparison\n",
        "Neurons in hidden layer = 128 + 32\n",
        "\n",
        "Optimizer = SGD\n",
        "\n",
        "Learning rate (default) = 0.01\n",
        "\n",
        "Batch size = 128\n",
        "\n",
        "Epochs = 10"
      ]
    },
    {
      "cell_type": "code",
      "execution_count": null,
      "metadata": {
        "id": "laLCSaiscMKp",
        "colab": {
          "base_uri": "https://localhost:8080/"
        },
        "outputId": "9aa25176-8a0c-496e-d29f-3fca0363f936"
      },
      "outputs": [
        {
          "output_type": "stream",
          "name": "stdout",
          "text": [
            "Epoch 1/10\n",
            "352/352 [==============================] - 4s 4ms/step - loss: 2.0689 - accuracy: 0.2605 - val_loss: 1.9822 - val_accuracy: 0.2742\n",
            "Epoch 2/10\n",
            "352/352 [==============================] - 1s 4ms/step - loss: 1.8686 - accuracy: 0.3376 - val_loss: 1.8347 - val_accuracy: 0.3498\n",
            "Epoch 3/10\n",
            "352/352 [==============================] - 1s 4ms/step - loss: 1.7913 - accuracy: 0.3699 - val_loss: 1.7979 - val_accuracy: 0.3672\n",
            "Epoch 4/10\n",
            "352/352 [==============================] - 1s 3ms/step - loss: 1.7418 - accuracy: 0.3896 - val_loss: 1.7564 - val_accuracy: 0.3772\n",
            "Epoch 5/10\n",
            "352/352 [==============================] - 1s 3ms/step - loss: 1.7040 - accuracy: 0.4026 - val_loss: 1.7352 - val_accuracy: 0.3848\n",
            "Epoch 6/10\n",
            "352/352 [==============================] - 1s 4ms/step - loss: 1.6738 - accuracy: 0.4142 - val_loss: 1.6886 - val_accuracy: 0.4102\n",
            "Epoch 7/10\n",
            "352/352 [==============================] - 1s 4ms/step - loss: 1.6482 - accuracy: 0.4236 - val_loss: 1.6710 - val_accuracy: 0.4064\n",
            "Epoch 8/10\n",
            "352/352 [==============================] - 1s 4ms/step - loss: 1.6262 - accuracy: 0.4280 - val_loss: 1.6669 - val_accuracy: 0.4144\n",
            "Epoch 9/10\n",
            "352/352 [==============================] - 1s 4ms/step - loss: 1.6055 - accuracy: 0.4364 - val_loss: 1.6714 - val_accuracy: 0.4164\n",
            "Epoch 10/10\n",
            "352/352 [==============================] - 1s 3ms/step - loss: 1.5875 - accuracy: 0.4447 - val_loss: 1.6283 - val_accuracy: 0.4222\n"
          ]
        }
      ],
      "source": [
        "model.compile(optimizer=\"sgd\",\n",
        "              loss='categorical_crossentropy',\n",
        "              metrics=['accuracy'])\n",
        "history = model.fit(x_train, y_train,\n",
        "                    batch_size=128,\n",
        "                    epochs=10,\n",
        "                    verbose=True,\n",
        "                    validation_split=.1)\n",
        "loss, accuracy = model.evaluate(x_test, y_test, verbose=False)"
      ]
    },
    {
      "cell_type": "code",
      "execution_count": null,
      "metadata": {
        "id": "FaOIfBfvcVN4",
        "colab": {
          "base_uri": "https://localhost:8080/",
          "height": 333
        },
        "outputId": "3d115b06-4d41-40a5-8af5-f50409ce13f9"
      },
      "outputs": [
        {
          "output_type": "stream",
          "name": "stdout",
          "text": [
            "Test loss: 1.61\n",
            "Test accuracy: 0.425\n"
          ]
        },
        {
          "output_type": "display_data",
          "data": {
            "text/plain": [
              "<Figure size 576x432 with 0 Axes>"
            ]
          },
          "metadata": {}
        },
        {
          "output_type": "display_data",
          "data": {
            "text/plain": [
              "<Figure size 432x288 with 1 Axes>"
            ],
            "image/png": "[encoded data removed]"
          },
          "metadata": {
            "needs_background": "light"
          }
        }
      ],
      "source": [
        "plot_loss_accuracy(history)\n",
        "print(f'Test loss: {loss:.3}')\n",
        "print(f'Test accuracy: {accuracy:.3}')\n",
        "\n",
        "# not a very good model and very slow to learn!"
      ]
    },
    {
      "cell_type": "markdown",
      "metadata": {
        "id": "WUHGmbtnsxih"
      },
      "source": [
        "## Tuning learning rate using random search"
      ]
    },
    {
      "cell_type": "code",
      "execution_count": null,
      "metadata": {
        "id": "8rzELZF3cYDX"
      },
      "outputs": [],
      "source": [
        "# learning rate\n",
        "def objective(trial):\n",
        "    model = build_basic_model(128)\n",
        "    lr = trial.suggest_float('lr', 1e-4, 1e+2, log=True) #sample value of learning rate between 0.0001 to 100\n",
        "\n",
        "    model.compile(tf.keras.optimizers.SGD(lr=lr),\n",
        "                  loss='categorical_crossentropy',\n",
        "                  metrics=['accuracy'])\n",
        "    history = model.fit(x_train, y_train,\n",
        "                        batch_size=128,\n",
        "                        epochs=10,\n",
        "                        verbose=True,\n",
        "                        validation_split=.1)\n",
        "    acc = history.history['val_accuracy'][-1]\n",
        "    return acc"
      ]
    },
    {
      "cell_type": "markdown",
      "metadata": {
        "id": "9AVFEyMkw7U9"
      },
      "source": [
        "Performance evaluated on 10 different (random) learning rates."
      ]
    },
    {
      "cell_type": "code",
      "execution_count": null,
      "metadata": {
        "id": "HbhsRPR0dZB8",
        "colab": {
          "base_uri": "https://localhost:8080/"
        },
        "outputId": "5e35e2ac-adca-4e03-8a95-6b4899b915d9"
      },
      "outputs": [
        {
          "output_type": "stream",
          "name": "stderr",
          "text": [
            "\u001b[32m[I 2022-10-19 23:18:51,779]\u001b[0m A new study created in memory with name: no-name-41979543-0ed8-41cf-bd85-6dac93aad82b\u001b[0m\n"
          ]
        },
        {
          "output_type": "stream",
          "name": "stdout",
          "text": [
            "Epoch 1/10\n",
            "352/352 [==============================] - 2s 4ms/step - loss: 2.0384 - accuracy: 0.2610 - val_loss: 1.9301 - val_accuracy: 0.3018\n",
            "Epoch 2/10\n",
            "352/352 [==============================] - 1s 3ms/step - loss: 1.8574 - accuracy: 0.3405 - val_loss: 1.8631 - val_accuracy: 0.3398\n",
            "Epoch 3/10\n",
            "352/352 [==============================] - 1s 4ms/step - loss: 1.7870 - accuracy: 0.3672 - val_loss: 1.8229 - val_accuracy: 0.3430\n",
            "Epoch 4/10\n",
            "352/352 [==============================] - 1s 4ms/step - loss: 1.7331 - accuracy: 0.3868 - val_loss: 1.7133 - val_accuracy: 0.3900\n",
            "Epoch 5/10\n",
            "352/352 [==============================] - 1s 4ms/step - loss: 1.6947 - accuracy: 0.4031 - val_loss: 1.6984 - val_accuracy: 0.3888\n",
            "Epoch 6/10\n",
            "352/352 [==============================] - 1s 4ms/step - loss: 1.6607 - accuracy: 0.4122 - val_loss: 1.6860 - val_accuracy: 0.4022\n",
            "Epoch 7/10\n",
            "352/352 [==============================] - 1s 3ms/step - loss: 1.6324 - accuracy: 0.4229 - val_loss: 1.6576 - val_accuracy: 0.4156\n",
            "Epoch 8/10\n",
            "352/352 [==============================] - 1s 3ms/step - loss: 1.6084 - accuracy: 0.4290 - val_loss: 1.7054 - val_accuracy: 0.3964\n",
            "Epoch 9/10\n",
            "352/352 [==============================] - 1s 4ms/step - loss: 1.5874 - accuracy: 0.4412 - val_loss: 1.6603 - val_accuracy: 0.4178\n",
            "Epoch 10/10\n",
            "352/352 [==============================] - 1s 3ms/step - loss: 1.5645 - accuracy: 0.4485 - val_loss: 1.5870 - val_accuracy: 0.4450\n"
          ]
        },
        {
          "output_type": "stream",
          "name": "stderr",
          "text": [
            "\u001b[32m[I 2022-10-19 23:19:05,558]\u001b[0m Trial 0 finished with value: 0.4449999928474426 and parameters: {'lr': 0.017670169402947963}. Best is trial 0 with value: 0.4449999928474426.\u001b[0m\n"
          ]
        },
        {
          "output_type": "stream",
          "name": "stdout",
          "text": [
            "Epoch 1/10\n",
            "352/352 [==============================] - 2s 4ms/step - loss: 14651705344.0000 - accuracy: 0.1003 - val_loss: 18.6270 - val_accuracy: 0.1038\n",
            "Epoch 2/10\n",
            "352/352 [==============================] - 1s 4ms/step - loss: 14.8575 - accuracy: 0.1020 - val_loss: 15.6362 - val_accuracy: 0.1064\n",
            "Epoch 3/10\n",
            "352/352 [==============================] - 1s 3ms/step - loss: 15.1201 - accuracy: 0.0995 - val_loss: 16.1297 - val_accuracy: 0.1038\n",
            "Epoch 4/10\n",
            "352/352 [==============================] - 1s 4ms/step - loss: 15.6484 - accuracy: 0.1002 - val_loss: 19.0502 - val_accuracy: 0.1038\n",
            "Epoch 5/10\n",
            "352/352 [==============================] - 1s 4ms/step - loss: 14.7522 - accuracy: 0.1009 - val_loss: 13.5571 - val_accuracy: 0.0958\n",
            "Epoch 6/10\n",
            "352/352 [==============================] - 1s 3ms/step - loss: 15.1420 - accuracy: 0.0996 - val_loss: 14.0853 - val_accuracy: 0.1024\n",
            "Epoch 7/10\n",
            "352/352 [==============================] - 1s 3ms/step - loss: 15.3281 - accuracy: 0.1005 - val_loss: 19.8974 - val_accuracy: 0.0976\n",
            "Epoch 8/10\n",
            "352/352 [==============================] - 1s 4ms/step - loss: 15.5497 - accuracy: 0.0991 - val_loss: 14.8104 - val_accuracy: 0.0986\n",
            "Epoch 9/10\n",
            "352/352 [==============================] - 1s 3ms/step - loss: 15.6767 - accuracy: 0.1000 - val_loss: 14.5630 - val_accuracy: 0.0986\n",
            "Epoch 10/10\n",
            "352/352 [==============================] - 1s 4ms/step - loss: 15.7003 - accuracy: 0.1001 - val_loss: 16.3436 - val_accuracy: 0.0976\n"
          ]
        },
        {
          "output_type": "stream",
          "name": "stderr",
          "text": [
            "\u001b[32m[I 2022-10-19 23:19:19,476]\u001b[0m Trial 1 finished with value: 0.09759999811649323 and parameters: {'lr': 50.61576888752309}. Best is trial 0 with value: 0.4449999928474426.\u001b[0m\n"
          ]
        },
        {
          "output_type": "stream",
          "name": "stdout",
          "text": [
            "Epoch 1/10\n",
            "352/352 [==============================] - 2s 4ms/step - loss: 356546.5312 - accuracy: 0.0991 - val_loss: 2.3077 - val_accuracy: 0.0950\n",
            "Epoch 2/10\n",
            "352/352 [==============================] - 1s 3ms/step - loss: 2.3082 - accuracy: 0.0977 - val_loss: 2.3049 - val_accuracy: 0.1058\n",
            "Epoch 3/10\n",
            "352/352 [==============================] - 1s 3ms/step - loss: 2.3076 - accuracy: 0.1000 - val_loss: 2.3083 - val_accuracy: 0.1058\n",
            "Epoch 4/10\n",
            "352/352 [==============================] - 1s 4ms/step - loss: 2.3079 - accuracy: 0.0994 - val_loss: 2.3099 - val_accuracy: 0.0976\n",
            "Epoch 5/10\n",
            "352/352 [==============================] - 1s 3ms/step - loss: 2.3071 - accuracy: 0.1015 - val_loss: 2.3132 - val_accuracy: 0.1058\n",
            "Epoch 6/10\n",
            "352/352 [==============================] - 1s 3ms/step - loss: 2.3089 - accuracy: 0.0971 - val_loss: 2.3072 - val_accuracy: 0.1038\n",
            "Epoch 7/10\n",
            "352/352 [==============================] - 1s 3ms/step - loss: 2.3079 - accuracy: 0.0990 - val_loss: 2.3102 - val_accuracy: 0.0970\n",
            "Epoch 8/10\n",
            "352/352 [==============================] - 1s 3ms/step - loss: 2.3073 - accuracy: 0.1014 - val_loss: 2.3071 - val_accuracy: 0.1024\n",
            "Epoch 9/10\n",
            "352/352 [==============================] - 1s 3ms/step - loss: 2.3081 - accuracy: 0.0980 - val_loss: 2.3106 - val_accuracy: 0.0986\n",
            "Epoch 10/10\n",
            "352/352 [==============================] - 1s 3ms/step - loss: 2.3075 - accuracy: 0.0984 - val_loss: 2.3098 - val_accuracy: 0.1024\n"
          ]
        },
        {
          "output_type": "stream",
          "name": "stderr",
          "text": [
            "\u001b[32m[I 2022-10-19 23:19:32,895]\u001b[0m Trial 2 finished with value: 0.10239999741315842 and parameters: {'lr': 2.465832945854912}. Best is trial 0 with value: 0.4449999928474426.\u001b[0m\n"
          ]
        },
        {
          "output_type": "stream",
          "name": "stdout",
          "text": [
            "Epoch 1/10\n",
            "352/352 [==============================] - 2s 4ms/step - loss: 2.5949 - accuracy: 0.0982 - val_loss: 2.3025 - val_accuracy: 0.0958\n",
            "Epoch 2/10\n",
            "352/352 [==============================] - 1s 3ms/step - loss: 2.3034 - accuracy: 0.0987 - val_loss: 2.3037 - val_accuracy: 0.0970\n",
            "Epoch 3/10\n",
            "352/352 [==============================] - 1s 4ms/step - loss: 2.3034 - accuracy: 0.0972 - val_loss: 2.3030 - val_accuracy: 0.0950\n",
            "Epoch 4/10\n",
            "352/352 [==============================] - 1s 4ms/step - loss: 2.3034 - accuracy: 0.0973 - val_loss: 2.3038 - val_accuracy: 0.0976\n",
            "Epoch 5/10\n",
            "352/352 [==============================] - 1s 3ms/step - loss: 2.3034 - accuracy: 0.1012 - val_loss: 2.3028 - val_accuracy: 0.0968\n",
            "Epoch 6/10\n",
            "352/352 [==============================] - 1s 4ms/step - loss: 2.3035 - accuracy: 0.0991 - val_loss: 2.3023 - val_accuracy: 0.1064\n",
            "Epoch 7/10\n",
            "352/352 [==============================] - 1s 3ms/step - loss: 2.3033 - accuracy: 0.0996 - val_loss: 2.3037 - val_accuracy: 0.0976\n",
            "Epoch 8/10\n",
            "352/352 [==============================] - 1s 4ms/step - loss: 2.3034 - accuracy: 0.0988 - val_loss: 2.3044 - val_accuracy: 0.0976\n",
            "Epoch 9/10\n",
            "352/352 [==============================] - 1s 3ms/step - loss: 2.3034 - accuracy: 0.1005 - val_loss: 2.3046 - val_accuracy: 0.0986\n",
            "Epoch 10/10\n",
            "352/352 [==============================] - 1s 3ms/step - loss: 2.3033 - accuracy: 0.0999 - val_loss: 2.3028 - val_accuracy: 0.0986\n"
          ]
        },
        {
          "output_type": "stream",
          "name": "stderr",
          "text": [
            "\u001b[32m[I 2022-10-19 23:19:46,549]\u001b[0m Trial 3 finished with value: 0.09860000014305115 and parameters: {'lr': 0.39079671568228835}. Best is trial 0 with value: 0.4449999928474426.\u001b[0m\n"
          ]
        },
        {
          "output_type": "stream",
          "name": "stdout",
          "text": [
            "Epoch 1/10\n",
            "352/352 [==============================] - 2s 5ms/step - loss: 2.2232 - accuracy: 0.1878 - val_loss: 2.1591 - val_accuracy: 0.2236\n",
            "Epoch 2/10\n",
            "352/352 [==============================] - 1s 4ms/step - loss: 2.1244 - accuracy: 0.2367 - val_loss: 2.0931 - val_accuracy: 0.2410\n",
            "Epoch 3/10\n",
            "352/352 [==============================] - 1s 4ms/step - loss: 2.0665 - accuracy: 0.2598 - val_loss: 2.0468 - val_accuracy: 0.2620\n",
            "Epoch 4/10\n",
            "352/352 [==============================] - 1s 4ms/step - loss: 2.0233 - accuracy: 0.2770 - val_loss: 2.0109 - val_accuracy: 0.2770\n",
            "Epoch 5/10\n",
            "352/352 [==============================] - 1s 3ms/step - loss: 1.9894 - accuracy: 0.2920 - val_loss: 1.9844 - val_accuracy: 0.2858\n",
            "Epoch 6/10\n",
            "352/352 [==============================] - 1s 4ms/step - loss: 1.9628 - accuracy: 0.3048 - val_loss: 1.9618 - val_accuracy: 0.2932\n",
            "Epoch 7/10\n",
            "352/352 [==============================] - 1s 4ms/step - loss: 1.9418 - accuracy: 0.3139 - val_loss: 1.9451 - val_accuracy: 0.3048\n",
            "Epoch 8/10\n",
            "352/352 [==============================] - 1s 4ms/step - loss: 1.9240 - accuracy: 0.3221 - val_loss: 1.9303 - val_accuracy: 0.3128\n",
            "Epoch 9/10\n",
            "352/352 [==============================] - 1s 3ms/step - loss: 1.9088 - accuracy: 0.3288 - val_loss: 1.9168 - val_accuracy: 0.3190\n",
            "Epoch 10/10\n",
            "352/352 [==============================] - 1s 4ms/step - loss: 1.8960 - accuracy: 0.3348 - val_loss: 1.9048 - val_accuracy: 0.3266\n"
          ]
        },
        {
          "output_type": "stream",
          "name": "stderr",
          "text": [
            "\u001b[32m[I 2022-10-19 23:20:08,000]\u001b[0m Trial 4 finished with value: 0.32659998536109924 and parameters: {'lr': 0.0008632008168602544}. Best is trial 0 with value: 0.4449999928474426.\u001b[0m\n"
          ]
        },
        {
          "output_type": "stream",
          "name": "stdout",
          "text": [
            "Epoch 1/10\n",
            "352/352 [==============================] - 2s 4ms/step - loss: 2.2835 - accuracy: 0.1319 - val_loss: 2.2500 - val_accuracy: 0.1566\n",
            "Epoch 2/10\n",
            "352/352 [==============================] - 1s 4ms/step - loss: 2.2154 - accuracy: 0.1845 - val_loss: 2.1922 - val_accuracy: 0.2010\n",
            "Epoch 3/10\n",
            "352/352 [==============================] - 1s 3ms/step - loss: 2.1610 - accuracy: 0.2220 - val_loss: 2.1401 - val_accuracy: 0.2440\n",
            "Epoch 4/10\n",
            "352/352 [==============================] - 1s 3ms/step - loss: 2.1119 - accuracy: 0.2529 - val_loss: 2.0954 - val_accuracy: 0.2680\n",
            "Epoch 5/10\n",
            "352/352 [==============================] - 1s 4ms/step - loss: 2.0687 - accuracy: 0.2738 - val_loss: 2.0558 - val_accuracy: 0.2780\n",
            "Epoch 6/10\n",
            "352/352 [==============================] - 1s 3ms/step - loss: 2.0306 - accuracy: 0.2886 - val_loss: 2.0224 - val_accuracy: 0.2912\n",
            "Epoch 7/10\n",
            "352/352 [==============================] - 1s 4ms/step - loss: 1.9984 - accuracy: 0.3040 - val_loss: 1.9941 - val_accuracy: 0.3038\n",
            "Epoch 8/10\n",
            "352/352 [==============================] - 1s 3ms/step - loss: 1.9719 - accuracy: 0.3108 - val_loss: 1.9730 - val_accuracy: 0.3116\n",
            "Epoch 9/10\n",
            "352/352 [==============================] - 1s 3ms/step - loss: 1.9501 - accuracy: 0.3181 - val_loss: 1.9534 - val_accuracy: 0.3158\n",
            "Epoch 10/10\n",
            "352/352 [==============================] - 1s 4ms/step - loss: 1.9317 - accuracy: 0.3250 - val_loss: 1.9379 - val_accuracy: 0.3186\n"
          ]
        },
        {
          "output_type": "stream",
          "name": "stderr",
          "text": [
            "\u001b[32m[I 2022-10-19 23:20:29,292]\u001b[0m Trial 5 finished with value: 0.31859999895095825 and parameters: {'lr': 0.0008629132190071859}. Best is trial 0 with value: 0.4449999928474426.\u001b[0m\n"
          ]
        },
        {
          "output_type": "stream",
          "name": "stdout",
          "text": [
            "Epoch 1/10\n",
            "352/352 [==============================] - 2s 4ms/step - loss: 2.3580 - accuracy: 0.0975 - val_loss: 2.3084 - val_accuracy: 0.1112\n",
            "Epoch 2/10\n",
            "352/352 [==============================] - 1s 3ms/step - loss: 2.2958 - accuracy: 0.1184 - val_loss: 2.2819 - val_accuracy: 0.1368\n",
            "Epoch 3/10\n",
            "352/352 [==============================] - 1s 3ms/step - loss: 2.2768 - accuracy: 0.1427 - val_loss: 2.2674 - val_accuracy: 0.1568\n",
            "Epoch 4/10\n",
            "352/352 [==============================] - 1s 3ms/step - loss: 2.2645 - accuracy: 0.1582 - val_loss: 2.2569 - val_accuracy: 0.1692\n",
            "Epoch 5/10\n",
            "352/352 [==============================] - 1s 3ms/step - loss: 2.2546 - accuracy: 0.1686 - val_loss: 2.2476 - val_accuracy: 0.1750\n",
            "Epoch 6/10\n",
            "352/352 [==============================] - 1s 3ms/step - loss: 2.2457 - accuracy: 0.1774 - val_loss: 2.2389 - val_accuracy: 0.1828\n",
            "Epoch 7/10\n",
            "352/352 [==============================] - 1s 4ms/step - loss: 2.2371 - accuracy: 0.1876 - val_loss: 2.2303 - val_accuracy: 0.1970\n",
            "Epoch 8/10\n",
            "352/352 [==============================] - 1s 3ms/step - loss: 2.2283 - accuracy: 0.1983 - val_loss: 2.2216 - val_accuracy: 0.2006\n",
            "Epoch 9/10\n",
            "352/352 [==============================] - 1s 3ms/step - loss: 2.2192 - accuracy: 0.2038 - val_loss: 2.2129 - val_accuracy: 0.2068\n",
            "Epoch 10/10\n",
            "352/352 [==============================] - 1s 3ms/step - loss: 2.2094 - accuracy: 0.2115 - val_loss: 2.2026 - val_accuracy: 0.2174\n"
          ]
        },
        {
          "output_type": "stream",
          "name": "stderr",
          "text": [
            "\u001b[32m[I 2022-10-19 23:20:50,557]\u001b[0m Trial 6 finished with value: 0.21739999949932098 and parameters: {'lr': 0.00022310108018679258}. Best is trial 0 with value: 0.4449999928474426.\u001b[0m\n"
          ]
        },
        {
          "output_type": "stream",
          "name": "stdout",
          "text": [
            "Epoch 1/10\n",
            "352/352 [==============================] - 2s 4ms/step - loss: 8499298.0000 - accuracy: 0.1004 - val_loss: 2.4983 - val_accuracy: 0.0986\n",
            "Epoch 2/10\n",
            "352/352 [==============================] - 1s 3ms/step - loss: 2.4531 - accuracy: 0.0972 - val_loss: 2.4350 - val_accuracy: 0.1024\n",
            "Epoch 3/10\n",
            "352/352 [==============================] - 1s 3ms/step - loss: 2.4459 - accuracy: 0.1004 - val_loss: 2.5791 - val_accuracy: 0.1064\n",
            "Epoch 4/10\n",
            "352/352 [==============================] - 1s 3ms/step - loss: 2.4412 - accuracy: 0.0999 - val_loss: 2.5297 - val_accuracy: 0.0970\n",
            "Epoch 5/10\n",
            "352/352 [==============================] - 1s 4ms/step - loss: 2.4356 - accuracy: 0.1014 - val_loss: 2.6340 - val_accuracy: 0.1024\n",
            "Epoch 6/10\n",
            "352/352 [==============================] - 1s 4ms/step - loss: 2.4355 - accuracy: 0.1035 - val_loss: 2.4841 - val_accuracy: 0.0986\n",
            "Epoch 7/10\n",
            "352/352 [==============================] - 1s 4ms/step - loss: 2.4494 - accuracy: 0.0984 - val_loss: 2.5152 - val_accuracy: 0.1058\n",
            "Epoch 8/10\n",
            "352/352 [==============================] - 1s 3ms/step - loss: 2.4436 - accuracy: 0.0997 - val_loss: 2.7649 - val_accuracy: 0.0950\n",
            "Epoch 9/10\n",
            "352/352 [==============================] - 1s 4ms/step - loss: 2.4447 - accuracy: 0.0995 - val_loss: 2.5949 - val_accuracy: 0.1024\n",
            "Epoch 10/10\n",
            "352/352 [==============================] - 1s 3ms/step - loss: 2.4304 - accuracy: 0.1025 - val_loss: 2.4083 - val_accuracy: 0.1024\n"
          ]
        },
        {
          "output_type": "stream",
          "name": "stderr",
          "text": [
            "\u001b[32m[I 2022-10-19 23:21:04,148]\u001b[0m Trial 7 finished with value: 0.10239999741315842 and parameters: {'lr': 15.741890047456648}. Best is trial 0 with value: 0.4449999928474426.\u001b[0m\n"
          ]
        },
        {
          "output_type": "stream",
          "name": "stdout",
          "text": [
            "Epoch 1/10\n",
            "352/352 [==============================] - 2s 4ms/step - loss: 2.8185 - accuracy: 0.1005 - val_loss: 2.2934 - val_accuracy: 0.0984\n",
            "Epoch 2/10\n",
            "352/352 [==============================] - 1s 3ms/step - loss: 2.3045 - accuracy: 0.0997 - val_loss: 2.3026 - val_accuracy: 0.0986\n",
            "Epoch 3/10\n",
            "352/352 [==============================] - 1s 4ms/step - loss: 2.3037 - accuracy: 0.0981 - val_loss: 2.3038 - val_accuracy: 0.0950\n",
            "Epoch 4/10\n",
            "352/352 [==============================] - 1s 3ms/step - loss: 2.3034 - accuracy: 0.0995 - val_loss: 2.3029 - val_accuracy: 0.0986\n",
            "Epoch 5/10\n",
            "352/352 [==============================] - 1s 4ms/step - loss: 2.3035 - accuracy: 0.0989 - val_loss: 2.3037 - val_accuracy: 0.0976\n",
            "Epoch 6/10\n",
            "352/352 [==============================] - 1s 4ms/step - loss: 2.3039 - accuracy: 0.1002 - val_loss: 2.3053 - val_accuracy: 0.0976\n",
            "Epoch 7/10\n",
            "352/352 [==============================] - 1s 3ms/step - loss: 2.3033 - accuracy: 0.0976 - val_loss: 2.3037 - val_accuracy: 0.1064\n",
            "Epoch 8/10\n",
            "352/352 [==============================] - 1s 4ms/step - loss: 2.3034 - accuracy: 0.1006 - val_loss: 2.3033 - val_accuracy: 0.0970\n",
            "Epoch 9/10\n",
            "352/352 [==============================] - 1s 4ms/step - loss: 2.3033 - accuracy: 0.0998 - val_loss: 2.3039 - val_accuracy: 0.0976\n",
            "Epoch 10/10\n",
            "352/352 [==============================] - 1s 4ms/step - loss: 2.3032 - accuracy: 0.0995 - val_loss: 2.3032 - val_accuracy: 0.1038\n"
          ]
        },
        {
          "output_type": "stream",
          "name": "stderr",
          "text": [
            "\u001b[32m[I 2022-10-19 23:21:17,778]\u001b[0m Trial 8 finished with value: 0.10379999876022339 and parameters: {'lr': 0.4042872735027334}. Best is trial 0 with value: 0.4449999928474426.\u001b[0m\n"
          ]
        },
        {
          "output_type": "stream",
          "name": "stdout",
          "text": [
            "Epoch 1/10\n",
            "352/352 [==============================] - 2s 4ms/step - loss: 616.8519 - accuracy: 0.1021 - val_loss: 2.3049 - val_accuracy: 0.0950\n",
            "Epoch 2/10\n",
            "352/352 [==============================] - 1s 4ms/step - loss: 2.3060 - accuracy: 0.0995 - val_loss: 2.3053 - val_accuracy: 0.1058\n",
            "Epoch 3/10\n",
            "352/352 [==============================] - 1s 3ms/step - loss: 2.3065 - accuracy: 0.0984 - val_loss: 2.3045 - val_accuracy: 0.0958\n",
            "Epoch 4/10\n",
            "352/352 [==============================] - 1s 4ms/step - loss: 2.3064 - accuracy: 0.0971 - val_loss: 2.3060 - val_accuracy: 0.0976\n",
            "Epoch 5/10\n",
            "352/352 [==============================] - 1s 3ms/step - loss: 2.3062 - accuracy: 0.1000 - val_loss: 2.3039 - val_accuracy: 0.1058\n",
            "Epoch 6/10\n",
            "352/352 [==============================] - 1s 4ms/step - loss: 2.3060 - accuracy: 0.1000 - val_loss: 2.3071 - val_accuracy: 0.1064\n",
            "Epoch 7/10\n",
            "352/352 [==============================] - 1s 4ms/step - loss: 2.3060 - accuracy: 0.1003 - val_loss: 2.3053 - val_accuracy: 0.1064\n",
            "Epoch 8/10\n",
            "352/352 [==============================] - 1s 3ms/step - loss: 2.3061 - accuracy: 0.0999 - val_loss: 2.3050 - val_accuracy: 0.0976\n",
            "Epoch 9/10\n",
            "352/352 [==============================] - 1s 3ms/step - loss: 2.3065 - accuracy: 0.0995 - val_loss: 2.3056 - val_accuracy: 0.0986\n",
            "Epoch 10/10\n",
            "352/352 [==============================] - 1s 4ms/step - loss: 2.3064 - accuracy: 0.0970 - val_loss: 2.3077 - val_accuracy: 0.1058\n"
          ]
        },
        {
          "output_type": "stream",
          "name": "stderr",
          "text": [
            "\u001b[32m[I 2022-10-19 23:21:31,193]\u001b[0m Trial 9 finished with value: 0.10580000281333923 and parameters: {'lr': 1.7718847354806828}. Best is trial 0 with value: 0.4449999928474426.\u001b[0m\n"
          ]
        }
      ],
      "source": [
        "# metric = accuracy therefore maximise\n",
        "# set seed to get consistent results\n",
        "study = optuna.create_study(direction='maximize',\n",
        "                            sampler=optuna.samplers.TPESampler(seed=SEED)\n",
        ")\n",
        "study.optimize(objective, n_trials=10) #use objective function defined above and sample 10 different learning rates"
      ]
    },
    {
      "cell_type": "code",
      "execution_count": null,
      "metadata": {
        "id": "f1oMQPWFA2CM",
        "colab": {
          "base_uri": "https://localhost:8080/",
          "height": 542
        },
        "outputId": "ecf2dc00-bf26-4420-8f88-2806a7128001"
      },
      "outputs": [
        {
          "output_type": "display_data",
          "data": {
            "text/html": [
              "<html>\n",
              "<head><meta charset=\"utf-8\" /></head>\n",
              "<body>\n",
              "    <div>            <script src=\"https://cdnjs.cloudflare.com/ajax/libs/mathjax/2.7.5/MathJax.js?config=TeX-AMS-MML_SVG\"></script><script type=\"text/javascript\">if (window.MathJax) {MathJax.Hub.Config({SVG: {font: \"STIX-Web\"}});}</script>                <script type=\"text/javascript\">window.PlotlyConfig = {MathJaxConfig: 'local'};</script>\n",
              "        <script src=\"https://cdn.plot.ly/plotly-2.8.3.min.js\"></script>                <div id=\"89051b58-9fea-48c1-885f-0a3104450266\" class=\"plotly-graph-div\" style=\"height:525px; width:100%;\"></div>            <script type=\"text/javascript\">                                    window.PLOTLYENV=window.PLOTLYENV || {};                                    if (document.getElementById(\"89051b58-9fea-48c1-885f-0a3104450266\")) {                    Plotly.newPlot(                        \"89051b58-9fea-48c1-885f-0a3104450266\",                        [{\"mode\":\"markers\",\"name\":\"Objective Value\",\"x\":[0,1,2,3,4,5,6,7,8,9],\"y\":[0.4449999928474426,0.09759999811649323,0.10239999741315842,0.09860000014305115,0.32659998536109924,0.31859999895095825,0.21739999949932098,0.10239999741315842,0.10379999876022339,0.10580000281333923],\"type\":\"scatter\"},{\"name\":\"Best Value\",\"x\":[0,1,2,3,4,5,6,7,8,9],\"y\":[0.4449999928474426,0.4449999928474426,0.4449999928474426,0.4449999928474426,0.4449999928474426,0.4449999928474426,0.4449999928474426,0.4449999928474426,0.4449999928474426,0.4449999928474426],\"type\":\"scatter\"}],                        {\"title\":{\"text\":\"Optimization History Plot\"},\"xaxis\":{\"title\":{\"text\":\"Trial\"}},\"yaxis\":{\"title\":{\"text\":\"Objective Value\"}},\"template\":{\"data\":{\"bar\":[{\"error_x\":{\"color\":\"#2a3f5f\"},\"error_y\":{\"color\":\"#2a3f5f\"},\"marker\":{\"line\":{\"color\":\"#E5ECF6\",\"width\":0.5},\"pattern\":{\"fillmode\":\"overlay\",\"size\":10,\"solidity\":0.2}},\"type\":\"bar\"}],\"barpolar\":[{\"marker\":{\"line\":{\"color\":\"#E5ECF6\",\"width\":0.5},\"pattern\":{\"fillmode\":\"overlay\",\"size\":10,\"solidity\":0.2}},\"type\":\"barpolar\"}],\"carpet\":[{\"aaxis\":{\"endlinecolor\":\"#2a3f5f\",\"gridcolor\":\"white\",\"linecolor\":\"white\",\"minorgridcolor\":\"white\",\"startlinecolor\":\"#2a3f5f\"},\"baxis\":{\"endlinecolor\":\"#2a3f5f\",\"gridcolor\":\"white\",\"linecolor\":\"white\",\"minorgridcolor\":\"white\",\"startlinecolor\":\"#2a3f5f\"},\"type\":\"carpet\"}],\"choropleth\":[{\"colorbar\":{\"outlinewidth\":0,\"ticks\":\"\"},\"type\":\"choropleth\"}],\"contour\":[{\"colorbar\":{\"outlinewidth\":0,\"ticks\":\"\"},\"colorscale\":[[0.0,\"#0d0887\"],[0.1111111111111111,\"#46039f\"],[0.2222222222222222,\"#7201a8\"],[0.3333333333333333,\"#9c179e\"],[0.4444444444444444,\"#bd3786\"],[0.5555555555555556,\"#d8576b\"],[0.6666666666666666,\"#ed7953\"],[0.7777777777777778,\"#fb9f3a\"],[0.8888888888888888,\"#fdca26\"],[1.0,\"#f0f921\"]],\"type\":\"contour\"}],\"contourcarpet\":[{\"colorbar\":{\"outlinewidth\":0,\"ticks\":\"\"},\"type\":\"contourcarpet\"}],\"heatmap\":[{\"colorbar\":{\"outlinewidth\":0,\"ticks\":\"\"},\"colorscale\":[[0.0,\"#0d0887\"],[0.1111111111111111,\"#46039f\"],[0.2222222222222222,\"#7201a8\"],[0.3333333333333333,\"#9c179e\"],[0.4444444444444444,\"#bd3786\"],[0.5555555555555556,\"#d8576b\"],[0.6666666666666666,\"#ed7953\"],[0.7777777777777778,\"#fb9f3a\"],[0.8888888888888888,\"#fdca26\"],[1.0,\"#f0f921\"]],\"type\":\"heatmap\"}],\"heatmapgl\":[{\"colorbar\":{\"outlinewidth\":0,\"ticks\":\"\"},\"colorscale\":[[0.0,\"#0d0887\"],[0.1111111111111111,\"#46039f\"],[0.2222222222222222,\"#7201a8\"],[0.3333333333333333,\"#9c179e\"],[0.4444444444444444,\"#bd3786\"],[0.5555555555555556,\"#d8576b\"],[0.6666666666666666,\"#ed7953\"],[0.7777777777777778,\"#fb9f3a\"],[0.8888888888888888,\"#fdca26\"],[1.0,\"#f0f921\"]],\"type\":\"heatmapgl\"}],\"histogram\":[{\"marker\":{\"pattern\":{\"fillmode\":\"overlay\",\"size\":10,\"solidity\":0.2}},\"type\":\"histogram\"}],\"histogram2d\":[{\"colorbar\":{\"outlinewidth\":0,\"ticks\":\"\"},\"colorscale\":[[0.0,\"#0d0887\"],[0.1111111111111111,\"#46039f\"],[0.2222222222222222,\"#7201a8\"],[0.3333333333333333,\"#9c179e\"],[0.4444444444444444,\"#bd3786\"],[0.5555555555555556,\"#d8576b\"],[0.6666666666666666,\"#ed7953\"],[0.7777777777777778,\"#fb9f3a\"],[0.8888888888888888,\"#fdca26\"],[1.0,\"#f0f921\"]],\"type\":\"histogram2d\"}],\"histogram2dcontour\":[{\"colorbar\":{\"outlinewidth\":0,\"ticks\":\"\"},\"colorscale\":[[0.0,\"#0d0887\"],[0.1111111111111111,\"#46039f\"],[0.2222222222222222,\"#7201a8\"],[0.3333333333333333,\"#9c179e\"],[0.4444444444444444,\"#bd3786\"],[0.5555555555555556,\"#d8576b\"],[0.6666666666666666,\"#ed7953\"],[0.7777777777777778,\"#fb9f3a\"],[0.8888888888888888,\"#fdca26\"],[1.0,\"#f0f921\"]],\"type\":\"histogram2dcontour\"}],\"mesh3d\":[{\"colorbar\":{\"outlinewidth\":0,\"ticks\":\"\"},\"type\":\"mesh3d\"}],\"parcoords\":[{\"line\":{\"colorbar\":{\"outlinewidth\":0,\"ticks\":\"\"}},\"type\":\"parcoords\"}],\"pie\":[{\"automargin\":true,\"type\":\"pie\"}],\"scatter\":[{\"marker\":{\"colorbar\":{\"outlinewidth\":0,\"ticks\":\"\"}},\"type\":\"scatter\"}],\"scatter3d\":[{\"line\":{\"colorbar\":{\"outlinewidth\":0,\"ticks\":\"\"}},\"marker\":{\"colorbar\":{\"outlinewidth\":0,\"ticks\":\"\"}},\"type\":\"scatter3d\"}],\"scattercarpet\":[{\"marker\":{\"colorbar\":{\"outlinewidth\":0,\"ticks\":\"\"}},\"type\":\"scattercarpet\"}],\"scattergeo\":[{\"marker\":{\"colorbar\":{\"outlinewidth\":0,\"ticks\":\"\"}},\"type\":\"scattergeo\"}],\"scattergl\":[{\"marker\":{\"colorbar\":{\"outlinewidth\":0,\"ticks\":\"\"}},\"type\":\"scattergl\"}],\"scattermapbox\":[{\"marker\":{\"colorbar\":{\"outlinewidth\":0,\"ticks\":\"\"}},\"type\":\"scattermapbox\"}],\"scatterpolar\":[{\"marker\":{\"colorbar\":{\"outlinewidth\":0,\"ticks\":\"\"}},\"type\":\"scatterpolar\"}],\"scatterpolargl\":[{\"marker\":{\"colorbar\":{\"outlinewidth\":0,\"ticks\":\"\"}},\"type\":\"scatterpolargl\"}],\"scatterternary\":[{\"marker\":{\"colorbar\":{\"outlinewidth\":0,\"ticks\":\"\"}},\"type\":\"scatterternary\"}],\"surface\":[{\"colorbar\":{\"outlinewidth\":0,\"ticks\":\"\"},\"colorscale\":[[0.0,\"#0d0887\"],[0.1111111111111111,\"#46039f\"],[0.2222222222222222,\"#7201a8\"],[0.3333333333333333,\"#9c179e\"],[0.4444444444444444,\"#bd3786\"],[0.5555555555555556,\"#d8576b\"],[0.6666666666666666,\"#ed7953\"],[0.7777777777777778,\"#fb9f3a\"],[0.8888888888888888,\"#fdca26\"],[1.0,\"#f0f921\"]],\"type\":\"surface\"}],\"table\":[{\"cells\":{\"fill\":{\"color\":\"#EBF0F8\"},\"line\":{\"color\":\"white\"}},\"header\":{\"fill\":{\"color\":\"#C8D4E3\"},\"line\":{\"color\":\"white\"}},\"type\":\"table\"}]},\"layout\":{\"annotationdefaults\":{\"arrowcolor\":\"#2a3f5f\",\"arrowhead\":0,\"arrowwidth\":1},\"autotypenumbers\":\"strict\",\"coloraxis\":{\"colorbar\":{\"outlinewidth\":0,\"ticks\":\"\"}},\"colorscale\":{\"diverging\":[[0,\"#8e0152\"],[0.1,\"#c51b7d\"],[0.2,\"#de77ae\"],[0.3,\"#f1b6da\"],[0.4,\"#fde0ef\"],[0.5,\"#f7f7f7\"],[0.6,\"#e6f5d0\"],[0.7,\"#b8e186\"],[0.8,\"#7fbc41\"],[0.9,\"#4d9221\"],[1,\"#276419\"]],\"sequential\":[[0.0,\"#0d0887\"],[0.1111111111111111,\"#46039f\"],[0.2222222222222222,\"#7201a8\"],[0.3333333333333333,\"#9c179e\"],[0.4444444444444444,\"#bd3786\"],[0.5555555555555556,\"#d8576b\"],[0.6666666666666666,\"#ed7953\"],[0.7777777777777778,\"#fb9f3a\"],[0.8888888888888888,\"#fdca26\"],[1.0,\"#f0f921\"]],\"sequentialminus\":[[0.0,\"#0d0887\"],[0.1111111111111111,\"#46039f\"],[0.2222222222222222,\"#7201a8\"],[0.3333333333333333,\"#9c179e\"],[0.4444444444444444,\"#bd3786\"],[0.5555555555555556,\"#d8576b\"],[0.6666666666666666,\"#ed7953\"],[0.7777777777777778,\"#fb9f3a\"],[0.8888888888888888,\"#fdca26\"],[1.0,\"#f0f921\"]]},\"colorway\":[\"#636efa\",\"#EF553B\",\"#00cc96\",\"#ab63fa\",\"#FFA15A\",\"#19d3f3\",\"#FF6692\",\"#B6E880\",\"#FF97FF\",\"#FECB52\"],\"font\":{\"color\":\"#2a3f5f\"},\"geo\":{\"bgcolor\":\"white\",\"lakecolor\":\"white\",\"landcolor\":\"#E5ECF6\",\"showlakes\":true,\"showland\":true,\"subunitcolor\":\"white\"},\"hoverlabel\":{\"align\":\"left\"},\"hovermode\":\"closest\",\"mapbox\":{\"style\":\"light\"},\"paper_bgcolor\":\"white\",\"plot_bgcolor\":\"#E5ECF6\",\"polar\":{\"angularaxis\":{\"gridcolor\":\"white\",\"linecolor\":\"white\",\"ticks\":\"\"},\"bgcolor\":\"#E5ECF6\",\"radialaxis\":{\"gridcolor\":\"white\",\"linecolor\":\"white\",\"ticks\":\"\"}},\"scene\":{\"xaxis\":{\"backgroundcolor\":\"#E5ECF6\",\"gridcolor\":\"white\",\"gridwidth\":2,\"linecolor\":\"white\",\"showbackground\":true,\"ticks\":\"\",\"zerolinecolor\":\"white\"},\"yaxis\":{\"backgroundcolor\":\"#E5ECF6\",\"gridcolor\":\"white\",\"gridwidth\":2,\"linecolor\":\"white\",\"showbackground\":true,\"ticks\":\"\",\"zerolinecolor\":\"white\"},\"zaxis\":{\"backgroundcolor\":\"#E5ECF6\",\"gridcolor\":\"white\",\"gridwidth\":2,\"linecolor\":\"white\",\"showbackground\":true,\"ticks\":\"\",\"zerolinecolor\":\"white\"}},\"shapedefaults\":{\"line\":{\"color\":\"#2a3f5f\"}},\"ternary\":{\"aaxis\":{\"gridcolor\":\"white\",\"linecolor\":\"white\",\"ticks\":\"\"},\"baxis\":{\"gridcolor\":\"white\",\"linecolor\":\"white\",\"ticks\":\"\"},\"bgcolor\":\"#E5ECF6\",\"caxis\":{\"gridcolor\":\"white\",\"linecolor\":\"white\",\"ticks\":\"\"}},\"title\":{\"x\":0.05},\"xaxis\":{\"automargin\":true,\"gridcolor\":\"white\",\"linecolor\":\"white\",\"ticks\":\"\",\"title\":{\"standoff\":15},\"zerolinecolor\":\"white\",\"zerolinewidth\":2},\"yaxis\":{\"automargin\":true,\"gridcolor\":\"white\",\"linecolor\":\"white\",\"ticks\":\"\",\"title\":{\"standoff\":15},\"zerolinecolor\":\"white\",\"zerolinewidth\":2}}}},                        {\"responsive\": true}                    ).then(function(){\n",
              "                            \n",
              "var gd = document.getElementById('89051b58-9fea-48c1-885f-0a3104450266');\n",
              "var x = new MutationObserver(function (mutations, observer) {{\n",
              "        var display = window.getComputedStyle(gd).display;\n",
              "        if (!display || display === 'none') {{\n",
              "            console.log([gd, 'removed!']);\n",
              "            Plotly.purge(gd);\n",
              "            observer.disconnect();\n",
              "        }}\n",
              "}});\n",
              "\n",
              "// Listen for the removal of the full notebook cells\n",
              "var notebookContainer = gd.closest('#notebook-container');\n",
              "if (notebookContainer) {{\n",
              "    x.observe(notebookContainer, {childList: true});\n",
              "}}\n",
              "\n",
              "// Listen for the clearing of the current output cell\n",
              "var outputEl = gd.closest('.output');\n",
              "if (outputEl) {{\n",
              "    x.observe(outputEl, {childList: true});\n",
              "}}\n",
              "\n",
              "                        })                };                            </script>        </div>\n",
              "</body>\n",
              "</html>"
            ]
          },
          "metadata": {}
        }
      ],
      "source": [
        "plot_optimization_history(study)"
      ]
    },
    {
      "cell_type": "code",
      "execution_count": null,
      "metadata": {
        "id": "d_e_GFFxA644",
        "colab": {
          "base_uri": "https://localhost:8080/"
        },
        "outputId": "5fc7621e-4053-4452-bda9-b666fe161c66"
      },
      "outputs": [
        {
          "output_type": "stream",
          "name": "stdout",
          "text": [
            "Number of finished trials: 10\n",
            "Best trial:\n",
            "  Value: 0.4449999928474426\n",
            "  Params: \n",
            "    lr: 0.017670169402947963\n"
          ]
        }
      ],
      "source": [
        "print(\"Number of finished trials: {}\".format(len(study.trials)))\n",
        "print(\"Best trial:\")\n",
        "trial = study.best_trial\n",
        "print(\"  Value: {}\".format(trial.value))\n",
        "print(\"  Params: \")\n",
        "for key, value in trial.params.items():\n",
        "  print(\"    {}: {}\".format(key, value))"
      ]
    },
    {
      "cell_type": "markdown",
      "metadata": {
        "id": "W3Vf4YYbuPDQ"
      },
      "source": [
        "## Model result with optimised learning rate\n",
        "Optimal learning rate near default = 0.018\n",
        "\n",
        "Test accuracy gone from 0.419 to 0.446"
      ]
    },
    {
      "cell_type": "code",
      "execution_count": null,
      "metadata": {
        "id": "SOFQvKuAk18L",
        "colab": {
          "base_uri": "https://localhost:8080/"
        },
        "outputId": "0c5d6ea9-967f-4323-f6c9-8c0e4555f56b"
      },
      "outputs": [
        {
          "output_type": "stream",
          "name": "stdout",
          "text": [
            "Epoch 1/10\n",
            "352/352 [==============================] - 2s 4ms/step - loss: 2.0099 - accuracy: 0.2683 - val_loss: 1.8769 - val_accuracy: 0.3130\n",
            "Epoch 2/10\n",
            "352/352 [==============================] - 1s 4ms/step - loss: 1.8311 - accuracy: 0.3425 - val_loss: 1.7748 - val_accuracy: 0.3696\n",
            "Epoch 3/10\n",
            "352/352 [==============================] - 1s 4ms/step - loss: 1.7599 - accuracy: 0.3723 - val_loss: 1.7509 - val_accuracy: 0.3762\n",
            "Epoch 4/10\n",
            "352/352 [==============================] - 1s 3ms/step - loss: 1.7115 - accuracy: 0.3944 - val_loss: 1.7242 - val_accuracy: 0.3836\n",
            "Epoch 5/10\n",
            "352/352 [==============================] - 1s 4ms/step - loss: 1.6702 - accuracy: 0.4068 - val_loss: 2.0119 - val_accuracy: 0.2896\n",
            "Epoch 6/10\n",
            "352/352 [==============================] - 1s 4ms/step - loss: 1.6427 - accuracy: 0.4196 - val_loss: 1.7361 - val_accuracy: 0.3892\n",
            "Epoch 7/10\n",
            "352/352 [==============================] - 1s 4ms/step - loss: 1.6139 - accuracy: 0.4269 - val_loss: 1.6552 - val_accuracy: 0.4134\n",
            "Epoch 8/10\n",
            "352/352 [==============================] - 1s 3ms/step - loss: 1.5911 - accuracy: 0.4377 - val_loss: 1.6116 - val_accuracy: 0.4354\n",
            "Epoch 9/10\n",
            "352/352 [==============================] - 1s 4ms/step - loss: 1.5704 - accuracy: 0.4444 - val_loss: 1.6397 - val_accuracy: 0.4232\n",
            "Epoch 10/10\n",
            "352/352 [==============================] - 1s 3ms/step - loss: 1.5546 - accuracy: 0.4493 - val_loss: 1.6911 - val_accuracy: 0.4094\n",
            "Test loss: 1.68\n",
            "Test accuracy: 0.41\n"
          ]
        }
      ],
      "source": [
        "model = build_basic_model(128)\n",
        "lr = study.best_params['lr']\n",
        "\n",
        "model.compile(tf.keras.optimizers.SGD(lr=lr),\n",
        "              loss='categorical_crossentropy',\n",
        "              metrics=['accuracy'])\n",
        "history = model.fit(x_train, y_train,\n",
        "                    batch_size=128,\n",
        "                    epochs=10,\n",
        "                    verbose=True,\n",
        "                    validation_split=.1)\n",
        "loss, accuracy  = model.evaluate(x_test, y_test, verbose=False)\n",
        "print(f'Test loss: {loss:.3}')\n",
        "print(f'Test accuracy: {accuracy:.3}')"
      ]
    },
    {
      "cell_type": "markdown",
      "metadata": {
        "id": "pYZwDuvdNe7N"
      },
      "source": [
        "## Tuning batch size"
      ]
    },
    {
      "cell_type": "code",
      "execution_count": null,
      "metadata": {
        "id": "RyZnY6yfDlsA"
      },
      "outputs": [],
      "source": [
        "# batch size, lower batch size = slower training\n",
        "def objective(trial):\n",
        "    model = build_basic_model(128)\n",
        "    batch_size = trial.suggest_int('batch_size', 32, 50000)\n",
        "\n",
        "    model.compile(optimizer=\"sgd\",\n",
        "                  loss='categorical_crossentropy',\n",
        "                  metrics=['accuracy'])\n",
        "    history = model.fit(x_train, y_train,\n",
        "                        batch_size=batch_size,\n",
        "                        epochs=10,\n",
        "                        verbose=True,\n",
        "                        validation_split=.1)\n",
        "    acc = history.history['val_accuracy'][-1]\n",
        "    return acc"
      ]
    },
    {
      "cell_type": "code",
      "execution_count": null,
      "metadata": {
        "id": "6AdzFd_-ROT3",
        "colab": {
          "base_uri": "https://localhost:8080/"
        },
        "outputId": "3e803003-ab7c-4eae-d826-959c37bd3a8f"
      },
      "outputs": [
        {
          "output_type": "stream",
          "name": "stderr",
          "text": [
            "\u001b[32m[I 2022-10-19 23:26:50,691]\u001b[0m A new study created in memory with name: no-name-2bb9a19d-87e2-49f1-a637-6fe86b8d3914\u001b[0m\n"
          ]
        },
        {
          "output_type": "stream",
          "name": "stdout",
          "text": [
            "Epoch 1/10\n",
            "704/704 [==============================] - 5s 4ms/step - loss: 2.0021 - accuracy: 0.2710 - val_loss: 2.1074 - val_accuracy: 0.2316\n",
            "Epoch 2/10\n",
            "704/704 [==============================] - 2s 3ms/step - loss: 1.8090 - accuracy: 0.3566 - val_loss: 1.9376 - val_accuracy: 0.2806\n",
            "Epoch 3/10\n",
            "704/704 [==============================] - 2s 3ms/step - loss: 1.7362 - accuracy: 0.3846 - val_loss: 1.9002 - val_accuracy: 0.3160\n",
            "Epoch 4/10\n",
            "704/704 [==============================] - 2s 3ms/step - loss: 1.6848 - accuracy: 0.4038 - val_loss: 1.8401 - val_accuracy: 0.3424\n",
            "Epoch 5/10\n",
            "704/704 [==============================] - 2s 3ms/step - loss: 1.6469 - accuracy: 0.4170 - val_loss: 1.8113 - val_accuracy: 0.3398\n",
            "Epoch 6/10\n",
            "704/704 [==============================] - 2s 3ms/step - loss: 1.6139 - accuracy: 0.4279 - val_loss: 2.0468 - val_accuracy: 0.3260\n",
            "Epoch 7/10\n",
            "704/704 [==============================] - 2s 3ms/step - loss: 1.5840 - accuracy: 0.4406 - val_loss: 1.7004 - val_accuracy: 0.3822\n",
            "Epoch 8/10\n",
            "704/704 [==============================] - 2s 3ms/step - loss: 1.5578 - accuracy: 0.4468 - val_loss: 1.6527 - val_accuracy: 0.4158\n",
            "Epoch 9/10\n",
            "704/704 [==============================] - 2s 3ms/step - loss: 1.5377 - accuracy: 0.4565 - val_loss: 1.7001 - val_accuracy: 0.3998\n",
            "Epoch 10/10\n",
            "704/704 [==============================] - 2s 3ms/step - loss: 1.5168 - accuracy: 0.4653 - val_loss: 1.6392 - val_accuracy: 0.4064\n"
          ]
        },
        {
          "output_type": "stream",
          "name": "stderr",
          "text": [
            "\u001b[32m[I 2022-10-19 23:27:34,251]\u001b[0m Trial 0 finished with value: 0.40639999508857727 and parameters: {'batch_size': 64}. Best is trial 0 with value: 0.40639999508857727.\u001b[0m\n"
          ]
        },
        {
          "output_type": "stream",
          "name": "stdout",
          "text": [
            "Epoch 1/10\n",
            "42/42 [==============================] - 1s 14ms/step - loss: 2.2260 - accuracy: 0.1730 - val_loss: 2.1535 - val_accuracy: 0.2020\n",
            "Epoch 2/10\n",
            "42/42 [==============================] - 0s 10ms/step - loss: 2.1143 - accuracy: 0.2232 - val_loss: 2.0831 - val_accuracy: 0.2332\n",
            "Epoch 3/10\n",
            "42/42 [==============================] - 0s 10ms/step - loss: 2.0535 - accuracy: 0.2519 - val_loss: 2.0347 - val_accuracy: 0.2534\n",
            "Epoch 4/10\n",
            "42/42 [==============================] - 0s 9ms/step - loss: 2.0091 - accuracy: 0.2743 - val_loss: 2.0024 - val_accuracy: 0.2758\n",
            "Epoch 5/10\n",
            "42/42 [==============================] - 0s 10ms/step - loss: 1.9758 - accuracy: 0.2884 - val_loss: 1.9716 - val_accuracy: 0.2932\n",
            "Epoch 6/10\n",
            "42/42 [==============================] - 0s 9ms/step - loss: 1.9506 - accuracy: 0.3049 - val_loss: 1.9534 - val_accuracy: 0.2962\n",
            "Epoch 7/10\n",
            "42/42 [==============================] - 0s 10ms/step - loss: 1.9265 - accuracy: 0.3194 - val_loss: 1.9266 - val_accuracy: 0.3238\n",
            "Epoch 8/10\n",
            "42/42 [==============================] - 0s 10ms/step - loss: 1.9090 - accuracy: 0.3289 - val_loss: 1.9230 - val_accuracy: 0.3110\n",
            "Epoch 9/10\n",
            "42/42 [==============================] - 0s 10ms/step - loss: 1.8912 - accuracy: 0.3343 - val_loss: 1.9000 - val_accuracy: 0.3252\n",
            "Epoch 10/10\n",
            "42/42 [==============================] - 0s 10ms/step - loss: 1.8798 - accuracy: 0.3409 - val_loss: 1.8959 - val_accuracy: 0.3246\n"
          ]
        },
        {
          "output_type": "stream",
          "name": "stderr",
          "text": [
            "\u001b[32m[I 2022-10-19 23:27:39,666]\u001b[0m Trial 1 finished with value: 0.3246000111103058 and parameters: {'batch_size': 1084}. Best is trial 0 with value: 0.40639999508857727.\u001b[0m\n"
          ]
        },
        {
          "output_type": "stream",
          "name": "stdout",
          "text": [
            "Epoch 1/10\n",
            "352/352 [==============================] - 2s 4ms/step - loss: 2.0737 - accuracy: 0.2543 - val_loss: 1.9588 - val_accuracy: 0.2994\n",
            "Epoch 2/10\n",
            "352/352 [==============================] - 1s 3ms/step - loss: 1.8769 - accuracy: 0.3341 - val_loss: 1.8880 - val_accuracy: 0.3226\n",
            "Epoch 3/10\n",
            "352/352 [==============================] - 1s 4ms/step - loss: 1.8098 - accuracy: 0.3594 - val_loss: 1.8254 - val_accuracy: 0.3380\n",
            "Epoch 4/10\n",
            "352/352 [==============================] - 1s 3ms/step - loss: 1.7651 - accuracy: 0.3744 - val_loss: 1.7826 - val_accuracy: 0.3734\n",
            "Epoch 5/10\n",
            "352/352 [==============================] - 1s 3ms/step - loss: 1.7271 - accuracy: 0.3882 - val_loss: 1.7363 - val_accuracy: 0.3790\n",
            "Epoch 6/10\n",
            "352/352 [==============================] - 1s 4ms/step - loss: 1.6939 - accuracy: 0.4018 - val_loss: 1.7220 - val_accuracy: 0.3840\n",
            "Epoch 7/10\n",
            "352/352 [==============================] - 1s 4ms/step - loss: 1.6692 - accuracy: 0.4124 - val_loss: 1.6904 - val_accuracy: 0.4038\n",
            "Epoch 8/10\n",
            "352/352 [==============================] - 1s 3ms/step - loss: 1.6463 - accuracy: 0.4189 - val_loss: 1.6641 - val_accuracy: 0.4058\n",
            "Epoch 9/10\n",
            "352/352 [==============================] - 1s 4ms/step - loss: 1.6221 - accuracy: 0.4304 - val_loss: 1.6612 - val_accuracy: 0.4124\n",
            "Epoch 10/10\n",
            "352/352 [==============================] - 1s 4ms/step - loss: 1.6093 - accuracy: 0.4318 - val_loss: 1.6491 - val_accuracy: 0.4128\n"
          ]
        },
        {
          "output_type": "stream",
          "name": "stderr",
          "text": [
            "\u001b[32m[I 2022-10-19 23:27:53,408]\u001b[0m Trial 2 finished with value: 0.41280001401901245 and parameters: {'batch_size': 128}. Best is trial 2 with value: 0.41280001401901245.\u001b[0m\n"
          ]
        },
        {
          "output_type": "stream",
          "name": "stdout",
          "text": [
            "Epoch 1/10\n",
            "176/176 [==============================] - 1s 5ms/step - loss: 2.1219 - accuracy: 0.2407 - val_loss: 2.0099 - val_accuracy: 0.2922\n",
            "Epoch 2/10\n",
            "176/176 [==============================] - 1s 4ms/step - loss: 1.9430 - accuracy: 0.3095 - val_loss: 1.9051 - val_accuracy: 0.3186\n",
            "Epoch 3/10\n",
            "176/176 [==============================] - 1s 5ms/step - loss: 1.8716 - accuracy: 0.3375 - val_loss: 1.8548 - val_accuracy: 0.3458\n",
            "Epoch 4/10\n",
            "176/176 [==============================] - 1s 4ms/step - loss: 1.8274 - accuracy: 0.3570 - val_loss: 1.8330 - val_accuracy: 0.3554\n",
            "Epoch 5/10\n",
            "176/176 [==============================] - 1s 4ms/step - loss: 1.7963 - accuracy: 0.3666 - val_loss: 1.7993 - val_accuracy: 0.3732\n",
            "Epoch 6/10\n",
            "176/176 [==============================] - 1s 4ms/step - loss: 1.7695 - accuracy: 0.3768 - val_loss: 1.7832 - val_accuracy: 0.3684\n",
            "Epoch 7/10\n",
            "176/176 [==============================] - 1s 5ms/step - loss: 1.7473 - accuracy: 0.3865 - val_loss: 1.7656 - val_accuracy: 0.3880\n",
            "Epoch 8/10\n",
            "176/176 [==============================] - 1s 4ms/step - loss: 1.7213 - accuracy: 0.3964 - val_loss: 1.7333 - val_accuracy: 0.3970\n",
            "Epoch 9/10\n",
            "176/176 [==============================] - 1s 4ms/step - loss: 1.7033 - accuracy: 0.4031 - val_loss: 1.7173 - val_accuracy: 0.3938\n",
            "Epoch 10/10\n",
            "176/176 [==============================] - 1s 4ms/step - loss: 1.6863 - accuracy: 0.4112 - val_loss: 1.7120 - val_accuracy: 0.4004\n"
          ]
        },
        {
          "output_type": "stream",
          "name": "stderr",
          "text": [
            "\u001b[32m[I 2022-10-19 23:28:04,625]\u001b[0m Trial 3 finished with value: 0.4004000127315521 and parameters: {'batch_size': 256}. Best is trial 2 with value: 0.41280001401901245.\u001b[0m\n"
          ]
        },
        {
          "output_type": "stream",
          "name": "stdout",
          "text": [
            "Epoch 1/10\n",
            "88/88 [==============================] - 1s 7ms/step - loss: 2.2065 - accuracy: 0.2036 - val_loss: 2.1436 - val_accuracy: 0.2542\n",
            "Epoch 2/10\n",
            "88/88 [==============================] - 0s 5ms/step - loss: 2.0735 - accuracy: 0.2724 - val_loss: 2.0213 - val_accuracy: 0.2958\n",
            "Epoch 3/10\n",
            "88/88 [==============================] - 0s 5ms/step - loss: 1.9804 - accuracy: 0.3072 - val_loss: 1.9592 - val_accuracy: 0.3108\n",
            "Epoch 4/10\n",
            "88/88 [==============================] - 0s 5ms/step - loss: 1.9194 - accuracy: 0.3253 - val_loss: 1.9017 - val_accuracy: 0.3322\n",
            "Epoch 5/10\n",
            "88/88 [==============================] - 0s 6ms/step - loss: 1.8771 - accuracy: 0.3394 - val_loss: 1.8895 - val_accuracy: 0.3280\n",
            "Epoch 6/10\n",
            "88/88 [==============================] - 0s 5ms/step - loss: 1.8485 - accuracy: 0.3472 - val_loss: 1.8507 - val_accuracy: 0.3404\n",
            "Epoch 7/10\n",
            "88/88 [==============================] - 0s 6ms/step - loss: 1.8195 - accuracy: 0.3580 - val_loss: 1.8581 - val_accuracy: 0.3364\n",
            "Epoch 8/10\n",
            "88/88 [==============================] - 0s 6ms/step - loss: 1.7993 - accuracy: 0.3662 - val_loss: 1.8149 - val_accuracy: 0.3550\n",
            "Epoch 9/10\n",
            "88/88 [==============================] - 0s 6ms/step - loss: 1.7815 - accuracy: 0.3734 - val_loss: 1.7926 - val_accuracy: 0.3648\n",
            "Epoch 10/10\n",
            "88/88 [==============================] - 0s 6ms/step - loss: 1.7698 - accuracy: 0.3786 - val_loss: 1.7748 - val_accuracy: 0.3672\n"
          ]
        },
        {
          "output_type": "stream",
          "name": "stderr",
          "text": [
            "\u001b[32m[I 2022-10-19 23:28:10,715]\u001b[0m Trial 4 finished with value: 0.36719998717308044 and parameters: {'batch_size': 512}. Best is trial 2 with value: 0.41280001401901245.\u001b[0m\n"
          ]
        },
        {
          "output_type": "stream",
          "name": "stdout",
          "text": [
            "Epoch 1/10\n",
            "1407/1407 [==============================] - 5s 3ms/step - loss: 1.9258 - accuracy: 0.3051 - val_loss: 1.8832 - val_accuracy: 0.3058\n",
            "Epoch 2/10\n",
            "1407/1407 [==============================] - 4s 3ms/step - loss: 1.7470 - accuracy: 0.3789 - val_loss: 1.8354 - val_accuracy: 0.3348\n",
            "Epoch 3/10\n",
            "1407/1407 [==============================] - 4s 3ms/step - loss: 1.6702 - accuracy: 0.4065 - val_loss: 1.7765 - val_accuracy: 0.3694\n",
            "Epoch 4/10\n",
            "1407/1407 [==============================] - 4s 3ms/step - loss: 1.6195 - accuracy: 0.4247 - val_loss: 1.6529 - val_accuracy: 0.4096\n",
            "Epoch 5/10\n",
            "1407/1407 [==============================] - 5s 3ms/step - loss: 1.5777 - accuracy: 0.4401 - val_loss: 1.6287 - val_accuracy: 0.4208\n",
            "Epoch 6/10\n",
            "1407/1407 [==============================] - 4s 3ms/step - loss: 1.5422 - accuracy: 0.4522 - val_loss: 1.5836 - val_accuracy: 0.4514\n",
            "Epoch 7/10\n",
            "1407/1407 [==============================] - 5s 3ms/step - loss: 1.5148 - accuracy: 0.4625 - val_loss: 1.6712 - val_accuracy: 0.4174\n",
            "Epoch 8/10\n",
            "1407/1407 [==============================] - 4s 3ms/step - loss: 1.4894 - accuracy: 0.4752 - val_loss: 1.5350 - val_accuracy: 0.4594\n",
            "Epoch 9/10\n",
            "1407/1407 [==============================] - 5s 3ms/step - loss: 1.4665 - accuracy: 0.4812 - val_loss: 1.5327 - val_accuracy: 0.4528\n",
            "Epoch 10/10\n",
            "1407/1407 [==============================] - 5s 3ms/step - loss: 1.4476 - accuracy: 0.4858 - val_loss: 1.5178 - val_accuracy: 0.4672\n"
          ]
        },
        {
          "output_type": "stream",
          "name": "stderr",
          "text": [
            "\u001b[32m[I 2022-10-19 23:28:55,598]\u001b[0m Trial 5 finished with value: 0.46720001101493835 and parameters: {'batch_size': 32}. Best is trial 5 with value: 0.46720001101493835.\u001b[0m\n"
          ]
        },
        {
          "output_type": "stream",
          "name": "stdout",
          "text": [
            "Epoch 1/10\n",
            "1/1 [==============================] - 2s 2s/step - loss: 2.4025 - accuracy: 0.0774 - val_loss: 2.3552 - val_accuracy: 0.0760\n",
            "Epoch 2/10\n",
            "1/1 [==============================] - 0s 310ms/step - loss: 2.3600 - accuracy: 0.0784 - val_loss: 2.3412 - val_accuracy: 0.0838\n",
            "Epoch 3/10\n",
            "1/1 [==============================] - 0s 303ms/step - loss: 2.3453 - accuracy: 0.0846 - val_loss: 2.3294 - val_accuracy: 0.0934\n",
            "Epoch 4/10\n",
            "1/1 [==============================] - 0s 321ms/step - loss: 2.3332 - accuracy: 0.0926 - val_loss: 2.3190 - val_accuracy: 0.1028\n",
            "Epoch 5/10\n",
            "1/1 [==============================] - 0s 312ms/step - loss: 2.3226 - accuracy: 0.1012 - val_loss: 2.3097 - val_accuracy: 0.1152\n",
            "Epoch 6/10\n",
            "1/1 [==============================] - 0s 312ms/step - loss: 2.3131 - accuracy: 0.1104 - val_loss: 2.3012 - val_accuracy: 0.1272\n",
            "Epoch 7/10\n",
            "1/1 [==============================] - 0s 336ms/step - loss: 2.3044 - accuracy: 0.1192 - val_loss: 2.2936 - val_accuracy: 0.1356\n",
            "Epoch 8/10\n",
            "1/1 [==============================] - 0s 328ms/step - loss: 2.2967 - accuracy: 0.1294 - val_loss: 2.2867 - val_accuracy: 0.1440\n",
            "Epoch 9/10\n",
            "1/1 [==============================] - 0s 240ms/step - loss: 2.2897 - accuracy: 0.1376 - val_loss: 2.2803 - val_accuracy: 0.1472\n",
            "Epoch 10/10\n",
            "1/1 [==============================] - 0s 247ms/step - loss: 2.2831 - accuracy: 0.1434 - val_loss: 2.2742 - val_accuracy: 0.1530\n"
          ]
        },
        {
          "output_type": "stream",
          "name": "stderr",
          "text": [
            "\u001b[32m[I 2022-10-19 23:29:00,888]\u001b[0m Trial 6 finished with value: 0.15299999713897705 and parameters: {'batch_size': 50000}. Best is trial 5 with value: 0.46720001101493835.\u001b[0m\n"
          ]
        }
      ],
      "source": [
        "search_space = {\"batch_size\": [32, 64, 128, 256, 512, 1084, 50000]}\n",
        "study = optuna.create_study(direction='maximize',\n",
        "                            sampler=optuna.samplers.GridSampler(search_space)\n",
        ")\n",
        "study.optimize(objective, n_trials=7)"
      ]
    },
    {
      "cell_type": "code",
      "execution_count": null,
      "metadata": {
        "id": "PuWn5dN0S1L2",
        "colab": {
          "base_uri": "https://localhost:8080/",
          "height": 542
        },
        "outputId": "e9b9837d-2ca8-438b-c8c9-0b295cfcbcc7"
      },
      "outputs": [
        {
          "output_type": "display_data",
          "data": {
            "text/html": [
              "<html>\n",
              "<head><meta charset=\"utf-8\" /></head>\n",
              "<body>\n",
              "    <div>            <script src=\"https://cdnjs.cloudflare.com/ajax/libs/mathjax/2.7.5/MathJax.js?config=TeX-AMS-MML_SVG\"></script><script type=\"text/javascript\">if (window.MathJax) {MathJax.Hub.Config({SVG: {font: \"STIX-Web\"}});}</script>                <script type=\"text/javascript\">window.PlotlyConfig = {MathJaxConfig: 'local'};</script>\n",
              "        <script src=\"https://cdn.plot.ly/plotly-2.8.3.min.js\"></script>                <div id=\"cdc70c99-e349-4201-baed-5d051182396a\" class=\"plotly-graph-div\" style=\"height:525px; width:100%;\"></div>            <script type=\"text/javascript\">                                    window.PLOTLYENV=window.PLOTLYENV || {};                                    if (document.getElementById(\"cdc70c99-e349-4201-baed-5d051182396a\")) {                    Plotly.newPlot(                        \"cdc70c99-e349-4201-baed-5d051182396a\",                        [{\"mode\":\"markers\",\"name\":\"Objective Value\",\"x\":[0,1,2,3,4,5,6],\"y\":[0.40639999508857727,0.3246000111103058,0.41280001401901245,0.4004000127315521,0.36719998717308044,0.46720001101493835,0.15299999713897705],\"type\":\"scatter\"},{\"name\":\"Best Value\",\"x\":[0,1,2,3,4,5,6],\"y\":[0.40639999508857727,0.40639999508857727,0.41280001401901245,0.41280001401901245,0.41280001401901245,0.46720001101493835,0.46720001101493835],\"type\":\"scatter\"}],                        {\"title\":{\"text\":\"Optimization History Plot\"},\"xaxis\":{\"title\":{\"text\":\"Trial\"}},\"yaxis\":{\"title\":{\"text\":\"Objective Value\"}},\"template\":{\"data\":{\"bar\":[{\"error_x\":{\"color\":\"#2a3f5f\"},\"error_y\":{\"color\":\"#2a3f5f\"},\"marker\":{\"line\":{\"color\":\"#E5ECF6\",\"width\":0.5},\"pattern\":{\"fillmode\":\"overlay\",\"size\":10,\"solidity\":0.2}},\"type\":\"bar\"}],\"barpolar\":[{\"marker\":{\"line\":{\"color\":\"#E5ECF6\",\"width\":0.5},\"pattern\":{\"fillmode\":\"overlay\",\"size\":10,\"solidity\":0.2}},\"type\":\"barpolar\"}],\"carpet\":[{\"aaxis\":{\"endlinecolor\":\"#2a3f5f\",\"gridcolor\":\"white\",\"linecolor\":\"white\",\"minorgridcolor\":\"white\",\"startlinecolor\":\"#2a3f5f\"},\"baxis\":{\"endlinecolor\":\"#2a3f5f\",\"gridcolor\":\"white\",\"linecolor\":\"white\",\"minorgridcolor\":\"white\",\"startlinecolor\":\"#2a3f5f\"},\"type\":\"carpet\"}],\"choropleth\":[{\"colorbar\":{\"outlinewidth\":0,\"ticks\":\"\"},\"type\":\"choropleth\"}],\"contour\":[{\"colorbar\":{\"outlinewidth\":0,\"ticks\":\"\"},\"colorscale\":[[0.0,\"#0d0887\"],[0.1111111111111111,\"#46039f\"],[0.2222222222222222,\"#7201a8\"],[0.3333333333333333,\"#9c179e\"],[0.4444444444444444,\"#bd3786\"],[0.5555555555555556,\"#d8576b\"],[0.6666666666666666,\"#ed7953\"],[0.7777777777777778,\"#fb9f3a\"],[0.8888888888888888,\"#fdca26\"],[1.0,\"#f0f921\"]],\"type\":\"contour\"}],\"contourcarpet\":[{\"colorbar\":{\"outlinewidth\":0,\"ticks\":\"\"},\"type\":\"contourcarpet\"}],\"heatmap\":[{\"colorbar\":{\"outlinewidth\":0,\"ticks\":\"\"},\"colorscale\":[[0.0,\"#0d0887\"],[0.1111111111111111,\"#46039f\"],[0.2222222222222222,\"#7201a8\"],[0.3333333333333333,\"#9c179e\"],[0.4444444444444444,\"#bd3786\"],[0.5555555555555556,\"#d8576b\"],[0.6666666666666666,\"#ed7953\"],[0.7777777777777778,\"#fb9f3a\"],[0.8888888888888888,\"#fdca26\"],[1.0,\"#f0f921\"]],\"type\":\"heatmap\"}],\"heatmapgl\":[{\"colorbar\":{\"outlinewidth\":0,\"ticks\":\"\"},\"colorscale\":[[0.0,\"#0d0887\"],[0.1111111111111111,\"#46039f\"],[0.2222222222222222,\"#7201a8\"],[0.3333333333333333,\"#9c179e\"],[0.4444444444444444,\"#bd3786\"],[0.5555555555555556,\"#d8576b\"],[0.6666666666666666,\"#ed7953\"],[0.7777777777777778,\"#fb9f3a\"],[0.8888888888888888,\"#fdca26\"],[1.0,\"#f0f921\"]],\"type\":\"heatmapgl\"}],\"histogram\":[{\"marker\":{\"pattern\":{\"fillmode\":\"overlay\",\"size\":10,\"solidity\":0.2}},\"type\":\"histogram\"}],\"histogram2d\":[{\"colorbar\":{\"outlinewidth\":0,\"ticks\":\"\"},\"colorscale\":[[0.0,\"#0d0887\"],[0.1111111111111111,\"#46039f\"],[0.2222222222222222,\"#7201a8\"],[0.3333333333333333,\"#9c179e\"],[0.4444444444444444,\"#bd3786\"],[0.5555555555555556,\"#d8576b\"],[0.6666666666666666,\"#ed7953\"],[0.7777777777777778,\"#fb9f3a\"],[0.8888888888888888,\"#fdca26\"],[1.0,\"#f0f921\"]],\"type\":\"histogram2d\"}],\"histogram2dcontour\":[{\"colorbar\":{\"outlinewidth\":0,\"ticks\":\"\"},\"colorscale\":[[0.0,\"#0d0887\"],[0.1111111111111111,\"#46039f\"],[0.2222222222222222,\"#7201a8\"],[0.3333333333333333,\"#9c179e\"],[0.4444444444444444,\"#bd3786\"],[0.5555555555555556,\"#d8576b\"],[0.6666666666666666,\"#ed7953\"],[0.7777777777777778,\"#fb9f3a\"],[0.8888888888888888,\"#fdca26\"],[1.0,\"#f0f921\"]],\"type\":\"histogram2dcontour\"}],\"mesh3d\":[{\"colorbar\":{\"outlinewidth\":0,\"ticks\":\"\"},\"type\":\"mesh3d\"}],\"parcoords\":[{\"line\":{\"colorbar\":{\"outlinewidth\":0,\"ticks\":\"\"}},\"type\":\"parcoords\"}],\"pie\":[{\"automargin\":true,\"type\":\"pie\"}],\"scatter\":[{\"marker\":{\"colorbar\":{\"outlinewidth\":0,\"ticks\":\"\"}},\"type\":\"scatter\"}],\"scatter3d\":[{\"line\":{\"colorbar\":{\"outlinewidth\":0,\"ticks\":\"\"}},\"marker\":{\"colorbar\":{\"outlinewidth\":0,\"ticks\":\"\"}},\"type\":\"scatter3d\"}],\"scattercarpet\":[{\"marker\":{\"colorbar\":{\"outlinewidth\":0,\"ticks\":\"\"}},\"type\":\"scattercarpet\"}],\"scattergeo\":[{\"marker\":{\"colorbar\":{\"outlinewidth\":0,\"ticks\":\"\"}},\"type\":\"scattergeo\"}],\"scattergl\":[{\"marker\":{\"colorbar\":{\"outlinewidth\":0,\"ticks\":\"\"}},\"type\":\"scattergl\"}],\"scattermapbox\":[{\"marker\":{\"colorbar\":{\"outlinewidth\":0,\"ticks\":\"\"}},\"type\":\"scattermapbox\"}],\"scatterpolar\":[{\"marker\":{\"colorbar\":{\"outlinewidth\":0,\"ticks\":\"\"}},\"type\":\"scatterpolar\"}],\"scatterpolargl\":[{\"marker\":{\"colorbar\":{\"outlinewidth\":0,\"ticks\":\"\"}},\"type\":\"scatterpolargl\"}],\"scatterternary\":[{\"marker\":{\"colorbar\":{\"outlinewidth\":0,\"ticks\":\"\"}},\"type\":\"scatterternary\"}],\"surface\":[{\"colorbar\":{\"outlinewidth\":0,\"ticks\":\"\"},\"colorscale\":[[0.0,\"#0d0887\"],[0.1111111111111111,\"#46039f\"],[0.2222222222222222,\"#7201a8\"],[0.3333333333333333,\"#9c179e\"],[0.4444444444444444,\"#bd3786\"],[0.5555555555555556,\"#d8576b\"],[0.6666666666666666,\"#ed7953\"],[0.7777777777777778,\"#fb9f3a\"],[0.8888888888888888,\"#fdca26\"],[1.0,\"#f0f921\"]],\"type\":\"surface\"}],\"table\":[{\"cells\":{\"fill\":{\"color\":\"#EBF0F8\"},\"line\":{\"color\":\"white\"}},\"header\":{\"fill\":{\"color\":\"#C8D4E3\"},\"line\":{\"color\":\"white\"}},\"type\":\"table\"}]},\"layout\":{\"annotationdefaults\":{\"arrowcolor\":\"#2a3f5f\",\"arrowhead\":0,\"arrowwidth\":1},\"autotypenumbers\":\"strict\",\"coloraxis\":{\"colorbar\":{\"outlinewidth\":0,\"ticks\":\"\"}},\"colorscale\":{\"diverging\":[[0,\"#8e0152\"],[0.1,\"#c51b7d\"],[0.2,\"#de77ae\"],[0.3,\"#f1b6da\"],[0.4,\"#fde0ef\"],[0.5,\"#f7f7f7\"],[0.6,\"#e6f5d0\"],[0.7,\"#b8e186\"],[0.8,\"#7fbc41\"],[0.9,\"#4d9221\"],[1,\"#276419\"]],\"sequential\":[[0.0,\"#0d0887\"],[0.1111111111111111,\"#46039f\"],[0.2222222222222222,\"#7201a8\"],[0.3333333333333333,\"#9c179e\"],[0.4444444444444444,\"#bd3786\"],[0.5555555555555556,\"#d8576b\"],[0.6666666666666666,\"#ed7953\"],[0.7777777777777778,\"#fb9f3a\"],[0.8888888888888888,\"#fdca26\"],[1.0,\"#f0f921\"]],\"sequentialminus\":[[0.0,\"#0d0887\"],[0.1111111111111111,\"#46039f\"],[0.2222222222222222,\"#7201a8\"],[0.3333333333333333,\"#9c179e\"],[0.4444444444444444,\"#bd3786\"],[0.5555555555555556,\"#d8576b\"],[0.6666666666666666,\"#ed7953\"],[0.7777777777777778,\"#fb9f3a\"],[0.8888888888888888,\"#fdca26\"],[1.0,\"#f0f921\"]]},\"colorway\":[\"#636efa\",\"#EF553B\",\"#00cc96\",\"#ab63fa\",\"#FFA15A\",\"#19d3f3\",\"#FF6692\",\"#B6E880\",\"#FF97FF\",\"#FECB52\"],\"font\":{\"color\":\"#2a3f5f\"},\"geo\":{\"bgcolor\":\"white\",\"lakecolor\":\"white\",\"landcolor\":\"#E5ECF6\",\"showlakes\":true,\"showland\":true,\"subunitcolor\":\"white\"},\"hoverlabel\":{\"align\":\"left\"},\"hovermode\":\"closest\",\"mapbox\":{\"style\":\"light\"},\"paper_bgcolor\":\"white\",\"plot_bgcolor\":\"#E5ECF6\",\"polar\":{\"angularaxis\":{\"gridcolor\":\"white\",\"linecolor\":\"white\",\"ticks\":\"\"},\"bgcolor\":\"#E5ECF6\",\"radialaxis\":{\"gridcolor\":\"white\",\"linecolor\":\"white\",\"ticks\":\"\"}},\"scene\":{\"xaxis\":{\"backgroundcolor\":\"#E5ECF6\",\"gridcolor\":\"white\",\"gridwidth\":2,\"linecolor\":\"white\",\"showbackground\":true,\"ticks\":\"\",\"zerolinecolor\":\"white\"},\"yaxis\":{\"backgroundcolor\":\"#E5ECF6\",\"gridcolor\":\"white\",\"gridwidth\":2,\"linecolor\":\"white\",\"showbackground\":true,\"ticks\":\"\",\"zerolinecolor\":\"white\"},\"zaxis\":{\"backgroundcolor\":\"#E5ECF6\",\"gridcolor\":\"white\",\"gridwidth\":2,\"linecolor\":\"white\",\"showbackground\":true,\"ticks\":\"\",\"zerolinecolor\":\"white\"}},\"shapedefaults\":{\"line\":{\"color\":\"#2a3f5f\"}},\"ternary\":{\"aaxis\":{\"gridcolor\":\"white\",\"linecolor\":\"white\",\"ticks\":\"\"},\"baxis\":{\"gridcolor\":\"white\",\"linecolor\":\"white\",\"ticks\":\"\"},\"bgcolor\":\"#E5ECF6\",\"caxis\":{\"gridcolor\":\"white\",\"linecolor\":\"white\",\"ticks\":\"\"}},\"title\":{\"x\":0.05},\"xaxis\":{\"automargin\":true,\"gridcolor\":\"white\",\"linecolor\":\"white\",\"ticks\":\"\",\"title\":{\"standoff\":15},\"zerolinecolor\":\"white\",\"zerolinewidth\":2},\"yaxis\":{\"automargin\":true,\"gridcolor\":\"white\",\"linecolor\":\"white\",\"ticks\":\"\",\"title\":{\"standoff\":15},\"zerolinecolor\":\"white\",\"zerolinewidth\":2}}}},                        {\"responsive\": true}                    ).then(function(){\n",
              "                            \n",
              "var gd = document.getElementById('cdc70c99-e349-4201-baed-5d051182396a');\n",
              "var x = new MutationObserver(function (mutations, observer) {{\n",
              "        var display = window.getComputedStyle(gd).display;\n",
              "        if (!display || display === 'none') {{\n",
              "            console.log([gd, 'removed!']);\n",
              "            Plotly.purge(gd);\n",
              "            observer.disconnect();\n",
              "        }}\n",
              "}});\n",
              "\n",
              "// Listen for the removal of the full notebook cells\n",
              "var notebookContainer = gd.closest('#notebook-container');\n",
              "if (notebookContainer) {{\n",
              "    x.observe(notebookContainer, {childList: true});\n",
              "}}\n",
              "\n",
              "// Listen for the clearing of the current output cell\n",
              "var outputEl = gd.closest('.output');\n",
              "if (outputEl) {{\n",
              "    x.observe(outputEl, {childList: true});\n",
              "}}\n",
              "\n",
              "                        })                };                            </script>        </div>\n",
              "</body>\n",
              "</html>"
            ]
          },
          "metadata": {}
        }
      ],
      "source": [
        "plot_optimization_history(study)"
      ]
    },
    {
      "cell_type": "code",
      "execution_count": null,
      "metadata": {
        "id": "IncPXX7MUGcg",
        "colab": {
          "base_uri": "https://localhost:8080/"
        },
        "outputId": "af0e870b-2126-4d4f-97d5-d8c6e23aab00"
      },
      "outputs": [
        {
          "output_type": "stream",
          "name": "stdout",
          "text": [
            "Number of finished trials: 7\n",
            "Best trial:\n",
            "  Value: 0.46720001101493835\n",
            "  Params: \n",
            "    batch_size: 32\n"
          ]
        }
      ],
      "source": [
        "print(\"Number of finished trials: {}\".format(len(study.trials)))\n",
        "print(\"Best trial:\")\n",
        "trial = study.best_trial\n",
        "print(\"  Value: {}\".format(trial.value))\n",
        "print(\"  Params: \")\n",
        "for key, value in trial.params.items():\n",
        "  print(\"    {}: {}\".format(key, value))"
      ]
    },
    {
      "cell_type": "markdown",
      "metadata": {
        "id": "D1xEe1A6UIPT"
      },
      "source": [
        "## Model result with optimised batch size\n",
        "Optimum batch size = 128\n",
        "\n",
        "Test accuracy gone from 0.419 to 0.424\n",
        "\n",
        "Should be same as baseline"
      ]
    },
    {
      "cell_type": "code",
      "execution_count": null,
      "metadata": {
        "id": "-_IS339XTDM3",
        "colab": {
          "base_uri": "https://localhost:8080/"
        },
        "outputId": "03cd48b8-8891-449c-f684-cf01667b86dc"
      },
      "outputs": [
        {
          "output_type": "stream",
          "name": "stdout",
          "text": [
            "Epoch 1/10\n",
            "1407/1407 [==============================] - 5s 3ms/step - loss: 1.9441 - accuracy: 0.2932 - val_loss: 1.8313 - val_accuracy: 0.3282\n",
            "Epoch 2/10\n",
            "1407/1407 [==============================] - 4s 3ms/step - loss: 1.7418 - accuracy: 0.3807 - val_loss: 1.8115 - val_accuracy: 0.3518\n",
            "Epoch 3/10\n",
            "1407/1407 [==============================] - 4s 3ms/step - loss: 1.6604 - accuracy: 0.4089 - val_loss: 1.7289 - val_accuracy: 0.3884\n",
            "Epoch 4/10\n",
            "1407/1407 [==============================] - 5s 3ms/step - loss: 1.6125 - accuracy: 0.4261 - val_loss: 1.8604 - val_accuracy: 0.3364\n",
            "Epoch 5/10\n",
            "1407/1407 [==============================] - 4s 3ms/step - loss: 1.5709 - accuracy: 0.4412 - val_loss: 1.6651 - val_accuracy: 0.3996\n",
            "Epoch 6/10\n",
            "1407/1407 [==============================] - 4s 3ms/step - loss: 1.5366 - accuracy: 0.4561 - val_loss: 1.8233 - val_accuracy: 0.3504\n",
            "Epoch 7/10\n",
            "1407/1407 [==============================] - 5s 3ms/step - loss: 1.5104 - accuracy: 0.4648 - val_loss: 1.6411 - val_accuracy: 0.4156\n",
            "Epoch 8/10\n",
            "1407/1407 [==============================] - 5s 3ms/step - loss: 1.4849 - accuracy: 0.4715 - val_loss: 1.7624 - val_accuracy: 0.3824\n",
            "Epoch 9/10\n",
            "1407/1407 [==============================] - 4s 3ms/step - loss: 1.4617 - accuracy: 0.4819 - val_loss: 1.5499 - val_accuracy: 0.4484\n",
            "Epoch 10/10\n",
            "1407/1407 [==============================] - 4s 3ms/step - loss: 1.4435 - accuracy: 0.4869 - val_loss: 1.6475 - val_accuracy: 0.4216\n",
            "Test loss: 1.64\n",
            "Test accuracy: 0.427\n"
          ]
        }
      ],
      "source": [
        "model = build_basic_model(128)\n",
        "batch_size = study.best_params['batch_size']\n",
        "\n",
        "model.compile(optimizer=\"sgd\",\n",
        "              loss='categorical_crossentropy',\n",
        "              metrics=['accuracy'])\n",
        "history = model.fit(x_train, y_train,\n",
        "                    batch_size=batch_size,\n",
        "                    epochs=10,\n",
        "                    verbose=True,\n",
        "                    validation_split=.1)\n",
        "loss, accuracy  = model.evaluate(x_test, y_test, verbose=False)\n",
        "print(f'Test loss: {loss:.3}')\n",
        "print(f'Test accuracy: {accuracy:.3}')"
      ]
    },
    {
      "cell_type": "markdown",
      "metadata": {
        "id": "dvJT3rReuOA9"
      },
      "source": [
        "## Tuning epoch"
      ]
    },
    {
      "cell_type": "code",
      "execution_count": null,
      "metadata": {
        "id": "4IVPgPGLaStP"
      },
      "outputs": [],
      "source": [
        "# tuning epoch, higher epoch = slower training\n",
        "def objective(trial):\n",
        "    model = build_basic_model(128)\n",
        "    epochs = trial.suggest_int('epochs', 5, 50)\n",
        "\n",
        "    model.compile(optimizer=\"sgd\",\n",
        "                  loss='categorical_crossentropy',\n",
        "                  metrics=['accuracy'])\n",
        "    history = model.fit(x_train, y_train,\n",
        "                        batch_size=128,\n",
        "                        epochs=epochs,\n",
        "                        verbose=True,\n",
        "                        validation_split=.1)\n",
        "    acc = history.history['val_accuracy'][-1]\n",
        "    return acc"
      ]
    },
    {
      "cell_type": "code",
      "execution_count": null,
      "metadata": {
        "id": "vP6FbVhRai4r",
        "colab": {
          "base_uri": "https://localhost:8080/"
        },
        "outputId": "41c8c63b-8755-496b-c0f5-20ebafdffa8b"
      },
      "outputs": [
        {
          "output_type": "stream",
          "name": "stderr",
          "text": [
            "\u001b[32m[I 2022-10-19 23:31:18,518]\u001b[0m A new study created in memory with name: no-name-b142f43c-9286-4c42-a026-a866ab4a398b\u001b[0m\n"
          ]
        },
        {
          "output_type": "stream",
          "name": "stdout",
          "text": [
            "Epoch 1/10\n",
            "352/352 [==============================] - 2s 5ms/step - loss: 2.0276 - accuracy: 0.2683 - val_loss: 1.9350 - val_accuracy: 0.3156\n",
            "Epoch 2/10\n",
            "352/352 [==============================] - 1s 4ms/step - loss: 1.8656 - accuracy: 0.3373 - val_loss: 1.8413 - val_accuracy: 0.3262\n",
            "Epoch 3/10\n",
            "352/352 [==============================] - 1s 4ms/step - loss: 1.8018 - accuracy: 0.3624 - val_loss: 1.7779 - val_accuracy: 0.3690\n",
            "Epoch 4/10\n",
            "352/352 [==============================] - 1s 4ms/step - loss: 1.7544 - accuracy: 0.3780 - val_loss: 1.8551 - val_accuracy: 0.3454\n",
            "Epoch 5/10\n",
            "352/352 [==============================] - 1s 4ms/step - loss: 1.7160 - accuracy: 0.3942 - val_loss: 1.7393 - val_accuracy: 0.3844\n",
            "Epoch 6/10\n",
            "352/352 [==============================] - 1s 4ms/step - loss: 1.6836 - accuracy: 0.4047 - val_loss: 1.7118 - val_accuracy: 0.4032\n",
            "Epoch 7/10\n",
            "352/352 [==============================] - 1s 4ms/step - loss: 1.6567 - accuracy: 0.4162 - val_loss: 1.6854 - val_accuracy: 0.3946\n",
            "Epoch 8/10\n",
            "352/352 [==============================] - 1s 4ms/step - loss: 1.6316 - accuracy: 0.4269 - val_loss: 1.6692 - val_accuracy: 0.4118\n",
            "Epoch 9/10\n",
            "352/352 [==============================] - 1s 4ms/step - loss: 1.6106 - accuracy: 0.4334 - val_loss: 1.6305 - val_accuracy: 0.4298\n",
            "Epoch 10/10\n",
            "352/352 [==============================] - 1s 4ms/step - loss: 1.5903 - accuracy: 0.4415 - val_loss: 1.6361 - val_accuracy: 0.4124\n"
          ]
        },
        {
          "output_type": "stream",
          "name": "stderr",
          "text": [
            "\u001b[32m[I 2022-10-19 23:31:40,003]\u001b[0m Trial 0 finished with value: 0.4124000072479248 and parameters: {'epochs': 10}. Best is trial 0 with value: 0.4124000072479248.\u001b[0m\n"
          ]
        },
        {
          "output_type": "stream",
          "name": "stdout",
          "text": [
            "Epoch 1/50\n",
            "352/352 [==============================] - 2s 4ms/step - loss: 2.0516 - accuracy: 0.2591 - val_loss: 1.9632 - val_accuracy: 0.2918\n",
            "Epoch 2/50\n",
            "352/352 [==============================] - 1s 4ms/step - loss: 1.8797 - accuracy: 0.3335 - val_loss: 1.9586 - val_accuracy: 0.3040\n",
            "Epoch 3/50\n",
            "352/352 [==============================] - 1s 4ms/step - loss: 1.8126 - accuracy: 0.3609 - val_loss: 1.7942 - val_accuracy: 0.3688\n",
            "Epoch 4/50\n",
            "352/352 [==============================] - 1s 4ms/step - loss: 1.7616 - accuracy: 0.3801 - val_loss: 1.7696 - val_accuracy: 0.3780\n",
            "Epoch 5/50\n",
            "352/352 [==============================] - 1s 4ms/step - loss: 1.7221 - accuracy: 0.3951 - val_loss: 1.7259 - val_accuracy: 0.3906\n",
            "Epoch 6/50\n",
            "352/352 [==============================] - 1s 4ms/step - loss: 1.6888 - accuracy: 0.4055 - val_loss: 1.7127 - val_accuracy: 0.3966\n",
            "Epoch 7/50\n",
            "352/352 [==============================] - 1s 4ms/step - loss: 1.6634 - accuracy: 0.4158 - val_loss: 1.6670 - val_accuracy: 0.4120\n",
            "Epoch 8/50\n",
            "352/352 [==============================] - 1s 4ms/step - loss: 1.6418 - accuracy: 0.4218 - val_loss: 1.6704 - val_accuracy: 0.4158\n",
            "Epoch 9/50\n",
            "352/352 [==============================] - 1s 4ms/step - loss: 1.6201 - accuracy: 0.4327 - val_loss: 1.6408 - val_accuracy: 0.4202\n",
            "Epoch 10/50\n",
            "352/352 [==============================] - 1s 4ms/step - loss: 1.6040 - accuracy: 0.4376 - val_loss: 1.6519 - val_accuracy: 0.4102\n",
            "Epoch 11/50\n",
            "352/352 [==============================] - 1s 4ms/step - loss: 1.5852 - accuracy: 0.4431 - val_loss: 1.6266 - val_accuracy: 0.4258\n",
            "Epoch 12/50\n",
            "352/352 [==============================] - 1s 4ms/step - loss: 1.5676 - accuracy: 0.4501 - val_loss: 1.6383 - val_accuracy: 0.4240\n",
            "Epoch 13/50\n",
            "352/352 [==============================] - 1s 4ms/step - loss: 1.5513 - accuracy: 0.4549 - val_loss: 1.5846 - val_accuracy: 0.4426\n",
            "Epoch 14/50\n",
            "352/352 [==============================] - 1s 4ms/step - loss: 1.5391 - accuracy: 0.4600 - val_loss: 1.5859 - val_accuracy: 0.4440\n",
            "Epoch 15/50\n",
            "352/352 [==============================] - 1s 4ms/step - loss: 1.5264 - accuracy: 0.4631 - val_loss: 1.5691 - val_accuracy: 0.4478\n",
            "Epoch 16/50\n",
            "352/352 [==============================] - 1s 3ms/step - loss: 1.5124 - accuracy: 0.4693 - val_loss: 1.5909 - val_accuracy: 0.4444\n",
            "Epoch 17/50\n",
            "352/352 [==============================] - 1s 4ms/step - loss: 1.4972 - accuracy: 0.4743 - val_loss: 1.5548 - val_accuracy: 0.4478\n",
            "Epoch 18/50\n",
            "352/352 [==============================] - 1s 4ms/step - loss: 1.4862 - accuracy: 0.4786 - val_loss: 1.5344 - val_accuracy: 0.4558\n",
            "Epoch 19/50\n",
            "352/352 [==============================] - 1s 3ms/step - loss: 1.4747 - accuracy: 0.4797 - val_loss: 1.6646 - val_accuracy: 0.4190\n",
            "Epoch 20/50\n",
            "352/352 [==============================] - 1s 4ms/step - loss: 1.4648 - accuracy: 0.4848 - val_loss: 1.5615 - val_accuracy: 0.4552\n",
            "Epoch 21/50\n",
            "352/352 [==============================] - 1s 4ms/step - loss: 1.4519 - accuracy: 0.4901 - val_loss: 1.5716 - val_accuracy: 0.4454\n",
            "Epoch 22/50\n",
            "352/352 [==============================] - 1s 4ms/step - loss: 1.4444 - accuracy: 0.4908 - val_loss: 1.5125 - val_accuracy: 0.4666\n",
            "Epoch 23/50\n",
            "352/352 [==============================] - 1s 4ms/step - loss: 1.4332 - accuracy: 0.4955 - val_loss: 1.6742 - val_accuracy: 0.4036\n",
            "Epoch 24/50\n",
            "352/352 [==============================] - 1s 4ms/step - loss: 1.4230 - accuracy: 0.4976 - val_loss: 1.5832 - val_accuracy: 0.4472\n",
            "Epoch 25/50\n",
            "352/352 [==============================] - 1s 4ms/step - loss: 1.4162 - accuracy: 0.5027 - val_loss: 1.5366 - val_accuracy: 0.4576\n",
            "Epoch 26/50\n",
            "352/352 [==============================] - 1s 3ms/step - loss: 1.4092 - accuracy: 0.5038 - val_loss: 1.4822 - val_accuracy: 0.4744\n",
            "Epoch 27/50\n",
            "352/352 [==============================] - 1s 4ms/step - loss: 1.3967 - accuracy: 0.5071 - val_loss: 1.5126 - val_accuracy: 0.4614\n",
            "Epoch 28/50\n",
            "352/352 [==============================] - 1s 4ms/step - loss: 1.3911 - accuracy: 0.5110 - val_loss: 1.4861 - val_accuracy: 0.4738\n",
            "Epoch 29/50\n",
            "352/352 [==============================] - 1s 4ms/step - loss: 1.3826 - accuracy: 0.5137 - val_loss: 1.4649 - val_accuracy: 0.4840\n",
            "Epoch 30/50\n",
            "352/352 [==============================] - 1s 3ms/step - loss: 1.3748 - accuracy: 0.5170 - val_loss: 1.4407 - val_accuracy: 0.4872\n",
            "Epoch 31/50\n",
            "352/352 [==============================] - 1s 4ms/step - loss: 1.3664 - accuracy: 0.5183 - val_loss: 1.4622 - val_accuracy: 0.4802\n",
            "Epoch 32/50\n",
            "352/352 [==============================] - 1s 3ms/step - loss: 1.3612 - accuracy: 0.5202 - val_loss: 1.4473 - val_accuracy: 0.4832\n",
            "Epoch 33/50\n",
            "352/352 [==============================] - 1s 4ms/step - loss: 1.3551 - accuracy: 0.5238 - val_loss: 1.4727 - val_accuracy: 0.4756\n",
            "Epoch 34/50\n",
            "352/352 [==============================] - 1s 4ms/step - loss: 1.3501 - accuracy: 0.5228 - val_loss: 1.4251 - val_accuracy: 0.5020\n",
            "Epoch 35/50\n",
            "352/352 [==============================] - 1s 4ms/step - loss: 1.3413 - accuracy: 0.5297 - val_loss: 1.4309 - val_accuracy: 0.4984\n",
            "Epoch 36/50\n",
            "352/352 [==============================] - 1s 3ms/step - loss: 1.3362 - accuracy: 0.5279 - val_loss: 1.4274 - val_accuracy: 0.4966\n",
            "Epoch 37/50\n",
            "352/352 [==============================] - 1s 3ms/step - loss: 1.3281 - accuracy: 0.5324 - val_loss: 1.4555 - val_accuracy: 0.4832\n",
            "Epoch 38/50\n",
            "352/352 [==============================] - 1s 3ms/step - loss: 1.3178 - accuracy: 0.5380 - val_loss: 1.5054 - val_accuracy: 0.4702\n",
            "Epoch 39/50\n",
            "352/352 [==============================] - 1s 4ms/step - loss: 1.3166 - accuracy: 0.5366 - val_loss: 1.4423 - val_accuracy: 0.5016\n",
            "Epoch 40/50\n",
            "352/352 [==============================] - 1s 4ms/step - loss: 1.3064 - accuracy: 0.5394 - val_loss: 1.4313 - val_accuracy: 0.4834\n",
            "Epoch 41/50\n",
            "352/352 [==============================] - 1s 4ms/step - loss: 1.3049 - accuracy: 0.5405 - val_loss: 1.4634 - val_accuracy: 0.4874\n",
            "Epoch 42/50\n",
            "352/352 [==============================] - 1s 3ms/step - loss: 1.2990 - accuracy: 0.5429 - val_loss: 1.4216 - val_accuracy: 0.4932\n",
            "Epoch 43/50\n",
            "352/352 [==============================] - 1s 4ms/step - loss: 1.2900 - accuracy: 0.5465 - val_loss: 1.4187 - val_accuracy: 0.4974\n",
            "Epoch 44/50\n",
            "352/352 [==============================] - 1s 4ms/step - loss: 1.2914 - accuracy: 0.5458 - val_loss: 1.4296 - val_accuracy: 0.4920\n",
            "Epoch 45/50\n",
            "352/352 [==============================] - 1s 4ms/step - loss: 1.2804 - accuracy: 0.5489 - val_loss: 1.4161 - val_accuracy: 0.5040\n",
            "Epoch 46/50\n",
            "352/352 [==============================] - 1s 4ms/step - loss: 1.2721 - accuracy: 0.5528 - val_loss: 1.5074 - val_accuracy: 0.4580\n",
            "Epoch 47/50\n",
            "352/352 [==============================] - 1s 4ms/step - loss: 1.2725 - accuracy: 0.5534 - val_loss: 1.4207 - val_accuracy: 0.5070\n",
            "Epoch 48/50\n",
            "352/352 [==============================] - 1s 3ms/step - loss: 1.2636 - accuracy: 0.5546 - val_loss: 1.4032 - val_accuracy: 0.5082\n",
            "Epoch 49/50\n",
            "352/352 [==============================] - 1s 4ms/step - loss: 1.2600 - accuracy: 0.5552 - val_loss: 1.4361 - val_accuracy: 0.4930\n",
            "Epoch 50/50\n",
            "352/352 [==============================] - 1s 4ms/step - loss: 1.2549 - accuracy: 0.5576 - val_loss: 1.4156 - val_accuracy: 0.4996\n"
          ]
        },
        {
          "output_type": "stream",
          "name": "stderr",
          "text": [
            "\u001b[32m[I 2022-10-19 23:32:44,452]\u001b[0m Trial 1 finished with value: 0.49959999322891235 and parameters: {'epochs': 50}. Best is trial 1 with value: 0.49959999322891235.\u001b[0m\n"
          ]
        },
        {
          "output_type": "stream",
          "name": "stdout",
          "text": [
            "Epoch 1/20\n",
            "352/352 [==============================] - 2s 4ms/step - loss: 2.0757 - accuracy: 0.2487 - val_loss: 1.9562 - val_accuracy: 0.2992\n",
            "Epoch 2/20\n",
            "352/352 [==============================] - 1s 4ms/step - loss: 1.8950 - accuracy: 0.3248 - val_loss: 1.8678 - val_accuracy: 0.3484\n",
            "Epoch 3/20\n",
            "352/352 [==============================] - 1s 4ms/step - loss: 1.8207 - accuracy: 0.3555 - val_loss: 1.8254 - val_accuracy: 0.3488\n",
            "Epoch 4/20\n",
            "352/352 [==============================] - 1s 4ms/step - loss: 1.7729 - accuracy: 0.3731 - val_loss: 1.7630 - val_accuracy: 0.3786\n",
            "Epoch 5/20\n",
            "352/352 [==============================] - 1s 4ms/step - loss: 1.7381 - accuracy: 0.3874 - val_loss: 1.7410 - val_accuracy: 0.3774\n",
            "Epoch 6/20\n",
            "352/352 [==============================] - 1s 4ms/step - loss: 1.7079 - accuracy: 0.3988 - val_loss: 1.7116 - val_accuracy: 0.4032\n",
            "Epoch 7/20\n",
            "352/352 [==============================] - 1s 4ms/step - loss: 1.6854 - accuracy: 0.4069 - val_loss: 1.7185 - val_accuracy: 0.3892\n",
            "Epoch 8/20\n",
            "352/352 [==============================] - 1s 4ms/step - loss: 1.6611 - accuracy: 0.4167 - val_loss: 1.7175 - val_accuracy: 0.3854\n",
            "Epoch 9/20\n",
            "352/352 [==============================] - 1s 4ms/step - loss: 1.6396 - accuracy: 0.4244 - val_loss: 1.6559 - val_accuracy: 0.4164\n",
            "Epoch 10/20\n",
            "352/352 [==============================] - 1s 4ms/step - loss: 1.6208 - accuracy: 0.4298 - val_loss: 1.7320 - val_accuracy: 0.3946\n",
            "Epoch 11/20\n",
            "352/352 [==============================] - 1s 4ms/step - loss: 1.6060 - accuracy: 0.4349 - val_loss: 1.6335 - val_accuracy: 0.4272\n",
            "Epoch 12/20\n",
            "352/352 [==============================] - 1s 4ms/step - loss: 1.5882 - accuracy: 0.4415 - val_loss: 1.6570 - val_accuracy: 0.4140\n",
            "Epoch 13/20\n",
            "352/352 [==============================] - 1s 4ms/step - loss: 1.5768 - accuracy: 0.4467 - val_loss: 1.6144 - val_accuracy: 0.4322\n",
            "Epoch 14/20\n",
            "352/352 [==============================] - 1s 3ms/step - loss: 1.5586 - accuracy: 0.4524 - val_loss: 1.6059 - val_accuracy: 0.4350\n",
            "Epoch 15/20\n",
            "352/352 [==============================] - 1s 4ms/step - loss: 1.5448 - accuracy: 0.4572 - val_loss: 1.6269 - val_accuracy: 0.4216\n",
            "Epoch 16/20\n",
            "352/352 [==============================] - 1s 4ms/step - loss: 1.5362 - accuracy: 0.4609 - val_loss: 1.5660 - val_accuracy: 0.4472\n",
            "Epoch 17/20\n",
            "352/352 [==============================] - 1s 4ms/step - loss: 1.5221 - accuracy: 0.4667 - val_loss: 1.5505 - val_accuracy: 0.4502\n",
            "Epoch 18/20\n",
            "352/352 [==============================] - 1s 4ms/step - loss: 1.5089 - accuracy: 0.4704 - val_loss: 1.6511 - val_accuracy: 0.4074\n",
            "Epoch 19/20\n",
            "352/352 [==============================] - 1s 3ms/step - loss: 1.4970 - accuracy: 0.4730 - val_loss: 1.5491 - val_accuracy: 0.4556\n",
            "Epoch 20/20\n",
            "352/352 [==============================] - 1s 4ms/step - loss: 1.4831 - accuracy: 0.4774 - val_loss: 1.5513 - val_accuracy: 0.4546\n"
          ]
        },
        {
          "output_type": "stream",
          "name": "stderr",
          "text": [
            "\u001b[32m[I 2022-10-19 23:33:11,154]\u001b[0m Trial 2 finished with value: 0.4546000063419342 and parameters: {'epochs': 20}. Best is trial 1 with value: 0.49959999322891235.\u001b[0m\n"
          ]
        },
        {
          "output_type": "stream",
          "name": "stdout",
          "text": [
            "Epoch 1/5\n",
            "352/352 [==============================] - 2s 4ms/step - loss: 2.0191 - accuracy: 0.2735 - val_loss: 1.9407 - val_accuracy: 0.2942\n",
            "Epoch 2/5\n",
            "352/352 [==============================] - 1s 3ms/step - loss: 1.8604 - accuracy: 0.3418 - val_loss: 1.8583 - val_accuracy: 0.3272\n",
            "Epoch 3/5\n",
            "352/352 [==============================] - 1s 4ms/step - loss: 1.7978 - accuracy: 0.3670 - val_loss: 1.8228 - val_accuracy: 0.3576\n",
            "Epoch 4/5\n",
            "352/352 [==============================] - 1s 4ms/step - loss: 1.7520 - accuracy: 0.3871 - val_loss: 1.7519 - val_accuracy: 0.3868\n",
            "Epoch 5/5\n",
            "352/352 [==============================] - 1s 4ms/step - loss: 1.7118 - accuracy: 0.4015 - val_loss: 1.7586 - val_accuracy: 0.3754\n"
          ]
        },
        {
          "output_type": "stream",
          "name": "stderr",
          "text": [
            "\u001b[32m[I 2022-10-19 23:33:18,414]\u001b[0m Trial 3 finished with value: 0.37540000677108765 and parameters: {'epochs': 5}. Best is trial 1 with value: 0.49959999322891235.\u001b[0m\n"
          ]
        }
      ],
      "source": [
        "search_space = {\"epochs\": [5, 10, 20, 50]}\n",
        "study = optuna.create_study(direction='maximize',\n",
        "                            sampler=optuna.samplers.GridSampler(search_space)\n",
        ")\n",
        "study.optimize(objective, n_trials=4)"
      ]
    },
    {
      "cell_type": "code",
      "execution_count": null,
      "metadata": {
        "id": "9NDGHNrvcjzj",
        "colab": {
          "base_uri": "https://localhost:8080/",
          "height": 542
        },
        "outputId": "113a3989-4311-4175-8543-6772c4ebb927"
      },
      "outputs": [
        {
          "output_type": "display_data",
          "data": {
            "text/html": [
              "<html>\n",
              "<head><meta charset=\"utf-8\" /></head>\n",
              "<body>\n",
              "    <div>            <script src=\"https://cdnjs.cloudflare.com/ajax/libs/mathjax/2.7.5/MathJax.js?config=TeX-AMS-MML_SVG\"></script><script type=\"text/javascript\">if (window.MathJax) {MathJax.Hub.Config({SVG: {font: \"STIX-Web\"}});}</script>                <script type=\"text/javascript\">window.PlotlyConfig = {MathJaxConfig: 'local'};</script>\n",
              "        <script src=\"https://cdn.plot.ly/plotly-2.8.3.min.js\"></script>                <div id=\"a93b77b1-95fa-45b4-be9c-6dadc655205e\" class=\"plotly-graph-div\" style=\"height:525px; width:100%;\"></div>            <script type=\"text/javascript\">                                    window.PLOTLYENV=window.PLOTLYENV || {};                                    if (document.getElementById(\"a93b77b1-95fa-45b4-be9c-6dadc655205e\")) {                    Plotly.newPlot(                        \"a93b77b1-95fa-45b4-be9c-6dadc655205e\",                        [{\"mode\":\"markers\",\"name\":\"Objective Value\",\"x\":[0,1,2,3],\"y\":[0.4124000072479248,0.49959999322891235,0.4546000063419342,0.37540000677108765],\"type\":\"scatter\"},{\"name\":\"Best Value\",\"x\":[0,1,2,3],\"y\":[0.4124000072479248,0.49959999322891235,0.49959999322891235,0.49959999322891235],\"type\":\"scatter\"}],                        {\"title\":{\"text\":\"Optimization History Plot\"},\"xaxis\":{\"title\":{\"text\":\"Trial\"}},\"yaxis\":{\"title\":{\"text\":\"Objective Value\"}},\"template\":{\"data\":{\"bar\":[{\"error_x\":{\"color\":\"#2a3f5f\"},\"error_y\":{\"color\":\"#2a3f5f\"},\"marker\":{\"line\":{\"color\":\"#E5ECF6\",\"width\":0.5},\"pattern\":{\"fillmode\":\"overlay\",\"size\":10,\"solidity\":0.2}},\"type\":\"bar\"}],\"barpolar\":[{\"marker\":{\"line\":{\"color\":\"#E5ECF6\",\"width\":0.5},\"pattern\":{\"fillmode\":\"overlay\",\"size\":10,\"solidity\":0.2}},\"type\":\"barpolar\"}],\"carpet\":[{\"aaxis\":{\"endlinecolor\":\"#2a3f5f\",\"gridcolor\":\"white\",\"linecolor\":\"white\",\"minorgridcolor\":\"white\",\"startlinecolor\":\"#2a3f5f\"},\"baxis\":{\"endlinecolor\":\"#2a3f5f\",\"gridcolor\":\"white\",\"linecolor\":\"white\",\"minorgridcolor\":\"white\",\"startlinecolor\":\"#2a3f5f\"},\"type\":\"carpet\"}],\"choropleth\":[{\"colorbar\":{\"outlinewidth\":0,\"ticks\":\"\"},\"type\":\"choropleth\"}],\"contour\":[{\"colorbar\":{\"outlinewidth\":0,\"ticks\":\"\"},\"colorscale\":[[0.0,\"#0d0887\"],[0.1111111111111111,\"#46039f\"],[0.2222222222222222,\"#7201a8\"],[0.3333333333333333,\"#9c179e\"],[0.4444444444444444,\"#bd3786\"],[0.5555555555555556,\"#d8576b\"],[0.6666666666666666,\"#ed7953\"],[0.7777777777777778,\"#fb9f3a\"],[0.8888888888888888,\"#fdca26\"],[1.0,\"#f0f921\"]],\"type\":\"contour\"}],\"contourcarpet\":[{\"colorbar\":{\"outlinewidth\":0,\"ticks\":\"\"},\"type\":\"contourcarpet\"}],\"heatmap\":[{\"colorbar\":{\"outlinewidth\":0,\"ticks\":\"\"},\"colorscale\":[[0.0,\"#0d0887\"],[0.1111111111111111,\"#46039f\"],[0.2222222222222222,\"#7201a8\"],[0.3333333333333333,\"#9c179e\"],[0.4444444444444444,\"#bd3786\"],[0.5555555555555556,\"#d8576b\"],[0.6666666666666666,\"#ed7953\"],[0.7777777777777778,\"#fb9f3a\"],[0.8888888888888888,\"#fdca26\"],[1.0,\"#f0f921\"]],\"type\":\"heatmap\"}],\"heatmapgl\":[{\"colorbar\":{\"outlinewidth\":0,\"ticks\":\"\"},\"colorscale\":[[0.0,\"#0d0887\"],[0.1111111111111111,\"#46039f\"],[0.2222222222222222,\"#7201a8\"],[0.3333333333333333,\"#9c179e\"],[0.4444444444444444,\"#bd3786\"],[0.5555555555555556,\"#d8576b\"],[0.6666666666666666,\"#ed7953\"],[0.7777777777777778,\"#fb9f3a\"],[0.8888888888888888,\"#fdca26\"],[1.0,\"#f0f921\"]],\"type\":\"heatmapgl\"}],\"histogram\":[{\"marker\":{\"pattern\":{\"fillmode\":\"overlay\",\"size\":10,\"solidity\":0.2}},\"type\":\"histogram\"}],\"histogram2d\":[{\"colorbar\":{\"outlinewidth\":0,\"ticks\":\"\"},\"colorscale\":[[0.0,\"#0d0887\"],[0.1111111111111111,\"#46039f\"],[0.2222222222222222,\"#7201a8\"],[0.3333333333333333,\"#9c179e\"],[0.4444444444444444,\"#bd3786\"],[0.5555555555555556,\"#d8576b\"],[0.6666666666666666,\"#ed7953\"],[0.7777777777777778,\"#fb9f3a\"],[0.8888888888888888,\"#fdca26\"],[1.0,\"#f0f921\"]],\"type\":\"histogram2d\"}],\"histogram2dcontour\":[{\"colorbar\":{\"outlinewidth\":0,\"ticks\":\"\"},\"colorscale\":[[0.0,\"#0d0887\"],[0.1111111111111111,\"#46039f\"],[0.2222222222222222,\"#7201a8\"],[0.3333333333333333,\"#9c179e\"],[0.4444444444444444,\"#bd3786\"],[0.5555555555555556,\"#d8576b\"],[0.6666666666666666,\"#ed7953\"],[0.7777777777777778,\"#fb9f3a\"],[0.8888888888888888,\"#fdca26\"],[1.0,\"#f0f921\"]],\"type\":\"histogram2dcontour\"}],\"mesh3d\":[{\"colorbar\":{\"outlinewidth\":0,\"ticks\":\"\"},\"type\":\"mesh3d\"}],\"parcoords\":[{\"line\":{\"colorbar\":{\"outlinewidth\":0,\"ticks\":\"\"}},\"type\":\"parcoords\"}],\"pie\":[{\"automargin\":true,\"type\":\"pie\"}],\"scatter\":[{\"marker\":{\"colorbar\":{\"outlinewidth\":0,\"ticks\":\"\"}},\"type\":\"scatter\"}],\"scatter3d\":[{\"line\":{\"colorbar\":{\"outlinewidth\":0,\"ticks\":\"\"}},\"marker\":{\"colorbar\":{\"outlinewidth\":0,\"ticks\":\"\"}},\"type\":\"scatter3d\"}],\"scattercarpet\":[{\"marker\":{\"colorbar\":{\"outlinewidth\":0,\"ticks\":\"\"}},\"type\":\"scattercarpet\"}],\"scattergeo\":[{\"marker\":{\"colorbar\":{\"outlinewidth\":0,\"ticks\":\"\"}},\"type\":\"scattergeo\"}],\"scattergl\":[{\"marker\":{\"colorbar\":{\"outlinewidth\":0,\"ticks\":\"\"}},\"type\":\"scattergl\"}],\"scattermapbox\":[{\"marker\":{\"colorbar\":{\"outlinewidth\":0,\"ticks\":\"\"}},\"type\":\"scattermapbox\"}],\"scatterpolar\":[{\"marker\":{\"colorbar\":{\"outlinewidth\":0,\"ticks\":\"\"}},\"type\":\"scatterpolar\"}],\"scatterpolargl\":[{\"marker\":{\"colorbar\":{\"outlinewidth\":0,\"ticks\":\"\"}},\"type\":\"scatterpolargl\"}],\"scatterternary\":[{\"marker\":{\"colorbar\":{\"outlinewidth\":0,\"ticks\":\"\"}},\"type\":\"scatterternary\"}],\"surface\":[{\"colorbar\":{\"outlinewidth\":0,\"ticks\":\"\"},\"colorscale\":[[0.0,\"#0d0887\"],[0.1111111111111111,\"#46039f\"],[0.2222222222222222,\"#7201a8\"],[0.3333333333333333,\"#9c179e\"],[0.4444444444444444,\"#bd3786\"],[0.5555555555555556,\"#d8576b\"],[0.6666666666666666,\"#ed7953\"],[0.7777777777777778,\"#fb9f3a\"],[0.8888888888888888,\"#fdca26\"],[1.0,\"#f0f921\"]],\"type\":\"surface\"}],\"table\":[{\"cells\":{\"fill\":{\"color\":\"#EBF0F8\"},\"line\":{\"color\":\"white\"}},\"header\":{\"fill\":{\"color\":\"#C8D4E3\"},\"line\":{\"color\":\"white\"}},\"type\":\"table\"}]},\"layout\":{\"annotationdefaults\":{\"arrowcolor\":\"#2a3f5f\",\"arrowhead\":0,\"arrowwidth\":1},\"autotypenumbers\":\"strict\",\"coloraxis\":{\"colorbar\":{\"outlinewidth\":0,\"ticks\":\"\"}},\"colorscale\":{\"diverging\":[[0,\"#8e0152\"],[0.1,\"#c51b7d\"],[0.2,\"#de77ae\"],[0.3,\"#f1b6da\"],[0.4,\"#fde0ef\"],[0.5,\"#f7f7f7\"],[0.6,\"#e6f5d0\"],[0.7,\"#b8e186\"],[0.8,\"#7fbc41\"],[0.9,\"#4d9221\"],[1,\"#276419\"]],\"sequential\":[[0.0,\"#0d0887\"],[0.1111111111111111,\"#46039f\"],[0.2222222222222222,\"#7201a8\"],[0.3333333333333333,\"#9c179e\"],[0.4444444444444444,\"#bd3786\"],[0.5555555555555556,\"#d8576b\"],[0.6666666666666666,\"#ed7953\"],[0.7777777777777778,\"#fb9f3a\"],[0.8888888888888888,\"#fdca26\"],[1.0,\"#f0f921\"]],\"sequentialminus\":[[0.0,\"#0d0887\"],[0.1111111111111111,\"#46039f\"],[0.2222222222222222,\"#7201a8\"],[0.3333333333333333,\"#9c179e\"],[0.4444444444444444,\"#bd3786\"],[0.5555555555555556,\"#d8576b\"],[0.6666666666666666,\"#ed7953\"],[0.7777777777777778,\"#fb9f3a\"],[0.8888888888888888,\"#fdca26\"],[1.0,\"#f0f921\"]]},\"colorway\":[\"#636efa\",\"#EF553B\",\"#00cc96\",\"#ab63fa\",\"#FFA15A\",\"#19d3f3\",\"#FF6692\",\"#B6E880\",\"#FF97FF\",\"#FECB52\"],\"font\":{\"color\":\"#2a3f5f\"},\"geo\":{\"bgcolor\":\"white\",\"lakecolor\":\"white\",\"landcolor\":\"#E5ECF6\",\"showlakes\":true,\"showland\":true,\"subunitcolor\":\"white\"},\"hoverlabel\":{\"align\":\"left\"},\"hovermode\":\"closest\",\"mapbox\":{\"style\":\"light\"},\"paper_bgcolor\":\"white\",\"plot_bgcolor\":\"#E5ECF6\",\"polar\":{\"angularaxis\":{\"gridcolor\":\"white\",\"linecolor\":\"white\",\"ticks\":\"\"},\"bgcolor\":\"#E5ECF6\",\"radialaxis\":{\"gridcolor\":\"white\",\"linecolor\":\"white\",\"ticks\":\"\"}},\"scene\":{\"xaxis\":{\"backgroundcolor\":\"#E5ECF6\",\"gridcolor\":\"white\",\"gridwidth\":2,\"linecolor\":\"white\",\"showbackground\":true,\"ticks\":\"\",\"zerolinecolor\":\"white\"},\"yaxis\":{\"backgroundcolor\":\"#E5ECF6\",\"gridcolor\":\"white\",\"gridwidth\":2,\"linecolor\":\"white\",\"showbackground\":true,\"ticks\":\"\",\"zerolinecolor\":\"white\"},\"zaxis\":{\"backgroundcolor\":\"#E5ECF6\",\"gridcolor\":\"white\",\"gridwidth\":2,\"linecolor\":\"white\",\"showbackground\":true,\"ticks\":\"\",\"zerolinecolor\":\"white\"}},\"shapedefaults\":{\"line\":{\"color\":\"#2a3f5f\"}},\"ternary\":{\"aaxis\":{\"gridcolor\":\"white\",\"linecolor\":\"white\",\"ticks\":\"\"},\"baxis\":{\"gridcolor\":\"white\",\"linecolor\":\"white\",\"ticks\":\"\"},\"bgcolor\":\"#E5ECF6\",\"caxis\":{\"gridcolor\":\"white\",\"linecolor\":\"white\",\"ticks\":\"\"}},\"title\":{\"x\":0.05},\"xaxis\":{\"automargin\":true,\"gridcolor\":\"white\",\"linecolor\":\"white\",\"ticks\":\"\",\"title\":{\"standoff\":15},\"zerolinecolor\":\"white\",\"zerolinewidth\":2},\"yaxis\":{\"automargin\":true,\"gridcolor\":\"white\",\"linecolor\":\"white\",\"ticks\":\"\",\"title\":{\"standoff\":15},\"zerolinecolor\":\"white\",\"zerolinewidth\":2}}}},                        {\"responsive\": true}                    ).then(function(){\n",
              "                            \n",
              "var gd = document.getElementById('a93b77b1-95fa-45b4-be9c-6dadc655205e');\n",
              "var x = new MutationObserver(function (mutations, observer) {{\n",
              "        var display = window.getComputedStyle(gd).display;\n",
              "        if (!display || display === 'none') {{\n",
              "            console.log([gd, 'removed!']);\n",
              "            Plotly.purge(gd);\n",
              "            observer.disconnect();\n",
              "        }}\n",
              "}});\n",
              "\n",
              "// Listen for the removal of the full notebook cells\n",
              "var notebookContainer = gd.closest('#notebook-container');\n",
              "if (notebookContainer) {{\n",
              "    x.observe(notebookContainer, {childList: true});\n",
              "}}\n",
              "\n",
              "// Listen for the clearing of the current output cell\n",
              "var outputEl = gd.closest('.output');\n",
              "if (outputEl) {{\n",
              "    x.observe(outputEl, {childList: true});\n",
              "}}\n",
              "\n",
              "                        })                };                            </script>        </div>\n",
              "</body>\n",
              "</html>"
            ]
          },
          "metadata": {}
        }
      ],
      "source": [
        "plot_optimization_history(study)"
      ]
    },
    {
      "cell_type": "code",
      "execution_count": null,
      "metadata": {
        "id": "_8OSHNkRcnTa",
        "colab": {
          "base_uri": "https://localhost:8080/"
        },
        "outputId": "f1f5bcce-3fbd-4120-e184-5b42c6f6238c"
      },
      "outputs": [
        {
          "output_type": "stream",
          "name": "stdout",
          "text": [
            "Number of finished trials: 4\n",
            "Best trial:\n",
            "  Value: 0.49959999322891235\n",
            "  Params: \n",
            "    epochs: 50\n"
          ]
        }
      ],
      "source": [
        "print(\"Number of finished trials: {}\".format(len(study.trials)))\n",
        "print(\"Best trial:\")\n",
        "trial = study.best_trial\n",
        "print(\"  Value: {}\".format(trial.value))\n",
        "print(\"  Params: \")\n",
        "for key, value in trial.params.items():\n",
        "  print(\"    {}: {}\".format(key, value))"
      ]
    },
    {
      "cell_type": "markdown",
      "metadata": {
        "id": "D6zBdZsFfa49"
      },
      "source": [
        "## Model result with optimised epoch\n",
        "Optimum epoch is the highest = 50\n",
        "\n",
        "Test accuracy gone from 0.419 to 0.476"
      ]
    },
    {
      "cell_type": "code",
      "execution_count": null,
      "metadata": {
        "id": "Q9vSgpdvfih2",
        "colab": {
          "base_uri": "https://localhost:8080/"
        },
        "outputId": "081f98b8-4ece-48f0-c1db-2adbb900fde9"
      },
      "outputs": [
        {
          "output_type": "stream",
          "name": "stdout",
          "text": [
            "Epoch 1/50\n",
            "352/352 [==============================] - 2s 4ms/step - loss: 2.0652 - accuracy: 0.2540 - val_loss: 1.9521 - val_accuracy: 0.2978\n",
            "Epoch 2/50\n",
            "352/352 [==============================] - 1s 4ms/step - loss: 1.8688 - accuracy: 0.3316 - val_loss: 1.8721 - val_accuracy: 0.3192\n",
            "Epoch 3/50\n",
            "352/352 [==============================] - 1s 4ms/step - loss: 1.7975 - accuracy: 0.3618 - val_loss: 1.7920 - val_accuracy: 0.3672\n",
            "Epoch 4/50\n",
            "352/352 [==============================] - 1s 4ms/step - loss: 1.7539 - accuracy: 0.3828 - val_loss: 1.7945 - val_accuracy: 0.3742\n",
            "Epoch 5/50\n",
            "352/352 [==============================] - 1s 3ms/step - loss: 1.7185 - accuracy: 0.3943 - val_loss: 1.8206 - val_accuracy: 0.3646\n",
            "Epoch 6/50\n",
            "352/352 [==============================] - 1s 3ms/step - loss: 1.6910 - accuracy: 0.4032 - val_loss: 1.7095 - val_accuracy: 0.3918\n",
            "Epoch 7/50\n",
            "352/352 [==============================] - 1s 4ms/step - loss: 1.6654 - accuracy: 0.4146 - val_loss: 1.6856 - val_accuracy: 0.4052\n",
            "Epoch 8/50\n",
            "352/352 [==============================] - 1s 4ms/step - loss: 1.6470 - accuracy: 0.4198 - val_loss: 1.6576 - val_accuracy: 0.4166\n",
            "Epoch 9/50\n",
            "352/352 [==============================] - 1s 4ms/step - loss: 1.6262 - accuracy: 0.4280 - val_loss: 1.6481 - val_accuracy: 0.4142\n",
            "Epoch 10/50\n",
            "352/352 [==============================] - 1s 4ms/step - loss: 1.6088 - accuracy: 0.4349 - val_loss: 1.6843 - val_accuracy: 0.3996\n",
            "Epoch 11/50\n",
            "352/352 [==============================] - 1s 4ms/step - loss: 1.5923 - accuracy: 0.4382 - val_loss: 1.6587 - val_accuracy: 0.4052\n",
            "Epoch 12/50\n",
            "352/352 [==============================] - 1s 4ms/step - loss: 1.5756 - accuracy: 0.4446 - val_loss: 1.6132 - val_accuracy: 0.4288\n",
            "Epoch 13/50\n",
            "352/352 [==============================] - 1s 4ms/step - loss: 1.5636 - accuracy: 0.4505 - val_loss: 1.6309 - val_accuracy: 0.4180\n",
            "Epoch 14/50\n",
            "352/352 [==============================] - 1s 4ms/step - loss: 1.5479 - accuracy: 0.4562 - val_loss: 1.5773 - val_accuracy: 0.4410\n",
            "Epoch 15/50\n",
            "352/352 [==============================] - 1s 4ms/step - loss: 1.5339 - accuracy: 0.4632 - val_loss: 1.7421 - val_accuracy: 0.3766\n",
            "Epoch 16/50\n",
            "352/352 [==============================] - 1s 4ms/step - loss: 1.5239 - accuracy: 0.4649 - val_loss: 1.5580 - val_accuracy: 0.4484\n",
            "Epoch 17/50\n",
            "352/352 [==============================] - 1s 3ms/step - loss: 1.5084 - accuracy: 0.4697 - val_loss: 1.5445 - val_accuracy: 0.4558\n",
            "Epoch 18/50\n",
            "352/352 [==============================] - 1s 3ms/step - loss: 1.4968 - accuracy: 0.4741 - val_loss: 1.5479 - val_accuracy: 0.4526\n",
            "Epoch 19/50\n",
            "352/352 [==============================] - 1s 3ms/step - loss: 1.4897 - accuracy: 0.4741 - val_loss: 1.5408 - val_accuracy: 0.4600\n",
            "Epoch 20/50\n",
            "352/352 [==============================] - 1s 3ms/step - loss: 1.4764 - accuracy: 0.4816 - val_loss: 1.6417 - val_accuracy: 0.4322\n",
            "Epoch 21/50\n",
            "352/352 [==============================] - 1s 3ms/step - loss: 1.4708 - accuracy: 0.4842 - val_loss: 1.5071 - val_accuracy: 0.4632\n",
            "Epoch 22/50\n",
            "352/352 [==============================] - 1s 4ms/step - loss: 1.4627 - accuracy: 0.4876 - val_loss: 1.5880 - val_accuracy: 0.4388\n",
            "Epoch 23/50\n",
            "352/352 [==============================] - 1s 4ms/step - loss: 1.4497 - accuracy: 0.4890 - val_loss: 1.5088 - val_accuracy: 0.4638\n",
            "Epoch 24/50\n",
            "352/352 [==============================] - 1s 3ms/step - loss: 1.4399 - accuracy: 0.4938 - val_loss: 1.5511 - val_accuracy: 0.4584\n",
            "Epoch 25/50\n",
            "352/352 [==============================] - 1s 3ms/step - loss: 1.4316 - accuracy: 0.4970 - val_loss: 1.5769 - val_accuracy: 0.4400\n",
            "Epoch 26/50\n",
            "352/352 [==============================] - 1s 4ms/step - loss: 1.4233 - accuracy: 0.4996 - val_loss: 1.4978 - val_accuracy: 0.4660\n",
            "Epoch 27/50\n",
            "352/352 [==============================] - 1s 4ms/step - loss: 1.4146 - accuracy: 0.5012 - val_loss: 1.4684 - val_accuracy: 0.4830\n",
            "Epoch 28/50\n",
            "352/352 [==============================] - 1s 3ms/step - loss: 1.4047 - accuracy: 0.5055 - val_loss: 1.5045 - val_accuracy: 0.4582\n",
            "Epoch 29/50\n",
            "352/352 [==============================] - 1s 4ms/step - loss: 1.3970 - accuracy: 0.5066 - val_loss: 1.4832 - val_accuracy: 0.4752\n",
            "Epoch 30/50\n",
            "352/352 [==============================] - 1s 3ms/step - loss: 1.3935 - accuracy: 0.5112 - val_loss: 1.4851 - val_accuracy: 0.4728\n",
            "Epoch 31/50\n",
            "352/352 [==============================] - 1s 3ms/step - loss: 1.3819 - accuracy: 0.5132 - val_loss: 1.5039 - val_accuracy: 0.4626\n",
            "Epoch 32/50\n",
            "352/352 [==============================] - 1s 3ms/step - loss: 1.3754 - accuracy: 0.5166 - val_loss: 1.4830 - val_accuracy: 0.4744\n",
            "Epoch 33/50\n",
            "352/352 [==============================] - 1s 3ms/step - loss: 1.3708 - accuracy: 0.5169 - val_loss: 1.5837 - val_accuracy: 0.4344\n",
            "Epoch 34/50\n",
            "352/352 [==============================] - 1s 3ms/step - loss: 1.3607 - accuracy: 0.5204 - val_loss: 1.4518 - val_accuracy: 0.4860\n",
            "Epoch 35/50\n",
            "352/352 [==============================] - 1s 3ms/step - loss: 1.3583 - accuracy: 0.5234 - val_loss: 1.5418 - val_accuracy: 0.4558\n",
            "Epoch 36/50\n",
            "352/352 [==============================] - 1s 4ms/step - loss: 1.3512 - accuracy: 0.5248 - val_loss: 1.5942 - val_accuracy: 0.4450\n",
            "Epoch 37/50\n",
            "352/352 [==============================] - 1s 3ms/step - loss: 1.3456 - accuracy: 0.5274 - val_loss: 1.4806 - val_accuracy: 0.4746\n",
            "Epoch 38/50\n",
            "352/352 [==============================] - 1s 3ms/step - loss: 1.3381 - accuracy: 0.5283 - val_loss: 1.4887 - val_accuracy: 0.4706\n",
            "Epoch 39/50\n",
            "352/352 [==============================] - 1s 3ms/step - loss: 1.3301 - accuracy: 0.5336 - val_loss: 1.4548 - val_accuracy: 0.4814\n",
            "Epoch 40/50\n",
            "352/352 [==============================] - 1s 4ms/step - loss: 1.3245 - accuracy: 0.5342 - val_loss: 1.4116 - val_accuracy: 0.5054\n",
            "Epoch 41/50\n",
            "352/352 [==============================] - 1s 4ms/step - loss: 1.3190 - accuracy: 0.5361 - val_loss: 1.4353 - val_accuracy: 0.4906\n",
            "Epoch 42/50\n",
            "352/352 [==============================] - 1s 3ms/step - loss: 1.3125 - accuracy: 0.5373 - val_loss: 1.4538 - val_accuracy: 0.4830\n",
            "Epoch 43/50\n",
            "352/352 [==============================] - 1s 4ms/step - loss: 1.3074 - accuracy: 0.5382 - val_loss: 1.4148 - val_accuracy: 0.5040\n",
            "Epoch 44/50\n",
            "352/352 [==============================] - 1s 4ms/step - loss: 1.2994 - accuracy: 0.5427 - val_loss: 1.4490 - val_accuracy: 0.4836\n",
            "Epoch 45/50\n",
            "352/352 [==============================] - 1s 4ms/step - loss: 1.2989 - accuracy: 0.5434 - val_loss: 1.4165 - val_accuracy: 0.4992\n",
            "Epoch 46/50\n",
            "352/352 [==============================] - 1s 3ms/step - loss: 1.2878 - accuracy: 0.5450 - val_loss: 1.4492 - val_accuracy: 0.4914\n",
            "Epoch 47/50\n",
            "352/352 [==============================] - 1s 3ms/step - loss: 1.2889 - accuracy: 0.5470 - val_loss: 1.5154 - val_accuracy: 0.4590\n",
            "Epoch 48/50\n",
            "352/352 [==============================] - 1s 4ms/step - loss: 1.2754 - accuracy: 0.5506 - val_loss: 1.4739 - val_accuracy: 0.4804\n",
            "Epoch 49/50\n",
            "352/352 [==============================] - 1s 3ms/step - loss: 1.2745 - accuracy: 0.5525 - val_loss: 1.4281 - val_accuracy: 0.4954\n",
            "Epoch 50/50\n",
            "352/352 [==============================] - 1s 4ms/step - loss: 1.2666 - accuracy: 0.5534 - val_loss: 1.4172 - val_accuracy: 0.5028\n",
            "Test loss: 1.43\n",
            "Test accuracy: 0.495\n"
          ]
        }
      ],
      "source": [
        "model = build_basic_model(128)\n",
        "epochs = study.best_params['epochs']\n",
        "\n",
        "model.compile(optimizer=\"sgd\",\n",
        "              loss='categorical_crossentropy',\n",
        "              metrics=['accuracy'])\n",
        "history = model.fit(x_train, y_train,\n",
        "                    batch_size=128,\n",
        "                    epochs=epochs,\n",
        "                    verbose=True,\n",
        "                    validation_split=.1)\n",
        "loss, accuracy  = model.evaluate(x_test, y_test, verbose=False)\n",
        "print(f'Test loss: {loss:.3}')\n",
        "print(f'Test accuracy: {accuracy:.3}')"
      ]
    },
    {
      "cell_type": "markdown",
      "metadata": {
        "id": "WsPOmGXSh45G"
      },
      "source": [
        "## Tuning momentum"
      ]
    },
    {
      "cell_type": "code",
      "execution_count": null,
      "metadata": {
        "id": "q0pJH9mnh-Fa"
      },
      "outputs": [],
      "source": [
        "# momentum\n",
        "def objective(trial):\n",
        "    model = build_basic_model(128)\n",
        "    momentum = trial.suggest_float(\"momentum\", 0.0, 1.0)\n",
        "\n",
        "    model.compile(tf.keras.optimizers.SGD(momentum=momentum),\n",
        "                  loss='categorical_crossentropy',\n",
        "                  metrics=['accuracy'])\n",
        "    history = model.fit(x_train, y_train,\n",
        "                        batch_size=128,\n",
        "                        epochs=10,\n",
        "                        verbose=True,\n",
        "                        validation_split=.1)\n",
        "    acc = history.history['val_accuracy'][-1]\n",
        "    return acc"
      ]
    },
    {
      "cell_type": "code",
      "execution_count": null,
      "metadata": {
        "id": "uBqQzFTCjpYh",
        "colab": {
          "base_uri": "https://localhost:8080/"
        },
        "outputId": "a8f0375f-d62f-4302-e89b-990a4be4e0e0"
      },
      "outputs": [
        {
          "output_type": "stream",
          "name": "stderr",
          "text": [
            "\u001b[32m[I 2022-10-19 23:38:42,070]\u001b[0m A new study created in memory with name: no-name-e206ed94-8d17-4631-bbb1-9876114c5e47\u001b[0m\n"
          ]
        },
        {
          "output_type": "stream",
          "name": "stdout",
          "text": [
            "Epoch 1/10\n",
            "352/352 [==============================] - 3s 4ms/step - loss: 2.0232 - accuracy: 0.2700 - val_loss: 1.9119 - val_accuracy: 0.3268\n",
            "Epoch 2/10\n",
            "352/352 [==============================] - 1s 4ms/step - loss: 1.8422 - accuracy: 0.3477 - val_loss: 1.8183 - val_accuracy: 0.3588\n",
            "Epoch 3/10\n",
            "352/352 [==============================] - 1s 4ms/step - loss: 1.7694 - accuracy: 0.3795 - val_loss: 1.8006 - val_accuracy: 0.3552\n",
            "Epoch 4/10\n",
            "352/352 [==============================] - 1s 4ms/step - loss: 1.7143 - accuracy: 0.3995 - val_loss: 1.7125 - val_accuracy: 0.4038\n",
            "Epoch 5/10\n",
            "352/352 [==============================] - 1s 4ms/step - loss: 1.6674 - accuracy: 0.4119 - val_loss: 1.7031 - val_accuracy: 0.3954\n",
            "Epoch 6/10\n",
            "352/352 [==============================] - 1s 4ms/step - loss: 1.6324 - accuracy: 0.4251 - val_loss: 1.6669 - val_accuracy: 0.4086\n",
            "Epoch 7/10\n",
            "352/352 [==============================] - 1s 4ms/step - loss: 1.6014 - accuracy: 0.4345 - val_loss: 1.6035 - val_accuracy: 0.4328\n",
            "Epoch 8/10\n",
            "352/352 [==============================] - 1s 4ms/step - loss: 1.5768 - accuracy: 0.4446 - val_loss: 1.6415 - val_accuracy: 0.4290\n",
            "Epoch 9/10\n",
            "352/352 [==============================] - 1s 4ms/step - loss: 1.5538 - accuracy: 0.4529 - val_loss: 1.5972 - val_accuracy: 0.4436\n",
            "Epoch 10/10\n",
            "352/352 [==============================] - 1s 4ms/step - loss: 1.5343 - accuracy: 0.4568 - val_loss: 1.6017 - val_accuracy: 0.4426\n"
          ]
        },
        {
          "output_type": "stream",
          "name": "stderr",
          "text": [
            "\u001b[32m[I 2022-10-19 23:38:57,619]\u001b[0m Trial 0 finished with value: 0.4426000118255615 and parameters: {'momentum': 0.3745401188473625}. Best is trial 0 with value: 0.4426000118255615.\u001b[0m\n"
          ]
        },
        {
          "output_type": "stream",
          "name": "stdout",
          "text": [
            "Epoch 1/10\n",
            "352/352 [==============================] - 2s 4ms/step - loss: 1.9368 - accuracy: 0.2953 - val_loss: 1.8279 - val_accuracy: 0.3366\n",
            "Epoch 2/10\n",
            "352/352 [==============================] - 1s 4ms/step - loss: 1.7578 - accuracy: 0.3662 - val_loss: 1.6950 - val_accuracy: 0.3948\n",
            "Epoch 3/10\n",
            "352/352 [==============================] - 1s 4ms/step - loss: 1.6810 - accuracy: 0.3982 - val_loss: 1.6663 - val_accuracy: 0.4030\n",
            "Epoch 4/10\n",
            "352/352 [==============================] - 1s 4ms/step - loss: 1.6297 - accuracy: 0.4156 - val_loss: 1.6294 - val_accuracy: 0.4242\n",
            "Epoch 5/10\n",
            "352/352 [==============================] - 1s 4ms/step - loss: 1.5920 - accuracy: 0.4304 - val_loss: 1.6532 - val_accuracy: 0.4142\n",
            "Epoch 6/10\n",
            "352/352 [==============================] - 2s 6ms/step - loss: 1.5660 - accuracy: 0.4373 - val_loss: 1.5889 - val_accuracy: 0.4268\n",
            "Epoch 7/10\n",
            "352/352 [==============================] - 2s 5ms/step - loss: 1.5365 - accuracy: 0.4453 - val_loss: 1.5725 - val_accuracy: 0.4456\n",
            "Epoch 8/10\n",
            "352/352 [==============================] - 1s 4ms/step - loss: 1.5325 - accuracy: 0.4493 - val_loss: 1.5677 - val_accuracy: 0.4464\n",
            "Epoch 9/10\n",
            "352/352 [==============================] - 1s 4ms/step - loss: 1.5019 - accuracy: 0.4604 - val_loss: 1.5847 - val_accuracy: 0.4402\n",
            "Epoch 10/10\n",
            "352/352 [==============================] - 1s 4ms/step - loss: 1.4870 - accuracy: 0.4683 - val_loss: 1.5369 - val_accuracy: 0.4536\n"
          ]
        },
        {
          "output_type": "stream",
          "name": "stderr",
          "text": [
            "\u001b[32m[I 2022-10-19 23:39:13,215]\u001b[0m Trial 1 finished with value: 0.4535999894142151 and parameters: {'momentum': 0.9507143064099162}. Best is trial 1 with value: 0.4535999894142151.\u001b[0m\n"
          ]
        },
        {
          "output_type": "stream",
          "name": "stdout",
          "text": [
            "Epoch 1/10\n",
            "352/352 [==============================] - 2s 4ms/step - loss: 1.9703 - accuracy: 0.2902 - val_loss: 1.8598 - val_accuracy: 0.3280\n",
            "Epoch 2/10\n",
            "352/352 [==============================] - 1s 4ms/step - loss: 1.7654 - accuracy: 0.3728 - val_loss: 1.7379 - val_accuracy: 0.3804\n",
            "Epoch 3/10\n",
            "352/352 [==============================] - 1s 4ms/step - loss: 1.6869 - accuracy: 0.4034 - val_loss: 1.6573 - val_accuracy: 0.4118\n",
            "Epoch 4/10\n",
            "352/352 [==============================] - 1s 4ms/step - loss: 1.6328 - accuracy: 0.4226 - val_loss: 1.7225 - val_accuracy: 0.3974\n",
            "Epoch 5/10\n",
            "352/352 [==============================] - 1s 4ms/step - loss: 1.5885 - accuracy: 0.4386 - val_loss: 1.6404 - val_accuracy: 0.4212\n",
            "Epoch 6/10\n",
            "352/352 [==============================] - 1s 4ms/step - loss: 1.5562 - accuracy: 0.4484 - val_loss: 1.5787 - val_accuracy: 0.4482\n",
            "Epoch 7/10\n",
            "352/352 [==============================] - 1s 4ms/step - loss: 1.5298 - accuracy: 0.4570 - val_loss: 1.5771 - val_accuracy: 0.4436\n",
            "Epoch 8/10\n",
            "352/352 [==============================] - 1s 3ms/step - loss: 1.5044 - accuracy: 0.4675 - val_loss: 1.5211 - val_accuracy: 0.4636\n",
            "Epoch 9/10\n",
            "352/352 [==============================] - 1s 4ms/step - loss: 1.4828 - accuracy: 0.4748 - val_loss: 1.5185 - val_accuracy: 0.4652\n",
            "Epoch 10/10\n",
            "352/352 [==============================] - 1s 4ms/step - loss: 1.4599 - accuracy: 0.4815 - val_loss: 1.5483 - val_accuracy: 0.4492\n"
          ]
        },
        {
          "output_type": "stream",
          "name": "stderr",
          "text": [
            "\u001b[32m[I 2022-10-19 23:39:27,219]\u001b[0m Trial 2 finished with value: 0.44920000433921814 and parameters: {'momentum': 0.7319939418114051}. Best is trial 1 with value: 0.4535999894142151.\u001b[0m\n"
          ]
        },
        {
          "output_type": "stream",
          "name": "stdout",
          "text": [
            "Epoch 1/10\n",
            "352/352 [==============================] - 2s 4ms/step - loss: 1.9843 - accuracy: 0.2837 - val_loss: 1.8681 - val_accuracy: 0.3328\n",
            "Epoch 2/10\n",
            "352/352 [==============================] - 1s 4ms/step - loss: 1.7864 - accuracy: 0.3641 - val_loss: 1.7688 - val_accuracy: 0.3716\n",
            "Epoch 3/10\n",
            "352/352 [==============================] - 1s 4ms/step - loss: 1.7110 - accuracy: 0.3900 - val_loss: 1.7049 - val_accuracy: 0.4046\n",
            "Epoch 4/10\n",
            "352/352 [==============================] - 1s 4ms/step - loss: 1.6579 - accuracy: 0.4130 - val_loss: 1.6763 - val_accuracy: 0.4026\n",
            "Epoch 5/10\n",
            "352/352 [==============================] - 1s 4ms/step - loss: 1.6204 - accuracy: 0.4241 - val_loss: 1.6133 - val_accuracy: 0.4292\n",
            "Epoch 6/10\n",
            "352/352 [==============================] - 1s 4ms/step - loss: 1.5821 - accuracy: 0.4379 - val_loss: 1.6251 - val_accuracy: 0.4238\n",
            "Epoch 7/10\n",
            "352/352 [==============================] - 1s 4ms/step - loss: 1.5552 - accuracy: 0.4473 - val_loss: 1.6006 - val_accuracy: 0.4358\n",
            "Epoch 8/10\n",
            "352/352 [==============================] - 1s 4ms/step - loss: 1.5219 - accuracy: 0.4615 - val_loss: 1.5575 - val_accuracy: 0.4456\n",
            "Epoch 9/10\n",
            "352/352 [==============================] - 1s 4ms/step - loss: 1.5053 - accuracy: 0.4682 - val_loss: 1.5227 - val_accuracy: 0.4668\n",
            "Epoch 10/10\n",
            "352/352 [==============================] - 1s 4ms/step - loss: 1.4794 - accuracy: 0.4746 - val_loss: 1.5429 - val_accuracy: 0.4506\n"
          ]
        },
        {
          "output_type": "stream",
          "name": "stderr",
          "text": [
            "\u001b[32m[I 2022-10-19 23:39:48,669]\u001b[0m Trial 3 finished with value: 0.4505999982357025 and parameters: {'momentum': 0.5986584841970366}. Best is trial 1 with value: 0.4535999894142151.\u001b[0m\n"
          ]
        },
        {
          "output_type": "stream",
          "name": "stdout",
          "text": [
            "Epoch 1/10\n",
            "352/352 [==============================] - 2s 4ms/step - loss: 2.0075 - accuracy: 0.2726 - val_loss: 1.9038 - val_accuracy: 0.3192\n",
            "Epoch 2/10\n",
            "352/352 [==============================] - 1s 4ms/step - loss: 1.8523 - accuracy: 0.3452 - val_loss: 1.8317 - val_accuracy: 0.3554\n",
            "Epoch 3/10\n",
            "352/352 [==============================] - 1s 4ms/step - loss: 1.7870 - accuracy: 0.3720 - val_loss: 1.7972 - val_accuracy: 0.3582\n",
            "Epoch 4/10\n",
            "352/352 [==============================] - 1s 4ms/step - loss: 1.7361 - accuracy: 0.3904 - val_loss: 1.7245 - val_accuracy: 0.3896\n",
            "Epoch 5/10\n",
            "352/352 [==============================] - 1s 4ms/step - loss: 1.6980 - accuracy: 0.4028 - val_loss: 1.7263 - val_accuracy: 0.3938\n",
            "Epoch 6/10\n",
            "352/352 [==============================] - 1s 4ms/step - loss: 1.6632 - accuracy: 0.4135 - val_loss: 1.6672 - val_accuracy: 0.4106\n",
            "Epoch 7/10\n",
            "352/352 [==============================] - 1s 4ms/step - loss: 1.6379 - accuracy: 0.4229 - val_loss: 1.6788 - val_accuracy: 0.4044\n",
            "Epoch 8/10\n",
            "352/352 [==============================] - 1s 3ms/step - loss: 1.6167 - accuracy: 0.4298 - val_loss: 1.7004 - val_accuracy: 0.3946\n",
            "Epoch 9/10\n",
            "352/352 [==============================] - 1s 4ms/step - loss: 1.5945 - accuracy: 0.4382 - val_loss: 1.6126 - val_accuracy: 0.4244\n",
            "Epoch 10/10\n",
            "352/352 [==============================] - 1s 4ms/step - loss: 1.5734 - accuracy: 0.4446 - val_loss: 1.5940 - val_accuracy: 0.4352\n"
          ]
        },
        {
          "output_type": "stream",
          "name": "stderr",
          "text": [
            "\u001b[32m[I 2022-10-19 23:40:02,695]\u001b[0m Trial 4 finished with value: 0.4352000057697296 and parameters: {'momentum': 0.15601864044243652}. Best is trial 1 with value: 0.4535999894142151.\u001b[0m\n"
          ]
        },
        {
          "output_type": "stream",
          "name": "stdout",
          "text": [
            "Epoch 1/10\n",
            "352/352 [==============================] - 2s 4ms/step - loss: 2.0924 - accuracy: 0.2423 - val_loss: 1.9292 - val_accuracy: 0.3106\n",
            "Epoch 2/10\n",
            "352/352 [==============================] - 1s 4ms/step - loss: 1.8668 - accuracy: 0.3394 - val_loss: 1.9141 - val_accuracy: 0.2852\n",
            "Epoch 3/10\n",
            "352/352 [==============================] - 1s 4ms/step - loss: 1.7927 - accuracy: 0.3680 - val_loss: 1.8099 - val_accuracy: 0.3606\n",
            "Epoch 4/10\n",
            "352/352 [==============================] - 1s 4ms/step - loss: 1.7437 - accuracy: 0.3846 - val_loss: 1.8273 - val_accuracy: 0.3564\n",
            "Epoch 5/10\n",
            "352/352 [==============================] - 1s 4ms/step - loss: 1.7072 - accuracy: 0.3975 - val_loss: 1.7825 - val_accuracy: 0.3640\n",
            "Epoch 6/10\n",
            "352/352 [==============================] - 1s 4ms/step - loss: 1.6746 - accuracy: 0.4063 - val_loss: 1.6880 - val_accuracy: 0.4096\n",
            "Epoch 7/10\n",
            "352/352 [==============================] - 1s 4ms/step - loss: 1.6489 - accuracy: 0.4196 - val_loss: 1.7117 - val_accuracy: 0.3862\n",
            "Epoch 8/10\n",
            "352/352 [==============================] - 1s 4ms/step - loss: 1.6232 - accuracy: 0.4265 - val_loss: 1.6718 - val_accuracy: 0.4110\n",
            "Epoch 9/10\n",
            "352/352 [==============================] - 1s 4ms/step - loss: 1.6016 - accuracy: 0.4371 - val_loss: 1.6311 - val_accuracy: 0.4320\n",
            "Epoch 10/10\n",
            "352/352 [==============================] - 1s 3ms/step - loss: 1.5827 - accuracy: 0.4426 - val_loss: 1.6054 - val_accuracy: 0.4450\n"
          ]
        },
        {
          "output_type": "stream",
          "name": "stderr",
          "text": [
            "\u001b[32m[I 2022-10-19 23:40:16,897]\u001b[0m Trial 5 finished with value: 0.4449999928474426 and parameters: {'momentum': 0.15599452033620265}. Best is trial 1 with value: 0.4535999894142151.\u001b[0m\n"
          ]
        },
        {
          "output_type": "stream",
          "name": "stdout",
          "text": [
            "Epoch 1/10\n",
            "352/352 [==============================] - 3s 5ms/step - loss: 2.0691 - accuracy: 0.2501 - val_loss: 1.9547 - val_accuracy: 0.2870\n",
            "Epoch 2/10\n",
            "352/352 [==============================] - 1s 4ms/step - loss: 1.8738 - accuracy: 0.3346 - val_loss: 1.8566 - val_accuracy: 0.3272\n",
            "Epoch 3/10\n",
            "352/352 [==============================] - 1s 4ms/step - loss: 1.8044 - accuracy: 0.3635 - val_loss: 1.8045 - val_accuracy: 0.3686\n",
            "Epoch 4/10\n",
            "352/352 [==============================] - 1s 4ms/step - loss: 1.7565 - accuracy: 0.3794 - val_loss: 1.7737 - val_accuracy: 0.3594\n",
            "Epoch 5/10\n",
            "352/352 [==============================] - 1s 3ms/step - loss: 1.7186 - accuracy: 0.3951 - val_loss: 1.7301 - val_accuracy: 0.3992\n",
            "Epoch 6/10\n",
            "352/352 [==============================] - 1s 3ms/step - loss: 1.6872 - accuracy: 0.4059 - val_loss: 1.6979 - val_accuracy: 0.4028\n",
            "Epoch 7/10\n",
            "352/352 [==============================] - 1s 4ms/step - loss: 1.6604 - accuracy: 0.4200 - val_loss: 1.6763 - val_accuracy: 0.4114\n",
            "Epoch 8/10\n",
            "352/352 [==============================] - 1s 3ms/step - loss: 1.6359 - accuracy: 0.4264 - val_loss: 1.6537 - val_accuracy: 0.4248\n",
            "Epoch 9/10\n",
            "352/352 [==============================] - 1s 3ms/step - loss: 1.6153 - accuracy: 0.4323 - val_loss: 1.6482 - val_accuracy: 0.4188\n",
            "Epoch 10/10\n",
            "352/352 [==============================] - 1s 4ms/step - loss: 1.5965 - accuracy: 0.4386 - val_loss: 1.6706 - val_accuracy: 0.4054\n"
          ]
        },
        {
          "output_type": "stream",
          "name": "stderr",
          "text": [
            "\u001b[32m[I 2022-10-19 23:40:39,062]\u001b[0m Trial 6 finished with value: 0.40540000796318054 and parameters: {'momentum': 0.05808361216819946}. Best is trial 1 with value: 0.4535999894142151.\u001b[0m\n"
          ]
        },
        {
          "output_type": "stream",
          "name": "stdout",
          "text": [
            "Epoch 1/10\n",
            "352/352 [==============================] - 2s 4ms/step - loss: 1.9075 - accuracy: 0.3097 - val_loss: 1.8024 - val_accuracy: 0.3454\n",
            "Epoch 2/10\n",
            "352/352 [==============================] - 1s 4ms/step - loss: 1.7227 - accuracy: 0.3868 - val_loss: 1.7225 - val_accuracy: 0.3834\n",
            "Epoch 3/10\n",
            "352/352 [==============================] - 1s 4ms/step - loss: 1.6537 - accuracy: 0.4105 - val_loss: 1.6344 - val_accuracy: 0.4200\n",
            "Epoch 4/10\n",
            "352/352 [==============================] - 1s 4ms/step - loss: 1.5992 - accuracy: 0.4303 - val_loss: 1.5810 - val_accuracy: 0.4410\n",
            "Epoch 5/10\n",
            "352/352 [==============================] - 1s 3ms/step - loss: 1.5584 - accuracy: 0.4455 - val_loss: 1.5839 - val_accuracy: 0.4388\n",
            "Epoch 6/10\n",
            "352/352 [==============================] - 1s 4ms/step - loss: 1.5244 - accuracy: 0.4572 - val_loss: 1.5776 - val_accuracy: 0.4464\n",
            "Epoch 7/10\n",
            "352/352 [==============================] - 1s 4ms/step - loss: 1.4996 - accuracy: 0.4659 - val_loss: 1.5003 - val_accuracy: 0.4714\n",
            "Epoch 8/10\n",
            "352/352 [==============================] - 1s 3ms/step - loss: 1.4654 - accuracy: 0.4792 - val_loss: 1.5032 - val_accuracy: 0.4638\n",
            "Epoch 9/10\n",
            "352/352 [==============================] - 1s 4ms/step - loss: 1.4554 - accuracy: 0.4800 - val_loss: 1.4723 - val_accuracy: 0.4740\n",
            "Epoch 10/10\n",
            "352/352 [==============================] - 1s 4ms/step - loss: 1.4204 - accuracy: 0.4951 - val_loss: 1.4818 - val_accuracy: 0.4770\n"
          ]
        },
        {
          "output_type": "stream",
          "name": "stderr",
          "text": [
            "\u001b[32m[I 2022-10-19 23:41:00,368]\u001b[0m Trial 7 finished with value: 0.47699999809265137 and parameters: {'momentum': 0.8661761457749352}. Best is trial 7 with value: 0.47699999809265137.\u001b[0m\n"
          ]
        },
        {
          "output_type": "stream",
          "name": "stdout",
          "text": [
            "Epoch 1/10\n",
            "352/352 [==============================] - 2s 4ms/step - loss: 1.9928 - accuracy: 0.2814 - val_loss: 1.9220 - val_accuracy: 0.2944\n",
            "Epoch 2/10\n",
            "352/352 [==============================] - 1s 4ms/step - loss: 1.8014 - accuracy: 0.3622 - val_loss: 1.8286 - val_accuracy: 0.3598\n",
            "Epoch 3/10\n",
            "352/352 [==============================] - 1s 4ms/step - loss: 1.7181 - accuracy: 0.3929 - val_loss: 1.7070 - val_accuracy: 0.3960\n",
            "Epoch 4/10\n",
            "352/352 [==============================] - 1s 4ms/step - loss: 1.6582 - accuracy: 0.4156 - val_loss: 1.6967 - val_accuracy: 0.3930\n",
            "Epoch 5/10\n",
            "352/352 [==============================] - 1s 4ms/step - loss: 1.6123 - accuracy: 0.4286 - val_loss: 1.6432 - val_accuracy: 0.4220\n",
            "Epoch 6/10\n",
            "352/352 [==============================] - 1s 4ms/step - loss: 1.5780 - accuracy: 0.4442 - val_loss: 1.6185 - val_accuracy: 0.4268\n",
            "Epoch 7/10\n",
            "352/352 [==============================] - 1s 4ms/step - loss: 1.5488 - accuracy: 0.4537 - val_loss: 1.5711 - val_accuracy: 0.4456\n",
            "Epoch 8/10\n",
            "352/352 [==============================] - 1s 4ms/step - loss: 1.5225 - accuracy: 0.4618 - val_loss: 1.6084 - val_accuracy: 0.4282\n",
            "Epoch 9/10\n",
            "352/352 [==============================] - 1s 4ms/step - loss: 1.5013 - accuracy: 0.4688 - val_loss: 1.5627 - val_accuracy: 0.4460\n",
            "Epoch 10/10\n",
            "352/352 [==============================] - 1s 4ms/step - loss: 1.4762 - accuracy: 0.4775 - val_loss: 1.5844 - val_accuracy: 0.4408\n"
          ]
        },
        {
          "output_type": "stream",
          "name": "stderr",
          "text": [
            "\u001b[32m[I 2022-10-19 23:41:21,660]\u001b[0m Trial 8 finished with value: 0.4408000111579895 and parameters: {'momentum': 0.6011150117432088}. Best is trial 7 with value: 0.47699999809265137.\u001b[0m\n"
          ]
        },
        {
          "output_type": "stream",
          "name": "stdout",
          "text": [
            "Epoch 1/10\n",
            "352/352 [==============================] - 2s 4ms/step - loss: 1.9558 - accuracy: 0.2971 - val_loss: 1.8162 - val_accuracy: 0.3572\n",
            "Epoch 2/10\n",
            "352/352 [==============================] - 1s 4ms/step - loss: 1.7525 - accuracy: 0.3751 - val_loss: 1.7249 - val_accuracy: 0.3858\n",
            "Epoch 3/10\n",
            "352/352 [==============================] - 1s 4ms/step - loss: 1.6743 - accuracy: 0.4049 - val_loss: 1.6979 - val_accuracy: 0.3986\n",
            "Epoch 4/10\n",
            "352/352 [==============================] - 1s 4ms/step - loss: 1.6246 - accuracy: 0.4228 - val_loss: 1.6268 - val_accuracy: 0.4202\n",
            "Epoch 5/10\n",
            "352/352 [==============================] - 1s 4ms/step - loss: 1.5769 - accuracy: 0.4425 - val_loss: 1.5820 - val_accuracy: 0.4366\n",
            "Epoch 6/10\n",
            "352/352 [==============================] - 1s 4ms/step - loss: 1.5394 - accuracy: 0.4550 - val_loss: 1.5759 - val_accuracy: 0.4444\n",
            "Epoch 7/10\n",
            "352/352 [==============================] - 1s 4ms/step - loss: 1.5152 - accuracy: 0.4639 - val_loss: 1.5140 - val_accuracy: 0.4668\n",
            "Epoch 8/10\n",
            "352/352 [==============================] - 1s 3ms/step - loss: 1.4857 - accuracy: 0.4728 - val_loss: 1.5249 - val_accuracy: 0.4552\n",
            "Epoch 9/10\n",
            "352/352 [==============================] - 1s 4ms/step - loss: 1.4625 - accuracy: 0.4835 - val_loss: 1.5039 - val_accuracy: 0.4686\n",
            "Epoch 10/10\n",
            "352/352 [==============================] - 1s 3ms/step - loss: 1.4424 - accuracy: 0.4883 - val_loss: 1.5163 - val_accuracy: 0.4658\n"
          ]
        },
        {
          "output_type": "stream",
          "name": "stderr",
          "text": [
            "\u001b[32m[I 2022-10-19 23:41:42,924]\u001b[0m Trial 9 finished with value: 0.4657999873161316 and parameters: {'momentum': 0.7080725777960455}. Best is trial 7 with value: 0.47699999809265137.\u001b[0m\n"
          ]
        }
      ],
      "source": [
        "study = optuna.create_study(direction='maximize',\n",
        "                            sampler=optuna.samplers.TPESampler(seed=SEED)\n",
        ")\n",
        "study.optimize(objective, n_trials=10)"
      ]
    },
    {
      "cell_type": "code",
      "execution_count": null,
      "metadata": {
        "id": "aPs4-YBWkJ6q",
        "colab": {
          "base_uri": "https://localhost:8080/",
          "height": 542
        },
        "outputId": "74eb15c7-910f-4298-c956-1c2eb5b53128"
      },
      "outputs": [
        {
          "output_type": "display_data",
          "data": {
            "text/html": [
              "<html>\n",
              "<head><meta charset=\"utf-8\" /></head>\n",
              "<body>\n",
              "    <div>            <script src=\"https://cdnjs.cloudflare.com/ajax/libs/mathjax/2.7.5/MathJax.js?config=TeX-AMS-MML_SVG\"></script><script type=\"text/javascript\">if (window.MathJax) {MathJax.Hub.Config({SVG: {font: \"STIX-Web\"}});}</script>                <script type=\"text/javascript\">window.PlotlyConfig = {MathJaxConfig: 'local'};</script>\n",
              "        <script src=\"https://cdn.plot.ly/plotly-2.8.3.min.js\"></script>                <div id=\"10b28752-d80f-4f11-a75a-94400ef21c86\" class=\"plotly-graph-div\" style=\"height:525px; width:100%;\"></div>            <script type=\"text/javascript\">                                    window.PLOTLYENV=window.PLOTLYENV || {};                                    if (document.getElementById(\"10b28752-d80f-4f11-a75a-94400ef21c86\")) {                    Plotly.newPlot(                        \"10b28752-d80f-4f11-a75a-94400ef21c86\",                        [{\"mode\":\"markers\",\"name\":\"Objective Value\",\"x\":[0,1,2,3,4,5,6,7,8,9],\"y\":[0.4426000118255615,0.4535999894142151,0.44920000433921814,0.4505999982357025,0.4352000057697296,0.4449999928474426,0.40540000796318054,0.47699999809265137,0.4408000111579895,0.4657999873161316],\"type\":\"scatter\"},{\"name\":\"Best Value\",\"x\":[0,1,2,3,4,5,6,7,8,9],\"y\":[0.4426000118255615,0.4535999894142151,0.4535999894142151,0.4535999894142151,0.4535999894142151,0.4535999894142151,0.4535999894142151,0.47699999809265137,0.47699999809265137,0.47699999809265137],\"type\":\"scatter\"}],                        {\"title\":{\"text\":\"Optimization History Plot\"},\"xaxis\":{\"title\":{\"text\":\"Trial\"}},\"yaxis\":{\"title\":{\"text\":\"Objective Value\"}},\"template\":{\"data\":{\"bar\":[{\"error_x\":{\"color\":\"#2a3f5f\"},\"error_y\":{\"color\":\"#2a3f5f\"},\"marker\":{\"line\":{\"color\":\"#E5ECF6\",\"width\":0.5},\"pattern\":{\"fillmode\":\"overlay\",\"size\":10,\"solidity\":0.2}},\"type\":\"bar\"}],\"barpolar\":[{\"marker\":{\"line\":{\"color\":\"#E5ECF6\",\"width\":0.5},\"pattern\":{\"fillmode\":\"overlay\",\"size\":10,\"solidity\":0.2}},\"type\":\"barpolar\"}],\"carpet\":[{\"aaxis\":{\"endlinecolor\":\"#2a3f5f\",\"gridcolor\":\"white\",\"linecolor\":\"white\",\"minorgridcolor\":\"white\",\"startlinecolor\":\"#2a3f5f\"},\"baxis\":{\"endlinecolor\":\"#2a3f5f\",\"gridcolor\":\"white\",\"linecolor\":\"white\",\"minorgridcolor\":\"white\",\"startlinecolor\":\"#2a3f5f\"},\"type\":\"carpet\"}],\"choropleth\":[{\"colorbar\":{\"outlinewidth\":0,\"ticks\":\"\"},\"type\":\"choropleth\"}],\"contour\":[{\"colorbar\":{\"outlinewidth\":0,\"ticks\":\"\"},\"colorscale\":[[0.0,\"#0d0887\"],[0.1111111111111111,\"#46039f\"],[0.2222222222222222,\"#7201a8\"],[0.3333333333333333,\"#9c179e\"],[0.4444444444444444,\"#bd3786\"],[0.5555555555555556,\"#d8576b\"],[0.6666666666666666,\"#ed7953\"],[0.7777777777777778,\"#fb9f3a\"],[0.8888888888888888,\"#fdca26\"],[1.0,\"#f0f921\"]],\"type\":\"contour\"}],\"contourcarpet\":[{\"colorbar\":{\"outlinewidth\":0,\"ticks\":\"\"},\"type\":\"contourcarpet\"}],\"heatmap\":[{\"colorbar\":{\"outlinewidth\":0,\"ticks\":\"\"},\"colorscale\":[[0.0,\"#0d0887\"],[0.1111111111111111,\"#46039f\"],[0.2222222222222222,\"#7201a8\"],[0.3333333333333333,\"#9c179e\"],[0.4444444444444444,\"#bd3786\"],[0.5555555555555556,\"#d8576b\"],[0.6666666666666666,\"#ed7953\"],[0.7777777777777778,\"#fb9f3a\"],[0.8888888888888888,\"#fdca26\"],[1.0,\"#f0f921\"]],\"type\":\"heatmap\"}],\"heatmapgl\":[{\"colorbar\":{\"outlinewidth\":0,\"ticks\":\"\"},\"colorscale\":[[0.0,\"#0d0887\"],[0.1111111111111111,\"#46039f\"],[0.2222222222222222,\"#7201a8\"],[0.3333333333333333,\"#9c179e\"],[0.4444444444444444,\"#bd3786\"],[0.5555555555555556,\"#d8576b\"],[0.6666666666666666,\"#ed7953\"],[0.7777777777777778,\"#fb9f3a\"],[0.8888888888888888,\"#fdca26\"],[1.0,\"#f0f921\"]],\"type\":\"heatmapgl\"}],\"histogram\":[{\"marker\":{\"pattern\":{\"fillmode\":\"overlay\",\"size\":10,\"solidity\":0.2}},\"type\":\"histogram\"}],\"histogram2d\":[{\"colorbar\":{\"outlinewidth\":0,\"ticks\":\"\"},\"colorscale\":[[0.0,\"#0d0887\"],[0.1111111111111111,\"#46039f\"],[0.2222222222222222,\"#7201a8\"],[0.3333333333333333,\"#9c179e\"],[0.4444444444444444,\"#bd3786\"],[0.5555555555555556,\"#d8576b\"],[0.6666666666666666,\"#ed7953\"],[0.7777777777777778,\"#fb9f3a\"],[0.8888888888888888,\"#fdca26\"],[1.0,\"#f0f921\"]],\"type\":\"histogram2d\"}],\"histogram2dcontour\":[{\"colorbar\":{\"outlinewidth\":0,\"ticks\":\"\"},\"colorscale\":[[0.0,\"#0d0887\"],[0.1111111111111111,\"#46039f\"],[0.2222222222222222,\"#7201a8\"],[0.3333333333333333,\"#9c179e\"],[0.4444444444444444,\"#bd3786\"],[0.5555555555555556,\"#d8576b\"],[0.6666666666666666,\"#ed7953\"],[0.7777777777777778,\"#fb9f3a\"],[0.8888888888888888,\"#fdca26\"],[1.0,\"#f0f921\"]],\"type\":\"histogram2dcontour\"}],\"mesh3d\":[{\"colorbar\":{\"outlinewidth\":0,\"ticks\":\"\"},\"type\":\"mesh3d\"}],\"parcoords\":[{\"line\":{\"colorbar\":{\"outlinewidth\":0,\"ticks\":\"\"}},\"type\":\"parcoords\"}],\"pie\":[{\"automargin\":true,\"type\":\"pie\"}],\"scatter\":[{\"marker\":{\"colorbar\":{\"outlinewidth\":0,\"ticks\":\"\"}},\"type\":\"scatter\"}],\"scatter3d\":[{\"line\":{\"colorbar\":{\"outlinewidth\":0,\"ticks\":\"\"}},\"marker\":{\"colorbar\":{\"outlinewidth\":0,\"ticks\":\"\"}},\"type\":\"scatter3d\"}],\"scattercarpet\":[{\"marker\":{\"colorbar\":{\"outlinewidth\":0,\"ticks\":\"\"}},\"type\":\"scattercarpet\"}],\"scattergeo\":[{\"marker\":{\"colorbar\":{\"outlinewidth\":0,\"ticks\":\"\"}},\"type\":\"scattergeo\"}],\"scattergl\":[{\"marker\":{\"colorbar\":{\"outlinewidth\":0,\"ticks\":\"\"}},\"type\":\"scattergl\"}],\"scattermapbox\":[{\"marker\":{\"colorbar\":{\"outlinewidth\":0,\"ticks\":\"\"}},\"type\":\"scattermapbox\"}],\"scatterpolar\":[{\"marker\":{\"colorbar\":{\"outlinewidth\":0,\"ticks\":\"\"}},\"type\":\"scatterpolar\"}],\"scatterpolargl\":[{\"marker\":{\"colorbar\":{\"outlinewidth\":0,\"ticks\":\"\"}},\"type\":\"scatterpolargl\"}],\"scatterternary\":[{\"marker\":{\"colorbar\":{\"outlinewidth\":0,\"ticks\":\"\"}},\"type\":\"scatterternary\"}],\"surface\":[{\"colorbar\":{\"outlinewidth\":0,\"ticks\":\"\"},\"colorscale\":[[0.0,\"#0d0887\"],[0.1111111111111111,\"#46039f\"],[0.2222222222222222,\"#7201a8\"],[0.3333333333333333,\"#9c179e\"],[0.4444444444444444,\"#bd3786\"],[0.5555555555555556,\"#d8576b\"],[0.6666666666666666,\"#ed7953\"],[0.7777777777777778,\"#fb9f3a\"],[0.8888888888888888,\"#fdca26\"],[1.0,\"#f0f921\"]],\"type\":\"surface\"}],\"table\":[{\"cells\":{\"fill\":{\"color\":\"#EBF0F8\"},\"line\":{\"color\":\"white\"}},\"header\":{\"fill\":{\"color\":\"#C8D4E3\"},\"line\":{\"color\":\"white\"}},\"type\":\"table\"}]},\"layout\":{\"annotationdefaults\":{\"arrowcolor\":\"#2a3f5f\",\"arrowhead\":0,\"arrowwidth\":1},\"autotypenumbers\":\"strict\",\"coloraxis\":{\"colorbar\":{\"outlinewidth\":0,\"ticks\":\"\"}},\"colorscale\":{\"diverging\":[[0,\"#8e0152\"],[0.1,\"#c51b7d\"],[0.2,\"#de77ae\"],[0.3,\"#f1b6da\"],[0.4,\"#fde0ef\"],[0.5,\"#f7f7f7\"],[0.6,\"#e6f5d0\"],[0.7,\"#b8e186\"],[0.8,\"#7fbc41\"],[0.9,\"#4d9221\"],[1,\"#276419\"]],\"sequential\":[[0.0,\"#0d0887\"],[0.1111111111111111,\"#46039f\"],[0.2222222222222222,\"#7201a8\"],[0.3333333333333333,\"#9c179e\"],[0.4444444444444444,\"#bd3786\"],[0.5555555555555556,\"#d8576b\"],[0.6666666666666666,\"#ed7953\"],[0.7777777777777778,\"#fb9f3a\"],[0.8888888888888888,\"#fdca26\"],[1.0,\"#f0f921\"]],\"sequentialminus\":[[0.0,\"#0d0887\"],[0.1111111111111111,\"#46039f\"],[0.2222222222222222,\"#7201a8\"],[0.3333333333333333,\"#9c179e\"],[0.4444444444444444,\"#bd3786\"],[0.5555555555555556,\"#d8576b\"],[0.6666666666666666,\"#ed7953\"],[0.7777777777777778,\"#fb9f3a\"],[0.8888888888888888,\"#fdca26\"],[1.0,\"#f0f921\"]]},\"colorway\":[\"#636efa\",\"#EF553B\",\"#00cc96\",\"#ab63fa\",\"#FFA15A\",\"#19d3f3\",\"#FF6692\",\"#B6E880\",\"#FF97FF\",\"#FECB52\"],\"font\":{\"color\":\"#2a3f5f\"},\"geo\":{\"bgcolor\":\"white\",\"lakecolor\":\"white\",\"landcolor\":\"#E5ECF6\",\"showlakes\":true,\"showland\":true,\"subunitcolor\":\"white\"},\"hoverlabel\":{\"align\":\"left\"},\"hovermode\":\"closest\",\"mapbox\":{\"style\":\"light\"},\"paper_bgcolor\":\"white\",\"plot_bgcolor\":\"#E5ECF6\",\"polar\":{\"angularaxis\":{\"gridcolor\":\"white\",\"linecolor\":\"white\",\"ticks\":\"\"},\"bgcolor\":\"#E5ECF6\",\"radialaxis\":{\"gridcolor\":\"white\",\"linecolor\":\"white\",\"ticks\":\"\"}},\"scene\":{\"xaxis\":{\"backgroundcolor\":\"#E5ECF6\",\"gridcolor\":\"white\",\"gridwidth\":2,\"linecolor\":\"white\",\"showbackground\":true,\"ticks\":\"\",\"zerolinecolor\":\"white\"},\"yaxis\":{\"backgroundcolor\":\"#E5ECF6\",\"gridcolor\":\"white\",\"gridwidth\":2,\"linecolor\":\"white\",\"showbackground\":true,\"ticks\":\"\",\"zerolinecolor\":\"white\"},\"zaxis\":{\"backgroundcolor\":\"#E5ECF6\",\"gridcolor\":\"white\",\"gridwidth\":2,\"linecolor\":\"white\",\"showbackground\":true,\"ticks\":\"\",\"zerolinecolor\":\"white\"}},\"shapedefaults\":{\"line\":{\"color\":\"#2a3f5f\"}},\"ternary\":{\"aaxis\":{\"gridcolor\":\"white\",\"linecolor\":\"white\",\"ticks\":\"\"},\"baxis\":{\"gridcolor\":\"white\",\"linecolor\":\"white\",\"ticks\":\"\"},\"bgcolor\":\"#E5ECF6\",\"caxis\":{\"gridcolor\":\"white\",\"linecolor\":\"white\",\"ticks\":\"\"}},\"title\":{\"x\":0.05},\"xaxis\":{\"automargin\":true,\"gridcolor\":\"white\",\"linecolor\":\"white\",\"ticks\":\"\",\"title\":{\"standoff\":15},\"zerolinecolor\":\"white\",\"zerolinewidth\":2},\"yaxis\":{\"automargin\":true,\"gridcolor\":\"white\",\"linecolor\":\"white\",\"ticks\":\"\",\"title\":{\"standoff\":15},\"zerolinecolor\":\"white\",\"zerolinewidth\":2}}}},                        {\"responsive\": true}                    ).then(function(){\n",
              "                            \n",
              "var gd = document.getElementById('10b28752-d80f-4f11-a75a-94400ef21c86');\n",
              "var x = new MutationObserver(function (mutations, observer) {{\n",
              "        var display = window.getComputedStyle(gd).display;\n",
              "        if (!display || display === 'none') {{\n",
              "            console.log([gd, 'removed!']);\n",
              "            Plotly.purge(gd);\n",
              "            observer.disconnect();\n",
              "        }}\n",
              "}});\n",
              "\n",
              "// Listen for the removal of the full notebook cells\n",
              "var notebookContainer = gd.closest('#notebook-container');\n",
              "if (notebookContainer) {{\n",
              "    x.observe(notebookContainer, {childList: true});\n",
              "}}\n",
              "\n",
              "// Listen for the clearing of the current output cell\n",
              "var outputEl = gd.closest('.output');\n",
              "if (outputEl) {{\n",
              "    x.observe(outputEl, {childList: true});\n",
              "}}\n",
              "\n",
              "                        })                };                            </script>        </div>\n",
              "</body>\n",
              "</html>"
            ]
          },
          "metadata": {}
        }
      ],
      "source": [
        "plot_optimization_history(study)"
      ]
    },
    {
      "cell_type": "code",
      "execution_count": null,
      "metadata": {
        "id": "k4Z6-R-ZkO_L",
        "colab": {
          "base_uri": "https://localhost:8080/"
        },
        "outputId": "dcca85eb-8f45-42db-f2d7-37f53a678d35"
      },
      "outputs": [
        {
          "output_type": "stream",
          "name": "stdout",
          "text": [
            "Number of finished trials: 10\n",
            "Best trial:\n",
            "  Value: 0.47699999809265137\n",
            "  Params: \n",
            "    momentum: 0.8661761457749352\n"
          ]
        }
      ],
      "source": [
        "print(\"Number of finished trials: {}\".format(len(study.trials)))\n",
        "print(\"Best trial:\")\n",
        "trial = study.best_trial\n",
        "print(\"  Value: {}\".format(trial.value))\n",
        "print(\"  Params: \")\n",
        "for key, value in trial.params.items():\n",
        "  print(\"    {}: {}\".format(key, value))"
      ]
    },
    {
      "cell_type": "markdown",
      "metadata": {
        "id": "x_asE7NikWZH"
      },
      "source": [
        "## Model result with optimised momentum\n",
        "Optimum momentum is very high = 0.87\n",
        "\n",
        "Test accuracy gone from 0.419 to 0.475"
      ]
    },
    {
      "cell_type": "code",
      "execution_count": null,
      "metadata": {
        "id": "wmsVQMkQkhtc",
        "colab": {
          "base_uri": "https://localhost:8080/"
        },
        "outputId": "77062d11-adae-45a9-d768-b82bef48a425"
      },
      "outputs": [
        {
          "output_type": "stream",
          "name": "stdout",
          "text": [
            "Epoch 1/10\n",
            "352/352 [==============================] - 2s 4ms/step - loss: 1.9399 - accuracy: 0.2967 - val_loss: 1.8100 - val_accuracy: 0.3430\n",
            "Epoch 2/10\n",
            "352/352 [==============================] - 1s 4ms/step - loss: 1.7347 - accuracy: 0.3792 - val_loss: 1.7286 - val_accuracy: 0.3824\n",
            "Epoch 3/10\n",
            "352/352 [==============================] - 1s 4ms/step - loss: 1.6538 - accuracy: 0.4103 - val_loss: 1.6867 - val_accuracy: 0.3952\n",
            "Epoch 4/10\n",
            "352/352 [==============================] - 1s 4ms/step - loss: 1.6040 - accuracy: 0.4308 - val_loss: 1.5895 - val_accuracy: 0.4364\n",
            "Epoch 5/10\n",
            "352/352 [==============================] - 1s 4ms/step - loss: 1.5694 - accuracy: 0.4418 - val_loss: 1.5594 - val_accuracy: 0.4478\n",
            "Epoch 6/10\n",
            "352/352 [==============================] - 1s 3ms/step - loss: 1.5287 - accuracy: 0.4573 - val_loss: 1.5264 - val_accuracy: 0.4590\n",
            "Epoch 7/10\n",
            "352/352 [==============================] - 1s 4ms/step - loss: 1.5127 - accuracy: 0.4592 - val_loss: 1.5153 - val_accuracy: 0.4594\n",
            "Epoch 8/10\n",
            "352/352 [==============================] - 1s 3ms/step - loss: 1.4862 - accuracy: 0.4705 - val_loss: 1.5182 - val_accuracy: 0.4556\n",
            "Epoch 9/10\n",
            "352/352 [==============================] - 1s 3ms/step - loss: 1.4594 - accuracy: 0.4791 - val_loss: 1.4719 - val_accuracy: 0.4796\n",
            "Epoch 10/10\n",
            "352/352 [==============================] - 1s 4ms/step - loss: 1.4378 - accuracy: 0.4874 - val_loss: 1.4781 - val_accuracy: 0.4856\n",
            "Test loss: 1.48\n",
            "Test accuracy: 0.481\n"
          ]
        }
      ],
      "source": [
        "model = build_basic_model(128)\n",
        "momentum = study.best_params['momentum']\n",
        "\n",
        "model.compile(tf.keras.optimizers.SGD(momentum=momentum),\n",
        "              loss='categorical_crossentropy',\n",
        "              metrics=['accuracy'])\n",
        "history = model.fit(x_train, y_train,\n",
        "                    batch_size=128,\n",
        "                    epochs=10,\n",
        "                    verbose=True,\n",
        "                    validation_split=.1)\n",
        "loss, accuracy  = model.evaluate(x_test, y_test, verbose=False)\n",
        "print(f'Test loss: {loss:.3}')\n",
        "print(f'Test accuracy: {accuracy:.3}')"
      ]
    },
    {
      "cell_type": "markdown",
      "metadata": {
        "id": "ivXksULxN_0k"
      },
      "source": [
        "## Tuning optimiser function"
      ]
    },
    {
      "cell_type": "code",
      "execution_count": null,
      "metadata": {
        "id": "aIrIa1-CCtsr"
      },
      "outputs": [],
      "source": [
        "# optimiser\n",
        "def objective(trial):\n",
        "    model = build_basic_model(128)\n",
        "    optimizer = trial.suggest_categorical(\"optimizer\", [\"sgd\", \"adam\", \"adamax\", \"nadam\", \"rmsprop\", \"ftrl\", \"adadelta\", \"adagrad\"])\n",
        "\n",
        "    model.compile(optimizer=optimizer,\n",
        "                  loss='categorical_crossentropy',\n",
        "                  metrics=['accuracy'])\n",
        "    history = model.fit(x_train, y_train,\n",
        "                        batch_size=128,\n",
        "                        epochs=10,\n",
        "                        verbose=True,\n",
        "                        validation_split=.1)\n",
        "    acc = history.history['val_accuracy'][-1]\n",
        "    return acc"
      ]
    },
    {
      "cell_type": "code",
      "execution_count": null,
      "metadata": {
        "id": "UY4gfxuHDmts",
        "colab": {
          "base_uri": "https://localhost:8080/"
        },
        "outputId": "d5ef40d8-01af-4a36-82c0-eb4d3e825e80"
      },
      "outputs": [
        {
          "output_type": "stream",
          "name": "stderr",
          "text": [
            "\u001b[32m[I 2022-10-19 23:42:37,258]\u001b[0m A new study created in memory with name: no-name-6e7312d8-dd4e-4848-825d-20e6da15b4d2\u001b[0m\n"
          ]
        },
        {
          "output_type": "stream",
          "name": "stdout",
          "text": [
            "<optuna.study.study.Study object at 0x7f45dca27790>\n",
            "Epoch 1/10\n",
            "352/352 [==============================] - 2s 4ms/step - loss: 2.2939 - accuracy: 0.1453 - val_loss: 2.2719 - val_accuracy: 0.1786\n",
            "Epoch 2/10\n",
            "352/352 [==============================] - 1s 4ms/step - loss: 2.2607 - accuracy: 0.1732 - val_loss: 2.2482 - val_accuracy: 0.1902\n",
            "Epoch 3/10\n",
            "352/352 [==============================] - 1s 4ms/step - loss: 2.2416 - accuracy: 0.1865 - val_loss: 2.2310 - val_accuracy: 0.1994\n",
            "Epoch 4/10\n",
            "352/352 [==============================] - 1s 4ms/step - loss: 2.2264 - accuracy: 0.1969 - val_loss: 2.2168 - val_accuracy: 0.2132\n",
            "Epoch 5/10\n",
            "352/352 [==============================] - 1s 4ms/step - loss: 2.2125 - accuracy: 0.2065 - val_loss: 2.2036 - val_accuracy: 0.2168\n",
            "Epoch 6/10\n",
            "352/352 [==============================] - 1s 4ms/step - loss: 2.1997 - accuracy: 0.2145 - val_loss: 2.1913 - val_accuracy: 0.2206\n",
            "Epoch 7/10\n",
            "352/352 [==============================] - 1s 4ms/step - loss: 2.1854 - accuracy: 0.2207 - val_loss: 2.1760 - val_accuracy: 0.2312\n",
            "Epoch 8/10\n",
            "352/352 [==============================] - 1s 4ms/step - loss: 2.1722 - accuracy: 0.2279 - val_loss: 2.1648 - val_accuracy: 0.2302\n",
            "Epoch 9/10\n",
            "352/352 [==============================] - 1s 4ms/step - loss: 2.1616 - accuracy: 0.2313 - val_loss: 2.1549 - val_accuracy: 0.2316\n",
            "Epoch 10/10\n",
            "352/352 [==============================] - 1s 4ms/step - loss: 2.1519 - accuracy: 0.2350 - val_loss: 2.1455 - val_accuracy: 0.2358\n"
          ]
        },
        {
          "output_type": "stream",
          "name": "stderr",
          "text": [
            "\u001b[32m[I 2022-10-19 23:42:51,398]\u001b[0m Trial 0 finished with value: 0.23579999804496765 and parameters: {'optimizer': 'adadelta'}. Best is trial 0 with value: 0.23579999804496765.\u001b[0m\n"
          ]
        },
        {
          "output_type": "stream",
          "name": "stdout",
          "text": [
            "Epoch 1/10\n",
            "352/352 [==============================] - 2s 4ms/step - loss: 2.0836 - accuracy: 0.2511 - val_loss: 1.9488 - val_accuracy: 0.2990\n",
            "Epoch 2/10\n",
            "352/352 [==============================] - 1s 4ms/step - loss: 1.8773 - accuracy: 0.3328 - val_loss: 1.8424 - val_accuracy: 0.3476\n",
            "Epoch 3/10\n",
            "352/352 [==============================] - 1s 4ms/step - loss: 1.8071 - accuracy: 0.3620 - val_loss: 1.8346 - val_accuracy: 0.3432\n",
            "Epoch 4/10\n",
            "352/352 [==============================] - 1s 4ms/step - loss: 1.7595 - accuracy: 0.3792 - val_loss: 1.7646 - val_accuracy: 0.3700\n",
            "Epoch 5/10\n",
            "352/352 [==============================] - 1s 4ms/step - loss: 1.7208 - accuracy: 0.3911 - val_loss: 1.7267 - val_accuracy: 0.3870\n",
            "Epoch 6/10\n",
            "352/352 [==============================] - 1s 4ms/step - loss: 1.6857 - accuracy: 0.4033 - val_loss: 1.6948 - val_accuracy: 0.3988\n",
            "Epoch 7/10\n",
            "352/352 [==============================] - 1s 4ms/step - loss: 1.6599 - accuracy: 0.4130 - val_loss: 1.7022 - val_accuracy: 0.4080\n",
            "Epoch 8/10\n",
            "352/352 [==============================] - 1s 4ms/step - loss: 1.6331 - accuracy: 0.4241 - val_loss: 1.6464 - val_accuracy: 0.4192\n",
            "Epoch 9/10\n",
            "352/352 [==============================] - 1s 4ms/step - loss: 1.6097 - accuracy: 0.4315 - val_loss: 1.6485 - val_accuracy: 0.4158\n",
            "Epoch 10/10\n",
            "352/352 [==============================] - 1s 4ms/step - loss: 1.5911 - accuracy: 0.4424 - val_loss: 1.6302 - val_accuracy: 0.4252\n"
          ]
        },
        {
          "output_type": "stream",
          "name": "stderr",
          "text": [
            "\u001b[32m[I 2022-10-19 23:43:05,590]\u001b[0m Trial 1 finished with value: 0.4251999855041504 and parameters: {'optimizer': 'adamax'}. Best is trial 1 with value: 0.4251999855041504.\u001b[0m\n"
          ]
        },
        {
          "output_type": "stream",
          "name": "stdout",
          "text": [
            "Epoch 1/10\n",
            "352/352 [==============================] - 2s 4ms/step - loss: 1.9895 - accuracy: 0.2676 - val_loss: 1.8618 - val_accuracy: 0.3298\n",
            "Epoch 2/10\n",
            "352/352 [==============================] - 1s 4ms/step - loss: 1.7705 - accuracy: 0.3665 - val_loss: 1.7621 - val_accuracy: 0.3724\n",
            "Epoch 3/10\n",
            "352/352 [==============================] - 1s 4ms/step - loss: 1.6931 - accuracy: 0.3932 - val_loss: 1.6977 - val_accuracy: 0.3896\n",
            "Epoch 4/10\n",
            "352/352 [==============================] - 1s 4ms/step - loss: 1.6459 - accuracy: 0.4139 - val_loss: 1.6923 - val_accuracy: 0.3932\n",
            "Epoch 5/10\n",
            "352/352 [==============================] - 1s 4ms/step - loss: 1.6104 - accuracy: 0.4268 - val_loss: 1.6180 - val_accuracy: 0.4314\n",
            "Epoch 6/10\n",
            "352/352 [==============================] - 1s 4ms/step - loss: 1.5821 - accuracy: 0.4335 - val_loss: 1.6478 - val_accuracy: 0.4042\n",
            "Epoch 7/10\n",
            "352/352 [==============================] - 1s 4ms/step - loss: 1.5606 - accuracy: 0.4419 - val_loss: 1.5677 - val_accuracy: 0.4462\n",
            "Epoch 8/10\n",
            "352/352 [==============================] - 1s 4ms/step - loss: 1.5382 - accuracy: 0.4493 - val_loss: 1.5554 - val_accuracy: 0.4396\n",
            "Epoch 9/10\n",
            "352/352 [==============================] - 1s 4ms/step - loss: 1.5193 - accuracy: 0.4554 - val_loss: 1.5264 - val_accuracy: 0.4598\n",
            "Epoch 10/10\n",
            "352/352 [==============================] - 1s 4ms/step - loss: 1.5019 - accuracy: 0.4633 - val_loss: 1.5495 - val_accuracy: 0.4532\n"
          ]
        },
        {
          "output_type": "stream",
          "name": "stderr",
          "text": [
            "\u001b[32m[I 2022-10-19 23:43:27,109]\u001b[0m Trial 2 finished with value: 0.45320001244544983 and parameters: {'optimizer': 'adam'}. Best is trial 2 with value: 0.45320001244544983.\u001b[0m\n"
          ]
        },
        {
          "output_type": "stream",
          "name": "stdout",
          "text": [
            "Epoch 1/10\n",
            "352/352 [==============================] - 2s 5ms/step - loss: 2.0488 - accuracy: 0.2444 - val_loss: 1.8822 - val_accuracy: 0.3168\n",
            "Epoch 2/10\n",
            "352/352 [==============================] - 2s 4ms/step - loss: 1.8137 - accuracy: 0.3484 - val_loss: 1.8575 - val_accuracy: 0.3494\n",
            "Epoch 3/10\n",
            "352/352 [==============================] - 2s 5ms/step - loss: 1.7321 - accuracy: 0.3819 - val_loss: 1.7126 - val_accuracy: 0.3894\n",
            "Epoch 4/10\n",
            "352/352 [==============================] - 2s 4ms/step - loss: 1.6760 - accuracy: 0.4022 - val_loss: 1.6662 - val_accuracy: 0.4014\n",
            "Epoch 5/10\n",
            "352/352 [==============================] - 2s 4ms/step - loss: 1.6397 - accuracy: 0.4154 - val_loss: 1.6719 - val_accuracy: 0.4132\n",
            "Epoch 6/10\n",
            "352/352 [==============================] - 2s 4ms/step - loss: 1.6052 - accuracy: 0.4270 - val_loss: 1.6084 - val_accuracy: 0.4238\n",
            "Epoch 7/10\n",
            "352/352 [==============================] - 2s 4ms/step - loss: 1.5732 - accuracy: 0.4391 - val_loss: 1.6032 - val_accuracy: 0.4346\n",
            "Epoch 8/10\n",
            "352/352 [==============================] - 2s 5ms/step - loss: 1.5489 - accuracy: 0.4481 - val_loss: 1.7048 - val_accuracy: 0.4042\n",
            "Epoch 9/10\n",
            "352/352 [==============================] - 2s 5ms/step - loss: 1.5224 - accuracy: 0.4566 - val_loss: 1.6233 - val_accuracy: 0.4362\n",
            "Epoch 10/10\n",
            "352/352 [==============================] - 2s 4ms/step - loss: 1.5037 - accuracy: 0.4646 - val_loss: 1.5410 - val_accuracy: 0.4514\n"
          ]
        },
        {
          "output_type": "stream",
          "name": "stderr",
          "text": [
            "\u001b[32m[I 2022-10-19 23:43:44,393]\u001b[0m Trial 3 finished with value: 0.4514000117778778 and parameters: {'optimizer': 'nadam'}. Best is trial 2 with value: 0.45320001244544983.\u001b[0m\n"
          ]
        },
        {
          "output_type": "stream",
          "name": "stdout",
          "text": [
            "Epoch 1/10\n",
            "352/352 [==============================] - 2s 4ms/step - loss: 2.1724 - accuracy: 0.2037 - val_loss: 1.9661 - val_accuracy: 0.2720\n",
            "Epoch 2/10\n",
            "352/352 [==============================] - 1s 4ms/step - loss: 1.9074 - accuracy: 0.3043 - val_loss: 1.8679 - val_accuracy: 0.3290\n",
            "Epoch 3/10\n",
            "352/352 [==============================] - 1s 4ms/step - loss: 1.8100 - accuracy: 0.3460 - val_loss: 1.8382 - val_accuracy: 0.3380\n",
            "Epoch 4/10\n",
            "352/352 [==============================] - 1s 4ms/step - loss: 1.7452 - accuracy: 0.3727 - val_loss: 1.7486 - val_accuracy: 0.3814\n",
            "Epoch 5/10\n",
            "352/352 [==============================] - 1s 4ms/step - loss: 1.6967 - accuracy: 0.3937 - val_loss: 1.6805 - val_accuracy: 0.3940\n",
            "Epoch 6/10\n",
            "352/352 [==============================] - 1s 4ms/step - loss: 1.6563 - accuracy: 0.4095 - val_loss: 1.8084 - val_accuracy: 0.3694\n",
            "Epoch 7/10\n",
            "352/352 [==============================] - 1s 4ms/step - loss: 1.6254 - accuracy: 0.4214 - val_loss: 1.7249 - val_accuracy: 0.3852\n",
            "Epoch 8/10\n",
            "352/352 [==============================] - 1s 4ms/step - loss: 1.5994 - accuracy: 0.4280 - val_loss: 1.6708 - val_accuracy: 0.3964\n",
            "Epoch 9/10\n",
            "352/352 [==============================] - 1s 4ms/step - loss: 1.5815 - accuracy: 0.4374 - val_loss: 1.9796 - val_accuracy: 0.3246\n",
            "Epoch 10/10\n",
            "352/352 [==============================] - 1s 4ms/step - loss: 1.5600 - accuracy: 0.4441 - val_loss: 1.6193 - val_accuracy: 0.4386\n"
          ]
        },
        {
          "output_type": "stream",
          "name": "stderr",
          "text": [
            "\u001b[32m[I 2022-10-19 23:43:59,557]\u001b[0m Trial 4 finished with value: 0.43860000371932983 and parameters: {'optimizer': 'rmsprop'}. Best is trial 2 with value: 0.45320001244544983.\u001b[0m\n"
          ]
        },
        {
          "output_type": "stream",
          "name": "stdout",
          "text": [
            "Epoch 1/10\n",
            "352/352 [==============================] - 2s 4ms/step - loss: 2.0161 - accuracy: 0.2749 - val_loss: 1.9690 - val_accuracy: 0.2854\n",
            "Epoch 2/10\n",
            "352/352 [==============================] - 1s 3ms/step - loss: 1.8527 - accuracy: 0.3447 - val_loss: 1.8398 - val_accuracy: 0.3420\n",
            "Epoch 3/10\n",
            "352/352 [==============================] - 1s 3ms/step - loss: 1.7914 - accuracy: 0.3667 - val_loss: 1.7831 - val_accuracy: 0.3664\n",
            "Epoch 4/10\n",
            "352/352 [==============================] - 1s 4ms/step - loss: 1.7472 - accuracy: 0.3847 - val_loss: 1.7680 - val_accuracy: 0.3870\n",
            "Epoch 5/10\n",
            "352/352 [==============================] - 1s 3ms/step - loss: 1.7138 - accuracy: 0.3949 - val_loss: 1.7177 - val_accuracy: 0.3940\n",
            "Epoch 6/10\n",
            "352/352 [==============================] - 1s 3ms/step - loss: 1.6837 - accuracy: 0.4081 - val_loss: 1.7362 - val_accuracy: 0.3820\n",
            "Epoch 7/10\n",
            "352/352 [==============================] - 1s 4ms/step - loss: 1.6563 - accuracy: 0.4165 - val_loss: 1.6659 - val_accuracy: 0.4128\n",
            "Epoch 8/10\n",
            "352/352 [==============================] - 1s 4ms/step - loss: 1.6353 - accuracy: 0.4262 - val_loss: 1.6402 - val_accuracy: 0.4254\n",
            "Epoch 9/10\n",
            "352/352 [==============================] - 1s 3ms/step - loss: 1.6154 - accuracy: 0.4307 - val_loss: 1.6789 - val_accuracy: 0.4050\n",
            "Epoch 10/10\n",
            "352/352 [==============================] - 1s 4ms/step - loss: 1.5974 - accuracy: 0.4380 - val_loss: 1.6344 - val_accuracy: 0.4248\n"
          ]
        },
        {
          "output_type": "stream",
          "name": "stderr",
          "text": [
            "\u001b[32m[I 2022-10-19 23:44:20,808]\u001b[0m Trial 5 finished with value: 0.42480000853538513 and parameters: {'optimizer': 'sgd'}. Best is trial 2 with value: 0.45320001244544983.\u001b[0m\n"
          ]
        },
        {
          "output_type": "stream",
          "name": "stdout",
          "text": [
            "Epoch 1/10\n",
            "352/352 [==============================] - 2s 6ms/step - loss: 2.3030 - accuracy: 0.0970 - val_loss: 2.3026 - val_accuracy: 0.0958\n",
            "Epoch 2/10\n",
            "352/352 [==============================] - 1s 4ms/step - loss: 2.3026 - accuracy: 0.0990 - val_loss: 2.3026 - val_accuracy: 0.0958\n",
            "Epoch 3/10\n",
            "352/352 [==============================] - 1s 4ms/step - loss: 2.3026 - accuracy: 0.0993 - val_loss: 2.3026 - val_accuracy: 0.0958\n",
            "Epoch 4/10\n",
            "352/352 [==============================] - 1s 4ms/step - loss: 2.3026 - accuracy: 0.0996 - val_loss: 2.3026 - val_accuracy: 0.0958\n",
            "Epoch 5/10\n",
            "352/352 [==============================] - 1s 4ms/step - loss: 2.3026 - accuracy: 0.0985 - val_loss: 2.3026 - val_accuracy: 0.0950\n",
            "Epoch 6/10\n",
            "352/352 [==============================] - 1s 4ms/step - loss: 2.3026 - accuracy: 0.0990 - val_loss: 2.3026 - val_accuracy: 0.0950\n",
            "Epoch 7/10\n",
            "352/352 [==============================] - 1s 4ms/step - loss: 2.3026 - accuracy: 0.0990 - val_loss: 2.3026 - val_accuracy: 0.0950\n",
            "Epoch 8/10\n",
            "352/352 [==============================] - 1s 4ms/step - loss: 2.3026 - accuracy: 0.0996 - val_loss: 2.3026 - val_accuracy: 0.0950\n",
            "Epoch 9/10\n",
            "352/352 [==============================] - 1s 4ms/step - loss: 2.3026 - accuracy: 0.0981 - val_loss: 2.3026 - val_accuracy: 0.0950\n",
            "Epoch 10/10\n",
            "352/352 [==============================] - 1s 4ms/step - loss: 2.3026 - accuracy: 0.0992 - val_loss: 2.3026 - val_accuracy: 0.0950\n"
          ]
        },
        {
          "output_type": "stream",
          "name": "stderr",
          "text": [
            "\u001b[32m[I 2022-10-19 23:44:42,828]\u001b[0m Trial 6 finished with value: 0.0949999988079071 and parameters: {'optimizer': 'ftrl'}. Best is trial 2 with value: 0.45320001244544983.\u001b[0m\n"
          ]
        },
        {
          "output_type": "stream",
          "name": "stdout",
          "text": [
            "Epoch 1/10\n",
            "352/352 [==============================] - 2s 4ms/step - loss: 2.1449 - accuracy: 0.2255 - val_loss: 2.0526 - val_accuracy: 0.2724\n",
            "Epoch 2/10\n",
            "352/352 [==============================] - 1s 4ms/step - loss: 1.9957 - accuracy: 0.2867 - val_loss: 1.9640 - val_accuracy: 0.3112\n",
            "Epoch 3/10\n",
            "352/352 [==============================] - 1s 4ms/step - loss: 1.9277 - accuracy: 0.3150 - val_loss: 1.9210 - val_accuracy: 0.3180\n",
            "Epoch 4/10\n",
            "352/352 [==============================] - 2s 5ms/step - loss: 1.8874 - accuracy: 0.3351 - val_loss: 1.8862 - val_accuracy: 0.3400\n",
            "Epoch 5/10\n",
            "352/352 [==============================] - 2s 5ms/step - loss: 1.8599 - accuracy: 0.3474 - val_loss: 1.8662 - val_accuracy: 0.3452\n",
            "Epoch 6/10\n",
            "352/352 [==============================] - 1s 4ms/step - loss: 1.8394 - accuracy: 0.3558 - val_loss: 1.8459 - val_accuracy: 0.3572\n",
            "Epoch 7/10\n",
            "352/352 [==============================] - 1s 4ms/step - loss: 1.8225 - accuracy: 0.3638 - val_loss: 1.8357 - val_accuracy: 0.3610\n",
            "Epoch 8/10\n",
            "352/352 [==============================] - 1s 4ms/step - loss: 1.8074 - accuracy: 0.3694 - val_loss: 1.8261 - val_accuracy: 0.3604\n",
            "Epoch 9/10\n",
            "352/352 [==============================] - 1s 4ms/step - loss: 1.7937 - accuracy: 0.3764 - val_loss: 1.8133 - val_accuracy: 0.3722\n",
            "Epoch 10/10\n",
            "352/352 [==============================] - 1s 4ms/step - loss: 1.7816 - accuracy: 0.3789 - val_loss: 1.7987 - val_accuracy: 0.3744\n"
          ]
        },
        {
          "output_type": "stream",
          "name": "stderr",
          "text": [
            "\u001b[32m[I 2022-10-19 23:44:57,540]\u001b[0m Trial 7 finished with value: 0.37439998984336853 and parameters: {'optimizer': 'adagrad'}. Best is trial 2 with value: 0.45320001244544983.\u001b[0m\n"
          ]
        }
      ],
      "source": [
        "search_space = {\"optimizer\": [\"sgd\", \"adam\", \"adamax\", \"nadam\", \"rmsprop\", \"ftrl\", \"adadelta\", \"adagrad\"]}\n",
        "study = optuna.create_study(direction='maximize',\n",
        "                            sampler=optuna.samplers.GridSampler(search_space)\n",
        ")\n",
        "print(study)\n",
        "study.optimize(objective, n_trials=8)"
      ]
    },
    {
      "cell_type": "code",
      "execution_count": null,
      "metadata": {
        "id": "u1KeY-S_SaKc",
        "colab": {
          "base_uri": "https://localhost:8080/",
          "height": 542
        },
        "outputId": "741b4a94-0537-461c-bbc3-04bb3fb087d4"
      },
      "outputs": [
        {
          "output_type": "display_data",
          "data": {
            "text/html": [
              "<html>\n",
              "<head><meta charset=\"utf-8\" /></head>\n",
              "<body>\n",
              "    <div>            <script src=\"https://cdnjs.cloudflare.com/ajax/libs/mathjax/2.7.5/MathJax.js?config=TeX-AMS-MML_SVG\"></script><script type=\"text/javascript\">if (window.MathJax) {MathJax.Hub.Config({SVG: {font: \"STIX-Web\"}});}</script>                <script type=\"text/javascript\">window.PlotlyConfig = {MathJaxConfig: 'local'};</script>\n",
              "        <script src=\"https://cdn.plot.ly/plotly-2.8.3.min.js\"></script>                <div id=\"83d5884a-97e9-4c1d-acec-3e03b805c945\" class=\"plotly-graph-div\" style=\"height:525px; width:100%;\"></div>            <script type=\"text/javascript\">                                    window.PLOTLYENV=window.PLOTLYENV || {};                                    if (document.getElementById(\"83d5884a-97e9-4c1d-acec-3e03b805c945\")) {                    Plotly.newPlot(                        \"83d5884a-97e9-4c1d-acec-3e03b805c945\",                        [{\"mode\":\"markers\",\"name\":\"Objective Value\",\"x\":[0,1,2,3,4,5,6,7],\"y\":[0.23579999804496765,0.4251999855041504,0.45320001244544983,0.4514000117778778,0.43860000371932983,0.42480000853538513,0.0949999988079071,0.37439998984336853],\"type\":\"scatter\"},{\"name\":\"Best Value\",\"x\":[0,1,2,3,4,5,6,7],\"y\":[0.23579999804496765,0.4251999855041504,0.45320001244544983,0.45320001244544983,0.45320001244544983,0.45320001244544983,0.45320001244544983,0.45320001244544983],\"type\":\"scatter\"}],                        {\"title\":{\"text\":\"Optimization History Plot\"},\"xaxis\":{\"title\":{\"text\":\"Trial\"}},\"yaxis\":{\"title\":{\"text\":\"Objective Value\"}},\"template\":{\"data\":{\"bar\":[{\"error_x\":{\"color\":\"#2a3f5f\"},\"error_y\":{\"color\":\"#2a3f5f\"},\"marker\":{\"line\":{\"color\":\"#E5ECF6\",\"width\":0.5},\"pattern\":{\"fillmode\":\"overlay\",\"size\":10,\"solidity\":0.2}},\"type\":\"bar\"}],\"barpolar\":[{\"marker\":{\"line\":{\"color\":\"#E5ECF6\",\"width\":0.5},\"pattern\":{\"fillmode\":\"overlay\",\"size\":10,\"solidity\":0.2}},\"type\":\"barpolar\"}],\"carpet\":[{\"aaxis\":{\"endlinecolor\":\"#2a3f5f\",\"gridcolor\":\"white\",\"linecolor\":\"white\",\"minorgridcolor\":\"white\",\"startlinecolor\":\"#2a3f5f\"},\"baxis\":{\"endlinecolor\":\"#2a3f5f\",\"gridcolor\":\"white\",\"linecolor\":\"white\",\"minorgridcolor\":\"white\",\"startlinecolor\":\"#2a3f5f\"},\"type\":\"carpet\"}],\"choropleth\":[{\"colorbar\":{\"outlinewidth\":0,\"ticks\":\"\"},\"type\":\"choropleth\"}],\"contour\":[{\"colorbar\":{\"outlinewidth\":0,\"ticks\":\"\"},\"colorscale\":[[0.0,\"#0d0887\"],[0.1111111111111111,\"#46039f\"],[0.2222222222222222,\"#7201a8\"],[0.3333333333333333,\"#9c179e\"],[0.4444444444444444,\"#bd3786\"],[0.5555555555555556,\"#d8576b\"],[0.6666666666666666,\"#ed7953\"],[0.7777777777777778,\"#fb9f3a\"],[0.8888888888888888,\"#fdca26\"],[1.0,\"#f0f921\"]],\"type\":\"contour\"}],\"contourcarpet\":[{\"colorbar\":{\"outlinewidth\":0,\"ticks\":\"\"},\"type\":\"contourcarpet\"}],\"heatmap\":[{\"colorbar\":{\"outlinewidth\":0,\"ticks\":\"\"},\"colorscale\":[[0.0,\"#0d0887\"],[0.1111111111111111,\"#46039f\"],[0.2222222222222222,\"#7201a8\"],[0.3333333333333333,\"#9c179e\"],[0.4444444444444444,\"#bd3786\"],[0.5555555555555556,\"#d8576b\"],[0.6666666666666666,\"#ed7953\"],[0.7777777777777778,\"#fb9f3a\"],[0.8888888888888888,\"#fdca26\"],[1.0,\"#f0f921\"]],\"type\":\"heatmap\"}],\"heatmapgl\":[{\"colorbar\":{\"outlinewidth\":0,\"ticks\":\"\"},\"colorscale\":[[0.0,\"#0d0887\"],[0.1111111111111111,\"#46039f\"],[0.2222222222222222,\"#7201a8\"],[0.3333333333333333,\"#9c179e\"],[0.4444444444444444,\"#bd3786\"],[0.5555555555555556,\"#d8576b\"],[0.6666666666666666,\"#ed7953\"],[0.7777777777777778,\"#fb9f3a\"],[0.8888888888888888,\"#fdca26\"],[1.0,\"#f0f921\"]],\"type\":\"heatmapgl\"}],\"histogram\":[{\"marker\":{\"pattern\":{\"fillmode\":\"overlay\",\"size\":10,\"solidity\":0.2}},\"type\":\"histogram\"}],\"histogram2d\":[{\"colorbar\":{\"outlinewidth\":0,\"ticks\":\"\"},\"colorscale\":[[0.0,\"#0d0887\"],[0.1111111111111111,\"#46039f\"],[0.2222222222222222,\"#7201a8\"],[0.3333333333333333,\"#9c179e\"],[0.4444444444444444,\"#bd3786\"],[0.5555555555555556,\"#d8576b\"],[0.6666666666666666,\"#ed7953\"],[0.7777777777777778,\"#fb9f3a\"],[0.8888888888888888,\"#fdca26\"],[1.0,\"#f0f921\"]],\"type\":\"histogram2d\"}],\"histogram2dcontour\":[{\"colorbar\":{\"outlinewidth\":0,\"ticks\":\"\"},\"colorscale\":[[0.0,\"#0d0887\"],[0.1111111111111111,\"#46039f\"],[0.2222222222222222,\"#7201a8\"],[0.3333333333333333,\"#9c179e\"],[0.4444444444444444,\"#bd3786\"],[0.5555555555555556,\"#d8576b\"],[0.6666666666666666,\"#ed7953\"],[0.7777777777777778,\"#fb9f3a\"],[0.8888888888888888,\"#fdca26\"],[1.0,\"#f0f921\"]],\"type\":\"histogram2dcontour\"}],\"mesh3d\":[{\"colorbar\":{\"outlinewidth\":0,\"ticks\":\"\"},\"type\":\"mesh3d\"}],\"parcoords\":[{\"line\":{\"colorbar\":{\"outlinewidth\":0,\"ticks\":\"\"}},\"type\":\"parcoords\"}],\"pie\":[{\"automargin\":true,\"type\":\"pie\"}],\"scatter\":[{\"marker\":{\"colorbar\":{\"outlinewidth\":0,\"ticks\":\"\"}},\"type\":\"scatter\"}],\"scatter3d\":[{\"line\":{\"colorbar\":{\"outlinewidth\":0,\"ticks\":\"\"}},\"marker\":{\"colorbar\":{\"outlinewidth\":0,\"ticks\":\"\"}},\"type\":\"scatter3d\"}],\"scattercarpet\":[{\"marker\":{\"colorbar\":{\"outlinewidth\":0,\"ticks\":\"\"}},\"type\":\"scattercarpet\"}],\"scattergeo\":[{\"marker\":{\"colorbar\":{\"outlinewidth\":0,\"ticks\":\"\"}},\"type\":\"scattergeo\"}],\"scattergl\":[{\"marker\":{\"colorbar\":{\"outlinewidth\":0,\"ticks\":\"\"}},\"type\":\"scattergl\"}],\"scattermapbox\":[{\"marker\":{\"colorbar\":{\"outlinewidth\":0,\"ticks\":\"\"}},\"type\":\"scattermapbox\"}],\"scatterpolar\":[{\"marker\":{\"colorbar\":{\"outlinewidth\":0,\"ticks\":\"\"}},\"type\":\"scatterpolar\"}],\"scatterpolargl\":[{\"marker\":{\"colorbar\":{\"outlinewidth\":0,\"ticks\":\"\"}},\"type\":\"scatterpolargl\"}],\"scatterternary\":[{\"marker\":{\"colorbar\":{\"outlinewidth\":0,\"ticks\":\"\"}},\"type\":\"scatterternary\"}],\"surface\":[{\"colorbar\":{\"outlinewidth\":0,\"ticks\":\"\"},\"colorscale\":[[0.0,\"#0d0887\"],[0.1111111111111111,\"#46039f\"],[0.2222222222222222,\"#7201a8\"],[0.3333333333333333,\"#9c179e\"],[0.4444444444444444,\"#bd3786\"],[0.5555555555555556,\"#d8576b\"],[0.6666666666666666,\"#ed7953\"],[0.7777777777777778,\"#fb9f3a\"],[0.8888888888888888,\"#fdca26\"],[1.0,\"#f0f921\"]],\"type\":\"surface\"}],\"table\":[{\"cells\":{\"fill\":{\"color\":\"#EBF0F8\"},\"line\":{\"color\":\"white\"}},\"header\":{\"fill\":{\"color\":\"#C8D4E3\"},\"line\":{\"color\":\"white\"}},\"type\":\"table\"}]},\"layout\":{\"annotationdefaults\":{\"arrowcolor\":\"#2a3f5f\",\"arrowhead\":0,\"arrowwidth\":1},\"autotypenumbers\":\"strict\",\"coloraxis\":{\"colorbar\":{\"outlinewidth\":0,\"ticks\":\"\"}},\"colorscale\":{\"diverging\":[[0,\"#8e0152\"],[0.1,\"#c51b7d\"],[0.2,\"#de77ae\"],[0.3,\"#f1b6da\"],[0.4,\"#fde0ef\"],[0.5,\"#f7f7f7\"],[0.6,\"#e6f5d0\"],[0.7,\"#b8e186\"],[0.8,\"#7fbc41\"],[0.9,\"#4d9221\"],[1,\"#276419\"]],\"sequential\":[[0.0,\"#0d0887\"],[0.1111111111111111,\"#46039f\"],[0.2222222222222222,\"#7201a8\"],[0.3333333333333333,\"#9c179e\"],[0.4444444444444444,\"#bd3786\"],[0.5555555555555556,\"#d8576b\"],[0.6666666666666666,\"#ed7953\"],[0.7777777777777778,\"#fb9f3a\"],[0.8888888888888888,\"#fdca26\"],[1.0,\"#f0f921\"]],\"sequentialminus\":[[0.0,\"#0d0887\"],[0.1111111111111111,\"#46039f\"],[0.2222222222222222,\"#7201a8\"],[0.3333333333333333,\"#9c179e\"],[0.4444444444444444,\"#bd3786\"],[0.5555555555555556,\"#d8576b\"],[0.6666666666666666,\"#ed7953\"],[0.7777777777777778,\"#fb9f3a\"],[0.8888888888888888,\"#fdca26\"],[1.0,\"#f0f921\"]]},\"colorway\":[\"#636efa\",\"#EF553B\",\"#00cc96\",\"#ab63fa\",\"#FFA15A\",\"#19d3f3\",\"#FF6692\",\"#B6E880\",\"#FF97FF\",\"#FECB52\"],\"font\":{\"color\":\"#2a3f5f\"},\"geo\":{\"bgcolor\":\"white\",\"lakecolor\":\"white\",\"landcolor\":\"#E5ECF6\",\"showlakes\":true,\"showland\":true,\"subunitcolor\":\"white\"},\"hoverlabel\":{\"align\":\"left\"},\"hovermode\":\"closest\",\"mapbox\":{\"style\":\"light\"},\"paper_bgcolor\":\"white\",\"plot_bgcolor\":\"#E5ECF6\",\"polar\":{\"angularaxis\":{\"gridcolor\":\"white\",\"linecolor\":\"white\",\"ticks\":\"\"},\"bgcolor\":\"#E5ECF6\",\"radialaxis\":{\"gridcolor\":\"white\",\"linecolor\":\"white\",\"ticks\":\"\"}},\"scene\":{\"xaxis\":{\"backgroundcolor\":\"#E5ECF6\",\"gridcolor\":\"white\",\"gridwidth\":2,\"linecolor\":\"white\",\"showbackground\":true,\"ticks\":\"\",\"zerolinecolor\":\"white\"},\"yaxis\":{\"backgroundcolor\":\"#E5ECF6\",\"gridcolor\":\"white\",\"gridwidth\":2,\"linecolor\":\"white\",\"showbackground\":true,\"ticks\":\"\",\"zerolinecolor\":\"white\"},\"zaxis\":{\"backgroundcolor\":\"#E5ECF6\",\"gridcolor\":\"white\",\"gridwidth\":2,\"linecolor\":\"white\",\"showbackground\":true,\"ticks\":\"\",\"zerolinecolor\":\"white\"}},\"shapedefaults\":{\"line\":{\"color\":\"#2a3f5f\"}},\"ternary\":{\"aaxis\":{\"gridcolor\":\"white\",\"linecolor\":\"white\",\"ticks\":\"\"},\"baxis\":{\"gridcolor\":\"white\",\"linecolor\":\"white\",\"ticks\":\"\"},\"bgcolor\":\"#E5ECF6\",\"caxis\":{\"gridcolor\":\"white\",\"linecolor\":\"white\",\"ticks\":\"\"}},\"title\":{\"x\":0.05},\"xaxis\":{\"automargin\":true,\"gridcolor\":\"white\",\"linecolor\":\"white\",\"ticks\":\"\",\"title\":{\"standoff\":15},\"zerolinecolor\":\"white\",\"zerolinewidth\":2},\"yaxis\":{\"automargin\":true,\"gridcolor\":\"white\",\"linecolor\":\"white\",\"ticks\":\"\",\"title\":{\"standoff\":15},\"zerolinecolor\":\"white\",\"zerolinewidth\":2}}}},                        {\"responsive\": true}                    ).then(function(){\n",
              "                            \n",
              "var gd = document.getElementById('83d5884a-97e9-4c1d-acec-3e03b805c945');\n",
              "var x = new MutationObserver(function (mutations, observer) {{\n",
              "        var display = window.getComputedStyle(gd).display;\n",
              "        if (!display || display === 'none') {{\n",
              "            console.log([gd, 'removed!']);\n",
              "            Plotly.purge(gd);\n",
              "            observer.disconnect();\n",
              "        }}\n",
              "}});\n",
              "\n",
              "// Listen for the removal of the full notebook cells\n",
              "var notebookContainer = gd.closest('#notebook-container');\n",
              "if (notebookContainer) {{\n",
              "    x.observe(notebookContainer, {childList: true});\n",
              "}}\n",
              "\n",
              "// Listen for the clearing of the current output cell\n",
              "var outputEl = gd.closest('.output');\n",
              "if (outputEl) {{\n",
              "    x.observe(outputEl, {childList: true});\n",
              "}}\n",
              "\n",
              "                        })                };                            </script>        </div>\n",
              "</body>\n",
              "</html>"
            ]
          },
          "metadata": {}
        }
      ],
      "source": [
        "plot_optimization_history(study)\n"
      ]
    },
    {
      "cell_type": "code",
      "execution_count": null,
      "metadata": {
        "id": "zNpG4oU3TEnP",
        "colab": {
          "base_uri": "https://localhost:8080/"
        },
        "outputId": "3cf3f5b0-89ce-444d-a459-5384c9238354"
      },
      "outputs": [
        {
          "output_type": "stream",
          "name": "stdout",
          "text": [
            "Number of finished trials: 8\n",
            "Best trial:\n",
            "  Value: 0.45320001244544983\n",
            "  Params: \n",
            "    optimizer: adam\n"
          ]
        }
      ],
      "source": [
        "print(\"Number of finished trials: {}\".format(len(study.trials)))\n",
        "print(\"Best trial:\")\n",
        "trial = study.best_trial\n",
        "print(\"  Value: {}\".format(trial.value))\n",
        "print(\"  Params: \")\n",
        "for key, value in trial.params.items():\n",
        "  print(\"    {}: {}\".format(key, value))"
      ]
    },
    {
      "cell_type": "markdown",
      "metadata": {
        "id": "ErL7FFOPTJMR"
      },
      "source": [
        "## Model result with optimised optimizer\n",
        "Optimum optimizer is nadam\n",
        "\n",
        "Test accuracy gone from 0.419 to 0.436"
      ]
    },
    {
      "cell_type": "code",
      "execution_count": null,
      "metadata": {
        "id": "nR1rwxYBTfT1",
        "colab": {
          "base_uri": "https://localhost:8080/"
        },
        "outputId": "df059958-38b1-4914-c965-5d2f120aed44"
      },
      "outputs": [
        {
          "output_type": "stream",
          "name": "stdout",
          "text": [
            "Epoch 1/10\n",
            "352/352 [==============================] - 2s 4ms/step - loss: 2.0435 - accuracy: 0.2222 - val_loss: 2.0816 - val_accuracy: 0.2404\n",
            "Epoch 2/10\n",
            "352/352 [==============================] - 1s 4ms/step - loss: 1.8491 - accuracy: 0.3221 - val_loss: 1.8017 - val_accuracy: 0.3440\n",
            "Epoch 3/10\n",
            "352/352 [==============================] - 1s 4ms/step - loss: 1.7695 - accuracy: 0.3550 - val_loss: 1.7366 - val_accuracy: 0.3684\n",
            "Epoch 4/10\n",
            "352/352 [==============================] - 1s 4ms/step - loss: 1.7177 - accuracy: 0.3770 - val_loss: 1.7075 - val_accuracy: 0.3852\n",
            "Epoch 5/10\n",
            "352/352 [==============================] - 1s 4ms/step - loss: 1.6712 - accuracy: 0.3990 - val_loss: 1.6732 - val_accuracy: 0.3926\n",
            "Epoch 6/10\n",
            "352/352 [==============================] - 1s 4ms/step - loss: 1.6201 - accuracy: 0.4178 - val_loss: 1.6130 - val_accuracy: 0.4188\n",
            "Epoch 7/10\n",
            "352/352 [==============================] - 1s 4ms/step - loss: 1.5871 - accuracy: 0.4295 - val_loss: 1.5914 - val_accuracy: 0.4298\n",
            "Epoch 8/10\n",
            "352/352 [==============================] - 1s 4ms/step - loss: 1.5646 - accuracy: 0.4391 - val_loss: 1.5688 - val_accuracy: 0.4358\n",
            "Epoch 9/10\n",
            "352/352 [==============================] - 1s 4ms/step - loss: 1.5440 - accuracy: 0.4482 - val_loss: 1.6002 - val_accuracy: 0.4300\n",
            "Epoch 10/10\n",
            "352/352 [==============================] - 1s 4ms/step - loss: 1.5213 - accuracy: 0.4559 - val_loss: 1.5300 - val_accuracy: 0.4556\n",
            "Test loss: 1.53\n",
            "Test accuracy: 0.458\n"
          ]
        }
      ],
      "source": [
        "model = build_basic_model(128)\n",
        "optimizer = study.best_params['optimizer']\n",
        "\n",
        "model.compile(optimizer=optimizer,\n",
        "              loss='categorical_crossentropy',\n",
        "              metrics=['accuracy'])\n",
        "history = model.fit(x_train, y_train,\n",
        "                    batch_size=128,\n",
        "                    epochs=10,\n",
        "                    verbose=True,\n",
        "                    validation_split=.1)\n",
        "loss, accuracy  = model.evaluate(x_test, y_test, verbose=False)\n",
        "print(f'Test loss: {loss:.3}')\n",
        "print(f'Test accuracy: {accuracy:.3}')"
      ]
    },
    {
      "cell_type": "markdown",
      "metadata": {
        "id": "PRsrM8l9f_bs"
      },
      "source": [
        "## Tuning model architecture"
      ]
    },
    {
      "cell_type": "code",
      "execution_count": null,
      "metadata": {
        "id": "GAmy40ZsDoo2"
      },
      "outputs": [],
      "source": [
        "# model size - optimising model architecture\n",
        "def objective(trial):\n",
        "    n_units = trial.suggest_int(\"n_units\", 16, 1024)\n",
        "    model = build_basic_model(n_units)\n",
        "\n",
        "    model.compile(optimizer=\"sgd\",\n",
        "                  loss='categorical_crossentropy',\n",
        "                  metrics=['accuracy'])\n",
        "    history = model.fit(x_train, y_train,\n",
        "                        batch_size=128,\n",
        "                        epochs=10,\n",
        "                        verbose=True,\n",
        "                        validation_split=.1)\n",
        "    acc = history.history['val_accuracy'][-1]\n",
        "    return acc"
      ]
    },
    {
      "cell_type": "code",
      "execution_count": null,
      "metadata": {
        "id": "Ucqv3iGscJo5",
        "colab": {
          "base_uri": "https://localhost:8080/"
        },
        "outputId": "1da4ff76-7a7d-4250-863a-7ccbc2cfe3f5"
      },
      "outputs": [
        {
          "output_type": "stream",
          "name": "stderr",
          "text": [
            "\u001b[32m[I 2022-10-19 23:51:29,576]\u001b[0m A new study created in memory with name: no-name-fcdd4ded-423b-4f38-b6c4-4837ffcaadbf\u001b[0m\n"
          ]
        },
        {
          "output_type": "stream",
          "name": "stdout",
          "text": [
            "Epoch 1/10\n",
            "352/352 [==============================] - 3s 4ms/step - loss: 1.9838 - accuracy: 0.2959 - val_loss: 1.8696 - val_accuracy: 0.3388\n",
            "Epoch 2/10\n",
            "352/352 [==============================] - 1s 4ms/step - loss: 1.8146 - accuracy: 0.3635 - val_loss: 1.7922 - val_accuracy: 0.3720\n",
            "Epoch 3/10\n",
            "352/352 [==============================] - 2s 5ms/step - loss: 1.7511 - accuracy: 0.3866 - val_loss: 1.7814 - val_accuracy: 0.3672\n",
            "Epoch 4/10\n",
            "352/352 [==============================] - 1s 4ms/step - loss: 1.7058 - accuracy: 0.4038 - val_loss: 1.7503 - val_accuracy: 0.3798\n",
            "Epoch 5/10\n",
            "352/352 [==============================] - 1s 4ms/step - loss: 1.6678 - accuracy: 0.4182 - val_loss: 1.6744 - val_accuracy: 0.4080\n",
            "Epoch 6/10\n",
            "352/352 [==============================] - 1s 4ms/step - loss: 1.6391 - accuracy: 0.4281 - val_loss: 1.6648 - val_accuracy: 0.4188\n",
            "Epoch 7/10\n",
            "352/352 [==============================] - 1s 4ms/step - loss: 1.6109 - accuracy: 0.4389 - val_loss: 1.6206 - val_accuracy: 0.4374\n",
            "Epoch 8/10\n",
            "352/352 [==============================] - 1s 4ms/step - loss: 1.5883 - accuracy: 0.4453 - val_loss: 1.6206 - val_accuracy: 0.4286\n",
            "Epoch 9/10\n",
            "352/352 [==============================] - 1s 4ms/step - loss: 1.5665 - accuracy: 0.4517 - val_loss: 1.6092 - val_accuracy: 0.4384\n",
            "Epoch 10/10\n",
            "352/352 [==============================] - 1s 4ms/step - loss: 1.5473 - accuracy: 0.4585 - val_loss: 1.6098 - val_accuracy: 0.4414\n"
          ]
        },
        {
          "output_type": "stream",
          "name": "stderr",
          "text": [
            "\u001b[32m[I 2022-10-19 23:51:51,215]\u001b[0m Trial 0 finished with value: 0.4413999915122986 and parameters: {'n_units': 393}. Best is trial 0 with value: 0.4413999915122986.\u001b[0m\n"
          ]
        },
        {
          "output_type": "stream",
          "name": "stdout",
          "text": [
            "Epoch 1/10\n",
            "352/352 [==============================] - 2s 5ms/step - loss: 1.9612 - accuracy: 0.2985 - val_loss: 1.9164 - val_accuracy: 0.3196\n",
            "Epoch 2/10\n",
            "352/352 [==============================] - 1s 4ms/step - loss: 1.7949 - accuracy: 0.3693 - val_loss: 1.7774 - val_accuracy: 0.3638\n",
            "Epoch 3/10\n",
            "352/352 [==============================] - 1s 4ms/step - loss: 1.7235 - accuracy: 0.3928 - val_loss: 1.8358 - val_accuracy: 0.3376\n",
            "Epoch 4/10\n",
            "352/352 [==============================] - 1s 4ms/step - loss: 1.6760 - accuracy: 0.4119 - val_loss: 1.6891 - val_accuracy: 0.4122\n",
            "Epoch 5/10\n",
            "352/352 [==============================] - 1s 4ms/step - loss: 1.6368 - accuracy: 0.4280 - val_loss: 1.6614 - val_accuracy: 0.4156\n",
            "Epoch 6/10\n",
            "352/352 [==============================] - 2s 4ms/step - loss: 1.6045 - accuracy: 0.4400 - val_loss: 1.6592 - val_accuracy: 0.4114\n",
            "Epoch 7/10\n",
            "352/352 [==============================] - 2s 4ms/step - loss: 1.5764 - accuracy: 0.4491 - val_loss: 1.6065 - val_accuracy: 0.4424\n",
            "Epoch 8/10\n",
            "352/352 [==============================] - 1s 4ms/step - loss: 1.5539 - accuracy: 0.4566 - val_loss: 1.6123 - val_accuracy: 0.4234\n",
            "Epoch 9/10\n",
            "352/352 [==============================] - 2s 4ms/step - loss: 1.5313 - accuracy: 0.4636 - val_loss: 1.5759 - val_accuracy: 0.4500\n",
            "Epoch 10/10\n",
            "352/352 [==============================] - 1s 4ms/step - loss: 1.5135 - accuracy: 0.4689 - val_loss: 1.5734 - val_accuracy: 0.4460\n"
          ]
        },
        {
          "output_type": "stream",
          "name": "stderr",
          "text": [
            "\u001b[32m[I 2022-10-19 23:52:12,746]\u001b[0m Trial 1 finished with value: 0.44600000977516174 and parameters: {'n_units': 975}. Best is trial 1 with value: 0.44600000977516174.\u001b[0m\n"
          ]
        },
        {
          "output_type": "stream",
          "name": "stdout",
          "text": [
            "Epoch 1/10\n",
            "352/352 [==============================] - 2s 5ms/step - loss: 1.9476 - accuracy: 0.3061 - val_loss: 1.8541 - val_accuracy: 0.3472\n",
            "Epoch 2/10\n",
            "352/352 [==============================] - 1s 4ms/step - loss: 1.7911 - accuracy: 0.3708 - val_loss: 1.8302 - val_accuracy: 0.3380\n",
            "Epoch 3/10\n",
            "352/352 [==============================] - 1s 4ms/step - loss: 1.7266 - accuracy: 0.3953 - val_loss: 1.7061 - val_accuracy: 0.4006\n",
            "Epoch 4/10\n",
            "352/352 [==============================] - 1s 4ms/step - loss: 1.6794 - accuracy: 0.4116 - val_loss: 1.6832 - val_accuracy: 0.4076\n",
            "Epoch 5/10\n",
            "352/352 [==============================] - 1s 4ms/step - loss: 1.6424 - accuracy: 0.4263 - val_loss: 1.7571 - val_accuracy: 0.3712\n",
            "Epoch 6/10\n",
            "352/352 [==============================] - 1s 4ms/step - loss: 1.6108 - accuracy: 0.4366 - val_loss: 1.6129 - val_accuracy: 0.4386\n",
            "Epoch 7/10\n",
            "352/352 [==============================] - 1s 4ms/step - loss: 1.5836 - accuracy: 0.4479 - val_loss: 1.5876 - val_accuracy: 0.4500\n",
            "Epoch 8/10\n",
            "352/352 [==============================] - 1s 4ms/step - loss: 1.5613 - accuracy: 0.4548 - val_loss: 1.6461 - val_accuracy: 0.4098\n",
            "Epoch 9/10\n",
            "352/352 [==============================] - 1s 4ms/step - loss: 1.5414 - accuracy: 0.4611 - val_loss: 1.6204 - val_accuracy: 0.4406\n",
            "Epoch 10/10\n",
            "352/352 [==============================] - 1s 4ms/step - loss: 1.5214 - accuracy: 0.4681 - val_loss: 1.6544 - val_accuracy: 0.4168\n"
          ]
        },
        {
          "output_type": "stream",
          "name": "stderr",
          "text": [
            "\u001b[32m[I 2022-10-19 23:52:28,091]\u001b[0m Trial 2 finished with value: 0.41679999232292175 and parameters: {'n_units': 754}. Best is trial 1 with value: 0.44600000977516174.\u001b[0m\n"
          ]
        },
        {
          "output_type": "stream",
          "name": "stdout",
          "text": [
            "Epoch 1/10\n",
            "352/352 [==============================] - 2s 4ms/step - loss: 1.9647 - accuracy: 0.2984 - val_loss: 1.8798 - val_accuracy: 0.3306\n",
            "Epoch 2/10\n",
            "352/352 [==============================] - 1s 4ms/step - loss: 1.8008 - accuracy: 0.3650 - val_loss: 1.7860 - val_accuracy: 0.3708\n",
            "Epoch 3/10\n",
            "352/352 [==============================] - 1s 4ms/step - loss: 1.7340 - accuracy: 0.3909 - val_loss: 1.7333 - val_accuracy: 0.3926\n",
            "Epoch 4/10\n",
            "352/352 [==============================] - 1s 4ms/step - loss: 1.6823 - accuracy: 0.4107 - val_loss: 1.6961 - val_accuracy: 0.3986\n",
            "Epoch 5/10\n",
            "352/352 [==============================] - 1s 4ms/step - loss: 1.6467 - accuracy: 0.4234 - val_loss: 1.6559 - val_accuracy: 0.4142\n",
            "Epoch 6/10\n",
            "352/352 [==============================] - 1s 4ms/step - loss: 1.6132 - accuracy: 0.4355 - val_loss: 1.6264 - val_accuracy: 0.4272\n",
            "Epoch 7/10\n",
            "352/352 [==============================] - 1s 4ms/step - loss: 1.5835 - accuracy: 0.4464 - val_loss: 1.6572 - val_accuracy: 0.4062\n",
            "Epoch 8/10\n",
            "352/352 [==============================] - 1s 4ms/step - loss: 1.5613 - accuracy: 0.4537 - val_loss: 1.6325 - val_accuracy: 0.4260\n",
            "Epoch 9/10\n",
            "352/352 [==============================] - 1s 4ms/step - loss: 1.5381 - accuracy: 0.4631 - val_loss: 1.6302 - val_accuracy: 0.4058\n",
            "Epoch 10/10\n",
            "352/352 [==============================] - 1s 4ms/step - loss: 1.5193 - accuracy: 0.4688 - val_loss: 1.5705 - val_accuracy: 0.4424\n"
          ]
        },
        {
          "output_type": "stream",
          "name": "stderr",
          "text": [
            "\u001b[32m[I 2022-10-19 23:52:49,530]\u001b[0m Trial 3 finished with value: 0.4424000084400177 and parameters: {'n_units': 620}. Best is trial 1 with value: 0.44600000977516174.\u001b[0m\n"
          ]
        },
        {
          "output_type": "stream",
          "name": "stdout",
          "text": [
            "Epoch 1/10\n",
            "352/352 [==============================] - 2s 4ms/step - loss: 2.0467 - accuracy: 0.2671 - val_loss: 1.9851 - val_accuracy: 0.2838\n",
            "Epoch 2/10\n",
            "352/352 [==============================] - 1s 3ms/step - loss: 1.8787 - accuracy: 0.3354 - val_loss: 1.8518 - val_accuracy: 0.3428\n",
            "Epoch 3/10\n",
            "352/352 [==============================] - 1s 3ms/step - loss: 1.8073 - accuracy: 0.3645 - val_loss: 1.8044 - val_accuracy: 0.3734\n",
            "Epoch 4/10\n",
            "352/352 [==============================] - 1s 4ms/step - loss: 1.7582 - accuracy: 0.3821 - val_loss: 1.7881 - val_accuracy: 0.3662\n",
            "Epoch 5/10\n",
            "352/352 [==============================] - 1s 4ms/step - loss: 1.7213 - accuracy: 0.3967 - val_loss: 1.7874 - val_accuracy: 0.3658\n",
            "Epoch 6/10\n",
            "352/352 [==============================] - 1s 4ms/step - loss: 1.6878 - accuracy: 0.4074 - val_loss: 1.7120 - val_accuracy: 0.4010\n",
            "Epoch 7/10\n",
            "352/352 [==============================] - 1s 4ms/step - loss: 1.6644 - accuracy: 0.4159 - val_loss: 1.7060 - val_accuracy: 0.4008\n",
            "Epoch 8/10\n",
            "352/352 [==============================] - 1s 4ms/step - loss: 1.6392 - accuracy: 0.4236 - val_loss: 1.6567 - val_accuracy: 0.4182\n",
            "Epoch 9/10\n",
            "352/352 [==============================] - 1s 4ms/step - loss: 1.6181 - accuracy: 0.4315 - val_loss: 1.6682 - val_accuracy: 0.4098\n",
            "Epoch 10/10\n",
            "352/352 [==============================] - 1s 4ms/step - loss: 1.5974 - accuracy: 0.4374 - val_loss: 1.6271 - val_accuracy: 0.4290\n"
          ]
        },
        {
          "output_type": "stream",
          "name": "stderr",
          "text": [
            "\u001b[32m[I 2022-10-19 23:53:03,476]\u001b[0m Trial 4 finished with value: 0.42899999022483826 and parameters: {'n_units': 173}. Best is trial 1 with value: 0.44600000977516174.\u001b[0m\n"
          ]
        },
        {
          "output_type": "stream",
          "name": "stdout",
          "text": [
            "Epoch 1/10\n",
            "352/352 [==============================] - 2s 4ms/step - loss: 2.0313 - accuracy: 0.2731 - val_loss: 1.9456 - val_accuracy: 0.2930\n",
            "Epoch 2/10\n",
            "352/352 [==============================] - 1s 4ms/step - loss: 1.8551 - accuracy: 0.3454 - val_loss: 1.8395 - val_accuracy: 0.3556\n",
            "Epoch 3/10\n",
            "352/352 [==============================] - 1s 4ms/step - loss: 1.7898 - accuracy: 0.3701 - val_loss: 1.8205 - val_accuracy: 0.3540\n",
            "Epoch 4/10\n",
            "352/352 [==============================] - 1s 4ms/step - loss: 1.7456 - accuracy: 0.3839 - val_loss: 1.7534 - val_accuracy: 0.3824\n",
            "Epoch 5/10\n",
            "352/352 [==============================] - 1s 4ms/step - loss: 1.7065 - accuracy: 0.3986 - val_loss: 1.7468 - val_accuracy: 0.3712\n",
            "Epoch 6/10\n",
            "352/352 [==============================] - 1s 4ms/step - loss: 1.6785 - accuracy: 0.4085 - val_loss: 1.6892 - val_accuracy: 0.3966\n",
            "Epoch 7/10\n",
            "352/352 [==============================] - 1s 3ms/step - loss: 1.6508 - accuracy: 0.4186 - val_loss: 1.6732 - val_accuracy: 0.4126\n",
            "Epoch 8/10\n",
            "352/352 [==============================] - 1s 4ms/step - loss: 1.6270 - accuracy: 0.4280 - val_loss: 1.6680 - val_accuracy: 0.4028\n",
            "Epoch 9/10\n",
            "352/352 [==============================] - 1s 4ms/step - loss: 1.6100 - accuracy: 0.4320 - val_loss: 1.6721 - val_accuracy: 0.4116\n",
            "Epoch 10/10\n",
            "352/352 [==============================] - 1s 4ms/step - loss: 1.5896 - accuracy: 0.4414 - val_loss: 1.6341 - val_accuracy: 0.4200\n"
          ]
        },
        {
          "output_type": "stream",
          "name": "stderr",
          "text": [
            "\u001b[32m[I 2022-10-19 23:53:24,942]\u001b[0m Trial 5 finished with value: 0.41999998688697815 and parameters: {'n_units': 173}. Best is trial 1 with value: 0.44600000977516174.\u001b[0m\n"
          ]
        },
        {
          "output_type": "stream",
          "name": "stdout",
          "text": [
            "Epoch 1/10\n",
            "352/352 [==============================] - 2s 4ms/step - loss: 2.0731 - accuracy: 0.2434 - val_loss: 1.9820 - val_accuracy: 0.2756\n",
            "Epoch 2/10\n",
            "352/352 [==============================] - 1s 3ms/step - loss: 1.9084 - accuracy: 0.3158 - val_loss: 1.8878 - val_accuracy: 0.3138\n",
            "Epoch 3/10\n",
            "352/352 [==============================] - 1s 3ms/step - loss: 1.8455 - accuracy: 0.3447 - val_loss: 1.8607 - val_accuracy: 0.3396\n",
            "Epoch 4/10\n",
            "352/352 [==============================] - 1s 3ms/step - loss: 1.8025 - accuracy: 0.3594 - val_loss: 1.8301 - val_accuracy: 0.3548\n",
            "Epoch 5/10\n",
            "352/352 [==============================] - 1s 3ms/step - loss: 1.7695 - accuracy: 0.3728 - val_loss: 1.7862 - val_accuracy: 0.3616\n",
            "Epoch 6/10\n",
            "352/352 [==============================] - 1s 3ms/step - loss: 1.7440 - accuracy: 0.3830 - val_loss: 1.7407 - val_accuracy: 0.3856\n",
            "Epoch 7/10\n",
            "352/352 [==============================] - 1s 3ms/step - loss: 1.7197 - accuracy: 0.3915 - val_loss: 1.7593 - val_accuracy: 0.3824\n",
            "Epoch 8/10\n",
            "352/352 [==============================] - 1s 3ms/step - loss: 1.6992 - accuracy: 0.3987 - val_loss: 1.7091 - val_accuracy: 0.3928\n",
            "Epoch 9/10\n",
            "352/352 [==============================] - 1s 3ms/step - loss: 1.6804 - accuracy: 0.4042 - val_loss: 1.6927 - val_accuracy: 0.4030\n",
            "Epoch 10/10\n",
            "352/352 [==============================] - 1s 3ms/step - loss: 1.6603 - accuracy: 0.4111 - val_loss: 1.6878 - val_accuracy: 0.3952\n"
          ]
        },
        {
          "output_type": "stream",
          "name": "stderr",
          "text": [
            "\u001b[32m[I 2022-10-19 23:53:38,505]\u001b[0m Trial 6 finished with value: 0.3952000141143799 and parameters: {'n_units': 74}. Best is trial 1 with value: 0.44600000977516174.\u001b[0m\n"
          ]
        },
        {
          "output_type": "stream",
          "name": "stdout",
          "text": [
            "Epoch 1/10\n",
            "352/352 [==============================] - 2s 5ms/step - loss: 1.9705 - accuracy: 0.2973 - val_loss: 1.8938 - val_accuracy: 0.3274\n",
            "Epoch 2/10\n",
            "352/352 [==============================] - 1s 4ms/step - loss: 1.8032 - accuracy: 0.3662 - val_loss: 1.8063 - val_accuracy: 0.3684\n",
            "Epoch 3/10\n",
            "352/352 [==============================] - 1s 4ms/step - loss: 1.7332 - accuracy: 0.3952 - val_loss: 1.7384 - val_accuracy: 0.3830\n",
            "Epoch 4/10\n",
            "352/352 [==============================] - 1s 4ms/step - loss: 1.6830 - accuracy: 0.4118 - val_loss: 1.7031 - val_accuracy: 0.3902\n",
            "Epoch 5/10\n",
            "352/352 [==============================] - 1s 4ms/step - loss: 1.6439 - accuracy: 0.4245 - val_loss: 1.6891 - val_accuracy: 0.4066\n",
            "Epoch 6/10\n",
            "352/352 [==============================] - 1s 4ms/step - loss: 1.6123 - accuracy: 0.4377 - val_loss: 1.6461 - val_accuracy: 0.4234\n",
            "Epoch 7/10\n",
            "352/352 [==============================] - 1s 4ms/step - loss: 1.5812 - accuracy: 0.4481 - val_loss: 1.6237 - val_accuracy: 0.4274\n",
            "Epoch 8/10\n",
            "352/352 [==============================] - 2s 6ms/step - loss: 1.5616 - accuracy: 0.4516 - val_loss: 1.5843 - val_accuracy: 0.4464\n",
            "Epoch 9/10\n",
            "352/352 [==============================] - 2s 5ms/step - loss: 1.5386 - accuracy: 0.4647 - val_loss: 1.5713 - val_accuracy: 0.4468\n",
            "Epoch 10/10\n",
            "352/352 [==============================] - 1s 4ms/step - loss: 1.5188 - accuracy: 0.4665 - val_loss: 1.5745 - val_accuracy: 0.4466\n"
          ]
        },
        {
          "output_type": "stream",
          "name": "stderr",
          "text": [
            "\u001b[32m[I 2022-10-19 23:53:59,797]\u001b[0m Trial 7 finished with value: 0.4465999901294708 and parameters: {'n_units': 889}. Best is trial 7 with value: 0.4465999901294708.\u001b[0m\n"
          ]
        },
        {
          "output_type": "stream",
          "name": "stdout",
          "text": [
            "Epoch 1/10\n",
            "352/352 [==============================] - 2s 4ms/step - loss: 1.9696 - accuracy: 0.2988 - val_loss: 1.8842 - val_accuracy: 0.3276\n",
            "Epoch 2/10\n",
            "352/352 [==============================] - 1s 4ms/step - loss: 1.8032 - accuracy: 0.3659 - val_loss: 1.8131 - val_accuracy: 0.3468\n",
            "Epoch 3/10\n",
            "352/352 [==============================] - 1s 4ms/step - loss: 1.7367 - accuracy: 0.3901 - val_loss: 1.7366 - val_accuracy: 0.3840\n",
            "Epoch 4/10\n",
            "352/352 [==============================] - 1s 4ms/step - loss: 1.6890 - accuracy: 0.4100 - val_loss: 1.6932 - val_accuracy: 0.3984\n",
            "Epoch 5/10\n",
            "352/352 [==============================] - 1s 4ms/step - loss: 1.6530 - accuracy: 0.4196 - val_loss: 1.6544 - val_accuracy: 0.4294\n",
            "Epoch 6/10\n",
            "352/352 [==============================] - 1s 4ms/step - loss: 1.6218 - accuracy: 0.4333 - val_loss: 1.6575 - val_accuracy: 0.4104\n",
            "Epoch 7/10\n",
            "352/352 [==============================] - 1s 4ms/step - loss: 1.5934 - accuracy: 0.4429 - val_loss: 1.6142 - val_accuracy: 0.4344\n",
            "Epoch 8/10\n",
            "352/352 [==============================] - 1s 4ms/step - loss: 1.5712 - accuracy: 0.4499 - val_loss: 1.6624 - val_accuracy: 0.4162\n",
            "Epoch 9/10\n",
            "352/352 [==============================] - 1s 4ms/step - loss: 1.5464 - accuracy: 0.4589 - val_loss: 1.5992 - val_accuracy: 0.4348\n",
            "Epoch 10/10\n",
            "352/352 [==============================] - 1s 4ms/step - loss: 1.5269 - accuracy: 0.4668 - val_loss: 1.5712 - val_accuracy: 0.4492\n"
          ]
        },
        {
          "output_type": "stream",
          "name": "stderr",
          "text": [
            "\u001b[32m[I 2022-10-19 23:54:21,057]\u001b[0m Trial 8 finished with value: 0.44920000433921814 and parameters: {'n_units': 622}. Best is trial 8 with value: 0.44920000433921814.\u001b[0m\n"
          ]
        },
        {
          "output_type": "stream",
          "name": "stdout",
          "text": [
            "Epoch 1/10\n",
            "352/352 [==============================] - 2s 5ms/step - loss: 1.9605 - accuracy: 0.3004 - val_loss: 1.9233 - val_accuracy: 0.3150\n",
            "Epoch 2/10\n",
            "352/352 [==============================] - 1s 4ms/step - loss: 1.7996 - accuracy: 0.3682 - val_loss: 1.7771 - val_accuracy: 0.3642\n",
            "Epoch 3/10\n",
            "352/352 [==============================] - 1s 4ms/step - loss: 1.7339 - accuracy: 0.3936 - val_loss: 1.7237 - val_accuracy: 0.4040\n",
            "Epoch 4/10\n",
            "352/352 [==============================] - 1s 4ms/step - loss: 1.6850 - accuracy: 0.4106 - val_loss: 1.6937 - val_accuracy: 0.4070\n",
            "Epoch 5/10\n",
            "352/352 [==============================] - 1s 4ms/step - loss: 1.6455 - accuracy: 0.4258 - val_loss: 1.6609 - val_accuracy: 0.4224\n",
            "Epoch 6/10\n",
            "352/352 [==============================] - 1s 4ms/step - loss: 1.6147 - accuracy: 0.4349 - val_loss: 1.6486 - val_accuracy: 0.4224\n",
            "Epoch 7/10\n",
            "352/352 [==============================] - 1s 4ms/step - loss: 1.5884 - accuracy: 0.4456 - val_loss: 1.6175 - val_accuracy: 0.4344\n",
            "Epoch 8/10\n",
            "352/352 [==============================] - 1s 4ms/step - loss: 1.5608 - accuracy: 0.4555 - val_loss: 1.6606 - val_accuracy: 0.4178\n",
            "Epoch 9/10\n",
            "352/352 [==============================] - 1s 4ms/step - loss: 1.5438 - accuracy: 0.4598 - val_loss: 1.5770 - val_accuracy: 0.4470\n",
            "Epoch 10/10\n",
            "352/352 [==============================] - 1s 4ms/step - loss: 1.5240 - accuracy: 0.4666 - val_loss: 1.5954 - val_accuracy: 0.4340\n"
          ]
        },
        {
          "output_type": "stream",
          "name": "stderr",
          "text": [
            "\u001b[32m[I 2022-10-19 23:54:36,139]\u001b[0m Trial 9 finished with value: 0.4339999854564667 and parameters: {'n_units': 730}. Best is trial 8 with value: 0.44920000433921814.\u001b[0m\n"
          ]
        }
      ],
      "source": [
        "study = optuna.create_study(direction='maximize',\n",
        "                            sampler=optuna.samplers.TPESampler(seed=SEED)\n",
        ")\n",
        "study.optimize(objective, n_trials=10)"
      ]
    },
    {
      "cell_type": "code",
      "execution_count": null,
      "metadata": {
        "id": "--yKHeGNdOty",
        "colab": {
          "base_uri": "https://localhost:8080/",
          "height": 542
        },
        "outputId": "18d28fe9-09e2-4eaa-867e-9c1e338710cc"
      },
      "outputs": [
        {
          "output_type": "display_data",
          "data": {
            "text/html": [
              "<html>\n",
              "<head><meta charset=\"utf-8\" /></head>\n",
              "<body>\n",
              "    <div>            <script src=\"https://cdnjs.cloudflare.com/ajax/libs/mathjax/2.7.5/MathJax.js?config=TeX-AMS-MML_SVG\"></script><script type=\"text/javascript\">if (window.MathJax) {MathJax.Hub.Config({SVG: {font: \"STIX-Web\"}});}</script>                <script type=\"text/javascript\">window.PlotlyConfig = {MathJaxConfig: 'local'};</script>\n",
              "        <script src=\"https://cdn.plot.ly/plotly-2.8.3.min.js\"></script>                <div id=\"8ffcf57f-4bd6-489d-8182-e017f6488eeb\" class=\"plotly-graph-div\" style=\"height:525px; width:100%;\"></div>            <script type=\"text/javascript\">                                    window.PLOTLYENV=window.PLOTLYENV || {};                                    if (document.getElementById(\"8ffcf57f-4bd6-489d-8182-e017f6488eeb\")) {                    Plotly.newPlot(                        \"8ffcf57f-4bd6-489d-8182-e017f6488eeb\",                        [{\"mode\":\"markers\",\"name\":\"Objective Value\",\"x\":[0,1,2,3,4,5,6,7,8,9],\"y\":[0.4413999915122986,0.44600000977516174,0.41679999232292175,0.4424000084400177,0.42899999022483826,0.41999998688697815,0.3952000141143799,0.4465999901294708,0.44920000433921814,0.4339999854564667],\"type\":\"scatter\"},{\"name\":\"Best Value\",\"x\":[0,1,2,3,4,5,6,7,8,9],\"y\":[0.4413999915122986,0.44600000977516174,0.44600000977516174,0.44600000977516174,0.44600000977516174,0.44600000977516174,0.44600000977516174,0.4465999901294708,0.44920000433921814,0.44920000433921814],\"type\":\"scatter\"}],                        {\"title\":{\"text\":\"Optimization History Plot\"},\"xaxis\":{\"title\":{\"text\":\"Trial\"}},\"yaxis\":{\"title\":{\"text\":\"Objective Value\"}},\"template\":{\"data\":{\"bar\":[{\"error_x\":{\"color\":\"#2a3f5f\"},\"error_y\":{\"color\":\"#2a3f5f\"},\"marker\":{\"line\":{\"color\":\"#E5ECF6\",\"width\":0.5},\"pattern\":{\"fillmode\":\"overlay\",\"size\":10,\"solidity\":0.2}},\"type\":\"bar\"}],\"barpolar\":[{\"marker\":{\"line\":{\"color\":\"#E5ECF6\",\"width\":0.5},\"pattern\":{\"fillmode\":\"overlay\",\"size\":10,\"solidity\":0.2}},\"type\":\"barpolar\"}],\"carpet\":[{\"aaxis\":{\"endlinecolor\":\"#2a3f5f\",\"gridcolor\":\"white\",\"linecolor\":\"white\",\"minorgridcolor\":\"white\",\"startlinecolor\":\"#2a3f5f\"},\"baxis\":{\"endlinecolor\":\"#2a3f5f\",\"gridcolor\":\"white\",\"linecolor\":\"white\",\"minorgridcolor\":\"white\",\"startlinecolor\":\"#2a3f5f\"},\"type\":\"carpet\"}],\"choropleth\":[{\"colorbar\":{\"outlinewidth\":0,\"ticks\":\"\"},\"type\":\"choropleth\"}],\"contour\":[{\"colorbar\":{\"outlinewidth\":0,\"ticks\":\"\"},\"colorscale\":[[0.0,\"#0d0887\"],[0.1111111111111111,\"#46039f\"],[0.2222222222222222,\"#7201a8\"],[0.3333333333333333,\"#9c179e\"],[0.4444444444444444,\"#bd3786\"],[0.5555555555555556,\"#d8576b\"],[0.6666666666666666,\"#ed7953\"],[0.7777777777777778,\"#fb9f3a\"],[0.8888888888888888,\"#fdca26\"],[1.0,\"#f0f921\"]],\"type\":\"contour\"}],\"contourcarpet\":[{\"colorbar\":{\"outlinewidth\":0,\"ticks\":\"\"},\"type\":\"contourcarpet\"}],\"heatmap\":[{\"colorbar\":{\"outlinewidth\":0,\"ticks\":\"\"},\"colorscale\":[[0.0,\"#0d0887\"],[0.1111111111111111,\"#46039f\"],[0.2222222222222222,\"#7201a8\"],[0.3333333333333333,\"#9c179e\"],[0.4444444444444444,\"#bd3786\"],[0.5555555555555556,\"#d8576b\"],[0.6666666666666666,\"#ed7953\"],[0.7777777777777778,\"#fb9f3a\"],[0.8888888888888888,\"#fdca26\"],[1.0,\"#f0f921\"]],\"type\":\"heatmap\"}],\"heatmapgl\":[{\"colorbar\":{\"outlinewidth\":0,\"ticks\":\"\"},\"colorscale\":[[0.0,\"#0d0887\"],[0.1111111111111111,\"#46039f\"],[0.2222222222222222,\"#7201a8\"],[0.3333333333333333,\"#9c179e\"],[0.4444444444444444,\"#bd3786\"],[0.5555555555555556,\"#d8576b\"],[0.6666666666666666,\"#ed7953\"],[0.7777777777777778,\"#fb9f3a\"],[0.8888888888888888,\"#fdca26\"],[1.0,\"#f0f921\"]],\"type\":\"heatmapgl\"}],\"histogram\":[{\"marker\":{\"pattern\":{\"fillmode\":\"overlay\",\"size\":10,\"solidity\":0.2}},\"type\":\"histogram\"}],\"histogram2d\":[{\"colorbar\":{\"outlinewidth\":0,\"ticks\":\"\"},\"colorscale\":[[0.0,\"#0d0887\"],[0.1111111111111111,\"#46039f\"],[0.2222222222222222,\"#7201a8\"],[0.3333333333333333,\"#9c179e\"],[0.4444444444444444,\"#bd3786\"],[0.5555555555555556,\"#d8576b\"],[0.6666666666666666,\"#ed7953\"],[0.7777777777777778,\"#fb9f3a\"],[0.8888888888888888,\"#fdca26\"],[1.0,\"#f0f921\"]],\"type\":\"histogram2d\"}],\"histogram2dcontour\":[{\"colorbar\":{\"outlinewidth\":0,\"ticks\":\"\"},\"colorscale\":[[0.0,\"#0d0887\"],[0.1111111111111111,\"#46039f\"],[0.2222222222222222,\"#7201a8\"],[0.3333333333333333,\"#9c179e\"],[0.4444444444444444,\"#bd3786\"],[0.5555555555555556,\"#d8576b\"],[0.6666666666666666,\"#ed7953\"],[0.7777777777777778,\"#fb9f3a\"],[0.8888888888888888,\"#fdca26\"],[1.0,\"#f0f921\"]],\"type\":\"histogram2dcontour\"}],\"mesh3d\":[{\"colorbar\":{\"outlinewidth\":0,\"ticks\":\"\"},\"type\":\"mesh3d\"}],\"parcoords\":[{\"line\":{\"colorbar\":{\"outlinewidth\":0,\"ticks\":\"\"}},\"type\":\"parcoords\"}],\"pie\":[{\"automargin\":true,\"type\":\"pie\"}],\"scatter\":[{\"marker\":{\"colorbar\":{\"outlinewidth\":0,\"ticks\":\"\"}},\"type\":\"scatter\"}],\"scatter3d\":[{\"line\":{\"colorbar\":{\"outlinewidth\":0,\"ticks\":\"\"}},\"marker\":{\"colorbar\":{\"outlinewidth\":0,\"ticks\":\"\"}},\"type\":\"scatter3d\"}],\"scattercarpet\":[{\"marker\":{\"colorbar\":{\"outlinewidth\":0,\"ticks\":\"\"}},\"type\":\"scattercarpet\"}],\"scattergeo\":[{\"marker\":{\"colorbar\":{\"outlinewidth\":0,\"ticks\":\"\"}},\"type\":\"scattergeo\"}],\"scattergl\":[{\"marker\":{\"colorbar\":{\"outlinewidth\":0,\"ticks\":\"\"}},\"type\":\"scattergl\"}],\"scattermapbox\":[{\"marker\":{\"colorbar\":{\"outlinewidth\":0,\"ticks\":\"\"}},\"type\":\"scattermapbox\"}],\"scatterpolar\":[{\"marker\":{\"colorbar\":{\"outlinewidth\":0,\"ticks\":\"\"}},\"type\":\"scatterpolar\"}],\"scatterpolargl\":[{\"marker\":{\"colorbar\":{\"outlinewidth\":0,\"ticks\":\"\"}},\"type\":\"scatterpolargl\"}],\"scatterternary\":[{\"marker\":{\"colorbar\":{\"outlinewidth\":0,\"ticks\":\"\"}},\"type\":\"scatterternary\"}],\"surface\":[{\"colorbar\":{\"outlinewidth\":0,\"ticks\":\"\"},\"colorscale\":[[0.0,\"#0d0887\"],[0.1111111111111111,\"#46039f\"],[0.2222222222222222,\"#7201a8\"],[0.3333333333333333,\"#9c179e\"],[0.4444444444444444,\"#bd3786\"],[0.5555555555555556,\"#d8576b\"],[0.6666666666666666,\"#ed7953\"],[0.7777777777777778,\"#fb9f3a\"],[0.8888888888888888,\"#fdca26\"],[1.0,\"#f0f921\"]],\"type\":\"surface\"}],\"table\":[{\"cells\":{\"fill\":{\"color\":\"#EBF0F8\"},\"line\":{\"color\":\"white\"}},\"header\":{\"fill\":{\"color\":\"#C8D4E3\"},\"line\":{\"color\":\"white\"}},\"type\":\"table\"}]},\"layout\":{\"annotationdefaults\":{\"arrowcolor\":\"#2a3f5f\",\"arrowhead\":0,\"arrowwidth\":1},\"autotypenumbers\":\"strict\",\"coloraxis\":{\"colorbar\":{\"outlinewidth\":0,\"ticks\":\"\"}},\"colorscale\":{\"diverging\":[[0,\"#8e0152\"],[0.1,\"#c51b7d\"],[0.2,\"#de77ae\"],[0.3,\"#f1b6da\"],[0.4,\"#fde0ef\"],[0.5,\"#f7f7f7\"],[0.6,\"#e6f5d0\"],[0.7,\"#b8e186\"],[0.8,\"#7fbc41\"],[0.9,\"#4d9221\"],[1,\"#276419\"]],\"sequential\":[[0.0,\"#0d0887\"],[0.1111111111111111,\"#46039f\"],[0.2222222222222222,\"#7201a8\"],[0.3333333333333333,\"#9c179e\"],[0.4444444444444444,\"#bd3786\"],[0.5555555555555556,\"#d8576b\"],[0.6666666666666666,\"#ed7953\"],[0.7777777777777778,\"#fb9f3a\"],[0.8888888888888888,\"#fdca26\"],[1.0,\"#f0f921\"]],\"sequentialminus\":[[0.0,\"#0d0887\"],[0.1111111111111111,\"#46039f\"],[0.2222222222222222,\"#7201a8\"],[0.3333333333333333,\"#9c179e\"],[0.4444444444444444,\"#bd3786\"],[0.5555555555555556,\"#d8576b\"],[0.6666666666666666,\"#ed7953\"],[0.7777777777777778,\"#fb9f3a\"],[0.8888888888888888,\"#fdca26\"],[1.0,\"#f0f921\"]]},\"colorway\":[\"#636efa\",\"#EF553B\",\"#00cc96\",\"#ab63fa\",\"#FFA15A\",\"#19d3f3\",\"#FF6692\",\"#B6E880\",\"#FF97FF\",\"#FECB52\"],\"font\":{\"color\":\"#2a3f5f\"},\"geo\":{\"bgcolor\":\"white\",\"lakecolor\":\"white\",\"landcolor\":\"#E5ECF6\",\"showlakes\":true,\"showland\":true,\"subunitcolor\":\"white\"},\"hoverlabel\":{\"align\":\"left\"},\"hovermode\":\"closest\",\"mapbox\":{\"style\":\"light\"},\"paper_bgcolor\":\"white\",\"plot_bgcolor\":\"#E5ECF6\",\"polar\":{\"angularaxis\":{\"gridcolor\":\"white\",\"linecolor\":\"white\",\"ticks\":\"\"},\"bgcolor\":\"#E5ECF6\",\"radialaxis\":{\"gridcolor\":\"white\",\"linecolor\":\"white\",\"ticks\":\"\"}},\"scene\":{\"xaxis\":{\"backgroundcolor\":\"#E5ECF6\",\"gridcolor\":\"white\",\"gridwidth\":2,\"linecolor\":\"white\",\"showbackground\":true,\"ticks\":\"\",\"zerolinecolor\":\"white\"},\"yaxis\":{\"backgroundcolor\":\"#E5ECF6\",\"gridcolor\":\"white\",\"gridwidth\":2,\"linecolor\":\"white\",\"showbackground\":true,\"ticks\":\"\",\"zerolinecolor\":\"white\"},\"zaxis\":{\"backgroundcolor\":\"#E5ECF6\",\"gridcolor\":\"white\",\"gridwidth\":2,\"linecolor\":\"white\",\"showbackground\":true,\"ticks\":\"\",\"zerolinecolor\":\"white\"}},\"shapedefaults\":{\"line\":{\"color\":\"#2a3f5f\"}},\"ternary\":{\"aaxis\":{\"gridcolor\":\"white\",\"linecolor\":\"white\",\"ticks\":\"\"},\"baxis\":{\"gridcolor\":\"white\",\"linecolor\":\"white\",\"ticks\":\"\"},\"bgcolor\":\"#E5ECF6\",\"caxis\":{\"gridcolor\":\"white\",\"linecolor\":\"white\",\"ticks\":\"\"}},\"title\":{\"x\":0.05},\"xaxis\":{\"automargin\":true,\"gridcolor\":\"white\",\"linecolor\":\"white\",\"ticks\":\"\",\"title\":{\"standoff\":15},\"zerolinecolor\":\"white\",\"zerolinewidth\":2},\"yaxis\":{\"automargin\":true,\"gridcolor\":\"white\",\"linecolor\":\"white\",\"ticks\":\"\",\"title\":{\"standoff\":15},\"zerolinecolor\":\"white\",\"zerolinewidth\":2}}}},                        {\"responsive\": true}                    ).then(function(){\n",
              "                            \n",
              "var gd = document.getElementById('8ffcf57f-4bd6-489d-8182-e017f6488eeb');\n",
              "var x = new MutationObserver(function (mutations, observer) {{\n",
              "        var display = window.getComputedStyle(gd).display;\n",
              "        if (!display || display === 'none') {{\n",
              "            console.log([gd, 'removed!']);\n",
              "            Plotly.purge(gd);\n",
              "            observer.disconnect();\n",
              "        }}\n",
              "}});\n",
              "\n",
              "// Listen for the removal of the full notebook cells\n",
              "var notebookContainer = gd.closest('#notebook-container');\n",
              "if (notebookContainer) {{\n",
              "    x.observe(notebookContainer, {childList: true});\n",
              "}}\n",
              "\n",
              "// Listen for the clearing of the current output cell\n",
              "var outputEl = gd.closest('.output');\n",
              "if (outputEl) {{\n",
              "    x.observe(outputEl, {childList: true});\n",
              "}}\n",
              "\n",
              "                        })                };                            </script>        </div>\n",
              "</body>\n",
              "</html>"
            ]
          },
          "metadata": {}
        }
      ],
      "source": [
        "plot_optimization_history(study)"
      ]
    },
    {
      "cell_type": "code",
      "execution_count": null,
      "metadata": {
        "id": "TUhEsWsSdRrC",
        "colab": {
          "base_uri": "https://localhost:8080/"
        },
        "outputId": "9b648bc7-e8f3-4911-ee45-18614b9c1eb8"
      },
      "outputs": [
        {
          "output_type": "stream",
          "name": "stdout",
          "text": [
            "Number of finished trials: 10\n",
            "Best trial:\n",
            "  Value: 0.44920000433921814\n",
            "  Params: \n",
            "    n_units: 622\n"
          ]
        }
      ],
      "source": [
        "print(\"Number of finished trials: {}\".format(len(study.trials)))\n",
        "print(\"Best trial:\")\n",
        "trial = study.best_trial\n",
        "print(\"  Value: {}\".format(trial.value))\n",
        "print(\"  Params: \")\n",
        "for key, value in trial.params.items():\n",
        "  print(\"    {}: {}\".format(key, value))"
      ]
    },
    {
      "cell_type": "markdown",
      "metadata": {
        "id": "BfYhGN3KdZ2I"
      },
      "source": [
        "## Model result with optimised neurons\n",
        "Optimum number of neurons is 975\n",
        "\n",
        "Test accuracy gone from 0.419 to 0.451"
      ]
    },
    {
      "cell_type": "code",
      "execution_count": null,
      "metadata": {
        "id": "GvhVTRW7dk1a",
        "colab": {
          "base_uri": "https://localhost:8080/"
        },
        "outputId": "082c7106-23c4-401f-b899-ba5318ee6666"
      },
      "outputs": [
        {
          "output_type": "stream",
          "name": "stdout",
          "text": [
            "Epoch 1/10\n",
            "352/352 [==============================] - 2s 4ms/step - loss: 1.9566 - accuracy: 0.3002 - val_loss: 1.8440 - val_accuracy: 0.3466\n",
            "Epoch 2/10\n",
            "352/352 [==============================] - 1s 4ms/step - loss: 1.8003 - accuracy: 0.3677 - val_loss: 1.7828 - val_accuracy: 0.3774\n",
            "Epoch 3/10\n",
            "352/352 [==============================] - 1s 4ms/step - loss: 1.7338 - accuracy: 0.3921 - val_loss: 1.7378 - val_accuracy: 0.3984\n",
            "Epoch 4/10\n",
            "352/352 [==============================] - 1s 4ms/step - loss: 1.6838 - accuracy: 0.4100 - val_loss: 1.7111 - val_accuracy: 0.3952\n",
            "Epoch 5/10\n",
            "352/352 [==============================] - 1s 4ms/step - loss: 1.6474 - accuracy: 0.4254 - val_loss: 1.6529 - val_accuracy: 0.4116\n",
            "Epoch 6/10\n",
            "352/352 [==============================] - 1s 4ms/step - loss: 1.6172 - accuracy: 0.4350 - val_loss: 1.6450 - val_accuracy: 0.4182\n",
            "Epoch 7/10\n",
            "352/352 [==============================] - 1s 4ms/step - loss: 1.5861 - accuracy: 0.4480 - val_loss: 1.5998 - val_accuracy: 0.4422\n",
            "Epoch 8/10\n",
            "352/352 [==============================] - 1s 4ms/step - loss: 1.5623 - accuracy: 0.4518 - val_loss: 1.6187 - val_accuracy: 0.4292\n",
            "Epoch 9/10\n",
            "352/352 [==============================] - 1s 4ms/step - loss: 1.5415 - accuracy: 0.4595 - val_loss: 1.5623 - val_accuracy: 0.4528\n",
            "Epoch 10/10\n",
            "352/352 [==============================] - 1s 4ms/step - loss: 1.5217 - accuracy: 0.4664 - val_loss: 1.5577 - val_accuracy: 0.4528\n",
            "Test loss: 1.55\n",
            "Test accuracy: 0.456\n"
          ]
        }
      ],
      "source": [
        "model = build_basic_model(study.best_params['n_units'])\n",
        "\n",
        "model.compile(optimizer=\"sgd\",\n",
        "              loss='categorical_crossentropy',\n",
        "              metrics=['accuracy'])\n",
        "history = model.fit(x_train, y_train,\n",
        "                    batch_size=128,\n",
        "                    epochs=10,\n",
        "                    verbose=True,\n",
        "                    validation_split=.1)\n",
        "loss, accuracy  = model.evaluate(x_test, y_test, verbose=False)\n",
        "print(f'Test loss: {loss:.3}')\n",
        "print(f'Test accuracy: {accuracy:.3}')"
      ]
    },
    {
      "cell_type": "markdown",
      "metadata": {
        "id": "DNLZN7u9J71Y"
      },
      "source": [
        "## Model result with tuned parameters\n",
        "neurons = 975\n",
        "\n",
        "optimizer = sgd\n",
        "\n",
        "learning rate = 0.0177\n",
        "\n",
        "momentum = 0.866\n",
        "\n",
        "batch size = 128\n",
        "\n",
        "epochs = 50"
      ]
    },
    {
      "cell_type": "code",
      "execution_count": null,
      "metadata": {
        "id": "xHFY3fm4DNuy",
        "colab": {
          "base_uri": "https://localhost:8080/"
        },
        "outputId": "7bd79a51-855e-4478-c954-dc6c413da375"
      },
      "outputs": [
        {
          "output_type": "stream",
          "name": "stdout",
          "text": [
            "Epoch 1/50\n",
            "352/352 [==============================] - 2s 5ms/step - loss: 1.8413 - accuracy: 0.3356 - val_loss: 1.7005 - val_accuracy: 0.3910\n",
            "Epoch 2/50\n",
            "352/352 [==============================] - 2s 4ms/step - loss: 1.6518 - accuracy: 0.4106 - val_loss: 1.6474 - val_accuracy: 0.4076\n",
            "Epoch 3/50\n",
            "352/352 [==============================] - 2s 4ms/step - loss: 1.5772 - accuracy: 0.4363 - val_loss: 1.5715 - val_accuracy: 0.4366\n",
            "Epoch 4/50\n",
            "352/352 [==============================] - 2s 4ms/step - loss: 1.5153 - accuracy: 0.4593 - val_loss: 1.5196 - val_accuracy: 0.4680\n",
            "Epoch 5/50\n",
            "352/352 [==============================] - 2s 4ms/step - loss: 1.4681 - accuracy: 0.4784 - val_loss: 1.4845 - val_accuracy: 0.4746\n",
            "Epoch 6/50\n",
            "352/352 [==============================] - 2s 4ms/step - loss: 1.4256 - accuracy: 0.4908 - val_loss: 1.4408 - val_accuracy: 0.4954\n",
            "Epoch 7/50\n",
            "352/352 [==============================] - 2s 4ms/step - loss: 1.3863 - accuracy: 0.5048 - val_loss: 1.4623 - val_accuracy: 0.4724\n",
            "Epoch 8/50\n",
            "352/352 [==============================] - 2s 5ms/step - loss: 1.3560 - accuracy: 0.5161 - val_loss: 1.4366 - val_accuracy: 0.4776\n",
            "Epoch 9/50\n",
            "352/352 [==============================] - 2s 5ms/step - loss: 1.3211 - accuracy: 0.5297 - val_loss: 1.4437 - val_accuracy: 0.4952\n",
            "Epoch 10/50\n",
            "352/352 [==============================] - 2s 5ms/step - loss: 1.2998 - accuracy: 0.5375 - val_loss: 1.3869 - val_accuracy: 0.5104\n",
            "Epoch 11/50\n",
            "352/352 [==============================] - 2s 4ms/step - loss: 1.2808 - accuracy: 0.5454 - val_loss: 1.3879 - val_accuracy: 0.5110\n",
            "Epoch 12/50\n",
            "352/352 [==============================] - 2s 5ms/step - loss: 1.2480 - accuracy: 0.5569 - val_loss: 1.4066 - val_accuracy: 0.5046\n",
            "Epoch 13/50\n",
            "352/352 [==============================] - 2s 5ms/step - loss: 1.2282 - accuracy: 0.5612 - val_loss: 1.3865 - val_accuracy: 0.5110\n",
            "Epoch 14/50\n",
            "352/352 [==============================] - 2s 4ms/step - loss: 1.1871 - accuracy: 0.5776 - val_loss: 1.3768 - val_accuracy: 0.5078\n",
            "Epoch 15/50\n",
            "352/352 [==============================] - 2s 4ms/step - loss: 1.1711 - accuracy: 0.5834 - val_loss: 1.3838 - val_accuracy: 0.5218\n",
            "Epoch 16/50\n",
            "352/352 [==============================] - 2s 4ms/step - loss: 1.1456 - accuracy: 0.5934 - val_loss: 1.3462 - val_accuracy: 0.5284\n",
            "Epoch 17/50\n",
            "352/352 [==============================] - 2s 5ms/step - loss: 1.1329 - accuracy: 0.5960 - val_loss: 1.4593 - val_accuracy: 0.4980\n",
            "Epoch 18/50\n",
            "352/352 [==============================] - 2s 4ms/step - loss: 1.0998 - accuracy: 0.6089 - val_loss: 1.3634 - val_accuracy: 0.5244\n",
            "Epoch 19/50\n",
            "352/352 [==============================] - 2s 5ms/step - loss: 1.0719 - accuracy: 0.6188 - val_loss: 1.3655 - val_accuracy: 0.5264\n",
            "Epoch 20/50\n",
            "352/352 [==============================] - 2s 5ms/step - loss: 1.0507 - accuracy: 0.6280 - val_loss: 1.3599 - val_accuracy: 0.5334\n",
            "Epoch 21/50\n",
            "352/352 [==============================] - 2s 5ms/step - loss: 1.0280 - accuracy: 0.6329 - val_loss: 1.4004 - val_accuracy: 0.5274\n",
            "Epoch 22/50\n",
            "352/352 [==============================] - 2s 5ms/step - loss: 1.0152 - accuracy: 0.6396 - val_loss: 1.3354 - val_accuracy: 0.5398\n",
            "Epoch 23/50\n",
            "352/352 [==============================] - 2s 5ms/step - loss: 0.9882 - accuracy: 0.6490 - val_loss: 1.3785 - val_accuracy: 0.5224\n",
            "Epoch 24/50\n",
            "352/352 [==============================] - 2s 5ms/step - loss: 0.9689 - accuracy: 0.6542 - val_loss: 1.4267 - val_accuracy: 0.5244\n",
            "Epoch 25/50\n",
            "352/352 [==============================] - 2s 5ms/step - loss: 0.9403 - accuracy: 0.6659 - val_loss: 1.3902 - val_accuracy: 0.5430\n",
            "Epoch 26/50\n",
            "352/352 [==============================] - 2s 4ms/step - loss: 0.9116 - accuracy: 0.6746 - val_loss: 1.4329 - val_accuracy: 0.5258\n",
            "Epoch 27/50\n",
            "352/352 [==============================] - 2s 5ms/step - loss: 0.8985 - accuracy: 0.6783 - val_loss: 1.4136 - val_accuracy: 0.5296\n",
            "Epoch 28/50\n",
            "352/352 [==============================] - 2s 5ms/step - loss: 0.8714 - accuracy: 0.6879 - val_loss: 1.4384 - val_accuracy: 0.5338\n",
            "Epoch 29/50\n",
            "352/352 [==============================] - 2s 4ms/step - loss: 0.8549 - accuracy: 0.6934 - val_loss: 1.4461 - val_accuracy: 0.5320\n",
            "Epoch 30/50\n",
            "352/352 [==============================] - 2s 5ms/step - loss: 0.8218 - accuracy: 0.7087 - val_loss: 1.4660 - val_accuracy: 0.5402\n",
            "Epoch 31/50\n",
            "352/352 [==============================] - 2s 4ms/step - loss: 0.8087 - accuracy: 0.7124 - val_loss: 1.4665 - val_accuracy: 0.5412\n",
            "Epoch 32/50\n",
            "352/352 [==============================] - 2s 5ms/step - loss: 0.7866 - accuracy: 0.7180 - val_loss: 1.5257 - val_accuracy: 0.5332\n",
            "Epoch 33/50\n",
            "352/352 [==============================] - 2s 5ms/step - loss: 0.7728 - accuracy: 0.7248 - val_loss: 1.5132 - val_accuracy: 0.5322\n",
            "Epoch 34/50\n",
            "352/352 [==============================] - 2s 4ms/step - loss: 0.7436 - accuracy: 0.7335 - val_loss: 1.5613 - val_accuracy: 0.5338\n",
            "Epoch 35/50\n",
            "352/352 [==============================] - 2s 4ms/step - loss: 0.7380 - accuracy: 0.7365 - val_loss: 1.4957 - val_accuracy: 0.5508\n",
            "Epoch 36/50\n",
            "352/352 [==============================] - 2s 5ms/step - loss: 0.7127 - accuracy: 0.7473 - val_loss: 1.5248 - val_accuracy: 0.5420\n",
            "Epoch 37/50\n",
            "352/352 [==============================] - 2s 5ms/step - loss: 0.6875 - accuracy: 0.7538 - val_loss: 1.6064 - val_accuracy: 0.5286\n",
            "Epoch 38/50\n",
            "352/352 [==============================] - 2s 5ms/step - loss: 0.6678 - accuracy: 0.7595 - val_loss: 1.6147 - val_accuracy: 0.5370\n",
            "Epoch 39/50\n",
            "352/352 [==============================] - 2s 5ms/step - loss: 0.6458 - accuracy: 0.7723 - val_loss: 1.6006 - val_accuracy: 0.5360\n",
            "Epoch 40/50\n",
            "352/352 [==============================] - 2s 5ms/step - loss: 0.6293 - accuracy: 0.7747 - val_loss: 1.6677 - val_accuracy: 0.5332\n",
            "Epoch 41/50\n",
            "352/352 [==============================] - 2s 5ms/step - loss: 0.6090 - accuracy: 0.7812 - val_loss: 1.6858 - val_accuracy: 0.5398\n",
            "Epoch 42/50\n",
            "352/352 [==============================] - 2s 4ms/step - loss: 0.5954 - accuracy: 0.7890 - val_loss: 1.7425 - val_accuracy: 0.5216\n",
            "Epoch 43/50\n",
            "352/352 [==============================] - 2s 5ms/step - loss: 0.5912 - accuracy: 0.7894 - val_loss: 1.7696 - val_accuracy: 0.5282\n",
            "Epoch 44/50\n",
            "352/352 [==============================] - 2s 5ms/step - loss: 0.5665 - accuracy: 0.7979 - val_loss: 1.7433 - val_accuracy: 0.5350\n",
            "Epoch 45/50\n",
            "352/352 [==============================] - 2s 5ms/step - loss: 0.5482 - accuracy: 0.8064 - val_loss: 1.7588 - val_accuracy: 0.5402\n",
            "Epoch 46/50\n",
            "352/352 [==============================] - 2s 4ms/step - loss: 0.5255 - accuracy: 0.8132 - val_loss: 1.7852 - val_accuracy: 0.5272\n",
            "Epoch 47/50\n",
            "352/352 [==============================] - 2s 4ms/step - loss: 0.5193 - accuracy: 0.8136 - val_loss: 1.8613 - val_accuracy: 0.5320\n",
            "Epoch 48/50\n",
            "352/352 [==============================] - 2s 5ms/step - loss: 0.4973 - accuracy: 0.8219 - val_loss: 1.9037 - val_accuracy: 0.5348\n",
            "Epoch 49/50\n",
            "352/352 [==============================] - 2s 4ms/step - loss: 0.4871 - accuracy: 0.8258 - val_loss: 1.8449 - val_accuracy: 0.5442\n",
            "Epoch 50/50\n",
            "352/352 [==============================] - 2s 5ms/step - loss: 0.4922 - accuracy: 0.8232 - val_loss: 1.9173 - val_accuracy: 0.5288\n",
            "Test loss: 1.99\n",
            "Test accuracy: 0.528\n"
          ]
        }
      ],
      "source": [
        "model = build_basic_model(975)\n",
        "\n",
        "model.compile(tf.keras.optimizers.SGD(lr=0.0177, momentum=0.866),\n",
        "              loss='categorical_crossentropy',\n",
        "              metrics=['accuracy'])\n",
        "history = model.fit(x_train, y_train,\n",
        "                    batch_size=128,\n",
        "                    epochs=50,\n",
        "                    verbose=True,\n",
        "                    validation_split=.1)\n",
        "loss, accuracy  = model.evaluate(x_test, y_test, verbose=False)\n",
        "print(f'Test loss: {loss:.3}')\n",
        "print(f'Test accuracy: {accuracy:.3}')"
      ]
    },
    {
      "cell_type": "code",
      "execution_count": null,
      "metadata": {
        "id": "rzhla8bNeN39",
        "colab": {
          "base_uri": "https://localhost:8080/",
          "height": 333
        },
        "outputId": "368cae0c-ae43-430e-f46d-a078a837df82"
      },
      "outputs": [
        {
          "output_type": "stream",
          "name": "stdout",
          "text": [
            "Test loss: 1.99\n",
            "Test accuracy: 0.528\n"
          ]
        },
        {
          "output_type": "display_data",
          "data": {
            "text/plain": [
              "<Figure size 576x432 with 0 Axes>"
            ]
          },
          "metadata": {}
        },
        {
          "output_type": "display_data",
          "data": {
            "text/plain": [
              "<Figure size 432x288 with 1 Axes>"
            ],
            "image/png": "[encoded data removed]"
          },
          "metadata": {
            "needs_background": "light"
          }
        }
      ],
      "source": [
        "plot_loss_accuracy(history)\n",
        "print(f'Test loss: {loss:.3}')\n",
        "print(f'Test accuracy: {accuracy:.3}')"
      ]
    },
    {
      "cell_type": "code",
      "execution_count": null,
      "metadata": {
        "id": "aM95zirhKd3Z",
        "colab": {
          "base_uri": "https://localhost:8080/"
        },
        "outputId": "7b667389-e69f-418e-8236-b4fb51a0c77c"
      },
      "outputs": [
        {
          "output_type": "stream",
          "name": "stdout",
          "text": [
            "Epoch 1/50\n",
            "352/352 [==============================] - 3s 7ms/step - loss: 1.9787 - accuracy: 0.2977 - val_loss: 1.8132 - val_accuracy: 0.3510\n",
            "Epoch 2/50\n",
            "352/352 [==============================] - 2s 6ms/step - loss: 1.7136 - accuracy: 0.3882 - val_loss: 1.8165 - val_accuracy: 0.3520\n",
            "Epoch 3/50\n",
            "352/352 [==============================] - 2s 6ms/step - loss: 1.6144 - accuracy: 0.4251 - val_loss: 1.7018 - val_accuracy: 0.3834\n",
            "Epoch 4/50\n",
            "352/352 [==============================] - 2s 6ms/step - loss: 1.5486 - accuracy: 0.4496 - val_loss: 1.6237 - val_accuracy: 0.4260\n",
            "Epoch 5/50\n",
            "352/352 [==============================] - 2s 6ms/step - loss: 1.4945 - accuracy: 0.4672 - val_loss: 1.5515 - val_accuracy: 0.4554\n",
            "Epoch 6/50\n",
            "352/352 [==============================] - 2s 6ms/step - loss: 1.4520 - accuracy: 0.4844 - val_loss: 1.5203 - val_accuracy: 0.4680\n",
            "Epoch 7/50\n",
            "352/352 [==============================] - 2s 6ms/step - loss: 1.4129 - accuracy: 0.4956 - val_loss: 1.5514 - val_accuracy: 0.4562\n",
            "Epoch 8/50\n",
            "352/352 [==============================] - 2s 6ms/step - loss: 1.3689 - accuracy: 0.5117 - val_loss: 1.4713 - val_accuracy: 0.4880\n",
            "Epoch 9/50\n",
            "352/352 [==============================] - 2s 7ms/step - loss: 1.3319 - accuracy: 0.5269 - val_loss: 1.4521 - val_accuracy: 0.4862\n",
            "Epoch 10/50\n",
            "352/352 [==============================] - 2s 7ms/step - loss: 1.2963 - accuracy: 0.5416 - val_loss: 1.4637 - val_accuracy: 0.4864\n",
            "Epoch 11/50\n",
            "352/352 [==============================] - 2s 6ms/step - loss: 1.2664 - accuracy: 0.5477 - val_loss: 1.4045 - val_accuracy: 0.5080\n",
            "Epoch 12/50\n",
            "352/352 [==============================] - 2s 6ms/step - loss: 1.2293 - accuracy: 0.5633 - val_loss: 1.3911 - val_accuracy: 0.5212\n",
            "Epoch 13/50\n",
            "352/352 [==============================] - 2s 6ms/step - loss: 1.1961 - accuracy: 0.5732 - val_loss: 1.3909 - val_accuracy: 0.5192\n",
            "Epoch 14/50\n",
            "352/352 [==============================] - 2s 6ms/step - loss: 1.1706 - accuracy: 0.5849 - val_loss: 1.3784 - val_accuracy: 0.5234\n",
            "Epoch 15/50\n",
            "352/352 [==============================] - 2s 6ms/step - loss: 1.1408 - accuracy: 0.5941 - val_loss: 1.3720 - val_accuracy: 0.5266\n",
            "Epoch 16/50\n",
            "352/352 [==============================] - 2s 6ms/step - loss: 1.1132 - accuracy: 0.6051 - val_loss: 1.3833 - val_accuracy: 0.5230\n",
            "Epoch 17/50\n",
            "352/352 [==============================] - 2s 6ms/step - loss: 1.0832 - accuracy: 0.6158 - val_loss: 1.3814 - val_accuracy: 0.5334\n",
            "Epoch 18/50\n",
            "352/352 [==============================] - 2s 6ms/step - loss: 1.0555 - accuracy: 0.6255 - val_loss: 1.3685 - val_accuracy: 0.5342\n",
            "Epoch 19/50\n",
            "352/352 [==============================] - 2s 6ms/step - loss: 1.0332 - accuracy: 0.6317 - val_loss: 1.3750 - val_accuracy: 0.5388\n",
            "Epoch 20/50\n",
            "352/352 [==============================] - 2s 6ms/step - loss: 1.0090 - accuracy: 0.6407 - val_loss: 1.4324 - val_accuracy: 0.5166\n",
            "Epoch 21/50\n",
            "352/352 [==============================] - 2s 6ms/step - loss: 0.9797 - accuracy: 0.6506 - val_loss: 1.4837 - val_accuracy: 0.5120\n",
            "Epoch 22/50\n",
            "352/352 [==============================] - 2s 6ms/step - loss: 0.9527 - accuracy: 0.6628 - val_loss: 1.4067 - val_accuracy: 0.5316\n",
            "Epoch 23/50\n",
            "352/352 [==============================] - 2s 6ms/step - loss: 0.9319 - accuracy: 0.6687 - val_loss: 1.4200 - val_accuracy: 0.5296\n",
            "Epoch 24/50\n",
            "352/352 [==============================] - 2s 6ms/step - loss: 0.9077 - accuracy: 0.6774 - val_loss: 1.4585 - val_accuracy: 0.5382\n",
            "Epoch 25/50\n",
            "352/352 [==============================] - 2s 6ms/step - loss: 0.8887 - accuracy: 0.6837 - val_loss: 1.4790 - val_accuracy: 0.5276\n",
            "Epoch 26/50\n",
            "352/352 [==============================] - 2s 6ms/step - loss: 0.8661 - accuracy: 0.6932 - val_loss: 1.4968 - val_accuracy: 0.5280\n",
            "Epoch 27/50\n",
            "352/352 [==============================] - 2s 6ms/step - loss: 0.8417 - accuracy: 0.7008 - val_loss: 1.4797 - val_accuracy: 0.5400\n",
            "Epoch 28/50\n",
            "352/352 [==============================] - 2s 6ms/step - loss: 0.8166 - accuracy: 0.7084 - val_loss: 1.5690 - val_accuracy: 0.5320\n",
            "Epoch 29/50\n",
            "352/352 [==============================] - 2s 6ms/step - loss: 0.7955 - accuracy: 0.7174 - val_loss: 1.5606 - val_accuracy: 0.5280\n",
            "Epoch 30/50\n",
            "352/352 [==============================] - 2s 6ms/step - loss: 0.7782 - accuracy: 0.7216 - val_loss: 1.5592 - val_accuracy: 0.5322\n",
            "Epoch 31/50\n",
            "352/352 [==============================] - 2s 6ms/step - loss: 0.7543 - accuracy: 0.7306 - val_loss: 1.6434 - val_accuracy: 0.5208\n",
            "Epoch 32/50\n",
            "352/352 [==============================] - 2s 6ms/step - loss: 0.7379 - accuracy: 0.7373 - val_loss: 1.6285 - val_accuracy: 0.5212\n",
            "Epoch 33/50\n",
            "352/352 [==============================] - 2s 6ms/step - loss: 0.7196 - accuracy: 0.7429 - val_loss: 1.6651 - val_accuracy: 0.5286\n",
            "Epoch 34/50\n",
            "352/352 [==============================] - 2s 6ms/step - loss: 0.6973 - accuracy: 0.7541 - val_loss: 1.7045 - val_accuracy: 0.5278\n",
            "Epoch 35/50\n",
            "352/352 [==============================] - 2s 6ms/step - loss: 0.6856 - accuracy: 0.7564 - val_loss: 1.7211 - val_accuracy: 0.5312\n",
            "Epoch 36/50\n",
            "352/352 [==============================] - 2s 6ms/step - loss: 0.6598 - accuracy: 0.7654 - val_loss: 1.7586 - val_accuracy: 0.5186\n",
            "Epoch 37/50\n",
            "352/352 [==============================] - 2s 6ms/step - loss: 0.6475 - accuracy: 0.7698 - val_loss: 1.7481 - val_accuracy: 0.5240\n",
            "Epoch 38/50\n",
            "352/352 [==============================] - 2s 6ms/step - loss: 0.6340 - accuracy: 0.7733 - val_loss: 1.8242 - val_accuracy: 0.5164\n",
            "Epoch 39/50\n",
            "352/352 [==============================] - 2s 6ms/step - loss: 0.6175 - accuracy: 0.7814 - val_loss: 1.8169 - val_accuracy: 0.5236\n",
            "Epoch 40/50\n",
            "352/352 [==============================] - 2s 6ms/step - loss: 0.6020 - accuracy: 0.7863 - val_loss: 1.8722 - val_accuracy: 0.5224\n",
            "Epoch 41/50\n",
            "352/352 [==============================] - 2s 6ms/step - loss: 0.5874 - accuracy: 0.7944 - val_loss: 1.9220 - val_accuracy: 0.5148\n",
            "Epoch 42/50\n",
            "352/352 [==============================] - 2s 6ms/step - loss: 0.5689 - accuracy: 0.7973 - val_loss: 1.9262 - val_accuracy: 0.5150\n",
            "Epoch 43/50\n",
            "352/352 [==============================] - 2s 6ms/step - loss: 0.5629 - accuracy: 0.7999 - val_loss: 1.9398 - val_accuracy: 0.5252\n",
            "Epoch 44/50\n",
            "352/352 [==============================] - 2s 6ms/step - loss: 0.5403 - accuracy: 0.8087 - val_loss: 2.0059 - val_accuracy: 0.5244\n",
            "Epoch 45/50\n",
            "352/352 [==============================] - 2s 6ms/step - loss: 0.5451 - accuracy: 0.8071 - val_loss: 2.0071 - val_accuracy: 0.5268\n",
            "Epoch 46/50\n",
            "352/352 [==============================] - 2s 6ms/step - loss: 0.5166 - accuracy: 0.8149 - val_loss: 2.0450 - val_accuracy: 0.5284\n",
            "Epoch 47/50\n",
            "352/352 [==============================] - 2s 6ms/step - loss: 0.5122 - accuracy: 0.8174 - val_loss: 2.1093 - val_accuracy: 0.5196\n",
            "Epoch 48/50\n",
            "352/352 [==============================] - 2s 6ms/step - loss: 0.5013 - accuracy: 0.8215 - val_loss: 2.1251 - val_accuracy: 0.5268\n",
            "Epoch 49/50\n",
            "352/352 [==============================] - 2s 6ms/step - loss: 0.4813 - accuracy: 0.8290 - val_loss: 2.2060 - val_accuracy: 0.5130\n",
            "Epoch 50/50\n",
            "352/352 [==============================] - 2s 6ms/step - loss: 0.4753 - accuracy: 0.8302 - val_loss: 2.1822 - val_accuracy: 0.5196\n",
            "Test loss: 2.2\n",
            "Test accuracy: 0.499\n"
          ]
        }
      ],
      "source": [
        "model = build_basic_model(975)\n",
        "\n",
        "model.compile(optimizer=\"nadam\",\n",
        "              loss='categorical_crossentropy',\n",
        "              metrics=['accuracy'])\n",
        "history = model.fit(x_train, y_train,\n",
        "                    batch_size=128,\n",
        "                    epochs=50,\n",
        "                    verbose=True,\n",
        "                    validation_split=.1)\n",
        "loss, accuracy  = model.evaluate(x_test, y_test, verbose=False)\n",
        "print(f'Test loss: {loss:.3}')\n",
        "print(f'Test accuracy: {accuracy:.3}')"
      ]
    },
    {
      "cell_type": "code",
      "execution_count": null,
      "metadata": {
        "id": "a8EfvUsniIcr",
        "colab": {
          "base_uri": "https://localhost:8080/",
          "height": 333
        },
        "outputId": "7395c835-9ef5-4fc6-e481-1797b20766f7"
      },
      "outputs": [
        {
          "output_type": "stream",
          "name": "stdout",
          "text": [
            "Test loss: 2.2\n",
            "Test accuracy: 0.499\n"
          ]
        },
        {
          "output_type": "display_data",
          "data": {
            "text/plain": [
              "<Figure size 576x432 with 0 Axes>"
            ]
          },
          "metadata": {}
        },
        {
          "output_type": "display_data",
          "data": {
            "text/plain": [
              "<Figure size 432x288 with 1 Axes>"
            ],
            "image/png": "[encoded data removed]"
          },
          "metadata": {
            "needs_background": "light"
          }
        }
      ],
      "source": [
        "plot_loss_accuracy(history)\n",
        "print(f'Test loss: {loss:.3}')\n",
        "print(f'Test accuracy: {accuracy:.3}')"
      ]
    },
    {
      "cell_type": "markdown",
      "metadata": {
        "id": "e4rQBeSgDgzT"
      },
      "source": [
        "## Tuning parameters at the same time\n",
        "\n",
        "Batch size set at 128 and Epoch set at 10 to keep training time reasonable, optimizer set as Nadam\n",
        "\n",
        "Tuning parameters = learning rate, neurons\n"
      ]
    },
    {
      "cell_type": "code",
      "execution_count": null,
      "metadata": {
        "id": "RuDNphWmDN8K"
      },
      "outputs": [],
      "source": [
        "# Optimising learning rate & neuron number together\n",
        "def objective(trial):\n",
        "    n_units = trial.suggest_int(\"n_units\", 16, 1024)\n",
        "    model = build_basic_model(n_units)\n",
        "\n",
        "    lr = trial.suggest_float('lr', 1e-4, 1e+2, log=True) #sample value of learning rate between 0.0001 to 100\n",
        "\n",
        "    model.compile(tf.keras.optimizers.Nadam(lr=lr),\n",
        "                  loss='categorical_crossentropy',\n",
        "                  metrics=['accuracy'])\n",
        "    history = model.fit(x_train, y_train,\n",
        "                        batch_size=128,\n",
        "                        epochs=10,\n",
        "                        verbose=True,\n",
        "                        validation_split=.1)\n",
        "    acc = history.history['val_accuracy'][-1]\n",
        "    return acc"
      ]
    },
    {
      "cell_type": "code",
      "execution_count": null,
      "metadata": {
        "id": "tpne8QmMWPwT",
        "colab": {
          "base_uri": "https://localhost:8080/"
        },
        "outputId": "1db201c2-57da-462c-c484-d2b88b5de16a"
      },
      "outputs": [
        {
          "output_type": "stream",
          "name": "stderr",
          "text": [
            "\u001b[32m[I 2022-10-19 00:41:09,010]\u001b[0m A new study created in memory with name: no-name-db4a6664-2d16-48b1-8447-8540de8184cb\u001b[0m\n"
          ]
        },
        {
          "output_type": "stream",
          "name": "stdout",
          "text": [
            "Epoch 1/10\n",
            "352/352 [==============================] - 3s 5ms/step - loss: 1772444288.0000 - accuracy: 0.1032 - val_loss: 42.7953 - val_accuracy: 0.1058\n",
            "Epoch 2/10\n",
            "352/352 [==============================] - 2s 5ms/step - loss: 44.3075 - accuracy: 0.1008 - val_loss: 41.2381 - val_accuracy: 0.1058\n",
            "Epoch 3/10\n",
            "352/352 [==============================] - 2s 5ms/step - loss: 43.2186 - accuracy: 0.0991 - val_loss: 58.6273 - val_accuracy: 0.0950\n",
            "Epoch 4/10\n",
            "352/352 [==============================] - 2s 5ms/step - loss: 41.9640 - accuracy: 0.0996 - val_loss: 48.6722 - val_accuracy: 0.0986\n",
            "Epoch 5/10\n",
            "352/352 [==============================] - 2s 5ms/step - loss: 41.4478 - accuracy: 0.0986 - val_loss: 35.8428 - val_accuracy: 0.0958\n",
            "Epoch 6/10\n",
            "352/352 [==============================] - 2s 5ms/step - loss: 38.9847 - accuracy: 0.0979 - val_loss: 20.4847 - val_accuracy: 0.0970\n",
            "Epoch 7/10\n",
            "352/352 [==============================] - 2s 5ms/step - loss: 37.4795 - accuracy: 0.1018 - val_loss: 33.4799 - val_accuracy: 0.1064\n",
            "Epoch 8/10\n",
            "352/352 [==============================] - 2s 5ms/step - loss: 37.5257 - accuracy: 0.1000 - val_loss: 49.2357 - val_accuracy: 0.0986\n",
            "Epoch 9/10\n",
            "352/352 [==============================] - 2s 5ms/step - loss: 36.7872 - accuracy: 0.0995 - val_loss: 36.4747 - val_accuracy: 0.0976\n",
            "Epoch 10/10\n",
            "352/352 [==============================] - 2s 5ms/step - loss: 35.7619 - accuracy: 0.0967 - val_loss: 24.0345 - val_accuracy: 0.1038\n"
          ]
        },
        {
          "output_type": "stream",
          "name": "stderr",
          "text": [
            "\u001b[32m[I 2022-10-19 00:41:27,812]\u001b[0m Trial 0 finished with value: 0.10379999876022339 and parameters: {'n_units': 393, 'lr': 50.61576888752309}. Best is trial 0 with value: 0.10379999876022339.\u001b[0m\n"
          ]
        },
        {
          "output_type": "stream",
          "name": "stdout",
          "text": [
            "Epoch 1/10\n",
            "352/352 [==============================] - 3s 6ms/step - loss: 3422.4268 - accuracy: 0.1006 - val_loss: 3.3537 - val_accuracy: 0.1064\n",
            "Epoch 2/10\n",
            "352/352 [==============================] - 2s 5ms/step - loss: 2.3123 - accuracy: 0.1043 - val_loss: 3.3695 - val_accuracy: 0.1036\n",
            "Epoch 3/10\n",
            "352/352 [==============================] - 2s 6ms/step - loss: 2.3162 - accuracy: 0.0970 - val_loss: 3.3812 - val_accuracy: 0.0950\n",
            "Epoch 4/10\n",
            "352/352 [==============================] - 2s 5ms/step - loss: 2.3158 - accuracy: 0.1009 - val_loss: 3.3629 - val_accuracy: 0.0986\n",
            "Epoch 5/10\n",
            "352/352 [==============================] - 2s 5ms/step - loss: 2.3177 - accuracy: 0.1012 - val_loss: 3.3592 - val_accuracy: 0.1036\n",
            "Epoch 6/10\n",
            "352/352 [==============================] - 2s 6ms/step - loss: 2.3174 - accuracy: 0.1000 - val_loss: 3.3780 - val_accuracy: 0.1064\n",
            "Epoch 7/10\n",
            "352/352 [==============================] - 2s 5ms/step - loss: 2.3174 - accuracy: 0.1012 - val_loss: 3.3720 - val_accuracy: 0.1058\n",
            "Epoch 8/10\n",
            "352/352 [==============================] - 2s 5ms/step - loss: 2.3169 - accuracy: 0.1021 - val_loss: 3.3786 - val_accuracy: 0.1024\n",
            "Epoch 9/10\n",
            "352/352 [==============================] - 2s 6ms/step - loss: 2.3165 - accuracy: 0.1024 - val_loss: 3.3678 - val_accuracy: 0.0950\n",
            "Epoch 10/10\n",
            "352/352 [==============================] - 2s 5ms/step - loss: 2.3170 - accuracy: 0.1003 - val_loss: 3.3799 - val_accuracy: 0.1024\n"
          ]
        },
        {
          "output_type": "stream",
          "name": "stderr",
          "text": [
            "\u001b[32m[I 2022-10-19 00:41:49,974]\u001b[0m Trial 1 finished with value: 0.10239999741315842 and parameters: {'n_units': 754, 'lr': 0.39079671568228835}. Best is trial 0 with value: 0.10379999876022339.\u001b[0m\n"
          ]
        },
        {
          "output_type": "stream",
          "name": "stdout",
          "text": [
            "Epoch 1/10\n",
            "352/352 [==============================] - 2s 5ms/step - loss: 1.9809 - accuracy: 0.2826 - val_loss: 1.8988 - val_accuracy: 0.3180\n",
            "Epoch 2/10\n",
            "352/352 [==============================] - 2s 4ms/step - loss: 1.7619 - accuracy: 0.3728 - val_loss: 1.7590 - val_accuracy: 0.3654\n",
            "Epoch 3/10\n",
            "352/352 [==============================] - 2s 4ms/step - loss: 1.6773 - accuracy: 0.4034 - val_loss: 1.6504 - val_accuracy: 0.4152\n",
            "Epoch 4/10\n",
            "352/352 [==============================] - 2s 4ms/step - loss: 1.6159 - accuracy: 0.4252 - val_loss: 1.6413 - val_accuracy: 0.4132\n",
            "Epoch 5/10\n",
            "352/352 [==============================] - 2s 5ms/step - loss: 1.5729 - accuracy: 0.4394 - val_loss: 1.6320 - val_accuracy: 0.4248\n",
            "Epoch 6/10\n",
            "352/352 [==============================] - 2s 5ms/step - loss: 1.5361 - accuracy: 0.4558 - val_loss: 1.5948 - val_accuracy: 0.4366\n",
            "Epoch 7/10\n",
            "352/352 [==============================] - 2s 4ms/step - loss: 1.5178 - accuracy: 0.4625 - val_loss: 1.5539 - val_accuracy: 0.4492\n",
            "Epoch 8/10\n",
            "352/352 [==============================] - 2s 5ms/step - loss: 1.4883 - accuracy: 0.4707 - val_loss: 1.5419 - val_accuracy: 0.4528\n",
            "Epoch 9/10\n",
            "352/352 [==============================] - 2s 4ms/step - loss: 1.4672 - accuracy: 0.4796 - val_loss: 1.5540 - val_accuracy: 0.4460\n",
            "Epoch 10/10\n",
            "352/352 [==============================] - 2s 4ms/step - loss: 1.4518 - accuracy: 0.4847 - val_loss: 1.5151 - val_accuracy: 0.4640\n"
          ]
        },
        {
          "output_type": "stream",
          "name": "stderr",
          "text": [
            "\u001b[32m[I 2022-10-19 00:42:06,938]\u001b[0m Trial 2 finished with value: 0.46399998664855957 and parameters: {'n_units': 173, 'lr': 0.0008629132190071859}. Best is trial 2 with value: 0.46399998664855957.\u001b[0m\n"
          ]
        },
        {
          "output_type": "stream",
          "name": "stdout",
          "text": [
            "Epoch 1/10\n",
            "352/352 [==============================] - 3s 6ms/step - loss: 2774893.0000 - accuracy: 0.0972 - val_loss: 9.9373 - val_accuracy: 0.1024\n",
            "Epoch 2/10\n",
            "352/352 [==============================] - 2s 4ms/step - loss: 11.4289 - accuracy: 0.0986 - val_loss: 8.9107 - val_accuracy: 0.1024\n",
            "Epoch 3/10\n",
            "352/352 [==============================] - 1s 4ms/step - loss: 9.9099 - accuracy: 0.0998 - val_loss: 9.8145 - val_accuracy: 0.0950\n",
            "Epoch 4/10\n",
            "352/352 [==============================] - 1s 4ms/step - loss: 10.0881 - accuracy: 0.0998 - val_loss: 15.8185 - val_accuracy: 0.0958\n",
            "Epoch 5/10\n",
            "352/352 [==============================] - 2s 4ms/step - loss: 10.2796 - accuracy: 0.1004 - val_loss: 7.5216 - val_accuracy: 0.1024\n",
            "Epoch 6/10\n",
            "352/352 [==============================] - 2s 4ms/step - loss: 9.8695 - accuracy: 0.1012 - val_loss: 13.7625 - val_accuracy: 0.0950\n",
            "Epoch 7/10\n",
            "352/352 [==============================] - 2s 4ms/step - loss: 9.1313 - accuracy: 0.0987 - val_loss: 11.7260 - val_accuracy: 0.0986\n",
            "Epoch 8/10\n",
            "352/352 [==============================] - 2s 4ms/step - loss: 8.3451 - accuracy: 0.1002 - val_loss: 8.3362 - val_accuracy: 0.0976\n",
            "Epoch 9/10\n",
            "352/352 [==============================] - 2s 4ms/step - loss: 8.0298 - accuracy: 0.1022 - val_loss: 4.9867 - val_accuracy: 0.1038\n",
            "Epoch 10/10\n",
            "352/352 [==============================] - 2s 5ms/step - loss: 7.8891 - accuracy: 0.0987 - val_loss: 9.4966 - val_accuracy: 0.1024\n"
          ]
        },
        {
          "output_type": "stream",
          "name": "stderr",
          "text": [
            "\u001b[32m[I 2022-10-19 00:42:24,223]\u001b[0m Trial 3 finished with value: 0.10239999741315842 and parameters: {'n_units': 74, 'lr': 15.741890047456648}. Best is trial 2 with value: 0.46399998664855957.\u001b[0m\n"
          ]
        },
        {
          "output_type": "stream",
          "name": "stdout",
          "text": [
            "Epoch 1/10\n",
            "352/352 [==============================] - 4s 7ms/step - loss: 205250.0312 - accuracy: 0.0972 - val_loss: 44.7395 - val_accuracy: 0.0950\n",
            "Epoch 2/10\n",
            "352/352 [==============================] - 2s 7ms/step - loss: 2.3739 - accuracy: 0.0991 - val_loss: 44.7530 - val_accuracy: 0.0976\n",
            "Epoch 3/10\n",
            "352/352 [==============================] - 2s 5ms/step - loss: 2.4052 - accuracy: 0.1008 - val_loss: 44.8758 - val_accuracy: 0.0976\n",
            "Epoch 4/10\n",
            "352/352 [==============================] - 2s 5ms/step - loss: 2.4168 - accuracy: 0.1000 - val_loss: 44.8016 - val_accuracy: 0.1058\n",
            "Epoch 5/10\n",
            "352/352 [==============================] - 2s 5ms/step - loss: 2.4164 - accuracy: 0.0995 - val_loss: 44.8106 - val_accuracy: 0.0958\n",
            "Epoch 6/10\n",
            "352/352 [==============================] - 2s 5ms/step - loss: 2.4072 - accuracy: 0.1000 - val_loss: 44.7162 - val_accuracy: 0.0976\n",
            "Epoch 7/10\n",
            "352/352 [==============================] - 2s 5ms/step - loss: 2.4089 - accuracy: 0.0993 - val_loss: 44.7767 - val_accuracy: 0.1036\n",
            "Epoch 8/10\n",
            "352/352 [==============================] - 2s 5ms/step - loss: 2.4037 - accuracy: 0.0998 - val_loss: 44.7705 - val_accuracy: 0.0958\n",
            "Epoch 9/10\n",
            "352/352 [==============================] - 2s 5ms/step - loss: 2.3983 - accuracy: 0.1002 - val_loss: 44.7117 - val_accuracy: 0.0970\n",
            "Epoch 10/10\n",
            "352/352 [==============================] - 2s 5ms/step - loss: 2.3846 - accuracy: 0.1025 - val_loss: 44.7719 - val_accuracy: 0.0950\n"
          ]
        },
        {
          "output_type": "stream",
          "name": "stderr",
          "text": [
            "\u001b[32m[I 2022-10-19 00:42:45,669]\u001b[0m Trial 4 finished with value: 0.0949999988079071 and parameters: {'n_units': 622, 'lr': 1.7718847354806828}. Best is trial 2 with value: 0.46399998664855957.\u001b[0m\n"
          ]
        },
        {
          "output_type": "stream",
          "name": "stdout",
          "text": [
            "Epoch 1/10\n",
            "352/352 [==============================] - 2s 5ms/step - loss: 18466406.0000 - accuracy: 0.1007 - val_loss: 48.3938 - val_accuracy: 0.0986\n",
            "Epoch 2/10\n",
            "352/352 [==============================] - 2s 5ms/step - loss: 58.1724 - accuracy: 0.1004 - val_loss: 62.9339 - val_accuracy: 0.0970\n",
            "Epoch 3/10\n",
            "352/352 [==============================] - 2s 4ms/step - loss: 56.6852 - accuracy: 0.1000 - val_loss: 46.2777 - val_accuracy: 0.0958\n",
            "Epoch 4/10\n",
            "352/352 [==============================] - 2s 4ms/step - loss: 55.5758 - accuracy: 0.0986 - val_loss: 50.4538 - val_accuracy: 0.1024\n",
            "Epoch 5/10\n",
            "352/352 [==============================] - 2s 4ms/step - loss: 54.1953 - accuracy: 0.0999 - val_loss: 57.0624 - val_accuracy: 0.1038\n",
            "Epoch 6/10\n",
            "352/352 [==============================] - 2s 4ms/step - loss: 51.7907 - accuracy: 0.1008 - val_loss: 21.4961 - val_accuracy: 0.0970\n",
            "Epoch 7/10\n",
            "352/352 [==============================] - 2s 4ms/step - loss: 50.5697 - accuracy: 0.1004 - val_loss: 43.5399 - val_accuracy: 0.0958\n",
            "Epoch 8/10\n",
            "352/352 [==============================] - 2s 5ms/step - loss: 49.1737 - accuracy: 0.0990 - val_loss: 64.7658 - val_accuracy: 0.1038\n",
            "Epoch 9/10\n",
            "352/352 [==============================] - 2s 4ms/step - loss: 48.1547 - accuracy: 0.1002 - val_loss: 38.1090 - val_accuracy: 0.0976\n",
            "Epoch 10/10\n",
            "352/352 [==============================] - 4s 10ms/step - loss: 46.5611 - accuracy: 0.1006 - val_loss: 28.7601 - val_accuracy: 0.0976\n"
          ]
        },
        {
          "output_type": "stream",
          "name": "stderr",
          "text": [
            "\u001b[32m[I 2022-10-19 00:43:04,864]\u001b[0m Trial 5 finished with value: 0.09759999811649323 and parameters: {'n_units': 36, 'lr': 65.98711072054076}. Best is trial 2 with value: 0.46399998664855957.\u001b[0m\n"
          ]
        },
        {
          "output_type": "stream",
          "name": "stdout",
          "text": [
            "Epoch 1/10\n",
            "352/352 [==============================] - 3s 7ms/step - loss: 2.0677 - accuracy: 0.2869 - val_loss: 1.9157 - val_accuracy: 0.2944\n",
            "Epoch 2/10\n",
            "352/352 [==============================] - 2s 6ms/step - loss: 1.7423 - accuracy: 0.3802 - val_loss: 1.7663 - val_accuracy: 0.3620\n",
            "Epoch 3/10\n",
            "352/352 [==============================] - 2s 6ms/step - loss: 1.6526 - accuracy: 0.4113 - val_loss: 1.6939 - val_accuracy: 0.3962\n",
            "Epoch 4/10\n",
            "352/352 [==============================] - 2s 6ms/step - loss: 1.5858 - accuracy: 0.4373 - val_loss: 1.5736 - val_accuracy: 0.4474\n",
            "Epoch 5/10\n",
            "352/352 [==============================] - 2s 6ms/step - loss: 1.5272 - accuracy: 0.4563 - val_loss: 1.5778 - val_accuracy: 0.4332\n",
            "Epoch 6/10\n",
            "352/352 [==============================] - 2s 6ms/step - loss: 1.4901 - accuracy: 0.4690 - val_loss: 1.5157 - val_accuracy: 0.4638\n",
            "Epoch 7/10\n",
            "352/352 [==============================] - 2s 6ms/step - loss: 1.4421 - accuracy: 0.4855 - val_loss: 1.6425 - val_accuracy: 0.4270\n",
            "Epoch 8/10\n",
            "352/352 [==============================] - 2s 6ms/step - loss: 1.4077 - accuracy: 0.5000 - val_loss: 1.5501 - val_accuracy: 0.4556\n",
            "Epoch 9/10\n",
            "352/352 [==============================] - 2s 6ms/step - loss: 1.3819 - accuracy: 0.5081 - val_loss: 1.5290 - val_accuracy: 0.4656\n",
            "Epoch 10/10\n",
            "352/352 [==============================] - 2s 6ms/step - loss: 1.3482 - accuracy: 0.5222 - val_loss: 1.4677 - val_accuracy: 0.4906\n"
          ]
        },
        {
          "output_type": "stream",
          "name": "stderr",
          "text": [
            "\u001b[32m[I 2022-10-19 00:43:47,597]\u001b[0m Trial 6 finished with value: 0.49059998989105225 and parameters: {'n_units': 855, 'lr': 0.0018794668241638478}. Best is trial 6 with value: 0.49059998989105225.\u001b[0m\n"
          ]
        },
        {
          "output_type": "stream",
          "name": "stdout",
          "text": [
            "Epoch 1/10\n",
            "352/352 [==============================] - 3s 5ms/step - loss: 1.9827 - accuracy: 0.2822 - val_loss: 1.8375 - val_accuracy: 0.3228\n",
            "Epoch 2/10\n",
            "352/352 [==============================] - 2s 5ms/step - loss: 1.7651 - accuracy: 0.3650 - val_loss: 1.7730 - val_accuracy: 0.3622\n",
            "Epoch 3/10\n",
            "352/352 [==============================] - 2s 5ms/step - loss: 1.6758 - accuracy: 0.3996 - val_loss: 1.7181 - val_accuracy: 0.3926\n",
            "Epoch 4/10\n",
            "352/352 [==============================] - 2s 4ms/step - loss: 1.6216 - accuracy: 0.4246 - val_loss: 1.6547 - val_accuracy: 0.4078\n",
            "Epoch 5/10\n",
            "352/352 [==============================] - 2s 4ms/step - loss: 1.5788 - accuracy: 0.4406 - val_loss: 1.6470 - val_accuracy: 0.4166\n",
            "Epoch 6/10\n",
            "352/352 [==============================] - 2s 5ms/step - loss: 1.5418 - accuracy: 0.4532 - val_loss: 1.5422 - val_accuracy: 0.4466\n",
            "Epoch 7/10\n",
            "352/352 [==============================] - 2s 5ms/step - loss: 1.5095 - accuracy: 0.4648 - val_loss: 1.5410 - val_accuracy: 0.4558\n",
            "Epoch 8/10\n",
            "352/352 [==============================] - 2s 5ms/step - loss: 1.4822 - accuracy: 0.4726 - val_loss: 1.5225 - val_accuracy: 0.4638\n",
            "Epoch 9/10\n",
            "352/352 [==============================] - 2s 5ms/step - loss: 1.4590 - accuracy: 0.4816 - val_loss: 1.5140 - val_accuracy: 0.4636\n",
            "Epoch 10/10\n",
            "352/352 [==============================] - 2s 4ms/step - loss: 1.4381 - accuracy: 0.4892 - val_loss: 1.5261 - val_accuracy: 0.4650\n"
          ]
        },
        {
          "output_type": "stream",
          "name": "stderr",
          "text": [
            "\u001b[32m[I 2022-10-19 00:44:05,501]\u001b[0m Trial 7 finished with value: 0.4650000035762787 and parameters: {'n_units': 199, 'lr': 0.0012601639723276807}. Best is trial 6 with value: 0.49059998989105225.\u001b[0m\n"
          ]
        },
        {
          "output_type": "stream",
          "name": "stdout",
          "text": [
            "Epoch 1/10\n",
            "352/352 [==============================] - 3s 5ms/step - loss: 38.6848 - accuracy: 0.1004 - val_loss: 2.3197 - val_accuracy: 0.1064\n",
            "Epoch 2/10\n",
            "352/352 [==============================] - 2s 5ms/step - loss: 2.3068 - accuracy: 0.0993 - val_loss: 2.3177 - val_accuracy: 0.1064\n",
            "Epoch 3/10\n",
            "352/352 [==============================] - 2s 5ms/step - loss: 2.3076 - accuracy: 0.1000 - val_loss: 2.3218 - val_accuracy: 0.1024\n",
            "Epoch 4/10\n",
            "352/352 [==============================] - 2s 6ms/step - loss: 2.3079 - accuracy: 0.1004 - val_loss: 2.3207 - val_accuracy: 0.0958\n",
            "Epoch 5/10\n",
            "352/352 [==============================] - 2s 5ms/step - loss: 2.3085 - accuracy: 0.0949 - val_loss: 2.3176 - val_accuracy: 0.0958\n",
            "Epoch 6/10\n",
            "352/352 [==============================] - 2s 5ms/step - loss: 2.3087 - accuracy: 0.0992 - val_loss: 2.3224 - val_accuracy: 0.0950\n",
            "Epoch 7/10\n",
            "352/352 [==============================] - 2s 5ms/step - loss: 2.3086 - accuracy: 0.0989 - val_loss: 2.3180 - val_accuracy: 0.1058\n",
            "Epoch 8/10\n",
            "352/352 [==============================] - 2s 5ms/step - loss: 2.3083 - accuracy: 0.0993 - val_loss: 2.3180 - val_accuracy: 0.1036\n",
            "Epoch 9/10\n",
            "352/352 [==============================] - 3s 8ms/step - loss: 2.3087 - accuracy: 0.0996 - val_loss: 2.3224 - val_accuracy: 0.0970\n",
            "Epoch 10/10\n",
            "352/352 [==============================] - 2s 7ms/step - loss: 2.3090 - accuracy: 0.0972 - val_loss: 2.3215 - val_accuracy: 0.0958\n"
          ]
        },
        {
          "output_type": "stream",
          "name": "stderr",
          "text": [
            "\u001b[32m[I 2022-10-19 00:44:26,337]\u001b[0m Trial 8 finished with value: 0.0957999974489212 and parameters: {'n_units': 322, 'lr': 0.14077923139972406}. Best is trial 6 with value: 0.49059998989105225.\u001b[0m\n"
          ]
        },
        {
          "output_type": "stream",
          "name": "stdout",
          "text": [
            "Epoch 1/10\n",
            "352/352 [==============================] - 4s 8ms/step - loss: 2.4485 - accuracy: 0.2454 - val_loss: 1.9084 - val_accuracy: 0.3236\n",
            "Epoch 2/10\n",
            "352/352 [==============================] - 2s 6ms/step - loss: 1.8433 - accuracy: 0.3376 - val_loss: 1.8732 - val_accuracy: 0.3154\n",
            "Epoch 3/10\n",
            "352/352 [==============================] - 3s 8ms/step - loss: 1.7505 - accuracy: 0.3728 - val_loss: 1.7848 - val_accuracy: 0.3510\n",
            "Epoch 4/10\n",
            "352/352 [==============================] - 2s 5ms/step - loss: 1.6919 - accuracy: 0.3934 - val_loss: 1.6909 - val_accuracy: 0.3924\n",
            "Epoch 5/10\n",
            "352/352 [==============================] - 2s 5ms/step - loss: 1.6549 - accuracy: 0.4070 - val_loss: 1.6829 - val_accuracy: 0.3988\n",
            "Epoch 6/10\n",
            "352/352 [==============================] - 2s 5ms/step - loss: 1.6224 - accuracy: 0.4199 - val_loss: 1.6601 - val_accuracy: 0.4084\n",
            "Epoch 7/10\n",
            "352/352 [==============================] - 2s 5ms/step - loss: 1.6060 - accuracy: 0.4234 - val_loss: 1.7547 - val_accuracy: 0.3702\n",
            "Epoch 8/10\n",
            "352/352 [==============================] - 2s 5ms/step - loss: 1.5854 - accuracy: 0.4318 - val_loss: 1.6734 - val_accuracy: 0.3974\n",
            "Epoch 9/10\n",
            "352/352 [==============================] - 2s 5ms/step - loss: 1.5681 - accuracy: 0.4372 - val_loss: 1.6114 - val_accuracy: 0.4248\n",
            "Epoch 10/10\n",
            "352/352 [==============================] - 2s 5ms/step - loss: 1.5541 - accuracy: 0.4468 - val_loss: 1.6243 - val_accuracy: 0.4226\n"
          ]
        },
        {
          "output_type": "stream",
          "name": "stderr",
          "text": [
            "\u001b[32m[I 2022-10-19 00:44:49,051]\u001b[0m Trial 9 finished with value: 0.42260000109672546 and parameters: {'n_units': 451, 'lr': 0.005589524205217926}. Best is trial 6 with value: 0.49059998989105225.\u001b[0m\n"
          ]
        }
      ],
      "source": [
        "study = optuna.create_study(direction='maximize',\n",
        "                            sampler=optuna.samplers.TPESampler(seed=SEED)\n",
        ")\n",
        "study.optimize(objective, n_trials=10)"
      ]
    },
    {
      "cell_type": "code",
      "source": [
        "plot_contour(study, params=['n_units', 'lr'])"
      ],
      "metadata": {
        "id": "KvNqJ_B60IvN",
        "colab": {
          "base_uri": "https://localhost:8080/",
          "height": 542
        },
        "outputId": "37fba24d-6486-42c6-e695-23ab6b7f5dc3"
      },
      "execution_count": null,
      "outputs": [
        {
          "output_type": "display_data",
          "data": {
            "text/html": [
              "<html>\n",
              "<head><meta charset=\"utf-8\" /></head>\n",
              "<body>\n",
              "    <div>            <script src=\"https://cdnjs.cloudflare.com/ajax/libs/mathjax/2.7.5/MathJax.js?config=TeX-AMS-MML_SVG\"></script><script type=\"text/javascript\">if (window.MathJax) {MathJax.Hub.Config({SVG: {font: \"STIX-Web\"}});}</script>                <script type=\"text/javascript\">window.PlotlyConfig = {MathJaxConfig: 'local'};</script>\n",
              "        <script src=\"https://cdn.plot.ly/plotly-2.8.3.min.js\"></script>                <div id=\"3a49e8e7-41c8-420b-a579-51ddfe775aa5\" class=\"plotly-graph-div\" style=\"height:525px; width:100%;\"></div>            <script type=\"text/javascript\">                                    window.PLOTLYENV=window.PLOTLYENV || {};                                    if (document.getElementById(\"3a49e8e7-41c8-420b-a579-51ddfe775aa5\")) {                    Plotly.newPlot(                        \"3a49e8e7-41c8-420b-a579-51ddfe775aa5\",                        [{\"colorbar\":{\"title\":{\"text\":\"Objective Value\"}},\"colorscale\":[[0.0,\"rgb(247,251,255)\"],[0.125,\"rgb(222,235,247)\"],[0.25,\"rgb(198,219,239)\"],[0.375,\"rgb(158,202,225)\"],[0.5,\"rgb(107,174,214)\"],[0.625,\"rgb(66,146,198)\"],[0.75,\"rgb(33,113,181)\"],[0.875,\"rgb(8,81,156)\"],[1.0,\"rgb(8,48,107)\"]],\"connectgaps\":true,\"contours\":{\"coloring\":\"heatmap\"},\"hoverinfo\":\"none\",\"line\":{\"smoothing\":1.3},\"reversescale\":false,\"x\":[0.0004918045274770348,0.0008629132190071859,0.0012601639723276807,0.0018794668241638478,0.005589524205217926,0.14077923139972406,0.39079671568228835,1.7718847354806828,15.741890047456648,50.61576888752309,65.98711072054076,115.78004459811397],\"y\":[-4.950000000000003,36,74,173,199,322,393,451,622,754,855,895.95],\"z\":[[null,null,null,null,null,null,null,null,null,null,null,null],[null,null,null,null,null,null,null,null,null,null,0.09759999811649323,null],[null,null,null,null,null,null,null,null,0.10239999741315842,null,null,null],[null,0.46399998664855957,null,null,null,null,null,null,null,null,null,null],[null,null,0.4650000035762787,null,null,null,null,null,null,null,null,null],[null,null,null,null,null,0.0957999974489212,null,null,null,null,null,null],[null,null,null,null,null,null,null,null,null,0.10379999876022339,null,null],[null,null,null,null,0.42260000109672546,null,null,null,null,null,null,null],[null,null,null,null,null,null,null,0.0949999988079071,null,null,null,null],[null,null,null,null,null,null,0.10239999741315842,null,null,null,null,null],[null,null,null,0.49059998989105225,null,null,null,null,null,null,null,null],[null,null,null,null,null,null,null,null,null,null,null,null]],\"type\":\"contour\"},{\"marker\":{\"color\":\"black\",\"line\":{\"color\":\"Grey\",\"width\":2.0}},\"mode\":\"markers\",\"showlegend\":false,\"x\":[50.61576888752309,0.39079671568228835,0.0008629132190071859,15.741890047456648,1.7718847354806828,65.98711072054076,0.0018794668241638478,0.0012601639723276807,0.14077923139972406,0.005589524205217926],\"y\":[393,754,173,74,622,36,855,199,322,451],\"type\":\"scatter\"}],                        {\"title\":{\"text\":\"Contour Plot\"},\"template\":{\"data\":{\"bar\":[{\"error_x\":{\"color\":\"#2a3f5f\"},\"error_y\":{\"color\":\"#2a3f5f\"},\"marker\":{\"line\":{\"color\":\"#E5ECF6\",\"width\":0.5},\"pattern\":{\"fillmode\":\"overlay\",\"size\":10,\"solidity\":0.2}},\"type\":\"bar\"}],\"barpolar\":[{\"marker\":{\"line\":{\"color\":\"#E5ECF6\",\"width\":0.5},\"pattern\":{\"fillmode\":\"overlay\",\"size\":10,\"solidity\":0.2}},\"type\":\"barpolar\"}],\"carpet\":[{\"aaxis\":{\"endlinecolor\":\"#2a3f5f\",\"gridcolor\":\"white\",\"linecolor\":\"white\",\"minorgridcolor\":\"white\",\"startlinecolor\":\"#2a3f5f\"},\"baxis\":{\"endlinecolor\":\"#2a3f5f\",\"gridcolor\":\"white\",\"linecolor\":\"white\",\"minorgridcolor\":\"white\",\"startlinecolor\":\"#2a3f5f\"},\"type\":\"carpet\"}],\"choropleth\":[{\"colorbar\":{\"outlinewidth\":0,\"ticks\":\"\"},\"type\":\"choropleth\"}],\"contour\":[{\"colorbar\":{\"outlinewidth\":0,\"ticks\":\"\"},\"colorscale\":[[0.0,\"#0d0887\"],[0.1111111111111111,\"#46039f\"],[0.2222222222222222,\"#7201a8\"],[0.3333333333333333,\"#9c179e\"],[0.4444444444444444,\"#bd3786\"],[0.5555555555555556,\"#d8576b\"],[0.6666666666666666,\"#ed7953\"],[0.7777777777777778,\"#fb9f3a\"],[0.8888888888888888,\"#fdca26\"],[1.0,\"#f0f921\"]],\"type\":\"contour\"}],\"contourcarpet\":[{\"colorbar\":{\"outlinewidth\":0,\"ticks\":\"\"},\"type\":\"contourcarpet\"}],\"heatmap\":[{\"colorbar\":{\"outlinewidth\":0,\"ticks\":\"\"},\"colorscale\":[[0.0,\"#0d0887\"],[0.1111111111111111,\"#46039f\"],[0.2222222222222222,\"#7201a8\"],[0.3333333333333333,\"#9c179e\"],[0.4444444444444444,\"#bd3786\"],[0.5555555555555556,\"#d8576b\"],[0.6666666666666666,\"#ed7953\"],[0.7777777777777778,\"#fb9f3a\"],[0.8888888888888888,\"#fdca26\"],[1.0,\"#f0f921\"]],\"type\":\"heatmap\"}],\"heatmapgl\":[{\"colorbar\":{\"outlinewidth\":0,\"ticks\":\"\"},\"colorscale\":[[0.0,\"#0d0887\"],[0.1111111111111111,\"#46039f\"],[0.2222222222222222,\"#7201a8\"],[0.3333333333333333,\"#9c179e\"],[0.4444444444444444,\"#bd3786\"],[0.5555555555555556,\"#d8576b\"],[0.6666666666666666,\"#ed7953\"],[0.7777777777777778,\"#fb9f3a\"],[0.8888888888888888,\"#fdca26\"],[1.0,\"#f0f921\"]],\"type\":\"heatmapgl\"}],\"histogram\":[{\"marker\":{\"pattern\":{\"fillmode\":\"overlay\",\"size\":10,\"solidity\":0.2}},\"type\":\"histogram\"}],\"histogram2d\":[{\"colorbar\":{\"outlinewidth\":0,\"ticks\":\"\"},\"colorscale\":[[0.0,\"#0d0887\"],[0.1111111111111111,\"#46039f\"],[0.2222222222222222,\"#7201a8\"],[0.3333333333333333,\"#9c179e\"],[0.4444444444444444,\"#bd3786\"],[0.5555555555555556,\"#d8576b\"],[0.6666666666666666,\"#ed7953\"],[0.7777777777777778,\"#fb9f3a\"],[0.8888888888888888,\"#fdca26\"],[1.0,\"#f0f921\"]],\"type\":\"histogram2d\"}],\"histogram2dcontour\":[{\"colorbar\":{\"outlinewidth\":0,\"ticks\":\"\"},\"colorscale\":[[0.0,\"#0d0887\"],[0.1111111111111111,\"#46039f\"],[0.2222222222222222,\"#7201a8\"],[0.3333333333333333,\"#9c179e\"],[0.4444444444444444,\"#bd3786\"],[0.5555555555555556,\"#d8576b\"],[0.6666666666666666,\"#ed7953\"],[0.7777777777777778,\"#fb9f3a\"],[0.8888888888888888,\"#fdca26\"],[1.0,\"#f0f921\"]],\"type\":\"histogram2dcontour\"}],\"mesh3d\":[{\"colorbar\":{\"outlinewidth\":0,\"ticks\":\"\"},\"type\":\"mesh3d\"}],\"parcoords\":[{\"line\":{\"colorbar\":{\"outlinewidth\":0,\"ticks\":\"\"}},\"type\":\"parcoords\"}],\"pie\":[{\"automargin\":true,\"type\":\"pie\"}],\"scatter\":[{\"marker\":{\"colorbar\":{\"outlinewidth\":0,\"ticks\":\"\"}},\"type\":\"scatter\"}],\"scatter3d\":[{\"line\":{\"colorbar\":{\"outlinewidth\":0,\"ticks\":\"\"}},\"marker\":{\"colorbar\":{\"outlinewidth\":0,\"ticks\":\"\"}},\"type\":\"scatter3d\"}],\"scattercarpet\":[{\"marker\":{\"colorbar\":{\"outlinewidth\":0,\"ticks\":\"\"}},\"type\":\"scattercarpet\"}],\"scattergeo\":[{\"marker\":{\"colorbar\":{\"outlinewidth\":0,\"ticks\":\"\"}},\"type\":\"scattergeo\"}],\"scattergl\":[{\"marker\":{\"colorbar\":{\"outlinewidth\":0,\"ticks\":\"\"}},\"type\":\"scattergl\"}],\"scattermapbox\":[{\"marker\":{\"colorbar\":{\"outlinewidth\":0,\"ticks\":\"\"}},\"type\":\"scattermapbox\"}],\"scatterpolar\":[{\"marker\":{\"colorbar\":{\"outlinewidth\":0,\"ticks\":\"\"}},\"type\":\"scatterpolar\"}],\"scatterpolargl\":[{\"marker\":{\"colorbar\":{\"outlinewidth\":0,\"ticks\":\"\"}},\"type\":\"scatterpolargl\"}],\"scatterternary\":[{\"marker\":{\"colorbar\":{\"outlinewidth\":0,\"ticks\":\"\"}},\"type\":\"scatterternary\"}],\"surface\":[{\"colorbar\":{\"outlinewidth\":0,\"ticks\":\"\"},\"colorscale\":[[0.0,\"#0d0887\"],[0.1111111111111111,\"#46039f\"],[0.2222222222222222,\"#7201a8\"],[0.3333333333333333,\"#9c179e\"],[0.4444444444444444,\"#bd3786\"],[0.5555555555555556,\"#d8576b\"],[0.6666666666666666,\"#ed7953\"],[0.7777777777777778,\"#fb9f3a\"],[0.8888888888888888,\"#fdca26\"],[1.0,\"#f0f921\"]],\"type\":\"surface\"}],\"table\":[{\"cells\":{\"fill\":{\"color\":\"#EBF0F8\"},\"line\":{\"color\":\"white\"}},\"header\":{\"fill\":{\"color\":\"#C8D4E3\"},\"line\":{\"color\":\"white\"}},\"type\":\"table\"}]},\"layout\":{\"annotationdefaults\":{\"arrowcolor\":\"#2a3f5f\",\"arrowhead\":0,\"arrowwidth\":1},\"autotypenumbers\":\"strict\",\"coloraxis\":{\"colorbar\":{\"outlinewidth\":0,\"ticks\":\"\"}},\"colorscale\":{\"diverging\":[[0,\"#8e0152\"],[0.1,\"#c51b7d\"],[0.2,\"#de77ae\"],[0.3,\"#f1b6da\"],[0.4,\"#fde0ef\"],[0.5,\"#f7f7f7\"],[0.6,\"#e6f5d0\"],[0.7,\"#b8e186\"],[0.8,\"#7fbc41\"],[0.9,\"#4d9221\"],[1,\"#276419\"]],\"sequential\":[[0.0,\"#0d0887\"],[0.1111111111111111,\"#46039f\"],[0.2222222222222222,\"#7201a8\"],[0.3333333333333333,\"#9c179e\"],[0.4444444444444444,\"#bd3786\"],[0.5555555555555556,\"#d8576b\"],[0.6666666666666666,\"#ed7953\"],[0.7777777777777778,\"#fb9f3a\"],[0.8888888888888888,\"#fdca26\"],[1.0,\"#f0f921\"]],\"sequentialminus\":[[0.0,\"#0d0887\"],[0.1111111111111111,\"#46039f\"],[0.2222222222222222,\"#7201a8\"],[0.3333333333333333,\"#9c179e\"],[0.4444444444444444,\"#bd3786\"],[0.5555555555555556,\"#d8576b\"],[0.6666666666666666,\"#ed7953\"],[0.7777777777777778,\"#fb9f3a\"],[0.8888888888888888,\"#fdca26\"],[1.0,\"#f0f921\"]]},\"colorway\":[\"#636efa\",\"#EF553B\",\"#00cc96\",\"#ab63fa\",\"#FFA15A\",\"#19d3f3\",\"#FF6692\",\"#B6E880\",\"#FF97FF\",\"#FECB52\"],\"font\":{\"color\":\"#2a3f5f\"},\"geo\":{\"bgcolor\":\"white\",\"lakecolor\":\"white\",\"landcolor\":\"#E5ECF6\",\"showlakes\":true,\"showland\":true,\"subunitcolor\":\"white\"},\"hoverlabel\":{\"align\":\"left\"},\"hovermode\":\"closest\",\"mapbox\":{\"style\":\"light\"},\"paper_bgcolor\":\"white\",\"plot_bgcolor\":\"#E5ECF6\",\"polar\":{\"angularaxis\":{\"gridcolor\":\"white\",\"linecolor\":\"white\",\"ticks\":\"\"},\"bgcolor\":\"#E5ECF6\",\"radialaxis\":{\"gridcolor\":\"white\",\"linecolor\":\"white\",\"ticks\":\"\"}},\"scene\":{\"xaxis\":{\"backgroundcolor\":\"#E5ECF6\",\"gridcolor\":\"white\",\"gridwidth\":2,\"linecolor\":\"white\",\"showbackground\":true,\"ticks\":\"\",\"zerolinecolor\":\"white\"},\"yaxis\":{\"backgroundcolor\":\"#E5ECF6\",\"gridcolor\":\"white\",\"gridwidth\":2,\"linecolor\":\"white\",\"showbackground\":true,\"ticks\":\"\",\"zerolinecolor\":\"white\"},\"zaxis\":{\"backgroundcolor\":\"#E5ECF6\",\"gridcolor\":\"white\",\"gridwidth\":2,\"linecolor\":\"white\",\"showbackground\":true,\"ticks\":\"\",\"zerolinecolor\":\"white\"}},\"shapedefaults\":{\"line\":{\"color\":\"#2a3f5f\"}},\"ternary\":{\"aaxis\":{\"gridcolor\":\"white\",\"linecolor\":\"white\",\"ticks\":\"\"},\"baxis\":{\"gridcolor\":\"white\",\"linecolor\":\"white\",\"ticks\":\"\"},\"bgcolor\":\"#E5ECF6\",\"caxis\":{\"gridcolor\":\"white\",\"linecolor\":\"white\",\"ticks\":\"\"}},\"title\":{\"x\":0.05},\"xaxis\":{\"automargin\":true,\"gridcolor\":\"white\",\"linecolor\":\"white\",\"ticks\":\"\",\"title\":{\"standoff\":15},\"zerolinecolor\":\"white\",\"zerolinewidth\":2},\"yaxis\":{\"automargin\":true,\"gridcolor\":\"white\",\"linecolor\":\"white\",\"ticks\":\"\",\"title\":{\"standoff\":15},\"zerolinecolor\":\"white\",\"zerolinewidth\":2}}},\"xaxis\":{\"title\":{\"text\":\"lr\"},\"range\":[-3.3082074775305212,2.063633712519704],\"type\":\"log\"},\"yaxis\":{\"title\":{\"text\":\"n_units\"},\"range\":[-4.950000000000003,895.95]}},                        {\"responsive\": true}                    ).then(function(){\n",
              "                            \n",
              "var gd = document.getElementById('3a49e8e7-41c8-420b-a579-51ddfe775aa5');\n",
              "var x = new MutationObserver(function (mutations, observer) {{\n",
              "        var display = window.getComputedStyle(gd).display;\n",
              "        if (!display || display === 'none') {{\n",
              "            console.log([gd, 'removed!']);\n",
              "            Plotly.purge(gd);\n",
              "            observer.disconnect();\n",
              "        }}\n",
              "}});\n",
              "\n",
              "// Listen for the removal of the full notebook cells\n",
              "var notebookContainer = gd.closest('#notebook-container');\n",
              "if (notebookContainer) {{\n",
              "    x.observe(notebookContainer, {childList: true});\n",
              "}}\n",
              "\n",
              "// Listen for the clearing of the current output cell\n",
              "var outputEl = gd.closest('.output');\n",
              "if (outputEl) {{\n",
              "    x.observe(outputEl, {childList: true});\n",
              "}}\n",
              "\n",
              "                        })                };                            </script>        </div>\n",
              "</body>\n",
              "</html>"
            ]
          },
          "metadata": {}
        }
      ]
    },
    {
      "cell_type": "code",
      "source": [
        "print(\"Number of finished trials: {}\".format(len(study.trials)))\n",
        "print(\"Best trial:\")\n",
        "trial = study.best_trial\n",
        "print(\"  Value: {}\".format(trial.value))\n",
        "print(\"  Params: \")\n",
        "for key, value in trial.params.items():\n",
        "  print(\"    {}: {}\".format(key, value))"
      ],
      "metadata": {
        "id": "tu8RktCe0PTX",
        "colab": {
          "base_uri": "https://localhost:8080/"
        },
        "outputId": "49ea7a82-5ac7-4fbd-d8cf-df417b05c3ca"
      },
      "execution_count": null,
      "outputs": [
        {
          "output_type": "stream",
          "name": "stdout",
          "text": [
            "Number of finished trials: 10\n",
            "Best trial:\n",
            "  Value: 0.49059998989105225\n",
            "  Params: \n",
            "    n_units: 855\n",
            "    lr: 0.0018794668241638478\n"
          ]
        }
      ]
    },
    {
      "cell_type": "markdown",
      "source": [
        "# Model results with params optimised together : Units + Learning Rate\n",
        "\n",
        "Optimised values:\n",
        " - units: 855\n",
        " - lr : 0.0018794668241638478\n",
        "\n",
        "\n",
        " Number of finished trials: 10\n",
        "Best trial:\n",
        "  Value: 0.5162000060081482\n",
        "  Params:\n",
        "    n_units: 199\n",
        "    lr: 0.0012601639723276807"
      ],
      "metadata": {
        "id": "r3Mti8Y1bSId"
      }
    },
    {
      "cell_type": "code",
      "source": [
        "model = build_basic_model(study.best_params['n_units'])\n",
        "\n",
        "model.compile(tf.keras.optimizers.Nadam(lr=study.best_params['lr']),\n",
        "              loss='categorical_crossentropy',\n",
        "              metrics=['accuracy'])\n",
        "history = model.fit(x_train, y_train,\n",
        "                    batch_size=128,\n",
        "                    epochs=50,\n",
        "                    verbose=True,\n",
        "                    validation_split=.1)\n",
        "loss, accuracy  = model.evaluate(x_test, y_test, verbose=False)"
      ],
      "metadata": {
        "id": "wupSmNSKbM6h",
        "colab": {
          "base_uri": "https://localhost:8080/"
        },
        "outputId": "b0a225f4-8663-4a98-aecf-f71f8b3c24af"
      },
      "execution_count": null,
      "outputs": [
        {
          "output_type": "stream",
          "name": "stdout",
          "text": [
            "Epoch 1/50\n",
            "352/352 [==============================] - 6s 12ms/step - loss: 2.0862 - accuracy: 0.2822 - val_loss: 1.7960 - val_accuracy: 0.3492\n",
            "Epoch 2/50\n",
            "352/352 [==============================] - 2s 7ms/step - loss: 1.7650 - accuracy: 0.3660 - val_loss: 1.8336 - val_accuracy: 0.3608\n",
            "Epoch 3/50\n",
            "352/352 [==============================] - 2s 6ms/step - loss: 1.6555 - accuracy: 0.4080 - val_loss: 1.8050 - val_accuracy: 0.3642\n",
            "Epoch 4/50\n",
            "352/352 [==============================] - 2s 6ms/step - loss: 1.5842 - accuracy: 0.4354 - val_loss: 1.6569 - val_accuracy: 0.3988\n",
            "Epoch 5/50\n",
            "352/352 [==============================] - 2s 6ms/step - loss: 1.5330 - accuracy: 0.4539 - val_loss: 1.5984 - val_accuracy: 0.4334\n",
            "Epoch 6/50\n",
            "352/352 [==============================] - 2s 6ms/step - loss: 1.4900 - accuracy: 0.4687 - val_loss: 1.5452 - val_accuracy: 0.4432\n",
            "Epoch 7/50\n",
            "352/352 [==============================] - 2s 6ms/step - loss: 1.4504 - accuracy: 0.4830 - val_loss: 1.5295 - val_accuracy: 0.4620\n",
            "Epoch 8/50\n",
            "352/352 [==============================] - 2s 6ms/step - loss: 1.4202 - accuracy: 0.4943 - val_loss: 1.4495 - val_accuracy: 0.4936\n",
            "Epoch 9/50\n",
            "352/352 [==============================] - 2s 6ms/step - loss: 1.3855 - accuracy: 0.5051 - val_loss: 1.5097 - val_accuracy: 0.4764\n",
            "Epoch 10/50\n",
            "352/352 [==============================] - 2s 6ms/step - loss: 1.3546 - accuracy: 0.5173 - val_loss: 1.5475 - val_accuracy: 0.4608\n",
            "Epoch 11/50\n",
            "352/352 [==============================] - 2s 6ms/step - loss: 1.3287 - accuracy: 0.5266 - val_loss: 1.5345 - val_accuracy: 0.4614\n",
            "Epoch 12/50\n",
            "352/352 [==============================] - 2s 6ms/step - loss: 1.3067 - accuracy: 0.5344 - val_loss: 1.5522 - val_accuracy: 0.4648\n",
            "Epoch 13/50\n",
            "352/352 [==============================] - 2s 6ms/step - loss: 1.2824 - accuracy: 0.5434 - val_loss: 1.4524 - val_accuracy: 0.4910\n",
            "Epoch 14/50\n",
            "352/352 [==============================] - 2s 6ms/step - loss: 1.2531 - accuracy: 0.5517 - val_loss: 1.3998 - val_accuracy: 0.5146\n",
            "Epoch 15/50\n",
            "352/352 [==============================] - 2s 6ms/step - loss: 1.2322 - accuracy: 0.5590 - val_loss: 1.5203 - val_accuracy: 0.4910\n",
            "Epoch 16/50\n",
            "352/352 [==============================] - 2s 6ms/step - loss: 1.2127 - accuracy: 0.5655 - val_loss: 1.4671 - val_accuracy: 0.4980\n",
            "Epoch 17/50\n",
            "352/352 [==============================] - 2s 6ms/step - loss: 1.1931 - accuracy: 0.5750 - val_loss: 1.4079 - val_accuracy: 0.5156\n",
            "Epoch 18/50\n",
            "352/352 [==============================] - 2s 6ms/step - loss: 1.1711 - accuracy: 0.5816 - val_loss: 1.4149 - val_accuracy: 0.5042\n",
            "Epoch 19/50\n",
            "352/352 [==============================] - 2s 6ms/step - loss: 1.1529 - accuracy: 0.5905 - val_loss: 1.4260 - val_accuracy: 0.5044\n",
            "Epoch 20/50\n",
            "352/352 [==============================] - 2s 6ms/step - loss: 1.1324 - accuracy: 0.5950 - val_loss: 1.4351 - val_accuracy: 0.5088\n",
            "Epoch 21/50\n",
            "352/352 [==============================] - 2s 6ms/step - loss: 1.1155 - accuracy: 0.6022 - val_loss: 1.4394 - val_accuracy: 0.5144\n",
            "Epoch 22/50\n",
            "352/352 [==============================] - 2s 6ms/step - loss: 1.0963 - accuracy: 0.6063 - val_loss: 1.4298 - val_accuracy: 0.5210\n",
            "Epoch 23/50\n",
            "352/352 [==============================] - 2s 6ms/step - loss: 1.0775 - accuracy: 0.6160 - val_loss: 1.4565 - val_accuracy: 0.5166\n",
            "Epoch 24/50\n",
            "352/352 [==============================] - 2s 6ms/step - loss: 1.0624 - accuracy: 0.6195 - val_loss: 1.4598 - val_accuracy: 0.5108\n",
            "Epoch 25/50\n",
            "352/352 [==============================] - 2s 6ms/step - loss: 1.0493 - accuracy: 0.6238 - val_loss: 1.4795 - val_accuracy: 0.5124\n",
            "Epoch 26/50\n",
            "352/352 [==============================] - 2s 6ms/step - loss: 1.0318 - accuracy: 0.6306 - val_loss: 1.5913 - val_accuracy: 0.4926\n",
            "Epoch 27/50\n",
            "352/352 [==============================] - 2s 6ms/step - loss: 1.0185 - accuracy: 0.6346 - val_loss: 1.4522 - val_accuracy: 0.5324\n",
            "Epoch 28/50\n",
            "352/352 [==============================] - 2s 6ms/step - loss: 1.0009 - accuracy: 0.6417 - val_loss: 1.4807 - val_accuracy: 0.5230\n",
            "Epoch 29/50\n",
            "352/352 [==============================] - 3s 9ms/step - loss: 0.9901 - accuracy: 0.6431 - val_loss: 1.5279 - val_accuracy: 0.5176\n",
            "Epoch 30/50\n",
            "352/352 [==============================] - 3s 9ms/step - loss: 0.9737 - accuracy: 0.6515 - val_loss: 1.5179 - val_accuracy: 0.5192\n",
            "Epoch 31/50\n",
            "352/352 [==============================] - 2s 6ms/step - loss: 0.9582 - accuracy: 0.6581 - val_loss: 1.5480 - val_accuracy: 0.5106\n",
            "Epoch 32/50\n",
            "352/352 [==============================] - 2s 6ms/step - loss: 0.9486 - accuracy: 0.6593 - val_loss: 1.5849 - val_accuracy: 0.5018\n",
            "Epoch 33/50\n",
            "352/352 [==============================] - 2s 7ms/step - loss: 0.9363 - accuracy: 0.6627 - val_loss: 1.5817 - val_accuracy: 0.4998\n",
            "Epoch 34/50\n",
            "352/352 [==============================] - 2s 6ms/step - loss: 0.9293 - accuracy: 0.6662 - val_loss: 1.5797 - val_accuracy: 0.5150\n",
            "Epoch 35/50\n",
            "352/352 [==============================] - 2s 6ms/step - loss: 0.9109 - accuracy: 0.6726 - val_loss: 1.5951 - val_accuracy: 0.5152\n",
            "Epoch 36/50\n",
            "352/352 [==============================] - 2s 6ms/step - loss: 0.8954 - accuracy: 0.6786 - val_loss: 1.6093 - val_accuracy: 0.5086\n",
            "Epoch 37/50\n",
            "352/352 [==============================] - 2s 6ms/step - loss: 0.8869 - accuracy: 0.6816 - val_loss: 1.5828 - val_accuracy: 0.5260\n",
            "Epoch 38/50\n",
            "352/352 [==============================] - 3s 8ms/step - loss: 0.8763 - accuracy: 0.6864 - val_loss: 1.6846 - val_accuracy: 0.4988\n",
            "Epoch 39/50\n",
            "352/352 [==============================] - 2s 6ms/step - loss: 0.8656 - accuracy: 0.6873 - val_loss: 1.6539 - val_accuracy: 0.5140\n",
            "Epoch 40/50\n",
            "352/352 [==============================] - 3s 10ms/step - loss: 0.8536 - accuracy: 0.6926 - val_loss: 1.6418 - val_accuracy: 0.5158\n",
            "Epoch 41/50\n",
            "352/352 [==============================] - 2s 7ms/step - loss: 0.8445 - accuracy: 0.6970 - val_loss: 1.6538 - val_accuracy: 0.5168\n",
            "Epoch 42/50\n",
            "352/352 [==============================] - 2s 6ms/step - loss: 0.8333 - accuracy: 0.7001 - val_loss: 1.7055 - val_accuracy: 0.5046\n",
            "Epoch 43/50\n",
            "352/352 [==============================] - 2s 6ms/step - loss: 0.8234 - accuracy: 0.7062 - val_loss: 1.7173 - val_accuracy: 0.5180\n",
            "Epoch 44/50\n",
            "352/352 [==============================] - 2s 6ms/step - loss: 0.8150 - accuracy: 0.7080 - val_loss: 1.7059 - val_accuracy: 0.5136\n",
            "Epoch 45/50\n",
            "352/352 [==============================] - 2s 6ms/step - loss: 0.8077 - accuracy: 0.7088 - val_loss: 1.7358 - val_accuracy: 0.5106\n",
            "Epoch 46/50\n",
            "352/352 [==============================] - 2s 6ms/step - loss: 0.7923 - accuracy: 0.7142 - val_loss: 1.7461 - val_accuracy: 0.5210\n",
            "Epoch 47/50\n",
            "352/352 [==============================] - 2s 6ms/step - loss: 0.7914 - accuracy: 0.7136 - val_loss: 1.7461 - val_accuracy: 0.5088\n",
            "Epoch 48/50\n",
            "352/352 [==============================] - 2s 6ms/step - loss: 0.7751 - accuracy: 0.7219 - val_loss: 1.7993 - val_accuracy: 0.5030\n",
            "Epoch 49/50\n",
            "352/352 [==============================] - 2s 6ms/step - loss: 0.7678 - accuracy: 0.7226 - val_loss: 1.7501 - val_accuracy: 0.5138\n",
            "Epoch 50/50\n",
            "352/352 [==============================] - 2s 6ms/step - loss: 0.7586 - accuracy: 0.7265 - val_loss: 1.8057 - val_accuracy: 0.5076\n"
          ]
        }
      ]
    },
    {
      "cell_type": "markdown",
      "source": [
        "Plot loss and accuracy"
      ],
      "metadata": {
        "id": "MSaqbjW6b1hA"
      }
    },
    {
      "cell_type": "code",
      "source": [
        "plot_loss_accuracy(history)\n",
        "print(f'Test loss: {loss:.3}')\n",
        "print(f'Test accuracy: {accuracy:.3}')"
      ],
      "metadata": {
        "id": "zkg0Z_hGbxaF",
        "colab": {
          "base_uri": "https://localhost:8080/",
          "height": 333
        },
        "outputId": "77a8ab90-841a-4f10-876a-ea643f02df3c"
      },
      "execution_count": null,
      "outputs": [
        {
          "output_type": "stream",
          "name": "stdout",
          "text": [
            "Test loss: 1.85\n",
            "Test accuracy: 0.495\n"
          ]
        },
        {
          "output_type": "display_data",
          "data": {
            "text/plain": [
              "<Figure size 576x432 with 0 Axes>"
            ]
          },
          "metadata": {}
        },
        {
          "output_type": "display_data",
          "data": {
            "text/plain": [
              "<Figure size 432x288 with 1 Axes>"
            ],
            "image/png": "[encoded data removed]"
          },
          "metadata": {
            "needs_background": "light"
          }
        }
      ]
    },
    {
      "cell_type": "markdown",
      "source": [],
      "metadata": {
        "id": "_TNOA-FetWyF"
      }
    },
    {
      "cell_type": "code",
      "source": [
        "model = build_basic_model(199)\n",
        "\n",
        "model.compile(tf.keras.optimizers.Nadam(lr=0.0013),\n",
        "              loss='categorical_crossentropy',\n",
        "              metrics=['accuracy'])\n",
        "history = model.fit(x_train, y_train,\n",
        "                    batch_size=128,\n",
        "                    epochs=50,\n",
        "                    verbose=True,\n",
        "                    validation_split=.1)\n",
        "loss, accuracy  = model.evaluate(x_test, y_test, verbose=False)"
      ],
      "metadata": {
        "colab": {
          "base_uri": "https://localhost:8080/"
        },
        "id": "hj5RHAiPtXNu",
        "outputId": "a2b3190c-a569-4c12-ca3e-e8bd4c47c144"
      },
      "execution_count": null,
      "outputs": [
        {
          "output_type": "stream",
          "name": "stdout",
          "text": [
            "Epoch 1/50\n",
            "352/352 [==============================] - 2s 5ms/step - loss: 2.0123 - accuracy: 0.2632 - val_loss: 1.9303 - val_accuracy: 0.2974\n",
            "Epoch 2/50\n",
            "352/352 [==============================] - 2s 5ms/step - loss: 1.7820 - accuracy: 0.3592 - val_loss: 1.7608 - val_accuracy: 0.3646\n",
            "Epoch 3/50\n",
            "352/352 [==============================] - 2s 6ms/step - loss: 1.6844 - accuracy: 0.3979 - val_loss: 1.7077 - val_accuracy: 0.3780\n",
            "Epoch 4/50\n",
            "352/352 [==============================] - 2s 5ms/step - loss: 1.6318 - accuracy: 0.4173 - val_loss: 1.6425 - val_accuracy: 0.4088\n",
            "Epoch 5/50\n",
            "352/352 [==============================] - 2s 4ms/step - loss: 1.5810 - accuracy: 0.4357 - val_loss: 1.5898 - val_accuracy: 0.4386\n",
            "Epoch 6/50\n",
            "352/352 [==============================] - 2s 5ms/step - loss: 1.5465 - accuracy: 0.4484 - val_loss: 1.5614 - val_accuracy: 0.4412\n",
            "Epoch 7/50\n",
            "352/352 [==============================] - 2s 5ms/step - loss: 1.5167 - accuracy: 0.4598 - val_loss: 1.5309 - val_accuracy: 0.4524\n",
            "Epoch 8/50\n",
            "352/352 [==============================] - 2s 5ms/step - loss: 1.4861 - accuracy: 0.4699 - val_loss: 1.5113 - val_accuracy: 0.4660\n",
            "Epoch 9/50\n",
            "352/352 [==============================] - 2s 4ms/step - loss: 1.4632 - accuracy: 0.4804 - val_loss: 1.6224 - val_accuracy: 0.4184\n",
            "Epoch 10/50\n",
            "352/352 [==============================] - 2s 4ms/step - loss: 1.4415 - accuracy: 0.4862 - val_loss: 1.5060 - val_accuracy: 0.4678\n",
            "Epoch 11/50\n",
            "352/352 [==============================] - 2s 4ms/step - loss: 1.4228 - accuracy: 0.4920 - val_loss: 1.4817 - val_accuracy: 0.4734\n",
            "Epoch 12/50\n",
            "352/352 [==============================] - 2s 4ms/step - loss: 1.4019 - accuracy: 0.4996 - val_loss: 1.4610 - val_accuracy: 0.4866\n",
            "Epoch 13/50\n",
            "352/352 [==============================] - 2s 4ms/step - loss: 1.3865 - accuracy: 0.5064 - val_loss: 1.4658 - val_accuracy: 0.4822\n",
            "Epoch 14/50\n",
            "352/352 [==============================] - 2s 4ms/step - loss: 1.3659 - accuracy: 0.5146 - val_loss: 1.4971 - val_accuracy: 0.4676\n",
            "Epoch 15/50\n",
            "352/352 [==============================] - 2s 4ms/step - loss: 1.3527 - accuracy: 0.5179 - val_loss: 1.4936 - val_accuracy: 0.4784\n",
            "Epoch 16/50\n",
            "352/352 [==============================] - 2s 4ms/step - loss: 1.3382 - accuracy: 0.5236 - val_loss: 1.5050 - val_accuracy: 0.4648\n",
            "Epoch 17/50\n",
            "352/352 [==============================] - 2s 4ms/step - loss: 1.3236 - accuracy: 0.5287 - val_loss: 1.4849 - val_accuracy: 0.4680\n",
            "Epoch 18/50\n",
            "352/352 [==============================] - 2s 5ms/step - loss: 1.3158 - accuracy: 0.5298 - val_loss: 1.4340 - val_accuracy: 0.4984\n",
            "Epoch 19/50\n",
            "352/352 [==============================] - 2s 4ms/step - loss: 1.3019 - accuracy: 0.5359 - val_loss: 1.4590 - val_accuracy: 0.4908\n",
            "Epoch 20/50\n",
            "352/352 [==============================] - 2s 4ms/step - loss: 1.2925 - accuracy: 0.5376 - val_loss: 1.4491 - val_accuracy: 0.4828\n",
            "Epoch 21/50\n",
            "352/352 [==============================] - 2s 4ms/step - loss: 1.2805 - accuracy: 0.5445 - val_loss: 1.4545 - val_accuracy: 0.4978\n",
            "Epoch 22/50\n",
            "352/352 [==============================] - 2s 5ms/step - loss: 1.2725 - accuracy: 0.5476 - val_loss: 1.4249 - val_accuracy: 0.5060\n",
            "Epoch 23/50\n",
            "352/352 [==============================] - 2s 4ms/step - loss: 1.2634 - accuracy: 0.5510 - val_loss: 1.4694 - val_accuracy: 0.4820\n",
            "Epoch 24/50\n",
            "352/352 [==============================] - 2s 4ms/step - loss: 1.2534 - accuracy: 0.5543 - val_loss: 1.4628 - val_accuracy: 0.4932\n",
            "Epoch 25/50\n",
            "352/352 [==============================] - 2s 5ms/step - loss: 1.2449 - accuracy: 0.5583 - val_loss: 1.4469 - val_accuracy: 0.4988\n",
            "Epoch 26/50\n",
            "352/352 [==============================] - 2s 5ms/step - loss: 1.2389 - accuracy: 0.5604 - val_loss: 1.4603 - val_accuracy: 0.4942\n",
            "Epoch 27/50\n",
            "352/352 [==============================] - 2s 4ms/step - loss: 1.2324 - accuracy: 0.5622 - val_loss: 1.4156 - val_accuracy: 0.5018\n",
            "Epoch 28/50\n",
            "352/352 [==============================] - 2s 4ms/step - loss: 1.2237 - accuracy: 0.5653 - val_loss: 1.4351 - val_accuracy: 0.4984\n",
            "Epoch 29/50\n",
            "352/352 [==============================] - 2s 4ms/step - loss: 1.2173 - accuracy: 0.5676 - val_loss: 1.4430 - val_accuracy: 0.5014\n",
            "Epoch 30/50\n",
            "352/352 [==============================] - 2s 4ms/step - loss: 1.2087 - accuracy: 0.5690 - val_loss: 1.4696 - val_accuracy: 0.4876\n",
            "Epoch 31/50\n",
            "352/352 [==============================] - 2s 5ms/step - loss: 1.2053 - accuracy: 0.5710 - val_loss: 1.4293 - val_accuracy: 0.5018\n",
            "Epoch 32/50\n",
            "352/352 [==============================] - 2s 5ms/step - loss: 1.1970 - accuracy: 0.5735 - val_loss: 1.4203 - val_accuracy: 0.5100\n",
            "Epoch 33/50\n",
            "352/352 [==============================] - 2s 5ms/step - loss: 1.1887 - accuracy: 0.5783 - val_loss: 1.4206 - val_accuracy: 0.5088\n",
            "Epoch 34/50\n",
            "352/352 [==============================] - 2s 4ms/step - loss: 1.1860 - accuracy: 0.5783 - val_loss: 1.4437 - val_accuracy: 0.4924\n",
            "Epoch 35/50\n",
            "352/352 [==============================] - 2s 5ms/step - loss: 1.1795 - accuracy: 0.5794 - val_loss: 1.4590 - val_accuracy: 0.5028\n",
            "Epoch 36/50\n",
            "352/352 [==============================] - 2s 4ms/step - loss: 1.1767 - accuracy: 0.5811 - val_loss: 1.4899 - val_accuracy: 0.4892\n",
            "Epoch 37/50\n",
            "352/352 [==============================] - 2s 4ms/step - loss: 1.1679 - accuracy: 0.5845 - val_loss: 1.4260 - val_accuracy: 0.5064\n",
            "Epoch 38/50\n",
            "352/352 [==============================] - 2s 5ms/step - loss: 1.1638 - accuracy: 0.5854 - val_loss: 1.4467 - val_accuracy: 0.5030\n",
            "Epoch 39/50\n",
            "352/352 [==============================] - 2s 4ms/step - loss: 1.1572 - accuracy: 0.5874 - val_loss: 1.4451 - val_accuracy: 0.4992\n",
            "Epoch 40/50\n",
            "352/352 [==============================] - 2s 5ms/step - loss: 1.1506 - accuracy: 0.5916 - val_loss: 1.4389 - val_accuracy: 0.5026\n",
            "Epoch 41/50\n",
            "352/352 [==============================] - 2s 4ms/step - loss: 1.1503 - accuracy: 0.5896 - val_loss: 1.4497 - val_accuracy: 0.4998\n",
            "Epoch 42/50\n",
            "352/352 [==============================] - 2s 5ms/step - loss: 1.1423 - accuracy: 0.5924 - val_loss: 1.4784 - val_accuracy: 0.4936\n",
            "Epoch 43/50\n",
            "352/352 [==============================] - 2s 5ms/step - loss: 1.1400 - accuracy: 0.5944 - val_loss: 1.4698 - val_accuracy: 0.5018\n",
            "Epoch 44/50\n",
            "352/352 [==============================] - 2s 4ms/step - loss: 1.1334 - accuracy: 0.5955 - val_loss: 1.4393 - val_accuracy: 0.4974\n",
            "Epoch 45/50\n",
            "352/352 [==============================] - 2s 6ms/step - loss: 1.1293 - accuracy: 0.5957 - val_loss: 1.4518 - val_accuracy: 0.5050\n",
            "Epoch 46/50\n",
            "352/352 [==============================] - 2s 5ms/step - loss: 1.1226 - accuracy: 0.6003 - val_loss: 1.4556 - val_accuracy: 0.4992\n",
            "Epoch 47/50\n",
            "352/352 [==============================] - 2s 4ms/step - loss: 1.1191 - accuracy: 0.6029 - val_loss: 1.4450 - val_accuracy: 0.4968\n",
            "Epoch 48/50\n",
            "352/352 [==============================] - 2s 4ms/step - loss: 1.1153 - accuracy: 0.6012 - val_loss: 1.5283 - val_accuracy: 0.4936\n",
            "Epoch 49/50\n",
            "352/352 [==============================] - 2s 4ms/step - loss: 1.1101 - accuracy: 0.6038 - val_loss: 1.4650 - val_accuracy: 0.5030\n",
            "Epoch 50/50\n",
            "352/352 [==============================] - 2s 4ms/step - loss: 1.1091 - accuracy: 0.6037 - val_loss: 1.4681 - val_accuracy: 0.5002\n"
          ]
        }
      ]
    },
    {
      "cell_type": "code",
      "source": [
        "plot_loss_accuracy(history)\n",
        "print(f'Test loss: {loss:.3}')\n",
        "print(f'Test accuracy: {accuracy:.3}')"
      ],
      "metadata": {
        "colab": {
          "base_uri": "https://localhost:8080/",
          "height": 333
        },
        "id": "-BdCEnFeu3VF",
        "outputId": "231b7639-325d-418f-e3c6-bc36c2f3db1d"
      },
      "execution_count": null,
      "outputs": [
        {
          "output_type": "stream",
          "name": "stdout",
          "text": [
            "Test loss: 1.48\n",
            "Test accuracy: 0.499\n"
          ]
        },
        {
          "output_type": "display_data",
          "data": {
            "text/plain": [
              "<Figure size 576x432 with 0 Axes>"
            ]
          },
          "metadata": {}
        },
        {
          "output_type": "display_data",
          "data": {
            "text/plain": [
              "<Figure size 432x288 with 1 Axes>"
            ],
            "image/png": "[encoded data removed]"
          },
          "metadata": {
            "needs_background": "light"
          }
        }
      ]
    },
    {
      "cell_type": "markdown",
      "metadata": {
        "id": "coyKeZ3lYahB"
      },
      "source": [
        "## Drop out model using previosly optmised Hyperparams\n",
        "\n",
        "Optimiser = **Nadam**"
      ]
    },
    {
      "cell_type": "code",
      "execution_count": null,
      "metadata": {
        "id": "YrGuP_GUYpX0"
      },
      "outputs": [],
      "source": [
        "def build_dropout_model(n_units):\n",
        "  model = Sequential()\n",
        "  #adds dropout - turns off some of the hidden layer connections of neurons - 20 % of random connections are droped\n",
        "\n",
        "  model.add(Dense(units=n_units, activation='relu', input_shape=(image_vector_size,)))\n",
        "  model.add(Dense(units=n_units/4, activation='relu'))\n",
        "  model.add(Dropout(0.2))\n",
        "  model.add(Dense(units=num_classes, activation='softmax'))\n",
        "  return model\n",
        "\n",
        "#adds additional dense layers to model\n",
        "def build_deeper_model():\n",
        "  model = Sequential()\n",
        "  model.add(Dense(units=64, activation='relu', input_shape=(image_vector_size,)))\n",
        "  model.add(Dense(units=32, activation='relu'))\n",
        "  model.add(Dense(units=num_classes, activation='softmax'))\n",
        "  return model"
      ]
    },
    {
      "cell_type": "code",
      "source": [
        "opt_dict = {'nadam':tf.keras.optimizers.Nadam,\n",
        "            'adam':tf.keras.optimizers.Adam,\n",
        "            'sgd':tf.keras.optimizers.SGD,\n",
        "            'rmsprop':tf.keras.optimizers.RMSprop,\n",
        "            'adadelta':tf.keras.optimizers.Adadelta,\n",
        "            'adagrad':tf.keras.optimizers.Adagrad}"
      ],
      "metadata": {
        "id": "qY5yjTPmAEgD"
      },
      "execution_count": null,
      "outputs": []
    },
    {
      "cell_type": "code",
      "execution_count": null,
      "metadata": {
        "id": "pBUfi7SyaObL",
        "colab": {
          "base_uri": "https://localhost:8080/"
        },
        "outputId": "ad9257f2-8566-4f14-f454-f8783ce399a4"
      },
      "outputs": [
        {
          "output_type": "stream",
          "name": "stdout",
          "text": [
            "Epoch 1/50\n",
            "352/352 [==============================] - 3s 5ms/step - loss: 2.0622 - accuracy: 0.2323 - val_loss: 1.8757 - val_accuracy: 0.3120\n",
            "Epoch 2/50\n",
            "352/352 [==============================] - 2s 5ms/step - loss: 1.8502 - accuracy: 0.3314 - val_loss: 1.7543 - val_accuracy: 0.3712\n",
            "Epoch 3/50\n",
            "352/352 [==============================] - 2s 5ms/step - loss: 1.7610 - accuracy: 0.3676 - val_loss: 1.7207 - val_accuracy: 0.3876\n",
            "Epoch 4/50\n",
            "352/352 [==============================] - 2s 5ms/step - loss: 1.7052 - accuracy: 0.3915 - val_loss: 1.6674 - val_accuracy: 0.4082\n",
            "Epoch 5/50\n",
            "352/352 [==============================] - 2s 5ms/step - loss: 1.6589 - accuracy: 0.4088 - val_loss: 1.6542 - val_accuracy: 0.4188\n",
            "Epoch 6/50\n",
            "352/352 [==============================] - 2s 4ms/step - loss: 1.6256 - accuracy: 0.4202 - val_loss: 1.6827 - val_accuracy: 0.3970\n",
            "Epoch 7/50\n",
            "352/352 [==============================] - 2s 4ms/step - loss: 1.5998 - accuracy: 0.4307 - val_loss: 1.6298 - val_accuracy: 0.4210\n",
            "Epoch 8/50\n",
            "352/352 [==============================] - 2s 4ms/step - loss: 1.5778 - accuracy: 0.4377 - val_loss: 1.6472 - val_accuracy: 0.4118\n",
            "Epoch 9/50\n",
            "352/352 [==============================] - 2s 4ms/step - loss: 1.5565 - accuracy: 0.4459 - val_loss: 1.5666 - val_accuracy: 0.4432\n",
            "Epoch 10/50\n",
            "352/352 [==============================] - 2s 5ms/step - loss: 1.5404 - accuracy: 0.4538 - val_loss: 1.5589 - val_accuracy: 0.4470\n",
            "Epoch 11/50\n",
            "352/352 [==============================] - 2s 5ms/step - loss: 1.5279 - accuracy: 0.4541 - val_loss: 1.5561 - val_accuracy: 0.4484\n",
            "Epoch 12/50\n",
            "352/352 [==============================] - 2s 4ms/step - loss: 1.5128 - accuracy: 0.4596 - val_loss: 1.5154 - val_accuracy: 0.4568\n",
            "Epoch 13/50\n",
            "352/352 [==============================] - 2s 4ms/step - loss: 1.5021 - accuracy: 0.4637 - val_loss: 1.5103 - val_accuracy: 0.4678\n",
            "Epoch 14/50\n",
            "352/352 [==============================] - 2s 5ms/step - loss: 1.4906 - accuracy: 0.4675 - val_loss: 1.4829 - val_accuracy: 0.4700\n",
            "Epoch 15/50\n",
            "352/352 [==============================] - 2s 4ms/step - loss: 1.4757 - accuracy: 0.4728 - val_loss: 1.4829 - val_accuracy: 0.4700\n",
            "Epoch 16/50\n",
            "352/352 [==============================] - 2s 5ms/step - loss: 1.4671 - accuracy: 0.4767 - val_loss: 1.5003 - val_accuracy: 0.4594\n",
            "Epoch 17/50\n",
            "352/352 [==============================] - 2s 4ms/step - loss: 1.4552 - accuracy: 0.4805 - val_loss: 1.4821 - val_accuracy: 0.4676\n",
            "Epoch 18/50\n",
            "352/352 [==============================] - 2s 5ms/step - loss: 1.4441 - accuracy: 0.4847 - val_loss: 1.5281 - val_accuracy: 0.4568\n",
            "Epoch 19/50\n",
            "352/352 [==============================] - 2s 5ms/step - loss: 1.4338 - accuracy: 0.4862 - val_loss: 1.4966 - val_accuracy: 0.4618\n",
            "Epoch 20/50\n",
            "352/352 [==============================] - 2s 5ms/step - loss: 1.4311 - accuracy: 0.4909 - val_loss: 1.4665 - val_accuracy: 0.4782\n",
            "Epoch 21/50\n",
            "352/352 [==============================] - 2s 4ms/step - loss: 1.4181 - accuracy: 0.4929 - val_loss: 1.4875 - val_accuracy: 0.4632\n",
            "Epoch 22/50\n",
            "352/352 [==============================] - 2s 5ms/step - loss: 1.4129 - accuracy: 0.4950 - val_loss: 1.4471 - val_accuracy: 0.4826\n",
            "Epoch 23/50\n",
            "352/352 [==============================] - 2s 6ms/step - loss: 1.4063 - accuracy: 0.4970 - val_loss: 1.4700 - val_accuracy: 0.4768\n",
            "Epoch 24/50\n",
            "352/352 [==============================] - 2s 6ms/step - loss: 1.3990 - accuracy: 0.5000 - val_loss: 1.4979 - val_accuracy: 0.4632\n",
            "Epoch 25/50\n",
            "352/352 [==============================] - 2s 5ms/step - loss: 1.3918 - accuracy: 0.5024 - val_loss: 1.4845 - val_accuracy: 0.4778\n",
            "Epoch 26/50\n",
            "352/352 [==============================] - 2s 4ms/step - loss: 1.3846 - accuracy: 0.5048 - val_loss: 1.5027 - val_accuracy: 0.4620\n",
            "Epoch 27/50\n",
            "352/352 [==============================] - 2s 5ms/step - loss: 1.3745 - accuracy: 0.5054 - val_loss: 1.5144 - val_accuracy: 0.4744\n",
            "Epoch 28/50\n",
            "352/352 [==============================] - 2s 5ms/step - loss: 1.3736 - accuracy: 0.5096 - val_loss: 1.4787 - val_accuracy: 0.4798\n",
            "Epoch 29/50\n",
            "352/352 [==============================] - 2s 5ms/step - loss: 1.3658 - accuracy: 0.5111 - val_loss: 1.4312 - val_accuracy: 0.4944\n",
            "Epoch 30/50\n",
            "352/352 [==============================] - 2s 5ms/step - loss: 1.3615 - accuracy: 0.5124 - val_loss: 1.4400 - val_accuracy: 0.4926\n",
            "Epoch 31/50\n",
            "352/352 [==============================] - 2s 5ms/step - loss: 1.3535 - accuracy: 0.5142 - val_loss: 1.4210 - val_accuracy: 0.4926\n",
            "Epoch 32/50\n",
            "352/352 [==============================] - 2s 5ms/step - loss: 1.3481 - accuracy: 0.5155 - val_loss: 1.4568 - val_accuracy: 0.4856\n",
            "Epoch 33/50\n",
            "352/352 [==============================] - 2s 5ms/step - loss: 1.3429 - accuracy: 0.5174 - val_loss: 1.4897 - val_accuracy: 0.4826\n",
            "Epoch 34/50\n",
            "352/352 [==============================] - 2s 4ms/step - loss: 1.3361 - accuracy: 0.5203 - val_loss: 1.4385 - val_accuracy: 0.4952\n",
            "Epoch 35/50\n",
            "352/352 [==============================] - 2s 4ms/step - loss: 1.3351 - accuracy: 0.5198 - val_loss: 1.4344 - val_accuracy: 0.4972\n",
            "Epoch 36/50\n",
            "352/352 [==============================] - 2s 4ms/step - loss: 1.3274 - accuracy: 0.5226 - val_loss: 1.4276 - val_accuracy: 0.5002\n",
            "Epoch 37/50\n",
            "352/352 [==============================] - 2s 5ms/step - loss: 1.3206 - accuracy: 0.5260 - val_loss: 1.4651 - val_accuracy: 0.4868\n",
            "Epoch 38/50\n",
            "352/352 [==============================] - 2s 5ms/step - loss: 1.3161 - accuracy: 0.5285 - val_loss: 1.4354 - val_accuracy: 0.4910\n",
            "Epoch 39/50\n",
            "352/352 [==============================] - 2s 5ms/step - loss: 1.3128 - accuracy: 0.5280 - val_loss: 1.4145 - val_accuracy: 0.4914\n",
            "Epoch 40/50\n",
            "352/352 [==============================] - 2s 5ms/step - loss: 1.3115 - accuracy: 0.5285 - val_loss: 1.4242 - val_accuracy: 0.5046\n",
            "Epoch 41/50\n",
            "352/352 [==============================] - 2s 5ms/step - loss: 1.3091 - accuracy: 0.5286 - val_loss: 1.4226 - val_accuracy: 0.4992\n",
            "Epoch 42/50\n",
            "352/352 [==============================] - 2s 4ms/step - loss: 1.3044 - accuracy: 0.5306 - val_loss: 1.4251 - val_accuracy: 0.4972\n",
            "Epoch 43/50\n",
            "352/352 [==============================] - 2s 5ms/step - loss: 1.2982 - accuracy: 0.5322 - val_loss: 1.4146 - val_accuracy: 0.4980\n",
            "Epoch 44/50\n",
            "352/352 [==============================] - 2s 5ms/step - loss: 1.2957 - accuracy: 0.5334 - val_loss: 1.4271 - val_accuracy: 0.4988\n",
            "Epoch 45/50\n",
            "352/352 [==============================] - 2s 4ms/step - loss: 1.2947 - accuracy: 0.5337 - val_loss: 1.4435 - val_accuracy: 0.5024\n",
            "Epoch 46/50\n",
            "352/352 [==============================] - 2s 4ms/step - loss: 1.2875 - accuracy: 0.5354 - val_loss: 1.4286 - val_accuracy: 0.4968\n",
            "Epoch 47/50\n",
            "352/352 [==============================] - 2s 5ms/step - loss: 1.2846 - accuracy: 0.5380 - val_loss: 1.4175 - val_accuracy: 0.4952\n",
            "Epoch 48/50\n",
            "352/352 [==============================] - 2s 4ms/step - loss: 1.2848 - accuracy: 0.5357 - val_loss: 1.4435 - val_accuracy: 0.4896\n",
            "Epoch 49/50\n",
            "352/352 [==============================] - 2s 5ms/step - loss: 1.2761 - accuracy: 0.5412 - val_loss: 1.4835 - val_accuracy: 0.4866\n",
            "Epoch 50/50\n",
            "352/352 [==============================] - 2s 5ms/step - loss: 1.2754 - accuracy: 0.5404 - val_loss: 1.4188 - val_accuracy: 0.5010\n"
          ]
        }
      ],
      "source": [
        "# build drop-out model with determined n-units from previous optimisation step\n",
        "model = build_dropout_model(199)\n",
        "\n",
        "# set all the following values yourself!\n",
        "optimizer_name  = 'nadam' # any of the following: nadam, adam, sgd, rmsprop, adadelta, adagrad\n",
        "learning_rate = 0.0012601639723276807 # some number\n",
        "batch_size = 128 #some integer\n",
        "training_epochs = 50 # some integer\n",
        "\n",
        "\n",
        "# selects optimizer and sets learning rate\n",
        "optimizer = opt_dict[optimizer_name](lr=learning_rate)\n",
        "\n",
        "model.compile(optimizer, loss='categorical_crossentropy', metrics=['accuracy'])\n",
        "history = model.fit(x_train, y_train, batch_size=batch_size, epochs=training_epochs, verbose=True, validation_split=.1)"
      ]
    },
    {
      "cell_type": "code",
      "source": [
        "plot_loss_accuracy(history)\n",
        "loss, accuracy  = model.evaluate(x_test, y_test, verbose=False)\n",
        "print(f'Test loss: {loss:.3}')\n",
        "print(f'Test accuracy: {accuracy:.3}')"
      ],
      "metadata": {
        "id": "n0pmnto-QoZU",
        "colab": {
          "base_uri": "https://localhost:8080/",
          "height": 333
        },
        "outputId": "38407039-4d08-4208-e32b-56d59ae86869"
      },
      "execution_count": null,
      "outputs": [
        {
          "output_type": "stream",
          "name": "stdout",
          "text": [
            "Test loss: 1.44\n",
            "Test accuracy: 0.493\n"
          ]
        },
        {
          "output_type": "display_data",
          "data": {
            "text/plain": [
              "<Figure size 576x432 with 0 Axes>"
            ]
          },
          "metadata": {}
        },
        {
          "output_type": "display_data",
          "data": {
            "text/plain": [
              "<Figure size 432x288 with 1 Axes>"
            ],
            "image/png": "[encoded data removed]"
          },
          "metadata": {
            "needs_background": "light"
          }
        }
      ]
    },
    {
      "cell_type": "markdown",
      "source": [
        "adding more layers - deeper model"
      ],
      "metadata": {
        "id": "vhAQWrqwDUzC"
      }
    },
    {
      "cell_type": "code",
      "source": [
        "model = build_deeper_model()\n",
        "\n",
        "# set all the following values\n",
        "optimizer_name  = 'nadam' # any of the following: nadam, adam, sgd, rmsprop, adadelta, adagrad\n",
        "learning_rate = 0.0012601639723276807 # some number\n",
        "batch_size = 128 #some integer\n",
        "training_epochs = 10 # some integer\n",
        "\n",
        "\n",
        "# selects optimizer and sets learning rate\n",
        "optimizer = opt_dict[optimizer_name](lr=learning_rate)\n",
        "\n",
        "model.compile(optimizer, loss='categorical_crossentropy', metrics=['accuracy'])\n",
        "history = model.fit(x_train, y_train, batch_size=batch_size, epochs=training_epochs, verbose=True, validation_split=.1)"
      ],
      "metadata": {
        "id": "MayK2O2lDTse",
        "colab": {
          "base_uri": "https://localhost:8080/"
        },
        "outputId": "3c4659fb-4c16-4531-9a73-f085eb840a0c"
      },
      "execution_count": null,
      "outputs": [
        {
          "output_type": "stream",
          "name": "stdout",
          "text": [
            "Epoch 1/10\n",
            "352/352 [==============================] - 2s 5ms/step - loss: 1.9905 - accuracy: 0.2724 - val_loss: 1.9288 - val_accuracy: 0.3160\n",
            "Epoch 2/10\n",
            "352/352 [==============================] - 2s 4ms/step - loss: 1.8095 - accuracy: 0.3505 - val_loss: 1.8245 - val_accuracy: 0.3440\n",
            "Epoch 3/10\n",
            "352/352 [==============================] - 1s 4ms/step - loss: 1.7377 - accuracy: 0.3793 - val_loss: 1.7954 - val_accuracy: 0.3522\n",
            "Epoch 4/10\n",
            "352/352 [==============================] - 2s 4ms/step - loss: 1.7010 - accuracy: 0.3951 - val_loss: 1.7143 - val_accuracy: 0.3882\n",
            "Epoch 5/10\n",
            "352/352 [==============================] - 1s 4ms/step - loss: 1.6645 - accuracy: 0.4085 - val_loss: 1.7397 - val_accuracy: 0.3782\n",
            "Epoch 6/10\n",
            "352/352 [==============================] - 2s 4ms/step - loss: 1.6403 - accuracy: 0.4152 - val_loss: 1.6484 - val_accuracy: 0.4102\n",
            "Epoch 7/10\n",
            "352/352 [==============================] - 2s 5ms/step - loss: 1.6157 - accuracy: 0.4228 - val_loss: 1.6289 - val_accuracy: 0.4228\n",
            "Epoch 8/10\n",
            "352/352 [==============================] - 2s 4ms/step - loss: 1.5998 - accuracy: 0.4310 - val_loss: 1.6600 - val_accuracy: 0.4042\n",
            "Epoch 9/10\n",
            "352/352 [==============================] - 1s 4ms/step - loss: 1.5816 - accuracy: 0.4359 - val_loss: 1.6221 - val_accuracy: 0.4144\n",
            "Epoch 10/10\n",
            "352/352 [==============================] - 2s 4ms/step - loss: 1.5725 - accuracy: 0.4388 - val_loss: 1.6130 - val_accuracy: 0.4222\n"
          ]
        }
      ]
    },
    {
      "cell_type": "code",
      "source": [
        "plot_loss_accuracy(history)\n",
        "loss, accuracy  = model.evaluate(x_test, y_test, verbose=False)\n",
        "print(f'Test loss: {loss:.3}')\n",
        "print(f'Test accuracy: {accuracy:.3}')"
      ],
      "metadata": {
        "id": "sGNGzT6ZDw1u",
        "colab": {
          "base_uri": "https://localhost:8080/",
          "height": 333
        },
        "outputId": "7ec5a93e-4924-439f-a4f0-db9b4f0589d3"
      },
      "execution_count": null,
      "outputs": [
        {
          "output_type": "stream",
          "name": "stdout",
          "text": [
            "Test loss: 1.59\n",
            "Test accuracy: 0.432\n"
          ]
        },
        {
          "output_type": "display_data",
          "data": {
            "text/plain": [
              "<Figure size 576x432 with 0 Axes>"
            ]
          },
          "metadata": {}
        },
        {
          "output_type": "display_data",
          "data": {
            "text/plain": [
              "<Figure size 432x288 with 1 Axes>"
            ],
            "image/png": "[encoded data removed]"
          },
          "metadata": {
            "needs_background": "light"
          }
        }
      ]
    },
    {
      "cell_type": "markdown",
      "source": [
        "# CNN model\n"
      ],
      "metadata": {
        "id": "sxHt3k-nQ8gl"
      }
    },
    {
      "cell_type": "markdown",
      "source": [
        "Basic model already defined\n",
        "\n",
        "Compile model using previously optimised optimiser NADAM\n",
        "\n",
        "Based on lab 9 (remove)"
      ],
      "metadata": {
        "id": "nTg59TlvRw3z"
      }
    },
    {
      "cell_type": "code",
      "source": [
        "from keras.datasets import cifar10\n",
        "\n",
        "(x_train, y_train), (x_test, y_test) = cifar10.load_data()\n",
        "\n",
        "\n",
        "# converting the data type and scaling between 0 and 1 - normalise the outputs\n",
        "x_train = x_train.astype('float32')/255.\n",
        "x_test = x_test.astype('float32')/255."
      ],
      "metadata": {
        "id": "16ODEC8gI6R5"
      },
      "execution_count": null,
      "outputs": []
    },
    {
      "cell_type": "code",
      "source": [
        "print(\"Training data shape: \", x_train.shape) # (60000, 28, 28) -- 60000 images, each 28x28 pixels\n",
        "print(\"Test data shape\", x_test.shape) # (10000, 28, 28) -- 10000 images, each 28x28\n",
        "print(\"Training response shape:, \", y_train.shape)\n",
        "print(\"Testing response shape: \", y_test.shape)\n",
        "\n",
        "image_size = (x_train.shape[1], x_train.shape[2], x_train.shape[3])\n",
        "print(image_size)\n",
        "\n",
        "plt.imshow(x_train[0])"
      ],
      "metadata": {
        "colab": {
          "base_uri": "https://localhost:8080/",
          "height": 370
        },
        "id": "YEttHlNrIzCI",
        "outputId": "7bd20c3d-245f-4b52-89ae-672d3c849bb9"
      },
      "execution_count": null,
      "outputs": [
        {
          "output_type": "stream",
          "name": "stdout",
          "text": [
            "Training data shape:  (50000, 32, 32, 3)\n",
            "Test data shape (10000, 32, 32, 3)\n",
            "Training response shape:,  (50000, 1)\n",
            "Testing response shape:  (10000, 1)\n",
            "(32, 32, 3)\n"
          ]
        },
        {
          "output_type": "execute_result",
          "data": {
            "text/plain": [
              "<matplotlib.image.AxesImage at 0x7f9940690b10>"
            ]
          },
          "metadata": {},
          "execution_count": 37
        },
        {
          "output_type": "display_data",
          "data": {
            "text/plain": [
              "<Figure size 432x288 with 1 Axes>"
            ],
            "image/png": "[encoded data removed]"
          },
          "metadata": {
            "needs_background": "light"
          }
        }
      ]
    },
    {
      "cell_type": "code",
      "source": [
        "# Flatten the images\n",
        "image_vector_size = image_size[0] * image_size[1] * image_size[2]\n",
        "\n",
        "\n",
        "x_train_vector = x_train.reshape(x_train.shape[0], image_vector_size)\n",
        "\n",
        "x_test_vector = x_test.reshape(x_test.shape[0], image_vector_size)\n",
        "\n",
        "print(x_train_vector.shape)"
      ],
      "metadata": {
        "colab": {
          "base_uri": "https://localhost:8080/"
        },
        "id": "kmQj6ZE-IV-8",
        "outputId": "cec1c865-eca6-438c-bcfc-08e8b7923135"
      },
      "execution_count": null,
      "outputs": [
        {
          "output_type": "stream",
          "name": "stdout",
          "text": [
            "(50000, 3072)\n"
          ]
        }
      ]
    },
    {
      "cell_type": "code",
      "source": [
        "print(\"First 5 training labels: \", y_train[:5])\n",
        "\n",
        "# Convert to \"one-hot\" vectors using the to_categorical function\n",
        "num_classes = 10\n",
        "y_train = to_categorical(y_train, num_classes)\n",
        "y_test = to_categorical(y_test, num_classes)\n",
        "print(\"First 5 training lables as one-hot encoded vectors:\\n\", y_train[:5])\n",
        "print(y_train.shape)"
      ],
      "metadata": {
        "colab": {
          "base_uri": "https://localhost:8080/"
        },
        "id": "3mRBjKY7LNHZ",
        "outputId": "d1017d13-5dfb-4c71-e84c-5e9c90c1acc9"
      },
      "execution_count": null,
      "outputs": [
        {
          "output_type": "stream",
          "name": "stdout",
          "text": [
            "First 5 training labels:  [[6]\n",
            " [9]\n",
            " [9]\n",
            " [4]\n",
            " [1]]\n",
            "First 5 training lables as one-hot encoded vectors:\n",
            " [[0. 0. 0. 0. 0. 0. 1. 0. 0. 0.]\n",
            " [0. 0. 0. 0. 0. 0. 0. 0. 0. 1.]\n",
            " [0. 0. 0. 0. 0. 0. 0. 0. 0. 1.]\n",
            " [0. 0. 0. 0. 1. 0. 0. 0. 0. 0.]\n",
            " [0. 1. 0. 0. 0. 0. 0. 0. 0. 0.]]\n",
            "(50000, 10)\n"
          ]
        }
      ]
    },
    {
      "cell_type": "code",
      "source": [
        "def build_basic_model():\n",
        "  model = Sequential()\n",
        "  model.add(Dense(units=1024, activation='relu', input_shape=(image_vector_size,)))\n",
        "  model.add(Dense(units=256, activation='relu'))\n",
        "  model.add(Dense(units=num_classes, activation='softmax'))\n",
        "  return model\n",
        "model = build_basic_model()\n",
        "model.summary()"
      ],
      "metadata": {
        "colab": {
          "base_uri": "https://localhost:8080/"
        },
        "id": "9KHr9-CqLVHe",
        "outputId": "4286de53-ffec-467c-afd7-6f79f507a0f0"
      },
      "execution_count": null,
      "outputs": [
        {
          "output_type": "stream",
          "name": "stdout",
          "text": [
            "Model: \"sequential_21\"\n",
            "_________________________________________________________________\n",
            " Layer (type)                Output Shape              Param #   \n",
            "=================================================================\n",
            " dense_60 (Dense)            (None, 1024)              3146752   \n",
            "                                                                 \n",
            " dense_61 (Dense)            (None, 256)               262400    \n",
            "                                                                 \n",
            " dense_62 (Dense)            (None, 10)                2570      \n",
            "                                                                 \n",
            "=================================================================\n",
            "Total params: 3,411,722\n",
            "Trainable params: 3,411,722\n",
            "Non-trainable params: 0\n",
            "_________________________________________________________________\n"
          ]
        }
      ]
    },
    {
      "cell_type": "code",
      "source": [
        "model.compile(optimizer=\"nadam\", loss='categorical_crossentropy', metrics=['accuracy'])"
      ],
      "metadata": {
        "id": "ZYBvEAppRy6r"
      },
      "execution_count": null,
      "outputs": []
    },
    {
      "cell_type": "code",
      "source": [
        "# train for 50 epochs - using previously optmised batch size\n",
        "history = model.fit(x_train_vector, y_train, batch_size=199, epochs=50, verbose=True, validation_split=.1)\n",
        "loss, accuracy  = model.evaluate(x_test_vector, y_test, verbose=False)"
      ],
      "metadata": {
        "id": "m_6Ky-qJSCAj",
        "colab": {
          "base_uri": "https://localhost:8080/"
        },
        "outputId": "9a130572-432e-44be-c3f4-615dfa5c3edb"
      },
      "execution_count": null,
      "outputs": [
        {
          "output_type": "stream",
          "name": "stdout",
          "text": [
            "Epoch 1/50\n",
            "227/227 [==============================] - 11s 18ms/step - loss: 2.0361 - accuracy: 0.2807 - val_loss: 2.0397 - val_accuracy: 0.2644\n",
            "Epoch 2/50\n",
            "227/227 [==============================] - 3s 14ms/step - loss: 1.7599 - accuracy: 0.3714 - val_loss: 1.7934 - val_accuracy: 0.3610\n",
            "Epoch 3/50\n",
            "227/227 [==============================] - 2s 10ms/step - loss: 1.6727 - accuracy: 0.4041 - val_loss: 1.9730 - val_accuracy: 0.3072\n",
            "Epoch 4/50\n",
            "227/227 [==============================] - 2s 7ms/step - loss: 1.5935 - accuracy: 0.4348 - val_loss: 1.9691 - val_accuracy: 0.3062\n",
            "Epoch 5/50\n",
            "227/227 [==============================] - 2s 7ms/step - loss: 1.5416 - accuracy: 0.4511 - val_loss: 2.0373 - val_accuracy: 0.3310\n",
            "Epoch 6/50\n",
            "227/227 [==============================] - 2s 7ms/step - loss: 1.5029 - accuracy: 0.4677 - val_loss: 1.6272 - val_accuracy: 0.4210\n",
            "Epoch 7/50\n",
            "227/227 [==============================] - 2s 7ms/step - loss: 1.4535 - accuracy: 0.4832 - val_loss: 1.5444 - val_accuracy: 0.4548\n",
            "Epoch 8/50\n",
            "227/227 [==============================] - 2s 7ms/step - loss: 1.4189 - accuracy: 0.4971 - val_loss: 1.6477 - val_accuracy: 0.4334\n",
            "Epoch 9/50\n",
            "227/227 [==============================] - 2s 7ms/step - loss: 1.3810 - accuracy: 0.5105 - val_loss: 1.7562 - val_accuracy: 0.3954\n",
            "Epoch 10/50\n",
            "227/227 [==============================] - 2s 7ms/step - loss: 1.3521 - accuracy: 0.5210 - val_loss: 1.5488 - val_accuracy: 0.4470\n",
            "Epoch 11/50\n",
            "227/227 [==============================] - 2s 7ms/step - loss: 1.3144 - accuracy: 0.5337 - val_loss: 1.8778 - val_accuracy: 0.3630\n",
            "Epoch 12/50\n",
            "227/227 [==============================] - 2s 7ms/step - loss: 1.2955 - accuracy: 0.5397 - val_loss: 1.6176 - val_accuracy: 0.4304\n",
            "Epoch 13/50\n",
            "227/227 [==============================] - 2s 7ms/step - loss: 1.2576 - accuracy: 0.5552 - val_loss: 1.6532 - val_accuracy: 0.4206\n",
            "Epoch 14/50\n",
            "227/227 [==============================] - 2s 7ms/step - loss: 1.2292 - accuracy: 0.5665 - val_loss: 1.8439 - val_accuracy: 0.4034\n",
            "Epoch 15/50\n",
            "227/227 [==============================] - 2s 7ms/step - loss: 1.1996 - accuracy: 0.5764 - val_loss: 1.5168 - val_accuracy: 0.4794\n",
            "Epoch 16/50\n",
            "227/227 [==============================] - 2s 7ms/step - loss: 1.1676 - accuracy: 0.5888 - val_loss: 1.6925 - val_accuracy: 0.4256\n",
            "Epoch 17/50\n",
            "227/227 [==============================] - 2s 7ms/step - loss: 1.1419 - accuracy: 0.5944 - val_loss: 1.6393 - val_accuracy: 0.4600\n",
            "Epoch 18/50\n",
            "227/227 [==============================] - 2s 7ms/step - loss: 1.1120 - accuracy: 0.6057 - val_loss: 1.6177 - val_accuracy: 0.4640\n",
            "Epoch 19/50\n",
            "227/227 [==============================] - 2s 7ms/step - loss: 1.0847 - accuracy: 0.6137 - val_loss: 1.5116 - val_accuracy: 0.4886\n",
            "Epoch 20/50\n",
            "227/227 [==============================] - 2s 7ms/step - loss: 1.0554 - accuracy: 0.6277 - val_loss: 1.6695 - val_accuracy: 0.4558\n",
            "Epoch 21/50\n",
            "227/227 [==============================] - 2s 7ms/step - loss: 1.0256 - accuracy: 0.6353 - val_loss: 1.6174 - val_accuracy: 0.4628\n",
            "Epoch 22/50\n",
            "227/227 [==============================] - 2s 7ms/step - loss: 1.0007 - accuracy: 0.6465 - val_loss: 1.5651 - val_accuracy: 0.4786\n",
            "Epoch 23/50\n",
            "227/227 [==============================] - 2s 7ms/step - loss: 0.9718 - accuracy: 0.6549 - val_loss: 1.6098 - val_accuracy: 0.4688\n",
            "Epoch 24/50\n",
            "227/227 [==============================] - 2s 7ms/step - loss: 0.9460 - accuracy: 0.6653 - val_loss: 1.7070 - val_accuracy: 0.4622\n",
            "Epoch 25/50\n",
            "227/227 [==============================] - 2s 7ms/step - loss: 0.9195 - accuracy: 0.6759 - val_loss: 1.5123 - val_accuracy: 0.5150\n",
            "Epoch 26/50\n",
            "227/227 [==============================] - 2s 7ms/step - loss: 0.8901 - accuracy: 0.6849 - val_loss: 1.9114 - val_accuracy: 0.4398\n",
            "Epoch 27/50\n",
            "227/227 [==============================] - 2s 7ms/step - loss: 0.8738 - accuracy: 0.6917 - val_loss: 1.7737 - val_accuracy: 0.4618\n",
            "Epoch 28/50\n",
            "227/227 [==============================] - 2s 7ms/step - loss: 0.8470 - accuracy: 0.7019 - val_loss: 1.5898 - val_accuracy: 0.5042\n",
            "Epoch 29/50\n",
            "227/227 [==============================] - 2s 7ms/step - loss: 0.8138 - accuracy: 0.7131 - val_loss: 1.7424 - val_accuracy: 0.4784\n",
            "Epoch 30/50\n",
            "227/227 [==============================] - 2s 7ms/step - loss: 0.7962 - accuracy: 0.7203 - val_loss: 1.7407 - val_accuracy: 0.4954\n",
            "Epoch 31/50\n",
            "227/227 [==============================] - 2s 7ms/step - loss: 0.7729 - accuracy: 0.7281 - val_loss: 1.7030 - val_accuracy: 0.4990\n",
            "Epoch 32/50\n",
            "227/227 [==============================] - 2s 7ms/step - loss: 0.7507 - accuracy: 0.7358 - val_loss: 1.6743 - val_accuracy: 0.5058\n",
            "Epoch 33/50\n",
            "227/227 [==============================] - 2s 7ms/step - loss: 0.7267 - accuracy: 0.7437 - val_loss: 1.9003 - val_accuracy: 0.4668\n",
            "Epoch 34/50\n",
            "227/227 [==============================] - 2s 7ms/step - loss: 0.7132 - accuracy: 0.7462 - val_loss: 1.8809 - val_accuracy: 0.4730\n",
            "Epoch 35/50\n",
            "227/227 [==============================] - 1s 7ms/step - loss: 0.6857 - accuracy: 0.7582 - val_loss: 1.9374 - val_accuracy: 0.4654\n",
            "Epoch 36/50\n",
            "227/227 [==============================] - 2s 7ms/step - loss: 0.6640 - accuracy: 0.7660 - val_loss: 1.7753 - val_accuracy: 0.5012\n",
            "Epoch 37/50\n",
            "227/227 [==============================] - 2s 7ms/step - loss: 0.6469 - accuracy: 0.7727 - val_loss: 1.9986 - val_accuracy: 0.4742\n",
            "Epoch 38/50\n",
            "227/227 [==============================] - 2s 7ms/step - loss: 0.6314 - accuracy: 0.7786 - val_loss: 2.0183 - val_accuracy: 0.4730\n",
            "Epoch 39/50\n",
            "227/227 [==============================] - 2s 7ms/step - loss: 0.6058 - accuracy: 0.7880 - val_loss: 1.8368 - val_accuracy: 0.5128\n",
            "Epoch 40/50\n",
            "227/227 [==============================] - 2s 7ms/step - loss: 0.5813 - accuracy: 0.7965 - val_loss: 2.0380 - val_accuracy: 0.4828\n",
            "Epoch 41/50\n",
            "227/227 [==============================] - 2s 7ms/step - loss: 0.5781 - accuracy: 0.7983 - val_loss: 2.0728 - val_accuracy: 0.4902\n",
            "Epoch 42/50\n",
            "227/227 [==============================] - 2s 7ms/step - loss: 0.5564 - accuracy: 0.8044 - val_loss: 1.9699 - val_accuracy: 0.5038\n",
            "Epoch 43/50\n",
            "227/227 [==============================] - 2s 7ms/step - loss: 0.5386 - accuracy: 0.8111 - val_loss: 2.0748 - val_accuracy: 0.4874\n",
            "Epoch 44/50\n",
            "227/227 [==============================] - 2s 7ms/step - loss: 0.5223 - accuracy: 0.8162 - val_loss: 2.0655 - val_accuracy: 0.5024\n",
            "Epoch 45/50\n",
            "227/227 [==============================] - 2s 7ms/step - loss: 0.5080 - accuracy: 0.8210 - val_loss: 2.1320 - val_accuracy: 0.4952\n",
            "Epoch 46/50\n",
            "227/227 [==============================] - 2s 7ms/step - loss: 0.4967 - accuracy: 0.8257 - val_loss: 2.1279 - val_accuracy: 0.5042\n",
            "Epoch 47/50\n",
            "227/227 [==============================] - 2s 7ms/step - loss: 0.4752 - accuracy: 0.8341 - val_loss: 2.2014 - val_accuracy: 0.4920\n",
            "Epoch 48/50\n",
            "227/227 [==============================] - 2s 7ms/step - loss: 0.4553 - accuracy: 0.8402 - val_loss: 2.1534 - val_accuracy: 0.5032\n",
            "Epoch 49/50\n",
            "227/227 [==============================] - 2s 7ms/step - loss: 0.4467 - accuracy: 0.8438 - val_loss: 2.3743 - val_accuracy: 0.4846\n",
            "Epoch 50/50\n",
            "227/227 [==============================] - 2s 7ms/step - loss: 0.4303 - accuracy: 0.8505 - val_loss: 2.3537 - val_accuracy: 0.4968\n"
          ]
        }
      ]
    },
    {
      "cell_type": "code",
      "source": [
        "plot_loss_accuracy(history)\n",
        "print(f'Test loss: {loss:.3}')\n",
        "print(f'Test accuracy: {accuracy:.3}')"
      ],
      "metadata": {
        "id": "HolbpYqmSIj-",
        "colab": {
          "base_uri": "https://localhost:8080/",
          "height": 333
        },
        "outputId": "f1e280f3-6db6-4b63-e62d-e70a9571574f"
      },
      "execution_count": null,
      "outputs": [
        {
          "output_type": "stream",
          "name": "stdout",
          "text": [
            "Test loss: 2.31\n",
            "Test accuracy: 0.497\n"
          ]
        },
        {
          "output_type": "display_data",
          "data": {
            "text/plain": [
              "<Figure size 576x432 with 0 Axes>"
            ]
          },
          "metadata": {}
        },
        {
          "output_type": "display_data",
          "data": {
            "text/plain": [
              "<Figure size 432x288 with 1 Axes>"
            ],
            "image/png": "[encoded data removed]"
          },
          "metadata": {
            "needs_background": "light"
          }
        }
      ]
    },
    {
      "cell_type": "markdown",
      "source": [
        "Build Convolutional neural network"
      ],
      "metadata": {
        "id": "QvYxmRbeSU4u"
      }
    },
    {
      "cell_type": "code",
      "source": [
        "def build_convnet():\n",
        "  model = Sequential()\n",
        "\n",
        "  model.add(Conv2D(32, (3,3), activation='relu', padding='same', input_shape = image_size))\n",
        "  model.add(Conv2D(32, (3,3), activation='relu'))\n",
        "\n",
        "  model.add(MaxPooling2D(pool_size=(2, 2)))\n",
        "  # max pooling to get the most important value within a sample of the output from filter or the average value from the convolutional layer\n",
        "\n",
        "\n",
        "\n",
        "  model.add(Conv2D(64, (3, 3), activation = 'relu', padding='same'))\n",
        "\n",
        "  model.add(Conv2D(64, (3, 3), activation='relu'))\n",
        "\n",
        "  model.add(MaxPooling2D(pool_size=(2, 2)))\n",
        "\n",
        "  model.add(Flatten())\n",
        "  model.add(Dense(512, activation='relu'))\n",
        "\n",
        "  model.add(Dense(num_classes, activation='softmax'))\n",
        "\n",
        "\n",
        "  return model\n",
        "model = build_convnet()\n",
        "model.summary()"
      ],
      "metadata": {
        "id": "YoON5bjBSamQ",
        "colab": {
          "base_uri": "https://localhost:8080/"
        },
        "outputId": "05723f51-d8f6-4572-d206-eec92ae01573"
      },
      "execution_count": null,
      "outputs": [
        {
          "output_type": "stream",
          "name": "stdout",
          "text": [
            "Model: \"sequential_22\"\n",
            "_________________________________________________________________\n",
            " Layer (type)                Output Shape              Param #   \n",
            "=================================================================\n",
            " conv2d_1 (Conv2D)           (None, 32, 32, 32)        896       \n",
            "                                                                 \n",
            " conv2d_2 (Conv2D)           (None, 30, 30, 32)        9248      \n",
            "                                                                 \n",
            " max_pooling2d (MaxPooling2D  (None, 15, 15, 32)       0         \n",
            " )                                                               \n",
            "                                                                 \n",
            " conv2d_3 (Conv2D)           (None, 15, 15, 64)        18496     \n",
            "                                                                 \n",
            " conv2d_4 (Conv2D)           (None, 13, 13, 64)        36928     \n",
            "                                                                 \n",
            " max_pooling2d_1 (MaxPooling  (None, 6, 6, 64)         0         \n",
            " 2D)                                                             \n",
            "                                                                 \n",
            " flatten (Flatten)           (None, 2304)              0         \n",
            "                                                                 \n",
            " dense_63 (Dense)            (None, 512)               1180160   \n",
            "                                                                 \n",
            " dense_64 (Dense)            (None, 10)                5130      \n",
            "                                                                 \n",
            "=================================================================\n",
            "Total params: 1,250,858\n",
            "Trainable params: 1,250,858\n",
            "Non-trainable params: 0\n",
            "_________________________________________________________________\n"
          ]
        }
      ]
    },
    {
      "cell_type": "code",
      "source": [
        "model.compile(optimizer=tensorflow.keras.optimizers.Adam(lr=0.0001), loss='categorical_crossentropy', metrics=['accuracy'])"
      ],
      "metadata": {
        "id": "XBGu2gmwSjwR"
      },
      "execution_count": null,
      "outputs": []
    },
    {
      "cell_type": "code",
      "source": [
        "history = model.fit(x_train, y_train, batch_size=128, epochs=50, verbose=True, validation_split=.1, shuffle=True)\n",
        "loss, accuracy  = model.evaluate(x_test, y_test, verbose=False)"
      ],
      "metadata": {
        "id": "f2GJMj69SlS-",
        "colab": {
          "base_uri": "https://localhost:8080/"
        },
        "outputId": "d99f10bd-461d-4ccc-fe93-26660b74f897"
      },
      "execution_count": null,
      "outputs": [
        {
          "output_type": "stream",
          "name": "stdout",
          "text": [
            "Epoch 1/50\n",
            "352/352 [==============================] - 12s 15ms/step - loss: 1.7660 - accuracy: 0.3690 - val_loss: 1.5471 - val_accuracy: 0.4394\n",
            "Epoch 2/50\n",
            "352/352 [==============================] - 4s 11ms/step - loss: 1.4307 - accuracy: 0.4916 - val_loss: 1.3701 - val_accuracy: 0.5090\n",
            "Epoch 3/50\n",
            "352/352 [==============================] - 4s 11ms/step - loss: 1.3109 - accuracy: 0.5374 - val_loss: 1.2603 - val_accuracy: 0.5528\n",
            "Epoch 4/50\n",
            "352/352 [==============================] - 4s 11ms/step - loss: 1.2246 - accuracy: 0.5692 - val_loss: 1.1851 - val_accuracy: 0.5856\n",
            "Epoch 5/50\n",
            "352/352 [==============================] - 4s 11ms/step - loss: 1.1617 - accuracy: 0.5938 - val_loss: 1.1396 - val_accuracy: 0.5964\n",
            "Epoch 6/50\n",
            "352/352 [==============================] - 4s 11ms/step - loss: 1.1063 - accuracy: 0.6140 - val_loss: 1.0955 - val_accuracy: 0.6184\n",
            "Epoch 7/50\n",
            "352/352 [==============================] - 4s 11ms/step - loss: 1.0574 - accuracy: 0.6316 - val_loss: 1.0918 - val_accuracy: 0.6104\n",
            "Epoch 8/50\n",
            "352/352 [==============================] - 4s 11ms/step - loss: 1.0157 - accuracy: 0.6454 - val_loss: 1.0560 - val_accuracy: 0.6358\n",
            "Epoch 9/50\n",
            "352/352 [==============================] - 4s 11ms/step - loss: 0.9721 - accuracy: 0.6631 - val_loss: 1.0139 - val_accuracy: 0.6468\n",
            "Epoch 10/50\n",
            "352/352 [==============================] - 4s 11ms/step - loss: 0.9344 - accuracy: 0.6766 - val_loss: 0.9785 - val_accuracy: 0.6648\n",
            "Epoch 11/50\n",
            "352/352 [==============================] - 4s 11ms/step - loss: 0.9003 - accuracy: 0.6888 - val_loss: 0.9716 - val_accuracy: 0.6680\n",
            "Epoch 12/50\n",
            "352/352 [==============================] - 4s 11ms/step - loss: 0.8658 - accuracy: 0.7028 - val_loss: 0.9574 - val_accuracy: 0.6748\n",
            "Epoch 13/50\n",
            "352/352 [==============================] - 4s 11ms/step - loss: 0.8317 - accuracy: 0.7157 - val_loss: 0.9419 - val_accuracy: 0.6764\n",
            "Epoch 14/50\n",
            "352/352 [==============================] - 4s 12ms/step - loss: 0.7979 - accuracy: 0.7241 - val_loss: 0.9641 - val_accuracy: 0.6686\n",
            "Epoch 15/50\n",
            "352/352 [==============================] - 4s 11ms/step - loss: 0.7679 - accuracy: 0.7383 - val_loss: 0.9253 - val_accuracy: 0.6856\n",
            "Epoch 16/50\n",
            "352/352 [==============================] - 4s 11ms/step - loss: 0.7384 - accuracy: 0.7472 - val_loss: 0.8915 - val_accuracy: 0.6970\n",
            "Epoch 17/50\n",
            "352/352 [==============================] - 4s 11ms/step - loss: 0.7130 - accuracy: 0.7572 - val_loss: 0.9060 - val_accuracy: 0.6984\n",
            "Epoch 18/50\n",
            "352/352 [==============================] - 4s 11ms/step - loss: 0.6832 - accuracy: 0.7682 - val_loss: 0.8921 - val_accuracy: 0.7040\n",
            "Epoch 19/50\n",
            "352/352 [==============================] - 4s 11ms/step - loss: 0.6511 - accuracy: 0.7793 - val_loss: 0.8929 - val_accuracy: 0.6992\n",
            "Epoch 20/50\n",
            "352/352 [==============================] - 4s 11ms/step - loss: 0.6218 - accuracy: 0.7888 - val_loss: 0.9117 - val_accuracy: 0.6954\n",
            "Epoch 21/50\n",
            "352/352 [==============================] - 4s 11ms/step - loss: 0.5984 - accuracy: 0.7966 - val_loss: 0.8936 - val_accuracy: 0.7090\n",
            "Epoch 22/50\n",
            "352/352 [==============================] - 4s 11ms/step - loss: 0.5695 - accuracy: 0.8076 - val_loss: 0.9034 - val_accuracy: 0.6996\n",
            "Epoch 23/50\n",
            "352/352 [==============================] - 4s 11ms/step - loss: 0.5381 - accuracy: 0.8177 - val_loss: 0.8821 - val_accuracy: 0.7092\n",
            "Epoch 24/50\n",
            "352/352 [==============================] - 5s 15ms/step - loss: 0.5086 - accuracy: 0.8299 - val_loss: 0.9151 - val_accuracy: 0.7086\n",
            "Epoch 25/50\n",
            "352/352 [==============================] - 4s 11ms/step - loss: 0.4883 - accuracy: 0.8354 - val_loss: 0.9303 - val_accuracy: 0.7034\n",
            "Epoch 26/50\n",
            "352/352 [==============================] - 4s 11ms/step - loss: 0.4570 - accuracy: 0.8472 - val_loss: 0.9310 - val_accuracy: 0.7040\n",
            "Epoch 27/50\n",
            "352/352 [==============================] - 4s 11ms/step - loss: 0.4289 - accuracy: 0.8589 - val_loss: 0.9191 - val_accuracy: 0.7106\n",
            "Epoch 28/50\n",
            "352/352 [==============================] - 4s 11ms/step - loss: 0.4036 - accuracy: 0.8659 - val_loss: 0.9569 - val_accuracy: 0.7058\n",
            "Epoch 29/50\n",
            "352/352 [==============================] - 4s 11ms/step - loss: 0.3770 - accuracy: 0.8760 - val_loss: 0.9938 - val_accuracy: 0.7028\n",
            "Epoch 30/50\n",
            "352/352 [==============================] - 5s 14ms/step - loss: 0.3494 - accuracy: 0.8859 - val_loss: 0.9808 - val_accuracy: 0.7140\n",
            "Epoch 31/50\n",
            "352/352 [==============================] - 4s 11ms/step - loss: 0.3251 - accuracy: 0.8940 - val_loss: 1.0028 - val_accuracy: 0.7120\n",
            "Epoch 32/50\n",
            "352/352 [==============================] - 4s 11ms/step - loss: 0.3002 - accuracy: 0.9025 - val_loss: 1.0628 - val_accuracy: 0.7058\n",
            "Epoch 33/50\n",
            "352/352 [==============================] - 4s 12ms/step - loss: 0.2763 - accuracy: 0.9134 - val_loss: 1.0824 - val_accuracy: 0.7052\n",
            "Epoch 34/50\n",
            "352/352 [==============================] - 4s 11ms/step - loss: 0.2505 - accuracy: 0.9226 - val_loss: 1.0871 - val_accuracy: 0.7050\n",
            "Epoch 35/50\n",
            "352/352 [==============================] - 4s 12ms/step - loss: 0.2287 - accuracy: 0.9294 - val_loss: 1.1812 - val_accuracy: 0.6938\n",
            "Epoch 36/50\n",
            "352/352 [==============================] - 4s 11ms/step - loss: 0.2105 - accuracy: 0.9356 - val_loss: 1.1815 - val_accuracy: 0.7024\n",
            "Epoch 37/50\n",
            "352/352 [==============================] - 4s 11ms/step - loss: 0.1884 - accuracy: 0.9439 - val_loss: 1.2019 - val_accuracy: 0.7100\n",
            "Epoch 38/50\n",
            "352/352 [==============================] - 4s 12ms/step - loss: 0.1656 - accuracy: 0.9513 - val_loss: 1.2576 - val_accuracy: 0.7042\n",
            "Epoch 39/50\n",
            "352/352 [==============================] - 5s 14ms/step - loss: 0.1462 - accuracy: 0.9578 - val_loss: 1.2817 - val_accuracy: 0.7050\n",
            "Epoch 40/50\n",
            "352/352 [==============================] - 4s 11ms/step - loss: 0.1318 - accuracy: 0.9634 - val_loss: 1.3139 - val_accuracy: 0.7032\n",
            "Epoch 41/50\n",
            "352/352 [==============================] - 4s 11ms/step - loss: 0.1187 - accuracy: 0.9678 - val_loss: 1.4011 - val_accuracy: 0.6994\n",
            "Epoch 42/50\n",
            "352/352 [==============================] - 4s 12ms/step - loss: 0.1012 - accuracy: 0.9736 - val_loss: 1.4272 - val_accuracy: 0.6968\n",
            "Epoch 43/50\n",
            "352/352 [==============================] - 4s 11ms/step - loss: 0.0882 - accuracy: 0.9782 - val_loss: 1.4929 - val_accuracy: 0.7004\n",
            "Epoch 44/50\n",
            "352/352 [==============================] - 4s 11ms/step - loss: 0.0783 - accuracy: 0.9810 - val_loss: 1.5936 - val_accuracy: 0.6924\n",
            "Epoch 45/50\n",
            "352/352 [==============================] - 4s 11ms/step - loss: 0.0654 - accuracy: 0.9850 - val_loss: 1.6148 - val_accuracy: 0.6958\n",
            "Epoch 46/50\n",
            "352/352 [==============================] - 4s 11ms/step - loss: 0.0677 - accuracy: 0.9832 - val_loss: 1.6580 - val_accuracy: 0.6950\n",
            "Epoch 47/50\n",
            "352/352 [==============================] - 4s 12ms/step - loss: 0.0524 - accuracy: 0.9883 - val_loss: 1.6821 - val_accuracy: 0.7020\n",
            "Epoch 48/50\n",
            "352/352 [==============================] - 4s 12ms/step - loss: 0.0455 - accuracy: 0.9904 - val_loss: 1.7560 - val_accuracy: 0.7018\n",
            "Epoch 49/50\n",
            "352/352 [==============================] - 4s 11ms/step - loss: 0.0555 - accuracy: 0.9857 - val_loss: 1.8396 - val_accuracy: 0.6832\n",
            "Epoch 50/50\n",
            "352/352 [==============================] - 4s 11ms/step - loss: 0.0361 - accuracy: 0.9934 - val_loss: 1.8412 - val_accuracy: 0.6942\n"
          ]
        }
      ]
    },
    {
      "cell_type": "code",
      "source": [
        "plot_loss_accuracy(history)\n",
        "print(f'Test loss: {loss:.3}')\n",
        "print(f'Test accuracy: {accuracy:.3}')"
      ],
      "metadata": {
        "id": "Pv9tAfhYSm2A",
        "colab": {
          "base_uri": "https://localhost:8080/",
          "height": 333
        },
        "outputId": "3083cfc2-58ad-4961-8a9d-4abafb2d762f"
      },
      "execution_count": null,
      "outputs": [
        {
          "output_type": "stream",
          "name": "stdout",
          "text": [
            "Test loss: 1.89\n",
            "Test accuracy: 0.686\n"
          ]
        },
        {
          "output_type": "display_data",
          "data": {
            "text/plain": [
              "<Figure size 576x432 with 0 Axes>"
            ]
          },
          "metadata": {}
        },
        {
          "output_type": "display_data",
          "data": {
            "text/plain": [
              "<Figure size 432x288 with 1 Axes>"
            ],
            "image/png": "[encoded data removed]"
          },
          "metadata": {
            "needs_background": "light"
          }
        }
      ]
    },
    {
      "cell_type": "code",
      "source": [],
      "metadata": {
        "id": "112vgY2G2Ybg"
      },
      "execution_count": null,
      "outputs": []
    },
    {
      "cell_type": "code",
      "source": [],
      "metadata": {
        "id": "Uqs_g-YU21ug"
      },
      "execution_count": null,
      "outputs": []
    },
    {
      "cell_type": "code",
      "source": [],
      "metadata": {
        "id": "0WSZu2C23TBu"
      },
      "execution_count": null,
      "outputs": []
    }
  ],
  "metadata": {
    "accelerator": "GPU",
    "colab": {
      "provenance": []
    },
    "kernelspec": {
      "display_name": "Python 3",
      "name": "python3"
    },
    "language_info": {
      "name": "python"
    }
  },
  "nbformat": 4,
  "nbformat_minor": 0
}